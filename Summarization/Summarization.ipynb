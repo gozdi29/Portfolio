{
  "nbformat": 4,
  "nbformat_minor": 0,
  "metadata": {
    "colab": {
      "provenance": []
    },
    "kernelspec": {
      "name": "python3",
      "display_name": "Python 3"
    },
    "language_info": {
      "name": "python"
    },
    "widgets": {
      "application/vnd.jupyter.widget-state+json": {
        "ac79f005d75445df9ef715a9839feaf3": {
          "model_module": "@jupyter-widgets/controls",
          "model_name": "HBoxModel",
          "model_module_version": "1.5.0",
          "state": {
            "_dom_classes": [],
            "_model_module": "@jupyter-widgets/controls",
            "_model_module_version": "1.5.0",
            "_model_name": "HBoxModel",
            "_view_count": null,
            "_view_module": "@jupyter-widgets/controls",
            "_view_module_version": "1.5.0",
            "_view_name": "HBoxView",
            "box_style": "",
            "children": [
              "IPY_MODEL_b6c95f8d36a743eb9a0cb9fb906ef9dd",
              "IPY_MODEL_01ae2012951d490b81f13e973ea1800a",
              "IPY_MODEL_296202a1b0ae4e6ea7402d1ececd98c5"
            ],
            "layout": "IPY_MODEL_fa04be30f27f4551835b3a78e972aaf9"
          }
        },
        "b6c95f8d36a743eb9a0cb9fb906ef9dd": {
          "model_module": "@jupyter-widgets/controls",
          "model_name": "HTMLModel",
          "model_module_version": "1.5.0",
          "state": {
            "_dom_classes": [],
            "_model_module": "@jupyter-widgets/controls",
            "_model_module_version": "1.5.0",
            "_model_name": "HTMLModel",
            "_view_count": null,
            "_view_module": "@jupyter-widgets/controls",
            "_view_module_version": "1.5.0",
            "_view_name": "HTMLView",
            "description": "",
            "description_tooltip": null,
            "layout": "IPY_MODEL_b29cf44c3bb34080af59ff7807569e5c",
            "placeholder": "​",
            "style": "IPY_MODEL_1897791e9ec24c20bd0c76ed7c24356d",
            "value": "100%"
          }
        },
        "01ae2012951d490b81f13e973ea1800a": {
          "model_module": "@jupyter-widgets/controls",
          "model_name": "FloatProgressModel",
          "model_module_version": "1.5.0",
          "state": {
            "_dom_classes": [],
            "_model_module": "@jupyter-widgets/controls",
            "_model_module_version": "1.5.0",
            "_model_name": "FloatProgressModel",
            "_view_count": null,
            "_view_module": "@jupyter-widgets/controls",
            "_view_module_version": "1.5.0",
            "_view_name": "ProgressView",
            "bar_style": "success",
            "description": "",
            "description_tooltip": null,
            "layout": "IPY_MODEL_211941db9b49464f901dadbccc7da0d9",
            "max": 15,
            "min": 0,
            "orientation": "horizontal",
            "style": "IPY_MODEL_398c836c65a947a8bfa849315dc09908",
            "value": 15
          }
        },
        "296202a1b0ae4e6ea7402d1ececd98c5": {
          "model_module": "@jupyter-widgets/controls",
          "model_name": "HTMLModel",
          "model_module_version": "1.5.0",
          "state": {
            "_dom_classes": [],
            "_model_module": "@jupyter-widgets/controls",
            "_model_module_version": "1.5.0",
            "_model_name": "HTMLModel",
            "_view_count": null,
            "_view_module": "@jupyter-widgets/controls",
            "_view_module_version": "1.5.0",
            "_view_name": "HTMLView",
            "description": "",
            "description_tooltip": null,
            "layout": "IPY_MODEL_fa18562531ac43808a2dd879befeb430",
            "placeholder": "​",
            "style": "IPY_MODEL_e45130c237fd4271b83d3d24604a1e58",
            "value": " 15/15 [00:00&lt;00:00, 18.14ba/s]"
          }
        },
        "fa04be30f27f4551835b3a78e972aaf9": {
          "model_module": "@jupyter-widgets/base",
          "model_name": "LayoutModel",
          "model_module_version": "1.2.0",
          "state": {
            "_model_module": "@jupyter-widgets/base",
            "_model_module_version": "1.2.0",
            "_model_name": "LayoutModel",
            "_view_count": null,
            "_view_module": "@jupyter-widgets/base",
            "_view_module_version": "1.2.0",
            "_view_name": "LayoutView",
            "align_content": null,
            "align_items": null,
            "align_self": null,
            "border": null,
            "bottom": null,
            "display": null,
            "flex": null,
            "flex_flow": null,
            "grid_area": null,
            "grid_auto_columns": null,
            "grid_auto_flow": null,
            "grid_auto_rows": null,
            "grid_column": null,
            "grid_gap": null,
            "grid_row": null,
            "grid_template_areas": null,
            "grid_template_columns": null,
            "grid_template_rows": null,
            "height": null,
            "justify_content": null,
            "justify_items": null,
            "left": null,
            "margin": null,
            "max_height": null,
            "max_width": null,
            "min_height": null,
            "min_width": null,
            "object_fit": null,
            "object_position": null,
            "order": null,
            "overflow": null,
            "overflow_x": null,
            "overflow_y": null,
            "padding": null,
            "right": null,
            "top": null,
            "visibility": null,
            "width": null
          }
        },
        "b29cf44c3bb34080af59ff7807569e5c": {
          "model_module": "@jupyter-widgets/base",
          "model_name": "LayoutModel",
          "model_module_version": "1.2.0",
          "state": {
            "_model_module": "@jupyter-widgets/base",
            "_model_module_version": "1.2.0",
            "_model_name": "LayoutModel",
            "_view_count": null,
            "_view_module": "@jupyter-widgets/base",
            "_view_module_version": "1.2.0",
            "_view_name": "LayoutView",
            "align_content": null,
            "align_items": null,
            "align_self": null,
            "border": null,
            "bottom": null,
            "display": null,
            "flex": null,
            "flex_flow": null,
            "grid_area": null,
            "grid_auto_columns": null,
            "grid_auto_flow": null,
            "grid_auto_rows": null,
            "grid_column": null,
            "grid_gap": null,
            "grid_row": null,
            "grid_template_areas": null,
            "grid_template_columns": null,
            "grid_template_rows": null,
            "height": null,
            "justify_content": null,
            "justify_items": null,
            "left": null,
            "margin": null,
            "max_height": null,
            "max_width": null,
            "min_height": null,
            "min_width": null,
            "object_fit": null,
            "object_position": null,
            "order": null,
            "overflow": null,
            "overflow_x": null,
            "overflow_y": null,
            "padding": null,
            "right": null,
            "top": null,
            "visibility": null,
            "width": null
          }
        },
        "1897791e9ec24c20bd0c76ed7c24356d": {
          "model_module": "@jupyter-widgets/controls",
          "model_name": "DescriptionStyleModel",
          "model_module_version": "1.5.0",
          "state": {
            "_model_module": "@jupyter-widgets/controls",
            "_model_module_version": "1.5.0",
            "_model_name": "DescriptionStyleModel",
            "_view_count": null,
            "_view_module": "@jupyter-widgets/base",
            "_view_module_version": "1.2.0",
            "_view_name": "StyleView",
            "description_width": ""
          }
        },
        "211941db9b49464f901dadbccc7da0d9": {
          "model_module": "@jupyter-widgets/base",
          "model_name": "LayoutModel",
          "model_module_version": "1.2.0",
          "state": {
            "_model_module": "@jupyter-widgets/base",
            "_model_module_version": "1.2.0",
            "_model_name": "LayoutModel",
            "_view_count": null,
            "_view_module": "@jupyter-widgets/base",
            "_view_module_version": "1.2.0",
            "_view_name": "LayoutView",
            "align_content": null,
            "align_items": null,
            "align_self": null,
            "border": null,
            "bottom": null,
            "display": null,
            "flex": null,
            "flex_flow": null,
            "grid_area": null,
            "grid_auto_columns": null,
            "grid_auto_flow": null,
            "grid_auto_rows": null,
            "grid_column": null,
            "grid_gap": null,
            "grid_row": null,
            "grid_template_areas": null,
            "grid_template_columns": null,
            "grid_template_rows": null,
            "height": null,
            "justify_content": null,
            "justify_items": null,
            "left": null,
            "margin": null,
            "max_height": null,
            "max_width": null,
            "min_height": null,
            "min_width": null,
            "object_fit": null,
            "object_position": null,
            "order": null,
            "overflow": null,
            "overflow_x": null,
            "overflow_y": null,
            "padding": null,
            "right": null,
            "top": null,
            "visibility": null,
            "width": null
          }
        },
        "398c836c65a947a8bfa849315dc09908": {
          "model_module": "@jupyter-widgets/controls",
          "model_name": "ProgressStyleModel",
          "model_module_version": "1.5.0",
          "state": {
            "_model_module": "@jupyter-widgets/controls",
            "_model_module_version": "1.5.0",
            "_model_name": "ProgressStyleModel",
            "_view_count": null,
            "_view_module": "@jupyter-widgets/base",
            "_view_module_version": "1.2.0",
            "_view_name": "StyleView",
            "bar_color": null,
            "description_width": ""
          }
        },
        "fa18562531ac43808a2dd879befeb430": {
          "model_module": "@jupyter-widgets/base",
          "model_name": "LayoutModel",
          "model_module_version": "1.2.0",
          "state": {
            "_model_module": "@jupyter-widgets/base",
            "_model_module_version": "1.2.0",
            "_model_name": "LayoutModel",
            "_view_count": null,
            "_view_module": "@jupyter-widgets/base",
            "_view_module_version": "1.2.0",
            "_view_name": "LayoutView",
            "align_content": null,
            "align_items": null,
            "align_self": null,
            "border": null,
            "bottom": null,
            "display": null,
            "flex": null,
            "flex_flow": null,
            "grid_area": null,
            "grid_auto_columns": null,
            "grid_auto_flow": null,
            "grid_auto_rows": null,
            "grid_column": null,
            "grid_gap": null,
            "grid_row": null,
            "grid_template_areas": null,
            "grid_template_columns": null,
            "grid_template_rows": null,
            "height": null,
            "justify_content": null,
            "justify_items": null,
            "left": null,
            "margin": null,
            "max_height": null,
            "max_width": null,
            "min_height": null,
            "min_width": null,
            "object_fit": null,
            "object_position": null,
            "order": null,
            "overflow": null,
            "overflow_x": null,
            "overflow_y": null,
            "padding": null,
            "right": null,
            "top": null,
            "visibility": null,
            "width": null
          }
        },
        "e45130c237fd4271b83d3d24604a1e58": {
          "model_module": "@jupyter-widgets/controls",
          "model_name": "DescriptionStyleModel",
          "model_module_version": "1.5.0",
          "state": {
            "_model_module": "@jupyter-widgets/controls",
            "_model_module_version": "1.5.0",
            "_model_name": "DescriptionStyleModel",
            "_view_count": null,
            "_view_module": "@jupyter-widgets/base",
            "_view_module_version": "1.2.0",
            "_view_name": "StyleView",
            "description_width": ""
          }
        },
        "a0322e27386d446bbe750f9f31db8c26": {
          "model_module": "@jupyter-widgets/controls",
          "model_name": "HBoxModel",
          "model_module_version": "1.5.0",
          "state": {
            "_dom_classes": [],
            "_model_module": "@jupyter-widgets/controls",
            "_model_module_version": "1.5.0",
            "_model_name": "HBoxModel",
            "_view_count": null,
            "_view_module": "@jupyter-widgets/controls",
            "_view_module_version": "1.5.0",
            "_view_name": "HBoxView",
            "box_style": "",
            "children": [
              "IPY_MODEL_6075a12c998f4cfeb26add01a10a3dad",
              "IPY_MODEL_9d1b1da15c3848efbbfff26bf0f44634",
              "IPY_MODEL_4e8ecee6652d46b2adecde8b5715806a"
            ],
            "layout": "IPY_MODEL_ae8f278121934b76b5710441ebec945d"
          }
        },
        "6075a12c998f4cfeb26add01a10a3dad": {
          "model_module": "@jupyter-widgets/controls",
          "model_name": "HTMLModel",
          "model_module_version": "1.5.0",
          "state": {
            "_dom_classes": [],
            "_model_module": "@jupyter-widgets/controls",
            "_model_module_version": "1.5.0",
            "_model_name": "HTMLModel",
            "_view_count": null,
            "_view_module": "@jupyter-widgets/controls",
            "_view_module_version": "1.5.0",
            "_view_name": "HTMLView",
            "description": "",
            "description_tooltip": null,
            "layout": "IPY_MODEL_c82ce05c98e1430799556d2690c6ffe3",
            "placeholder": "​",
            "style": "IPY_MODEL_9ce7216474064786b96dd76da87932e9",
            "value": "100%"
          }
        },
        "9d1b1da15c3848efbbfff26bf0f44634": {
          "model_module": "@jupyter-widgets/controls",
          "model_name": "FloatProgressModel",
          "model_module_version": "1.5.0",
          "state": {
            "_dom_classes": [],
            "_model_module": "@jupyter-widgets/controls",
            "_model_module_version": "1.5.0",
            "_model_name": "FloatProgressModel",
            "_view_count": null,
            "_view_module": "@jupyter-widgets/controls",
            "_view_module_version": "1.5.0",
            "_view_name": "ProgressView",
            "bar_style": "success",
            "description": "",
            "description_tooltip": null,
            "layout": "IPY_MODEL_509fa466ad704744b8868e276be32c82",
            "max": 1,
            "min": 0,
            "orientation": "horizontal",
            "style": "IPY_MODEL_e317fea952fd478895ac2a13b700010b",
            "value": 1
          }
        },
        "4e8ecee6652d46b2adecde8b5715806a": {
          "model_module": "@jupyter-widgets/controls",
          "model_name": "HTMLModel",
          "model_module_version": "1.5.0",
          "state": {
            "_dom_classes": [],
            "_model_module": "@jupyter-widgets/controls",
            "_model_module_version": "1.5.0",
            "_model_name": "HTMLModel",
            "_view_count": null,
            "_view_module": "@jupyter-widgets/controls",
            "_view_module_version": "1.5.0",
            "_view_name": "HTMLView",
            "description": "",
            "description_tooltip": null,
            "layout": "IPY_MODEL_92d3987cab314b519af491bce277220e",
            "placeholder": "​",
            "style": "IPY_MODEL_be4c89a46a134e8c9caa8a5d5f045099",
            "value": " 1/1 [00:00&lt;00:00,  3.25ba/s]"
          }
        },
        "ae8f278121934b76b5710441ebec945d": {
          "model_module": "@jupyter-widgets/base",
          "model_name": "LayoutModel",
          "model_module_version": "1.2.0",
          "state": {
            "_model_module": "@jupyter-widgets/base",
            "_model_module_version": "1.2.0",
            "_model_name": "LayoutModel",
            "_view_count": null,
            "_view_module": "@jupyter-widgets/base",
            "_view_module_version": "1.2.0",
            "_view_name": "LayoutView",
            "align_content": null,
            "align_items": null,
            "align_self": null,
            "border": null,
            "bottom": null,
            "display": null,
            "flex": null,
            "flex_flow": null,
            "grid_area": null,
            "grid_auto_columns": null,
            "grid_auto_flow": null,
            "grid_auto_rows": null,
            "grid_column": null,
            "grid_gap": null,
            "grid_row": null,
            "grid_template_areas": null,
            "grid_template_columns": null,
            "grid_template_rows": null,
            "height": null,
            "justify_content": null,
            "justify_items": null,
            "left": null,
            "margin": null,
            "max_height": null,
            "max_width": null,
            "min_height": null,
            "min_width": null,
            "object_fit": null,
            "object_position": null,
            "order": null,
            "overflow": null,
            "overflow_x": null,
            "overflow_y": null,
            "padding": null,
            "right": null,
            "top": null,
            "visibility": null,
            "width": null
          }
        },
        "c82ce05c98e1430799556d2690c6ffe3": {
          "model_module": "@jupyter-widgets/base",
          "model_name": "LayoutModel",
          "model_module_version": "1.2.0",
          "state": {
            "_model_module": "@jupyter-widgets/base",
            "_model_module_version": "1.2.0",
            "_model_name": "LayoutModel",
            "_view_count": null,
            "_view_module": "@jupyter-widgets/base",
            "_view_module_version": "1.2.0",
            "_view_name": "LayoutView",
            "align_content": null,
            "align_items": null,
            "align_self": null,
            "border": null,
            "bottom": null,
            "display": null,
            "flex": null,
            "flex_flow": null,
            "grid_area": null,
            "grid_auto_columns": null,
            "grid_auto_flow": null,
            "grid_auto_rows": null,
            "grid_column": null,
            "grid_gap": null,
            "grid_row": null,
            "grid_template_areas": null,
            "grid_template_columns": null,
            "grid_template_rows": null,
            "height": null,
            "justify_content": null,
            "justify_items": null,
            "left": null,
            "margin": null,
            "max_height": null,
            "max_width": null,
            "min_height": null,
            "min_width": null,
            "object_fit": null,
            "object_position": null,
            "order": null,
            "overflow": null,
            "overflow_x": null,
            "overflow_y": null,
            "padding": null,
            "right": null,
            "top": null,
            "visibility": null,
            "width": null
          }
        },
        "9ce7216474064786b96dd76da87932e9": {
          "model_module": "@jupyter-widgets/controls",
          "model_name": "DescriptionStyleModel",
          "model_module_version": "1.5.0",
          "state": {
            "_model_module": "@jupyter-widgets/controls",
            "_model_module_version": "1.5.0",
            "_model_name": "DescriptionStyleModel",
            "_view_count": null,
            "_view_module": "@jupyter-widgets/base",
            "_view_module_version": "1.2.0",
            "_view_name": "StyleView",
            "description_width": ""
          }
        },
        "509fa466ad704744b8868e276be32c82": {
          "model_module": "@jupyter-widgets/base",
          "model_name": "LayoutModel",
          "model_module_version": "1.2.0",
          "state": {
            "_model_module": "@jupyter-widgets/base",
            "_model_module_version": "1.2.0",
            "_model_name": "LayoutModel",
            "_view_count": null,
            "_view_module": "@jupyter-widgets/base",
            "_view_module_version": "1.2.0",
            "_view_name": "LayoutView",
            "align_content": null,
            "align_items": null,
            "align_self": null,
            "border": null,
            "bottom": null,
            "display": null,
            "flex": null,
            "flex_flow": null,
            "grid_area": null,
            "grid_auto_columns": null,
            "grid_auto_flow": null,
            "grid_auto_rows": null,
            "grid_column": null,
            "grid_gap": null,
            "grid_row": null,
            "grid_template_areas": null,
            "grid_template_columns": null,
            "grid_template_rows": null,
            "height": null,
            "justify_content": null,
            "justify_items": null,
            "left": null,
            "margin": null,
            "max_height": null,
            "max_width": null,
            "min_height": null,
            "min_width": null,
            "object_fit": null,
            "object_position": null,
            "order": null,
            "overflow": null,
            "overflow_x": null,
            "overflow_y": null,
            "padding": null,
            "right": null,
            "top": null,
            "visibility": null,
            "width": null
          }
        },
        "e317fea952fd478895ac2a13b700010b": {
          "model_module": "@jupyter-widgets/controls",
          "model_name": "ProgressStyleModel",
          "model_module_version": "1.5.0",
          "state": {
            "_model_module": "@jupyter-widgets/controls",
            "_model_module_version": "1.5.0",
            "_model_name": "ProgressStyleModel",
            "_view_count": null,
            "_view_module": "@jupyter-widgets/base",
            "_view_module_version": "1.2.0",
            "_view_name": "StyleView",
            "bar_color": null,
            "description_width": ""
          }
        },
        "92d3987cab314b519af491bce277220e": {
          "model_module": "@jupyter-widgets/base",
          "model_name": "LayoutModel",
          "model_module_version": "1.2.0",
          "state": {
            "_model_module": "@jupyter-widgets/base",
            "_model_module_version": "1.2.0",
            "_model_name": "LayoutModel",
            "_view_count": null,
            "_view_module": "@jupyter-widgets/base",
            "_view_module_version": "1.2.0",
            "_view_name": "LayoutView",
            "align_content": null,
            "align_items": null,
            "align_self": null,
            "border": null,
            "bottom": null,
            "display": null,
            "flex": null,
            "flex_flow": null,
            "grid_area": null,
            "grid_auto_columns": null,
            "grid_auto_flow": null,
            "grid_auto_rows": null,
            "grid_column": null,
            "grid_gap": null,
            "grid_row": null,
            "grid_template_areas": null,
            "grid_template_columns": null,
            "grid_template_rows": null,
            "height": null,
            "justify_content": null,
            "justify_items": null,
            "left": null,
            "margin": null,
            "max_height": null,
            "max_width": null,
            "min_height": null,
            "min_width": null,
            "object_fit": null,
            "object_position": null,
            "order": null,
            "overflow": null,
            "overflow_x": null,
            "overflow_y": null,
            "padding": null,
            "right": null,
            "top": null,
            "visibility": null,
            "width": null
          }
        },
        "be4c89a46a134e8c9caa8a5d5f045099": {
          "model_module": "@jupyter-widgets/controls",
          "model_name": "DescriptionStyleModel",
          "model_module_version": "1.5.0",
          "state": {
            "_model_module": "@jupyter-widgets/controls",
            "_model_module_version": "1.5.0",
            "_model_name": "DescriptionStyleModel",
            "_view_count": null,
            "_view_module": "@jupyter-widgets/base",
            "_view_module_version": "1.2.0",
            "_view_name": "StyleView",
            "description_width": ""
          }
        },
        "b36fcb7a44ab4066919e9d60804eb4c7": {
          "model_module": "@jupyter-widgets/controls",
          "model_name": "HBoxModel",
          "model_module_version": "1.5.0",
          "state": {
            "_dom_classes": [],
            "_model_module": "@jupyter-widgets/controls",
            "_model_module_version": "1.5.0",
            "_model_name": "HBoxModel",
            "_view_count": null,
            "_view_module": "@jupyter-widgets/controls",
            "_view_module_version": "1.5.0",
            "_view_name": "HBoxView",
            "box_style": "",
            "children": [
              "IPY_MODEL_1f78c6a76b2948e29f79dd021a0eb72d",
              "IPY_MODEL_6069d6167de34b009de99bc8867302af",
              "IPY_MODEL_225aee00f7cb42b78a1d37d401d474ad"
            ],
            "layout": "IPY_MODEL_1fd2c26cfa484be2bfa3552ec54fff88"
          }
        },
        "1f78c6a76b2948e29f79dd021a0eb72d": {
          "model_module": "@jupyter-widgets/controls",
          "model_name": "HTMLModel",
          "model_module_version": "1.5.0",
          "state": {
            "_dom_classes": [],
            "_model_module": "@jupyter-widgets/controls",
            "_model_module_version": "1.5.0",
            "_model_name": "HTMLModel",
            "_view_count": null,
            "_view_module": "@jupyter-widgets/controls",
            "_view_module_version": "1.5.0",
            "_view_name": "HTMLView",
            "description": "",
            "description_tooltip": null,
            "layout": "IPY_MODEL_eed6b911a7a141f49bd54fb1a5903f9f",
            "placeholder": "​",
            "style": "IPY_MODEL_bc62cdcda38a4ec5bc663abc198a5f74",
            "value": "100%"
          }
        },
        "6069d6167de34b009de99bc8867302af": {
          "model_module": "@jupyter-widgets/controls",
          "model_name": "FloatProgressModel",
          "model_module_version": "1.5.0",
          "state": {
            "_dom_classes": [],
            "_model_module": "@jupyter-widgets/controls",
            "_model_module_version": "1.5.0",
            "_model_name": "FloatProgressModel",
            "_view_count": null,
            "_view_module": "@jupyter-widgets/controls",
            "_view_module_version": "1.5.0",
            "_view_name": "ProgressView",
            "bar_style": "success",
            "description": "",
            "description_tooltip": null,
            "layout": "IPY_MODEL_ebd8aa9b40c54b96ae9aa46c05dfc04e",
            "max": 1,
            "min": 0,
            "orientation": "horizontal",
            "style": "IPY_MODEL_3d0dc67a0c994fdfb036a653db49277a",
            "value": 1
          }
        },
        "225aee00f7cb42b78a1d37d401d474ad": {
          "model_module": "@jupyter-widgets/controls",
          "model_name": "HTMLModel",
          "model_module_version": "1.5.0",
          "state": {
            "_dom_classes": [],
            "_model_module": "@jupyter-widgets/controls",
            "_model_module_version": "1.5.0",
            "_model_name": "HTMLModel",
            "_view_count": null,
            "_view_module": "@jupyter-widgets/controls",
            "_view_module_version": "1.5.0",
            "_view_name": "HTMLView",
            "description": "",
            "description_tooltip": null,
            "layout": "IPY_MODEL_bd70963c0f414ceebf55a8a1fb1b030e",
            "placeholder": "​",
            "style": "IPY_MODEL_306241729db64c8f9bf0508910818818",
            "value": " 1/1 [00:00&lt;00:00, 10.93ba/s]"
          }
        },
        "1fd2c26cfa484be2bfa3552ec54fff88": {
          "model_module": "@jupyter-widgets/base",
          "model_name": "LayoutModel",
          "model_module_version": "1.2.0",
          "state": {
            "_model_module": "@jupyter-widgets/base",
            "_model_module_version": "1.2.0",
            "_model_name": "LayoutModel",
            "_view_count": null,
            "_view_module": "@jupyter-widgets/base",
            "_view_module_version": "1.2.0",
            "_view_name": "LayoutView",
            "align_content": null,
            "align_items": null,
            "align_self": null,
            "border": null,
            "bottom": null,
            "display": null,
            "flex": null,
            "flex_flow": null,
            "grid_area": null,
            "grid_auto_columns": null,
            "grid_auto_flow": null,
            "grid_auto_rows": null,
            "grid_column": null,
            "grid_gap": null,
            "grid_row": null,
            "grid_template_areas": null,
            "grid_template_columns": null,
            "grid_template_rows": null,
            "height": null,
            "justify_content": null,
            "justify_items": null,
            "left": null,
            "margin": null,
            "max_height": null,
            "max_width": null,
            "min_height": null,
            "min_width": null,
            "object_fit": null,
            "object_position": null,
            "order": null,
            "overflow": null,
            "overflow_x": null,
            "overflow_y": null,
            "padding": null,
            "right": null,
            "top": null,
            "visibility": null,
            "width": null
          }
        },
        "eed6b911a7a141f49bd54fb1a5903f9f": {
          "model_module": "@jupyter-widgets/base",
          "model_name": "LayoutModel",
          "model_module_version": "1.2.0",
          "state": {
            "_model_module": "@jupyter-widgets/base",
            "_model_module_version": "1.2.0",
            "_model_name": "LayoutModel",
            "_view_count": null,
            "_view_module": "@jupyter-widgets/base",
            "_view_module_version": "1.2.0",
            "_view_name": "LayoutView",
            "align_content": null,
            "align_items": null,
            "align_self": null,
            "border": null,
            "bottom": null,
            "display": null,
            "flex": null,
            "flex_flow": null,
            "grid_area": null,
            "grid_auto_columns": null,
            "grid_auto_flow": null,
            "grid_auto_rows": null,
            "grid_column": null,
            "grid_gap": null,
            "grid_row": null,
            "grid_template_areas": null,
            "grid_template_columns": null,
            "grid_template_rows": null,
            "height": null,
            "justify_content": null,
            "justify_items": null,
            "left": null,
            "margin": null,
            "max_height": null,
            "max_width": null,
            "min_height": null,
            "min_width": null,
            "object_fit": null,
            "object_position": null,
            "order": null,
            "overflow": null,
            "overflow_x": null,
            "overflow_y": null,
            "padding": null,
            "right": null,
            "top": null,
            "visibility": null,
            "width": null
          }
        },
        "bc62cdcda38a4ec5bc663abc198a5f74": {
          "model_module": "@jupyter-widgets/controls",
          "model_name": "DescriptionStyleModel",
          "model_module_version": "1.5.0",
          "state": {
            "_model_module": "@jupyter-widgets/controls",
            "_model_module_version": "1.5.0",
            "_model_name": "DescriptionStyleModel",
            "_view_count": null,
            "_view_module": "@jupyter-widgets/base",
            "_view_module_version": "1.2.0",
            "_view_name": "StyleView",
            "description_width": ""
          }
        },
        "ebd8aa9b40c54b96ae9aa46c05dfc04e": {
          "model_module": "@jupyter-widgets/base",
          "model_name": "LayoutModel",
          "model_module_version": "1.2.0",
          "state": {
            "_model_module": "@jupyter-widgets/base",
            "_model_module_version": "1.2.0",
            "_model_name": "LayoutModel",
            "_view_count": null,
            "_view_module": "@jupyter-widgets/base",
            "_view_module_version": "1.2.0",
            "_view_name": "LayoutView",
            "align_content": null,
            "align_items": null,
            "align_self": null,
            "border": null,
            "bottom": null,
            "display": null,
            "flex": null,
            "flex_flow": null,
            "grid_area": null,
            "grid_auto_columns": null,
            "grid_auto_flow": null,
            "grid_auto_rows": null,
            "grid_column": null,
            "grid_gap": null,
            "grid_row": null,
            "grid_template_areas": null,
            "grid_template_columns": null,
            "grid_template_rows": null,
            "height": null,
            "justify_content": null,
            "justify_items": null,
            "left": null,
            "margin": null,
            "max_height": null,
            "max_width": null,
            "min_height": null,
            "min_width": null,
            "object_fit": null,
            "object_position": null,
            "order": null,
            "overflow": null,
            "overflow_x": null,
            "overflow_y": null,
            "padding": null,
            "right": null,
            "top": null,
            "visibility": null,
            "width": null
          }
        },
        "3d0dc67a0c994fdfb036a653db49277a": {
          "model_module": "@jupyter-widgets/controls",
          "model_name": "ProgressStyleModel",
          "model_module_version": "1.5.0",
          "state": {
            "_model_module": "@jupyter-widgets/controls",
            "_model_module_version": "1.5.0",
            "_model_name": "ProgressStyleModel",
            "_view_count": null,
            "_view_module": "@jupyter-widgets/base",
            "_view_module_version": "1.2.0",
            "_view_name": "StyleView",
            "bar_color": null,
            "description_width": ""
          }
        },
        "bd70963c0f414ceebf55a8a1fb1b030e": {
          "model_module": "@jupyter-widgets/base",
          "model_name": "LayoutModel",
          "model_module_version": "1.2.0",
          "state": {
            "_model_module": "@jupyter-widgets/base",
            "_model_module_version": "1.2.0",
            "_model_name": "LayoutModel",
            "_view_count": null,
            "_view_module": "@jupyter-widgets/base",
            "_view_module_version": "1.2.0",
            "_view_name": "LayoutView",
            "align_content": null,
            "align_items": null,
            "align_self": null,
            "border": null,
            "bottom": null,
            "display": null,
            "flex": null,
            "flex_flow": null,
            "grid_area": null,
            "grid_auto_columns": null,
            "grid_auto_flow": null,
            "grid_auto_rows": null,
            "grid_column": null,
            "grid_gap": null,
            "grid_row": null,
            "grid_template_areas": null,
            "grid_template_columns": null,
            "grid_template_rows": null,
            "height": null,
            "justify_content": null,
            "justify_items": null,
            "left": null,
            "margin": null,
            "max_height": null,
            "max_width": null,
            "min_height": null,
            "min_width": null,
            "object_fit": null,
            "object_position": null,
            "order": null,
            "overflow": null,
            "overflow_x": null,
            "overflow_y": null,
            "padding": null,
            "right": null,
            "top": null,
            "visibility": null,
            "width": null
          }
        },
        "306241729db64c8f9bf0508910818818": {
          "model_module": "@jupyter-widgets/controls",
          "model_name": "DescriptionStyleModel",
          "model_module_version": "1.5.0",
          "state": {
            "_model_module": "@jupyter-widgets/controls",
            "_model_module_version": "1.5.0",
            "_model_name": "DescriptionStyleModel",
            "_view_count": null,
            "_view_module": "@jupyter-widgets/base",
            "_view_module_version": "1.2.0",
            "_view_name": "StyleView",
            "description_width": ""
          }
        },
        "cdb73ede16b64a149afe9b273c5eb8c3": {
          "model_module": "@jupyter-widgets/controls",
          "model_name": "HBoxModel",
          "model_module_version": "1.5.0",
          "state": {
            "_dom_classes": [],
            "_model_module": "@jupyter-widgets/controls",
            "_model_module_version": "1.5.0",
            "_model_name": "HBoxModel",
            "_view_count": null,
            "_view_module": "@jupyter-widgets/controls",
            "_view_module_version": "1.5.0",
            "_view_name": "HBoxView",
            "box_style": "",
            "children": [
              "IPY_MODEL_ccad7eba8cb3431da24fd7720996ec98",
              "IPY_MODEL_ee5cb1efddda4069b723470439ebbed0",
              "IPY_MODEL_045c2a6d431d4ba9bc71775b0e39e259"
            ],
            "layout": "IPY_MODEL_6b3320c1e066429abe9ecca8bd18b52d"
          }
        },
        "ccad7eba8cb3431da24fd7720996ec98": {
          "model_module": "@jupyter-widgets/controls",
          "model_name": "HTMLModel",
          "model_module_version": "1.5.0",
          "state": {
            "_dom_classes": [],
            "_model_module": "@jupyter-widgets/controls",
            "_model_module_version": "1.5.0",
            "_model_name": "HTMLModel",
            "_view_count": null,
            "_view_module": "@jupyter-widgets/controls",
            "_view_module_version": "1.5.0",
            "_view_name": "HTMLView",
            "description": "",
            "description_tooltip": null,
            "layout": "IPY_MODEL_3fad8de680b1411297d6f88ebf0b4ca0",
            "placeholder": "​",
            "style": "IPY_MODEL_e50e4b3702fb4f55a811793c0a898807",
            "value": "Downloading: 100%"
          }
        },
        "ee5cb1efddda4069b723470439ebbed0": {
          "model_module": "@jupyter-widgets/controls",
          "model_name": "FloatProgressModel",
          "model_module_version": "1.5.0",
          "state": {
            "_dom_classes": [],
            "_model_module": "@jupyter-widgets/controls",
            "_model_module_version": "1.5.0",
            "_model_name": "FloatProgressModel",
            "_view_count": null,
            "_view_module": "@jupyter-widgets/controls",
            "_view_module_version": "1.5.0",
            "_view_name": "ProgressView",
            "bar_style": "success",
            "description": "",
            "description_tooltip": null,
            "layout": "IPY_MODEL_821e83ed6c2f44a59bce637181388114",
            "max": 765,
            "min": 0,
            "orientation": "horizontal",
            "style": "IPY_MODEL_44ef9c03c0cc41f59b6e69f76c2d8500",
            "value": 765
          }
        },
        "045c2a6d431d4ba9bc71775b0e39e259": {
          "model_module": "@jupyter-widgets/controls",
          "model_name": "HTMLModel",
          "model_module_version": "1.5.0",
          "state": {
            "_dom_classes": [],
            "_model_module": "@jupyter-widgets/controls",
            "_model_module_version": "1.5.0",
            "_model_name": "HTMLModel",
            "_view_count": null,
            "_view_module": "@jupyter-widgets/controls",
            "_view_module_version": "1.5.0",
            "_view_name": "HTMLView",
            "description": "",
            "description_tooltip": null,
            "layout": "IPY_MODEL_96b7273c8a404feaac96963ba6410b74",
            "placeholder": "​",
            "style": "IPY_MODEL_a844ca8f6fde43148ba7bd169ed15526",
            "value": " 765/765 [00:00&lt;00:00, 26.8kB/s]"
          }
        },
        "6b3320c1e066429abe9ecca8bd18b52d": {
          "model_module": "@jupyter-widgets/base",
          "model_name": "LayoutModel",
          "model_module_version": "1.2.0",
          "state": {
            "_model_module": "@jupyter-widgets/base",
            "_model_module_version": "1.2.0",
            "_model_name": "LayoutModel",
            "_view_count": null,
            "_view_module": "@jupyter-widgets/base",
            "_view_module_version": "1.2.0",
            "_view_name": "LayoutView",
            "align_content": null,
            "align_items": null,
            "align_self": null,
            "border": null,
            "bottom": null,
            "display": null,
            "flex": null,
            "flex_flow": null,
            "grid_area": null,
            "grid_auto_columns": null,
            "grid_auto_flow": null,
            "grid_auto_rows": null,
            "grid_column": null,
            "grid_gap": null,
            "grid_row": null,
            "grid_template_areas": null,
            "grid_template_columns": null,
            "grid_template_rows": null,
            "height": null,
            "justify_content": null,
            "justify_items": null,
            "left": null,
            "margin": null,
            "max_height": null,
            "max_width": null,
            "min_height": null,
            "min_width": null,
            "object_fit": null,
            "object_position": null,
            "order": null,
            "overflow": null,
            "overflow_x": null,
            "overflow_y": null,
            "padding": null,
            "right": null,
            "top": null,
            "visibility": null,
            "width": null
          }
        },
        "3fad8de680b1411297d6f88ebf0b4ca0": {
          "model_module": "@jupyter-widgets/base",
          "model_name": "LayoutModel",
          "model_module_version": "1.2.0",
          "state": {
            "_model_module": "@jupyter-widgets/base",
            "_model_module_version": "1.2.0",
            "_model_name": "LayoutModel",
            "_view_count": null,
            "_view_module": "@jupyter-widgets/base",
            "_view_module_version": "1.2.0",
            "_view_name": "LayoutView",
            "align_content": null,
            "align_items": null,
            "align_self": null,
            "border": null,
            "bottom": null,
            "display": null,
            "flex": null,
            "flex_flow": null,
            "grid_area": null,
            "grid_auto_columns": null,
            "grid_auto_flow": null,
            "grid_auto_rows": null,
            "grid_column": null,
            "grid_gap": null,
            "grid_row": null,
            "grid_template_areas": null,
            "grid_template_columns": null,
            "grid_template_rows": null,
            "height": null,
            "justify_content": null,
            "justify_items": null,
            "left": null,
            "margin": null,
            "max_height": null,
            "max_width": null,
            "min_height": null,
            "min_width": null,
            "object_fit": null,
            "object_position": null,
            "order": null,
            "overflow": null,
            "overflow_x": null,
            "overflow_y": null,
            "padding": null,
            "right": null,
            "top": null,
            "visibility": null,
            "width": null
          }
        },
        "e50e4b3702fb4f55a811793c0a898807": {
          "model_module": "@jupyter-widgets/controls",
          "model_name": "DescriptionStyleModel",
          "model_module_version": "1.5.0",
          "state": {
            "_model_module": "@jupyter-widgets/controls",
            "_model_module_version": "1.5.0",
            "_model_name": "DescriptionStyleModel",
            "_view_count": null,
            "_view_module": "@jupyter-widgets/base",
            "_view_module_version": "1.2.0",
            "_view_name": "StyleView",
            "description_width": ""
          }
        },
        "821e83ed6c2f44a59bce637181388114": {
          "model_module": "@jupyter-widgets/base",
          "model_name": "LayoutModel",
          "model_module_version": "1.2.0",
          "state": {
            "_model_module": "@jupyter-widgets/base",
            "_model_module_version": "1.2.0",
            "_model_name": "LayoutModel",
            "_view_count": null,
            "_view_module": "@jupyter-widgets/base",
            "_view_module_version": "1.2.0",
            "_view_name": "LayoutView",
            "align_content": null,
            "align_items": null,
            "align_self": null,
            "border": null,
            "bottom": null,
            "display": null,
            "flex": null,
            "flex_flow": null,
            "grid_area": null,
            "grid_auto_columns": null,
            "grid_auto_flow": null,
            "grid_auto_rows": null,
            "grid_column": null,
            "grid_gap": null,
            "grid_row": null,
            "grid_template_areas": null,
            "grid_template_columns": null,
            "grid_template_rows": null,
            "height": null,
            "justify_content": null,
            "justify_items": null,
            "left": null,
            "margin": null,
            "max_height": null,
            "max_width": null,
            "min_height": null,
            "min_width": null,
            "object_fit": null,
            "object_position": null,
            "order": null,
            "overflow": null,
            "overflow_x": null,
            "overflow_y": null,
            "padding": null,
            "right": null,
            "top": null,
            "visibility": null,
            "width": null
          }
        },
        "44ef9c03c0cc41f59b6e69f76c2d8500": {
          "model_module": "@jupyter-widgets/controls",
          "model_name": "ProgressStyleModel",
          "model_module_version": "1.5.0",
          "state": {
            "_model_module": "@jupyter-widgets/controls",
            "_model_module_version": "1.5.0",
            "_model_name": "ProgressStyleModel",
            "_view_count": null,
            "_view_module": "@jupyter-widgets/base",
            "_view_module_version": "1.2.0",
            "_view_name": "StyleView",
            "bar_color": null,
            "description_width": ""
          }
        },
        "96b7273c8a404feaac96963ba6410b74": {
          "model_module": "@jupyter-widgets/base",
          "model_name": "LayoutModel",
          "model_module_version": "1.2.0",
          "state": {
            "_model_module": "@jupyter-widgets/base",
            "_model_module_version": "1.2.0",
            "_model_name": "LayoutModel",
            "_view_count": null,
            "_view_module": "@jupyter-widgets/base",
            "_view_module_version": "1.2.0",
            "_view_name": "LayoutView",
            "align_content": null,
            "align_items": null,
            "align_self": null,
            "border": null,
            "bottom": null,
            "display": null,
            "flex": null,
            "flex_flow": null,
            "grid_area": null,
            "grid_auto_columns": null,
            "grid_auto_flow": null,
            "grid_auto_rows": null,
            "grid_column": null,
            "grid_gap": null,
            "grid_row": null,
            "grid_template_areas": null,
            "grid_template_columns": null,
            "grid_template_rows": null,
            "height": null,
            "justify_content": null,
            "justify_items": null,
            "left": null,
            "margin": null,
            "max_height": null,
            "max_width": null,
            "min_height": null,
            "min_width": null,
            "object_fit": null,
            "object_position": null,
            "order": null,
            "overflow": null,
            "overflow_x": null,
            "overflow_y": null,
            "padding": null,
            "right": null,
            "top": null,
            "visibility": null,
            "width": null
          }
        },
        "a844ca8f6fde43148ba7bd169ed15526": {
          "model_module": "@jupyter-widgets/controls",
          "model_name": "DescriptionStyleModel",
          "model_module_version": "1.5.0",
          "state": {
            "_model_module": "@jupyter-widgets/controls",
            "_model_module_version": "1.5.0",
            "_model_name": "DescriptionStyleModel",
            "_view_count": null,
            "_view_module": "@jupyter-widgets/base",
            "_view_module_version": "1.2.0",
            "_view_name": "StyleView",
            "description_width": ""
          }
        },
        "9000e1c8f11d4be88d49d21d04258383": {
          "model_module": "@jupyter-widgets/controls",
          "model_name": "HBoxModel",
          "model_module_version": "1.5.0",
          "state": {
            "_dom_classes": [],
            "_model_module": "@jupyter-widgets/controls",
            "_model_module_version": "1.5.0",
            "_model_name": "HBoxModel",
            "_view_count": null,
            "_view_module": "@jupyter-widgets/controls",
            "_view_module_version": "1.5.0",
            "_view_name": "HBoxView",
            "box_style": "",
            "children": [
              "IPY_MODEL_1218d4f6637e4c35b0e99abf60ae95a2",
              "IPY_MODEL_d52c1ab385ae4e55ae86312e1ea7eaeb",
              "IPY_MODEL_47a0cf0d29b54468aa4804d443631f99"
            ],
            "layout": "IPY_MODEL_29063ea109af4ea69fb30ec0fcda61e0"
          }
        },
        "1218d4f6637e4c35b0e99abf60ae95a2": {
          "model_module": "@jupyter-widgets/controls",
          "model_name": "HTMLModel",
          "model_module_version": "1.5.0",
          "state": {
            "_dom_classes": [],
            "_model_module": "@jupyter-widgets/controls",
            "_model_module_version": "1.5.0",
            "_model_name": "HTMLModel",
            "_view_count": null,
            "_view_module": "@jupyter-widgets/controls",
            "_view_module_version": "1.5.0",
            "_view_name": "HTMLView",
            "description": "",
            "description_tooltip": null,
            "layout": "IPY_MODEL_0439ec1071ab497db0938a0ded0ad9e6",
            "placeholder": "​",
            "style": "IPY_MODEL_8451f3cad1314124a6cabdeed4b9592c",
            "value": "Downloading: 100%"
          }
        },
        "d52c1ab385ae4e55ae86312e1ea7eaeb": {
          "model_module": "@jupyter-widgets/controls",
          "model_name": "FloatProgressModel",
          "model_module_version": "1.5.0",
          "state": {
            "_dom_classes": [],
            "_model_module": "@jupyter-widgets/controls",
            "_model_module_version": "1.5.0",
            "_model_name": "FloatProgressModel",
            "_view_count": null,
            "_view_module": "@jupyter-widgets/controls",
            "_view_module_version": "1.5.0",
            "_view_name": "ProgressView",
            "bar_style": "success",
            "description": "",
            "description_tooltip": null,
            "layout": "IPY_MODEL_0b200dba333f4e71ad8f66f9421e6ef8",
            "max": 535840599,
            "min": 0,
            "orientation": "horizontal",
            "style": "IPY_MODEL_1b4efdeabe8b46778b0fd3b445692956",
            "value": 535840599
          }
        },
        "47a0cf0d29b54468aa4804d443631f99": {
          "model_module": "@jupyter-widgets/controls",
          "model_name": "HTMLModel",
          "model_module_version": "1.5.0",
          "state": {
            "_dom_classes": [],
            "_model_module": "@jupyter-widgets/controls",
            "_model_module_version": "1.5.0",
            "_model_name": "HTMLModel",
            "_view_count": null,
            "_view_module": "@jupyter-widgets/controls",
            "_view_module_version": "1.5.0",
            "_view_name": "HTMLView",
            "description": "",
            "description_tooltip": null,
            "layout": "IPY_MODEL_fb2d04bad9b64e73b492506de6ba49ed",
            "placeholder": "​",
            "style": "IPY_MODEL_a4ea701033a841ceb19de3af4a17a11c",
            "value": " 536M/536M [00:29&lt;00:00, 19.0MB/s]"
          }
        },
        "29063ea109af4ea69fb30ec0fcda61e0": {
          "model_module": "@jupyter-widgets/base",
          "model_name": "LayoutModel",
          "model_module_version": "1.2.0",
          "state": {
            "_model_module": "@jupyter-widgets/base",
            "_model_module_version": "1.2.0",
            "_model_name": "LayoutModel",
            "_view_count": null,
            "_view_module": "@jupyter-widgets/base",
            "_view_module_version": "1.2.0",
            "_view_name": "LayoutView",
            "align_content": null,
            "align_items": null,
            "align_self": null,
            "border": null,
            "bottom": null,
            "display": null,
            "flex": null,
            "flex_flow": null,
            "grid_area": null,
            "grid_auto_columns": null,
            "grid_auto_flow": null,
            "grid_auto_rows": null,
            "grid_column": null,
            "grid_gap": null,
            "grid_row": null,
            "grid_template_areas": null,
            "grid_template_columns": null,
            "grid_template_rows": null,
            "height": null,
            "justify_content": null,
            "justify_items": null,
            "left": null,
            "margin": null,
            "max_height": null,
            "max_width": null,
            "min_height": null,
            "min_width": null,
            "object_fit": null,
            "object_position": null,
            "order": null,
            "overflow": null,
            "overflow_x": null,
            "overflow_y": null,
            "padding": null,
            "right": null,
            "top": null,
            "visibility": null,
            "width": null
          }
        },
        "0439ec1071ab497db0938a0ded0ad9e6": {
          "model_module": "@jupyter-widgets/base",
          "model_name": "LayoutModel",
          "model_module_version": "1.2.0",
          "state": {
            "_model_module": "@jupyter-widgets/base",
            "_model_module_version": "1.2.0",
            "_model_name": "LayoutModel",
            "_view_count": null,
            "_view_module": "@jupyter-widgets/base",
            "_view_module_version": "1.2.0",
            "_view_name": "LayoutView",
            "align_content": null,
            "align_items": null,
            "align_self": null,
            "border": null,
            "bottom": null,
            "display": null,
            "flex": null,
            "flex_flow": null,
            "grid_area": null,
            "grid_auto_columns": null,
            "grid_auto_flow": null,
            "grid_auto_rows": null,
            "grid_column": null,
            "grid_gap": null,
            "grid_row": null,
            "grid_template_areas": null,
            "grid_template_columns": null,
            "grid_template_rows": null,
            "height": null,
            "justify_content": null,
            "justify_items": null,
            "left": null,
            "margin": null,
            "max_height": null,
            "max_width": null,
            "min_height": null,
            "min_width": null,
            "object_fit": null,
            "object_position": null,
            "order": null,
            "overflow": null,
            "overflow_x": null,
            "overflow_y": null,
            "padding": null,
            "right": null,
            "top": null,
            "visibility": null,
            "width": null
          }
        },
        "8451f3cad1314124a6cabdeed4b9592c": {
          "model_module": "@jupyter-widgets/controls",
          "model_name": "DescriptionStyleModel",
          "model_module_version": "1.5.0",
          "state": {
            "_model_module": "@jupyter-widgets/controls",
            "_model_module_version": "1.5.0",
            "_model_name": "DescriptionStyleModel",
            "_view_count": null,
            "_view_module": "@jupyter-widgets/base",
            "_view_module_version": "1.2.0",
            "_view_name": "StyleView",
            "description_width": ""
          }
        },
        "0b200dba333f4e71ad8f66f9421e6ef8": {
          "model_module": "@jupyter-widgets/base",
          "model_name": "LayoutModel",
          "model_module_version": "1.2.0",
          "state": {
            "_model_module": "@jupyter-widgets/base",
            "_model_module_version": "1.2.0",
            "_model_name": "LayoutModel",
            "_view_count": null,
            "_view_module": "@jupyter-widgets/base",
            "_view_module_version": "1.2.0",
            "_view_name": "LayoutView",
            "align_content": null,
            "align_items": null,
            "align_self": null,
            "border": null,
            "bottom": null,
            "display": null,
            "flex": null,
            "flex_flow": null,
            "grid_area": null,
            "grid_auto_columns": null,
            "grid_auto_flow": null,
            "grid_auto_rows": null,
            "grid_column": null,
            "grid_gap": null,
            "grid_row": null,
            "grid_template_areas": null,
            "grid_template_columns": null,
            "grid_template_rows": null,
            "height": null,
            "justify_content": null,
            "justify_items": null,
            "left": null,
            "margin": null,
            "max_height": null,
            "max_width": null,
            "min_height": null,
            "min_width": null,
            "object_fit": null,
            "object_position": null,
            "order": null,
            "overflow": null,
            "overflow_x": null,
            "overflow_y": null,
            "padding": null,
            "right": null,
            "top": null,
            "visibility": null,
            "width": null
          }
        },
        "1b4efdeabe8b46778b0fd3b445692956": {
          "model_module": "@jupyter-widgets/controls",
          "model_name": "ProgressStyleModel",
          "model_module_version": "1.5.0",
          "state": {
            "_model_module": "@jupyter-widgets/controls",
            "_model_module_version": "1.5.0",
            "_model_name": "ProgressStyleModel",
            "_view_count": null,
            "_view_module": "@jupyter-widgets/base",
            "_view_module_version": "1.2.0",
            "_view_name": "StyleView",
            "bar_color": null,
            "description_width": ""
          }
        },
        "fb2d04bad9b64e73b492506de6ba49ed": {
          "model_module": "@jupyter-widgets/base",
          "model_name": "LayoutModel",
          "model_module_version": "1.2.0",
          "state": {
            "_model_module": "@jupyter-widgets/base",
            "_model_module_version": "1.2.0",
            "_model_name": "LayoutModel",
            "_view_count": null,
            "_view_module": "@jupyter-widgets/base",
            "_view_module_version": "1.2.0",
            "_view_name": "LayoutView",
            "align_content": null,
            "align_items": null,
            "align_self": null,
            "border": null,
            "bottom": null,
            "display": null,
            "flex": null,
            "flex_flow": null,
            "grid_area": null,
            "grid_auto_columns": null,
            "grid_auto_flow": null,
            "grid_auto_rows": null,
            "grid_column": null,
            "grid_gap": null,
            "grid_row": null,
            "grid_template_areas": null,
            "grid_template_columns": null,
            "grid_template_rows": null,
            "height": null,
            "justify_content": null,
            "justify_items": null,
            "left": null,
            "margin": null,
            "max_height": null,
            "max_width": null,
            "min_height": null,
            "min_width": null,
            "object_fit": null,
            "object_position": null,
            "order": null,
            "overflow": null,
            "overflow_x": null,
            "overflow_y": null,
            "padding": null,
            "right": null,
            "top": null,
            "visibility": null,
            "width": null
          }
        },
        "a4ea701033a841ceb19de3af4a17a11c": {
          "model_module": "@jupyter-widgets/controls",
          "model_name": "DescriptionStyleModel",
          "model_module_version": "1.5.0",
          "state": {
            "_model_module": "@jupyter-widgets/controls",
            "_model_module_version": "1.5.0",
            "_model_name": "DescriptionStyleModel",
            "_view_count": null,
            "_view_module": "@jupyter-widgets/base",
            "_view_module_version": "1.2.0",
            "_view_name": "StyleView",
            "description_width": ""
          }
        },
        "e7eca5d2d5924b45bc3324d97488bbbb": {
          "model_module": "@jupyter-widgets/controls",
          "model_name": "HBoxModel",
          "model_module_version": "1.5.0",
          "state": {
            "_dom_classes": [],
            "_model_module": "@jupyter-widgets/controls",
            "_model_module_version": "1.5.0",
            "_model_name": "HBoxModel",
            "_view_count": null,
            "_view_module": "@jupyter-widgets/controls",
            "_view_module_version": "1.5.0",
            "_view_name": "HBoxView",
            "box_style": "",
            "children": [
              "IPY_MODEL_49a83c2140974a45a5309b695047981d",
              "IPY_MODEL_788184a9482d42cba4186f3faf30bf87",
              "IPY_MODEL_68d9f8a02b20427d8193c21a1aafeb13"
            ],
            "layout": "IPY_MODEL_27c505aea84a41f294cfa0f7bd015f45"
          }
        },
        "49a83c2140974a45a5309b695047981d": {
          "model_module": "@jupyter-widgets/controls",
          "model_name": "HTMLModel",
          "model_module_version": "1.5.0",
          "state": {
            "_dom_classes": [],
            "_model_module": "@jupyter-widgets/controls",
            "_model_module_version": "1.5.0",
            "_model_name": "HTMLModel",
            "_view_count": null,
            "_view_module": "@jupyter-widgets/controls",
            "_view_module_version": "1.5.0",
            "_view_name": "HTMLView",
            "description": "",
            "description_tooltip": null,
            "layout": "IPY_MODEL_52c46f68a94e40bb83d37b08798779ff",
            "placeholder": "​",
            "style": "IPY_MODEL_fce3958569084b15a9c727da61097154",
            "value": "Downloading builder script: "
          }
        },
        "788184a9482d42cba4186f3faf30bf87": {
          "model_module": "@jupyter-widgets/controls",
          "model_name": "FloatProgressModel",
          "model_module_version": "1.5.0",
          "state": {
            "_dom_classes": [],
            "_model_module": "@jupyter-widgets/controls",
            "_model_module_version": "1.5.0",
            "_model_name": "FloatProgressModel",
            "_view_count": null,
            "_view_module": "@jupyter-widgets/controls",
            "_view_module_version": "1.5.0",
            "_view_name": "ProgressView",
            "bar_style": "success",
            "description": "",
            "description_tooltip": null,
            "layout": "IPY_MODEL_5aa3f79be1a6413b84d7497c08342e7a",
            "max": 2160,
            "min": 0,
            "orientation": "horizontal",
            "style": "IPY_MODEL_527b1ac04b9f44b692dfda337b854b0a",
            "value": 2160
          }
        },
        "68d9f8a02b20427d8193c21a1aafeb13": {
          "model_module": "@jupyter-widgets/controls",
          "model_name": "HTMLModel",
          "model_module_version": "1.5.0",
          "state": {
            "_dom_classes": [],
            "_model_module": "@jupyter-widgets/controls",
            "_model_module_version": "1.5.0",
            "_model_name": "HTMLModel",
            "_view_count": null,
            "_view_module": "@jupyter-widgets/controls",
            "_view_module_version": "1.5.0",
            "_view_name": "HTMLView",
            "description": "",
            "description_tooltip": null,
            "layout": "IPY_MODEL_c0e33da287ed46adbc67ea0a11a149d6",
            "placeholder": "​",
            "style": "IPY_MODEL_ff3a1a976b7c487a97ccc682b0cff656",
            "value": " 5.60k/? [00:00&lt;00:00, 113kB/s]"
          }
        },
        "27c505aea84a41f294cfa0f7bd015f45": {
          "model_module": "@jupyter-widgets/base",
          "model_name": "LayoutModel",
          "model_module_version": "1.2.0",
          "state": {
            "_model_module": "@jupyter-widgets/base",
            "_model_module_version": "1.2.0",
            "_model_name": "LayoutModel",
            "_view_count": null,
            "_view_module": "@jupyter-widgets/base",
            "_view_module_version": "1.2.0",
            "_view_name": "LayoutView",
            "align_content": null,
            "align_items": null,
            "align_self": null,
            "border": null,
            "bottom": null,
            "display": null,
            "flex": null,
            "flex_flow": null,
            "grid_area": null,
            "grid_auto_columns": null,
            "grid_auto_flow": null,
            "grid_auto_rows": null,
            "grid_column": null,
            "grid_gap": null,
            "grid_row": null,
            "grid_template_areas": null,
            "grid_template_columns": null,
            "grid_template_rows": null,
            "height": null,
            "justify_content": null,
            "justify_items": null,
            "left": null,
            "margin": null,
            "max_height": null,
            "max_width": null,
            "min_height": null,
            "min_width": null,
            "object_fit": null,
            "object_position": null,
            "order": null,
            "overflow": null,
            "overflow_x": null,
            "overflow_y": null,
            "padding": null,
            "right": null,
            "top": null,
            "visibility": null,
            "width": null
          }
        },
        "52c46f68a94e40bb83d37b08798779ff": {
          "model_module": "@jupyter-widgets/base",
          "model_name": "LayoutModel",
          "model_module_version": "1.2.0",
          "state": {
            "_model_module": "@jupyter-widgets/base",
            "_model_module_version": "1.2.0",
            "_model_name": "LayoutModel",
            "_view_count": null,
            "_view_module": "@jupyter-widgets/base",
            "_view_module_version": "1.2.0",
            "_view_name": "LayoutView",
            "align_content": null,
            "align_items": null,
            "align_self": null,
            "border": null,
            "bottom": null,
            "display": null,
            "flex": null,
            "flex_flow": null,
            "grid_area": null,
            "grid_auto_columns": null,
            "grid_auto_flow": null,
            "grid_auto_rows": null,
            "grid_column": null,
            "grid_gap": null,
            "grid_row": null,
            "grid_template_areas": null,
            "grid_template_columns": null,
            "grid_template_rows": null,
            "height": null,
            "justify_content": null,
            "justify_items": null,
            "left": null,
            "margin": null,
            "max_height": null,
            "max_width": null,
            "min_height": null,
            "min_width": null,
            "object_fit": null,
            "object_position": null,
            "order": null,
            "overflow": null,
            "overflow_x": null,
            "overflow_y": null,
            "padding": null,
            "right": null,
            "top": null,
            "visibility": null,
            "width": null
          }
        },
        "fce3958569084b15a9c727da61097154": {
          "model_module": "@jupyter-widgets/controls",
          "model_name": "DescriptionStyleModel",
          "model_module_version": "1.5.0",
          "state": {
            "_model_module": "@jupyter-widgets/controls",
            "_model_module_version": "1.5.0",
            "_model_name": "DescriptionStyleModel",
            "_view_count": null,
            "_view_module": "@jupyter-widgets/base",
            "_view_module_version": "1.2.0",
            "_view_name": "StyleView",
            "description_width": ""
          }
        },
        "5aa3f79be1a6413b84d7497c08342e7a": {
          "model_module": "@jupyter-widgets/base",
          "model_name": "LayoutModel",
          "model_module_version": "1.2.0",
          "state": {
            "_model_module": "@jupyter-widgets/base",
            "_model_module_version": "1.2.0",
            "_model_name": "LayoutModel",
            "_view_count": null,
            "_view_module": "@jupyter-widgets/base",
            "_view_module_version": "1.2.0",
            "_view_name": "LayoutView",
            "align_content": null,
            "align_items": null,
            "align_self": null,
            "border": null,
            "bottom": null,
            "display": null,
            "flex": null,
            "flex_flow": null,
            "grid_area": null,
            "grid_auto_columns": null,
            "grid_auto_flow": null,
            "grid_auto_rows": null,
            "grid_column": null,
            "grid_gap": null,
            "grid_row": null,
            "grid_template_areas": null,
            "grid_template_columns": null,
            "grid_template_rows": null,
            "height": null,
            "justify_content": null,
            "justify_items": null,
            "left": null,
            "margin": null,
            "max_height": null,
            "max_width": null,
            "min_height": null,
            "min_width": null,
            "object_fit": null,
            "object_position": null,
            "order": null,
            "overflow": null,
            "overflow_x": null,
            "overflow_y": null,
            "padding": null,
            "right": null,
            "top": null,
            "visibility": null,
            "width": null
          }
        },
        "527b1ac04b9f44b692dfda337b854b0a": {
          "model_module": "@jupyter-widgets/controls",
          "model_name": "ProgressStyleModel",
          "model_module_version": "1.5.0",
          "state": {
            "_model_module": "@jupyter-widgets/controls",
            "_model_module_version": "1.5.0",
            "_model_name": "ProgressStyleModel",
            "_view_count": null,
            "_view_module": "@jupyter-widgets/base",
            "_view_module_version": "1.2.0",
            "_view_name": "StyleView",
            "bar_color": null,
            "description_width": ""
          }
        },
        "c0e33da287ed46adbc67ea0a11a149d6": {
          "model_module": "@jupyter-widgets/base",
          "model_name": "LayoutModel",
          "model_module_version": "1.2.0",
          "state": {
            "_model_module": "@jupyter-widgets/base",
            "_model_module_version": "1.2.0",
            "_model_name": "LayoutModel",
            "_view_count": null,
            "_view_module": "@jupyter-widgets/base",
            "_view_module_version": "1.2.0",
            "_view_name": "LayoutView",
            "align_content": null,
            "align_items": null,
            "align_self": null,
            "border": null,
            "bottom": null,
            "display": null,
            "flex": null,
            "flex_flow": null,
            "grid_area": null,
            "grid_auto_columns": null,
            "grid_auto_flow": null,
            "grid_auto_rows": null,
            "grid_column": null,
            "grid_gap": null,
            "grid_row": null,
            "grid_template_areas": null,
            "grid_template_columns": null,
            "grid_template_rows": null,
            "height": null,
            "justify_content": null,
            "justify_items": null,
            "left": null,
            "margin": null,
            "max_height": null,
            "max_width": null,
            "min_height": null,
            "min_width": null,
            "object_fit": null,
            "object_position": null,
            "order": null,
            "overflow": null,
            "overflow_x": null,
            "overflow_y": null,
            "padding": null,
            "right": null,
            "top": null,
            "visibility": null,
            "width": null
          }
        },
        "ff3a1a976b7c487a97ccc682b0cff656": {
          "model_module": "@jupyter-widgets/controls",
          "model_name": "DescriptionStyleModel",
          "model_module_version": "1.5.0",
          "state": {
            "_model_module": "@jupyter-widgets/controls",
            "_model_module_version": "1.5.0",
            "_model_name": "DescriptionStyleModel",
            "_view_count": null,
            "_view_module": "@jupyter-widgets/base",
            "_view_module_version": "1.2.0",
            "_view_name": "StyleView",
            "description_width": ""
          }
        }
      }
    },
    "gpuClass": "standard",
    "accelerator": "GPU"
  },
  "cells": [
    {
      "cell_type": "markdown",
      "source": [
        "#Introduction\n",
        "\n",
        "Hello \n",
        "\n",
        "In this notebook I will be training transformers encoder-decoder model to perform abstractive summarization of short conversations "
      ],
      "metadata": {
        "id": "JuXJqFxn86uM"
      }
    },
    {
      "cell_type": "code",
      "source": [
        "!nvidia-smi"
      ],
      "metadata": {
        "colab": {
          "base_uri": "https://localhost:8080/"
        },
        "id": "G5pfBdKLoOZw",
        "outputId": "89e4dd99-7406-4050-8c70-cf550330ae7c"
      },
      "execution_count": null,
      "outputs": [
        {
          "output_type": "stream",
          "name": "stdout",
          "text": [
            "Wed Nov  2 19:13:34 2022       \n",
            "+-----------------------------------------------------------------------------+\n",
            "| NVIDIA-SMI 460.32.03    Driver Version: 460.32.03    CUDA Version: 11.2     |\n",
            "|-------------------------------+----------------------+----------------------+\n",
            "| GPU  Name        Persistence-M| Bus-Id        Disp.A | Volatile Uncorr. ECC |\n",
            "| Fan  Temp  Perf  Pwr:Usage/Cap|         Memory-Usage | GPU-Util  Compute M. |\n",
            "|                               |                      |               MIG M. |\n",
            "|===============================+======================+======================|\n",
            "|   0  Tesla T4            Off  | 00000000:00:04.0 Off |                    0 |\n",
            "| N/A   36C    P8     9W /  70W |      0MiB / 15109MiB |      0%      Default |\n",
            "|                               |                      |                  N/A |\n",
            "+-------------------------------+----------------------+----------------------+\n",
            "                                                                               \n",
            "+-----------------------------------------------------------------------------+\n",
            "| Processes:                                                                  |\n",
            "|  GPU   GI   CI        PID   Type   Process name                  GPU Memory |\n",
            "|        ID   ID                                                   Usage      |\n",
            "|=============================================================================|\n",
            "|  No running processes found                                                 |\n",
            "+-----------------------------------------------------------------------------+\n"
          ]
        }
      ]
    },
    {
      "cell_type": "code",
      "execution_count": null,
      "metadata": {
        "id": "WUjMsewiUHvl"
      },
      "outputs": [],
      "source": [
        "%%capture\n",
        "!pip install datasets evaluate transformers[sentencepiece]\n",
        "!apt install git-lfs\n",
        "!pip install py7zr\n",
        "!pip install rouge_score\n",
        "!pip install wandb"
      ]
    },
    {
      "cell_type": "code",
      "source": [
        "import pandas as pd\n",
        "import numpy as np\n",
        "import transformers\n",
        "from transformers import AutoTokenizer, AutoModelForSeq2SeqLM, create_optimizer, DataCollatorForSeq2Seq\n",
        "from transformers import pipeline\n",
        "import wandb\n",
        "import datasets\n",
        "from huggingface_hub import notebook_login\n",
        "from datasets import load_dataset, load_metric\n",
        "from tqdm.auto import tqdm\n",
        "import nltk\n",
        "from nltk.tokenize import sent_tokenize\n",
        "from datasets import Dataset\n",
        "from transformers import Seq2SeqTrainingArguments\n",
        "from transformers import Seq2SeqTrainer\n",
        "from huggingface_hub import create_repo"
      ],
      "metadata": {
        "id": "qfTLgB0iUOYr"
      },
      "execution_count": null,
      "outputs": []
    },
    {
      "cell_type": "markdown",
      "source": [
        "I will be using Huggingface hub to store finetuned models and Weights&Biases for experiment tracking "
      ],
      "metadata": {
        "id": "JybYtEilqbcB"
      }
    },
    {
      "cell_type": "code",
      "source": [
        "notebook_login()"
      ],
      "metadata": {
        "id": "FznY4qS1Usoy"
      },
      "execution_count": null,
      "outputs": []
    },
    {
      "cell_type": "code",
      "source": [
        "wandb.login()"
      ],
      "metadata": {
        "id": "uwGNuaGmssHi"
      },
      "execution_count": null,
      "outputs": []
    },
    {
      "cell_type": "code",
      "source": [
        "%env WANDB_PROJECT=samsum_summarization"
      ],
      "metadata": {
        "id": "lFsPC4Hat1Bw"
      },
      "execution_count": null,
      "outputs": []
    },
    {
      "cell_type": "markdown",
      "source": [
        "I will be using SAMSum dataset https://arxiv.org/pdf/1911.12237v2.pdf\n",
        "\n",
        "SAMSum is a dataset composed of messenger-like conversations created and written\n",
        "down by linguists fluent in English and their rather short summaries. "
      ],
      "metadata": {
        "id": "gcWUpMo89oG2"
      }
    },
    {
      "cell_type": "code",
      "source": [
        "dataset = load_dataset('samsum')"
      ],
      "metadata": {
        "id": "iCTYBtBIU4CW"
      },
      "execution_count": null,
      "outputs": []
    },
    {
      "cell_type": "code",
      "source": [
        "dataset"
      ],
      "metadata": {
        "colab": {
          "base_uri": "https://localhost:8080/"
        },
        "id": "xtyQG9-AVQ-J",
        "outputId": "a050ce4d-b2d0-4465-e0b7-9bc42534729b"
      },
      "execution_count": null,
      "outputs": [
        {
          "output_type": "execute_result",
          "data": {
            "text/plain": [
              "DatasetDict({\n",
              "    train: Dataset({\n",
              "        features: ['id', 'dialogue', 'summary'],\n",
              "        num_rows: 14732\n",
              "    })\n",
              "    test: Dataset({\n",
              "        features: ['id', 'dialogue', 'summary'],\n",
              "        num_rows: 819\n",
              "    })\n",
              "    validation: Dataset({\n",
              "        features: ['id', 'dialogue', 'summary'],\n",
              "        num_rows: 818\n",
              "    })\n",
              "})"
            ]
          },
          "metadata": {},
          "execution_count": 5
        }
      ]
    },
    {
      "cell_type": "code",
      "source": [
        "def show_example():\n",
        "  sample = dataset['train'].shuffle().select([np.random.randint(0, len(dataset['train'])+1)])\n",
        "  print('dialogue: \\n')\n",
        "  print(sample['dialogue'][0])\n",
        "  print('-------------'*5)\n",
        "  print('summary: \\n')\n",
        "  print(sample['summary'][0])"
      ],
      "metadata": {
        "id": "nO2VFjgnVh2x"
      },
      "execution_count": null,
      "outputs": []
    },
    {
      "cell_type": "markdown",
      "source": [
        "Here is a function to display random conversation and it's summary"
      ],
      "metadata": {
        "id": "fssXAeEr_yQl"
      }
    },
    {
      "cell_type": "code",
      "source": [
        "show_example()"
      ],
      "metadata": {
        "colab": {
          "base_uri": "https://localhost:8080/"
        },
        "id": "r33RUDPwWTTx",
        "outputId": "235e71e8-7e89-471f-db95-e713fd6b9a92"
      },
      "execution_count": null,
      "outputs": [
        {
          "output_type": "stream",
          "name": "stdout",
          "text": [
            "dialogue: \n",
            "\n",
            "Jerry: Who ate my salad?! Was it you, Eric?\r\n",
            "Patty: Sorry, that was me... :( I'll run to the store right now and get you a new one!! 5 minutes!\r\n",
            "Eric: Why am I always the guilty one?\r\n",
            "Jerry: Sorry, man. I'm just hangry, you know.\n",
            "-----------------------------------------------------------------\n",
            "summary: \n",
            "\n",
            "Patty ate Jerry's salad but will go to the store right now and buy him a new one. \n"
          ]
        }
      ]
    },
    {
      "cell_type": "markdown",
      "source": [
        "Model I decided to use is variation of t5 small which have 16 decoder and encoder layers instead of 6. I chose it as an optimal tradeoff between number of parameters and negative-log perpelxity based on figure 6a in the appendix of this paper https://arxiv.org/pdf/2109.10686.pdf\n",
        "\n"
      ],
      "metadata": {
        "id": "U_doDtX0AGkd"
      }
    },
    {
      "cell_type": "code",
      "source": [
        "model_checkpoint = 'google/t5-efficient-small-nl16'\n",
        "model = AutoModelForSeq2SeqLM.from_pretrained(model_checkpoint)\n",
        "tokenizer = AutoTokenizer.from_pretrained(model_checkpoint)"
      ],
      "metadata": {
        "id": "1g6IgnJSYXA5"
      },
      "execution_count": null,
      "outputs": []
    },
    {
      "cell_type": "code",
      "source": [
        "def get_lengths_dialog(batch):\n",
        "  lenghts = []\n",
        "  inputs = tokenizer(\n",
        "      batch['dialogue']\n",
        "  )\n",
        "  for input_ids in inputs['input_ids']:\n",
        "    lenghts.append(len(input_ids))\n",
        "\n",
        "  return {'lenghts': lenghts}\n",
        "  "
      ],
      "metadata": {
        "id": "yg2pbIticqsh"
      },
      "execution_count": null,
      "outputs": []
    },
    {
      "cell_type": "code",
      "source": [
        "lengths = datasets.map(get_lengths_dialog,\n",
        "                            remove_columns=datasets['train'].column_names,\n",
        "                            batched=True)"
      ],
      "metadata": {
        "id": "SCepFSuvk-B4"
      },
      "execution_count": null,
      "outputs": []
    },
    {
      "cell_type": "code",
      "source": [
        "lengths = pd.Series(lengths['train']['lenghts'])"
      ],
      "metadata": {
        "id": "gM4vwbVbBiqI"
      },
      "execution_count": null,
      "outputs": []
    },
    {
      "cell_type": "code",
      "source": [
        "lengths.describe()"
      ],
      "metadata": {
        "colab": {
          "base_uri": "https://localhost:8080/"
        },
        "id": "bkDmlPHgB4iC",
        "outputId": "7819facc-6b50-49a1-c863-6b32056b9ee0"
      },
      "execution_count": null,
      "outputs": [
        {
          "output_type": "execute_result",
          "data": {
            "text/plain": [
              "count    14732.000000\n",
              "mean       148.979297\n",
              "std        110.734831\n",
              "min          1.000000\n",
              "25%         66.000000\n",
              "50%        120.000000\n",
              "75%        202.000000\n",
              "max       1153.000000\n",
              "dtype: float64"
            ]
          },
          "metadata": {},
          "execution_count": 18
        }
      ]
    },
    {
      "cell_type": "code",
      "source": [
        "lengths.hist()"
      ],
      "metadata": {
        "colab": {
          "base_uri": "https://localhost:8080/",
          "height": 283
        },
        "id": "7F4SSLpZCYCy",
        "outputId": "29cf3490-0dae-43ba-f285-1a9e963df48f"
      },
      "execution_count": null,
      "outputs": [
        {
          "output_type": "execute_result",
          "data": {
            "text/plain": [
              "<matplotlib.axes._subplots.AxesSubplot at 0x7f3cdd5ea9d0>"
            ]
          },
          "metadata": {},
          "execution_count": 19
        },
        {
          "output_type": "display_data",
          "data": {
            "text/plain": [
              "<Figure size 432x288 with 1 Axes>"
            ],
            "image/png": "[encoded data removed]"
          },
          "metadata": {
            "needs_background": "light"
          }
        }
      ]
    },
    {
      "cell_type": "code",
      "source": [
        "len(lengths[lengths > 512])"
      ],
      "metadata": {
        "colab": {
          "base_uri": "https://localhost:8080/"
        },
        "id": "s_um5WP3XYNG",
        "outputId": "99332422-8642-4a76-ffe1-7773165667ca"
      },
      "execution_count": null,
      "outputs": [
        {
          "output_type": "execute_result",
          "data": {
            "text/plain": [
              "164"
            ]
          },
          "metadata": {},
          "execution_count": 20
        }
      ]
    },
    {
      "cell_type": "markdown",
      "source": [
        "As you can see most of conversations are shorter than 200 tokens and only 164 examples exceedes model's maximum input lenght of 512. Examples longer than 512 tokens will be truncated"
      ],
      "metadata": {
        "id": "1CIDfK3SEiky"
      }
    },
    {
      "cell_type": "code",
      "source": [
        "lengths[lengths > 512].hist()"
      ],
      "metadata": {
        "colab": {
          "base_uri": "https://localhost:8080/",
          "height": 283
        },
        "id": "sp492FFLZMRM",
        "outputId": "b9edde22-c1b8-4ff5-e903-10804bb04c60"
      },
      "execution_count": null,
      "outputs": [
        {
          "output_type": "execute_result",
          "data": {
            "text/plain": [
              "<matplotlib.axes._subplots.AxesSubplot at 0x7f3cdcfe0350>"
            ]
          },
          "metadata": {},
          "execution_count": 21
        },
        {
          "output_type": "display_data",
          "data": {
            "text/plain": [
              "<Figure size 432x288 with 1 Axes>"
            ],
            "image/png": "[encoded data removed]"
          },
          "metadata": {
            "needs_background": "light"
          }
        }
      ]
    },
    {
      "cell_type": "code",
      "source": [
        "def get_lengths_summary(batch):\n",
        "  lenghts = []\n",
        "  inputs = tokenizer(\n",
        "      batch['summary']\n",
        "  )\n",
        "  for input_ids in inputs['input_ids']:\n",
        "    lenghts.append(len(input_ids))\n",
        "\n",
        "  return {'lenghts': lenghts}"
      ],
      "metadata": {
        "id": "r7tH7h1cYNw-"
      },
      "execution_count": null,
      "outputs": []
    },
    {
      "cell_type": "code",
      "source": [
        "lengths_summary = datasets.map(get_lengths_summary,\n",
        "                            remove_columns=datasets['train'].column_names,\n",
        "                            batched=True)"
      ],
      "metadata": {
        "colab": {
          "base_uri": "https://localhost:8080/",
          "height": 113,
          "referenced_widgets": [
            "ac79f005d75445df9ef715a9839feaf3",
            "b6c95f8d36a743eb9a0cb9fb906ef9dd",
            "01ae2012951d490b81f13e973ea1800a",
            "296202a1b0ae4e6ea7402d1ececd98c5",
            "fa04be30f27f4551835b3a78e972aaf9",
            "b29cf44c3bb34080af59ff7807569e5c",
            "1897791e9ec24c20bd0c76ed7c24356d",
            "211941db9b49464f901dadbccc7da0d9",
            "398c836c65a947a8bfa849315dc09908",
            "fa18562531ac43808a2dd879befeb430",
            "e45130c237fd4271b83d3d24604a1e58",
            "a0322e27386d446bbe750f9f31db8c26",
            "6075a12c998f4cfeb26add01a10a3dad",
            "9d1b1da15c3848efbbfff26bf0f44634",
            "4e8ecee6652d46b2adecde8b5715806a",
            "ae8f278121934b76b5710441ebec945d",
            "c82ce05c98e1430799556d2690c6ffe3",
            "9ce7216474064786b96dd76da87932e9",
            "509fa466ad704744b8868e276be32c82",
            "e317fea952fd478895ac2a13b700010b",
            "92d3987cab314b519af491bce277220e",
            "be4c89a46a134e8c9caa8a5d5f045099",
            "b36fcb7a44ab4066919e9d60804eb4c7",
            "1f78c6a76b2948e29f79dd021a0eb72d",
            "6069d6167de34b009de99bc8867302af",
            "225aee00f7cb42b78a1d37d401d474ad",
            "1fd2c26cfa484be2bfa3552ec54fff88",
            "eed6b911a7a141f49bd54fb1a5903f9f",
            "bc62cdcda38a4ec5bc663abc198a5f74",
            "ebd8aa9b40c54b96ae9aa46c05dfc04e",
            "3d0dc67a0c994fdfb036a653db49277a",
            "bd70963c0f414ceebf55a8a1fb1b030e",
            "306241729db64c8f9bf0508910818818"
          ]
        },
        "id": "4AWFsHwcYfiF",
        "outputId": "395eef0e-dcbf-480e-8436-370f0efa2e79"
      },
      "execution_count": null,
      "outputs": [
        {
          "output_type": "display_data",
          "data": {
            "text/plain": [
              "  0%|          | 0/15 [00:00<?, ?ba/s]"
            ],
            "application/vnd.jupyter.widget-view+json": {
              "version_major": 2,
              "version_minor": 0,
              "model_id": "ac79f005d75445df9ef715a9839feaf3"
            }
          },
          "metadata": {}
        },
        {
          "output_type": "display_data",
          "data": {
            "text/plain": [
              "  0%|          | 0/1 [00:00<?, ?ba/s]"
            ],
            "application/vnd.jupyter.widget-view+json": {
              "version_major": 2,
              "version_minor": 0,
              "model_id": "a0322e27386d446bbe750f9f31db8c26"
            }
          },
          "metadata": {}
        },
        {
          "output_type": "display_data",
          "data": {
            "text/plain": [
              "  0%|          | 0/1 [00:00<?, ?ba/s]"
            ],
            "application/vnd.jupyter.widget-view+json": {
              "version_major": 2,
              "version_minor": 0,
              "model_id": "b36fcb7a44ab4066919e9d60804eb4c7"
            }
          },
          "metadata": {}
        }
      ]
    },
    {
      "cell_type": "code",
      "source": [
        "lengths_summary = pd.Series(lengths_summary['train']['lenghts'])\n",
        "lengths_summary.describe()"
      ],
      "metadata": {
        "colab": {
          "base_uri": "https://localhost:8080/"
        },
        "id": "4hz7XjsCYl71",
        "outputId": "dabbe703-4478-4770-cf66-b40624e5092c"
      },
      "execution_count": null,
      "outputs": [
        {
          "output_type": "execute_result",
          "data": {
            "text/plain": [
              "count    14732.000000\n",
              "mean        28.877410\n",
              "std         15.129169\n",
              "min          2.000000\n",
              "25%         17.000000\n",
              "50%         26.000000\n",
              "75%         37.000000\n",
              "max         94.000000\n",
              "dtype: float64"
            ]
          },
          "metadata": {},
          "execution_count": 24
        }
      ]
    },
    {
      "cell_type": "code",
      "source": [
        "lengths_summary.hist()"
      ],
      "metadata": {
        "colab": {
          "base_uri": "https://localhost:8080/",
          "height": 283
        },
        "id": "2Jz3gSb9YuAP",
        "outputId": "4e7163ab-2ecb-485a-96cc-6a269088686c"
      },
      "execution_count": null,
      "outputs": [
        {
          "output_type": "execute_result",
          "data": {
            "text/plain": [
              "<matplotlib.axes._subplots.AxesSubplot at 0x7f3cdd417c50>"
            ]
          },
          "metadata": {},
          "execution_count": 25
        },
        {
          "output_type": "display_data",
          "data": {
            "text/plain": [
              "<Figure size 432x288 with 1 Axes>"
            ],
            "image/png": "[encoded data removed]"
          },
          "metadata": {
            "needs_background": "light"
          }
        }
      ]
    },
    {
      "cell_type": "markdown",
      "source": [
        "Longest summary in training split after tokenization have only 94 tokens\n"
      ],
      "metadata": {
        "id": "Rg_-Co0ZFJm5"
      }
    },
    {
      "cell_type": "code",
      "source": [
        "max_input_length = model.config.n_positions\n",
        "max_target_length = 128\n",
        "\n",
        "def preprocess_function(batch):\n",
        "  inputs = ['summarize: ' + doc for doc in batch['dialogue']]\n",
        "  model_inputs = tokenizer(inputs, truncation=True, max_length=max_input_length)\n",
        "\n",
        "  with tokenizer.as_target_tokenizer():\n",
        "    labels = tokenizer(batch['summary'], truncation=True, max_length=max_target_length)\n",
        "\n",
        "  model_inputs['labels'] = labels['input_ids']\n",
        "  return model_inputs"
      ],
      "metadata": {
        "id": "wuw-1FrIYw6t"
      },
      "execution_count": null,
      "outputs": []
    },
    {
      "cell_type": "code",
      "source": [
        "tokenized_datasets = dataset.map(preprocess_function,\n",
        "                                  batched=True,\n",
        "                                  remove_columns=dataset['train'].column_names)"
      ],
      "metadata": {
        "id": "85eS1pBmbV2M"
      },
      "execution_count": null,
      "outputs": []
    },
    {
      "cell_type": "code",
      "source": [
        "tokenized_datasets"
      ],
      "metadata": {
        "colab": {
          "base_uri": "https://localhost:8080/"
        },
        "id": "Ha_oDsUIY7aN",
        "outputId": "a8bfc766-0766-4b79-ac4e-06d6e4d6e9e4"
      },
      "execution_count": null,
      "outputs": [
        {
          "output_type": "execute_result",
          "data": {
            "text/plain": [
              "DatasetDict({\n",
              "    train: Dataset({\n",
              "        features: ['input_ids', 'attention_mask', 'labels'],\n",
              "        num_rows: 14732\n",
              "    })\n",
              "    test: Dataset({\n",
              "        features: ['input_ids', 'attention_mask', 'labels'],\n",
              "        num_rows: 819\n",
              "    })\n",
              "    validation: Dataset({\n",
              "        features: ['input_ids', 'attention_mask', 'labels'],\n",
              "        num_rows: 818\n",
              "    })\n",
              "})"
            ]
          },
          "metadata": {},
          "execution_count": 14
        }
      ]
    },
    {
      "cell_type": "markdown",
      "source": [
        "Data collator will put examples in batches and dynamically pad them to the size of longest example in that batch. Dynamic padding speeds up training as there is no need to perform calculations over so many padding tokens as there would be if all examples were padded to longest exampel in the training dataset. Example is shown below "
      ],
      "metadata": {
        "id": "MO7TQy3xcKAd"
      }
    },
    {
      "cell_type": "code",
      "source": [
        "data_collator = DataCollatorForSeq2Seq(tokenizer, model=model, return_tensors='pt')"
      ],
      "metadata": {
        "id": "wVdVhot1Zz6l"
      },
      "execution_count": null,
      "outputs": []
    },
    {
      "cell_type": "code",
      "source": [
        "print('Input lengths')\n",
        "\n",
        "for input_ids in tokenized_datasets[\"train\"][:4]['input_ids']:\n",
        "  print(len(input_ids))\n",
        "\n",
        "print('Labels lengths')\n",
        "\n",
        "for label in tokenized_datasets[\"train\"][:4]['labels']:\n",
        "  print(len(label))"
      ],
      "metadata": {
        "colab": {
          "base_uri": "https://localhost:8080/"
        },
        "id": "YBWq88wMS_D8",
        "outputId": "ada20562-1222-41ea-928c-938d0657e1cd"
      },
      "execution_count": null,
      "outputs": [
        {
          "output_type": "stream",
          "name": "stdout",
          "text": [
            "Input lengths\n",
            "30\n",
            "29\n",
            "154\n",
            "57\n",
            "Labels lengths\n",
            "11\n",
            "15\n",
            "19\n",
            "26\n"
          ]
        }
      ]
    },
    {
      "cell_type": "code",
      "source": [
        "out = data_collator([tokenized_datasets[\"train\"][i] for i in range(4)])\n",
        "for key in out:\n",
        "    print(f\"{key} shape: {out[key].shape}\")"
      ],
      "metadata": {
        "colab": {
          "base_uri": "https://localhost:8080/"
        },
        "id": "skpXB1cPLjwW",
        "outputId": "c21f0c55-b3c1-4729-8da0-496c879230f4"
      },
      "execution_count": null,
      "outputs": [
        {
          "output_type": "stream",
          "name": "stderr",
          "text": [
            "You're using a T5TokenizerFast tokenizer. Please note that with a fast tokenizer, using the `__call__` method is faster than using a method to encode the text followed by a call to the `pad` method to get a padded encoding.\n"
          ]
        },
        {
          "output_type": "stream",
          "name": "stdout",
          "text": [
            "input_ids shape: torch.Size([4, 154])\n",
            "attention_mask shape: torch.Size([4, 154])\n",
            "labels shape: torch.Size([4, 26])\n",
            "decoder_input_ids shape: torch.Size([4, 26])\n"
          ]
        }
      ]
    },
    {
      "cell_type": "markdown",
      "source": [
        "As you can see examples shorter than 154 got padded with padding token, 0 in case of T5, and length of 3rd example is still 154 as it is the longest example in the batch"
      ],
      "metadata": {
        "id": "gpsBrPBxFTgT"
      }
    },
    {
      "cell_type": "code",
      "source": [
        "out"
      ],
      "metadata": {
        "colab": {
          "base_uri": "https://localhost:8080/"
        },
        "id": "40ATfvJ5OLkH",
        "outputId": "6e0a5f67-44a7-48fc-ffd9-fac066a033dd"
      },
      "execution_count": null,
      "outputs": [
        {
          "output_type": "execute_result",
          "data": {
            "text/plain": [
              "{'input_ids': tensor([[21603,    10, 21542,    10,    27, 13635,  5081,     5,   531,    25,\n",
              "           241,   128,    58, 16637,    10, 10625,    55, 21542,    10,    27,\n",
              "            31,   195,   830,    25,  5721,     3,    10,    18,    61,     1,\n",
              "             0,     0,     0,     0,     0,     0,     0,     0,     0,     0,\n",
              "             0,     0,     0,     0,     0,     0,     0,     0,     0,     0,\n",
              "             0,     0,     0,     0,     0,     0,     0,     0,     0,     0,\n",
              "             0,     0,     0,     0,     0,     0,     0,     0,     0,     0,\n",
              "             0,     0,     0,     0,     0,     0,     0,     0,     0,     0,\n",
              "             0,     0,     0,     0,     0,     0,     0,     0,     0,     0,\n",
              "             0,     0,     0,     0,     0,     0,     0,     0,     0,     0,\n",
              "             0,     0,     0,     0,     0,     0,     0,     0,     0,     0,\n",
              "             0,     0,     0,     0,     0,     0,     0,     0,     0,     0,\n",
              "             0,     0,     0,     0,     0,     0,     0,     0,     0,     0,\n",
              "             0,     0,     0,     0,     0,     0,     0,     0,     0,     0,\n",
              "             0,     0,     0,     0,     0,     0,     0,     0,     0,     0,\n",
              "             0,     0,     0,     0],\n",
              "        [21603,    10, 25051,    10,  2645,    33,    25, 10601,    21,    16,\n",
              "            48,  4356,    58, 15865,    10, 18587,     7,    38,   373,     5,\n",
              "         25051,    10,  1212,   396,  1603, 15865,    10,  1651,     1,     0,\n",
              "             0,     0,     0,     0,     0,     0,     0,     0,     0,     0,\n",
              "             0,     0,     0,     0,     0,     0,     0,     0,     0,     0,\n",
              "             0,     0,     0,     0,     0,     0,     0,     0,     0,     0,\n",
              "             0,     0,     0,     0,     0,     0,     0,     0,     0,     0,\n",
              "             0,     0,     0,     0,     0,     0,     0,     0,     0,     0,\n",
              "             0,     0,     0,     0,     0,     0,     0,     0,     0,     0,\n",
              "             0,     0,     0,     0,     0,     0,     0,     0,     0,     0,\n",
              "             0,     0,     0,     0,     0,     0,     0,     0,     0,     0,\n",
              "             0,     0,     0,     0,     0,     0,     0,     0,     0,     0,\n",
              "             0,     0,     0,     0,     0,     0,     0,     0,     0,     0,\n",
              "             0,     0,     0,     0,     0,     0,     0,     0,     0,     0,\n",
              "             0,     0,     0,     0,     0,     0,     0,     0,     0,     0,\n",
              "             0,     0,     0,     0],\n",
              "        [21603,    10,  4485,    10,  2018,     6,   125,    31,     7,    95,\n",
              "            58,  6777,    10,  3862,  6526,     3,    17,   115,   107,     6,\n",
              "            27,    47,   352,    12,   103,  1995,    13,  2005,    68,  3492,\n",
              "            95,   813,  2935,     7,    17,    77,  1014,  4485,    10,   363,\n",
              "           410,    25,   515,    30,   692,    58,  6777,    10,  3359,    25,\n",
              "           214,     6,    73,    23,  2005,    11,    73,    89,  4636,    53,\n",
              "            82,   562,  6777,    10,  3836,  5721,    27,    31,   195,   888,\n",
              "            82,    38,     7,    11,   103,   762,  6777,    10,   101,   130,\n",
              "           352,    12,    20,  6155,     7,    17,     3,     9, 11416,    78,\n",
              "          1446,    13,  2309,    27,    31,   195,     3,  1544,   128,    20,\n",
              "          6155,  6265, 17984,  4485,    10,   242,   692,  2005,    27,  1568,\n",
              "          1908,    51,  7512,    32,  3317,   213,     3,    76,   169,  9797,\n",
              "            21,   692, 15030,     7,  4485,    10,    94,   310,  1691,  6777,\n",
              "            10,  2049,     6,  2087,    27,    31,   195,   103,    24,  4485,\n",
              "            10,    27,    92,   114,   338,   442,    18,  7085,    16,     3,\n",
              "          1258,  3478,   869,     1],\n",
              "        [21603,    10,  8200,    10, 15868,     6,    27,   317,    27,    31,\n",
              "            51,    16,     3,    32,   162,    28,  5377,     9,     5,     5,\n",
              "             3,    52,     9,  8738,    10,  1008,    17,   497,   959,  1307,\n",
              "             5,     5,  8200,    10,   363,   103,    25,  1243,  8546,     3,\n",
              "            52,     9,  8738,    10,  2384,    39,  7683, 19844,    53,  1365,\n",
              "             5,     5,    27,    31,    51,  1067,     1,     0,     0,     0,\n",
              "             0,     0,     0,     0,     0,     0,     0,     0,     0,     0,\n",
              "             0,     0,     0,     0,     0,     0,     0,     0,     0,     0,\n",
              "             0,     0,     0,     0,     0,     0,     0,     0,     0,     0,\n",
              "             0,     0,     0,     0,     0,     0,     0,     0,     0,     0,\n",
              "             0,     0,     0,     0,     0,     0,     0,     0,     0,     0,\n",
              "             0,     0,     0,     0,     0,     0,     0,     0,     0,     0,\n",
              "             0,     0,     0,     0,     0,     0,     0,     0,     0,     0,\n",
              "             0,     0,     0,     0,     0,     0,     0,     0,     0,     0,\n",
              "             0,     0,     0,     0,     0,     0,     0,     0,     0,     0,\n",
              "             0,     0,     0,     0]]), 'attention_mask': tensor([[1, 1, 1, 1, 1, 1, 1, 1, 1, 1, 1, 1, 1, 1, 1, 1, 1, 1, 1, 1, 1, 1, 1, 1,\n",
              "         1, 1, 1, 1, 1, 1, 0, 0, 0, 0, 0, 0, 0, 0, 0, 0, 0, 0, 0, 0, 0, 0, 0, 0,\n",
              "         0, 0, 0, 0, 0, 0, 0, 0, 0, 0, 0, 0, 0, 0, 0, 0, 0, 0, 0, 0, 0, 0, 0, 0,\n",
              "         0, 0, 0, 0, 0, 0, 0, 0, 0, 0, 0, 0, 0, 0, 0, 0, 0, 0, 0, 0, 0, 0, 0, 0,\n",
              "         0, 0, 0, 0, 0, 0, 0, 0, 0, 0, 0, 0, 0, 0, 0, 0, 0, 0, 0, 0, 0, 0, 0, 0,\n",
              "         0, 0, 0, 0, 0, 0, 0, 0, 0, 0, 0, 0, 0, 0, 0, 0, 0, 0, 0, 0, 0, 0, 0, 0,\n",
              "         0, 0, 0, 0, 0, 0, 0, 0, 0, 0],\n",
              "        [1, 1, 1, 1, 1, 1, 1, 1, 1, 1, 1, 1, 1, 1, 1, 1, 1, 1, 1, 1, 1, 1, 1, 1,\n",
              "         1, 1, 1, 1, 1, 0, 0, 0, 0, 0, 0, 0, 0, 0, 0, 0, 0, 0, 0, 0, 0, 0, 0, 0,\n",
              "         0, 0, 0, 0, 0, 0, 0, 0, 0, 0, 0, 0, 0, 0, 0, 0, 0, 0, 0, 0, 0, 0, 0, 0,\n",
              "         0, 0, 0, 0, 0, 0, 0, 0, 0, 0, 0, 0, 0, 0, 0, 0, 0, 0, 0, 0, 0, 0, 0, 0,\n",
              "         0, 0, 0, 0, 0, 0, 0, 0, 0, 0, 0, 0, 0, 0, 0, 0, 0, 0, 0, 0, 0, 0, 0, 0,\n",
              "         0, 0, 0, 0, 0, 0, 0, 0, 0, 0, 0, 0, 0, 0, 0, 0, 0, 0, 0, 0, 0, 0, 0, 0,\n",
              "         0, 0, 0, 0, 0, 0, 0, 0, 0, 0],\n",
              "        [1, 1, 1, 1, 1, 1, 1, 1, 1, 1, 1, 1, 1, 1, 1, 1, 1, 1, 1, 1, 1, 1, 1, 1,\n",
              "         1, 1, 1, 1, 1, 1, 1, 1, 1, 1, 1, 1, 1, 1, 1, 1, 1, 1, 1, 1, 1, 1, 1, 1,\n",
              "         1, 1, 1, 1, 1, 1, 1, 1, 1, 1, 1, 1, 1, 1, 1, 1, 1, 1, 1, 1, 1, 1, 1, 1,\n",
              "         1, 1, 1, 1, 1, 1, 1, 1, 1, 1, 1, 1, 1, 1, 1, 1, 1, 1, 1, 1, 1, 1, 1, 1,\n",
              "         1, 1, 1, 1, 1, 1, 1, 1, 1, 1, 1, 1, 1, 1, 1, 1, 1, 1, 1, 1, 1, 1, 1, 1,\n",
              "         1, 1, 1, 1, 1, 1, 1, 1, 1, 1, 1, 1, 1, 1, 1, 1, 1, 1, 1, 1, 1, 1, 1, 1,\n",
              "         1, 1, 1, 1, 1, 1, 1, 1, 1, 1],\n",
              "        [1, 1, 1, 1, 1, 1, 1, 1, 1, 1, 1, 1, 1, 1, 1, 1, 1, 1, 1, 1, 1, 1, 1, 1,\n",
              "         1, 1, 1, 1, 1, 1, 1, 1, 1, 1, 1, 1, 1, 1, 1, 1, 1, 1, 1, 1, 1, 1, 1, 1,\n",
              "         1, 1, 1, 1, 1, 1, 1, 1, 1, 0, 0, 0, 0, 0, 0, 0, 0, 0, 0, 0, 0, 0, 0, 0,\n",
              "         0, 0, 0, 0, 0, 0, 0, 0, 0, 0, 0, 0, 0, 0, 0, 0, 0, 0, 0, 0, 0, 0, 0, 0,\n",
              "         0, 0, 0, 0, 0, 0, 0, 0, 0, 0, 0, 0, 0, 0, 0, 0, 0, 0, 0, 0, 0, 0, 0, 0,\n",
              "         0, 0, 0, 0, 0, 0, 0, 0, 0, 0, 0, 0, 0, 0, 0, 0, 0, 0, 0, 0, 0, 0, 0, 0,\n",
              "         0, 0, 0, 0, 0, 0, 0, 0, 0, 0]]), 'labels': tensor([[21542, 13635,  5081,    11,    56,   830, 16637,   128,  5721,     5,\n",
              "             1,  -100,  -100,  -100,  -100,  -100,  -100,  -100,  -100,  -100,\n",
              "          -100,  -100,  -100,  -100,  -100,  -100],\n",
              "        [25051,    11, 20373,  5144,    33, 10601,    21, 10215,     7,    16,\n",
              "            48,  4356,     5,     3,     1,  -100,  -100,  -100,  -100,  -100,\n",
              "          -100,  -100,  -100,  -100,  -100,  -100],\n",
              "        [ 6777,   164,   653,     8,     3, 17043,  7512,    32,  3317,  3024,\n",
              "            57,  4485,    12,   129,    72,  2005,   612,     5,     1,  -100,\n",
              "          -100,  -100,  -100,  -100,  -100,  -100],\n",
              "        [ 8200,   317,     7,     3,    88,    19,    16,   333,    28,  5377,\n",
              "             9,     5, 15868,  2746,  8200,    12,   539,   112,  1365,     5,\n",
              "         15868,    19,  1067,     5,     3,     1]]), 'decoder_input_ids': tensor([[    0, 21542, 13635,  5081,    11,    56,   830, 16637,   128,  5721,\n",
              "             5,     1,     0,     0,     0,     0,     0,     0,     0,     0,\n",
              "             0,     0,     0,     0,     0,     0],\n",
              "        [    0, 25051,    11, 20373,  5144,    33, 10601,    21, 10215,     7,\n",
              "            16,    48,  4356,     5,     3,     1,     0,     0,     0,     0,\n",
              "             0,     0,     0,     0,     0,     0],\n",
              "        [    0,  6777,   164,   653,     8,     3, 17043,  7512,    32,  3317,\n",
              "          3024,    57,  4485,    12,   129,    72,  2005,   612,     5,     1,\n",
              "             0,     0,     0,     0,     0,     0],\n",
              "        [    0,  8200,   317,     7,     3,    88,    19,    16,   333,    28,\n",
              "          5377,     9,     5, 15868,  2746,  8200,    12,   539,   112,  1365,\n",
              "             5, 15868,    19,  1067,     5,     3]])}"
            ]
          },
          "metadata": {},
          "execution_count": 18
        }
      ]
    },
    {
      "cell_type": "code",
      "source": [
        "nltk.download('punkt')"
      ],
      "metadata": {
        "colab": {
          "base_uri": "https://localhost:8080/"
        },
        "id": "WkkSu0M6sgTK",
        "outputId": "39d0a9c2-f372-4d37-e929-34120d6d3fd0"
      },
      "execution_count": null,
      "outputs": [
        {
          "output_type": "stream",
          "name": "stderr",
          "text": [
            "[nltk_data] Downloading package punkt to /root/nltk_data...\n",
            "[nltk_data]   Unzipping tokenizers/punkt.zip.\n"
          ]
        },
        {
          "output_type": "execute_result",
          "data": {
            "text/plain": [
              "True"
            ]
          },
          "metadata": {},
          "execution_count": 10
        }
      ]
    },
    {
      "cell_type": "code",
      "source": [
        "rouge = datasets.load_metric('rouge')"
      ],
      "metadata": {
        "id": "Ew7GjMoQxXif",
        "colab": {
          "base_uri": "https://localhost:8080/",
          "height": 106,
          "referenced_widgets": [
            "e7eca5d2d5924b45bc3324d97488bbbb",
            "49a83c2140974a45a5309b695047981d",
            "788184a9482d42cba4186f3faf30bf87",
            "68d9f8a02b20427d8193c21a1aafeb13",
            "27c505aea84a41f294cfa0f7bd015f45",
            "52c46f68a94e40bb83d37b08798779ff",
            "fce3958569084b15a9c727da61097154",
            "5aa3f79be1a6413b84d7497c08342e7a",
            "527b1ac04b9f44b692dfda337b854b0a",
            "c0e33da287ed46adbc67ea0a11a149d6",
            "ff3a1a976b7c487a97ccc682b0cff656"
          ]
        },
        "outputId": "463895d1-3f09-41ba-ef75-8f8c342470f2"
      },
      "execution_count": null,
      "outputs": [
        {
          "output_type": "stream",
          "name": "stderr",
          "text": [
            "/usr/local/lib/python3.7/dist-packages/ipykernel_launcher.py:1: FutureWarning: load_metric is deprecated and will be removed in the next major version of datasets. Use 'evaluate.load' instead, from the new library 🤗 Evaluate: https://huggingface.co/docs/evaluate\n",
            "  \"\"\"Entry point for launching an IPython kernel.\n"
          ]
        },
        {
          "output_type": "display_data",
          "data": {
            "text/plain": [
              "Downloading builder script:   0%|          | 0.00/2.16k [00:00<?, ?B/s]"
            ],
            "application/vnd.jupyter.widget-view+json": {
              "version_major": 2,
              "version_minor": 0,
              "model_id": "e7eca5d2d5924b45bc3324d97488bbbb"
            }
          },
          "metadata": {}
        }
      ]
    },
    {
      "cell_type": "markdown",
      "source": [
        "#Experiment 1 hyperparameter explanation:\n",
        "Learning rate 5e-4: I chose value of 5e-4 because it worked well in my previous projects with models of similar size\n",
        "\n",
        "Batch size 32, gradient accumulation steps 4: Batch size of 32 with 4 steps of gradient accumulation will simulate batch size of 128. I'm not using batch size 128 directly because it might have caused memory issues\n",
        "\n",
        "Optimizer AdamW with default betas 0.9, 0.999: it's not specified in args because it is a default option for Trainer\n",
        "\n",
        "Warmup ratio 5%: I chose 5% because it's a value I frequently saw in various research papers\n",
        "\n",
        "Learning rate decay linear: Linear lr decay is a common choice I saw in many papers. Learning rate will decay to 0\n",
        "\n",
        "Number of Epochs 10: 10 will probably be too much and model will overfit but in first experiment I decided to make this number high to see where I stand\n",
        "\n",
        "Predict with generate True and generation num beans 5: Predictions used for calculating matrics will be generated using beam search with beam size of 5 instead of greedy decoding "
      ],
      "metadata": {
        "id": "emis3aOPsIRS"
      }
    },
    {
      "cell_type": "code",
      "source": [
        "batch_size = 32\n",
        "num_train_epochs = 10\n",
        "logging_steps = 100\n",
        "model_name = model_checkpoint.split(\"/\")[-1]\n",
        "\n",
        "args = Seq2SeqTrainingArguments(\n",
        "    output_dir=f\"{model_name}-finetuned-samsum\",\n",
        "    evaluation_strategy=\"epoch\",\n",
        "    learning_rate=5e-4,\n",
        "    per_device_train_batch_size=batch_size,\n",
        "    per_device_eval_batch_size=batch_size,\n",
        "    weight_decay=0.01,\n",
        "    lr_scheduler_type='linear',\n",
        "    num_train_epochs=num_train_epochs,\n",
        "    predict_with_generate=True,\n",
        "    logging_steps=logging_steps,\n",
        "    report_to=\"wandb\",\n",
        "    run_name='exp_1',\n",
        "    logging_strategy='steps',\n",
        "    save_strategy='epoch',\n",
        "    logging_first_step=True,\n",
        "    generation_num_beams=5,\n",
        "    warmup_ratio=0.05,\n",
        "    gradient_accumulation_steps=4\n",
        "\n",
        ")"
      ],
      "metadata": {
        "id": "27GX-T1zisoF"
      },
      "execution_count": null,
      "outputs": []
    },
    {
      "cell_type": "markdown",
      "source": [
        "For evaluation I will be using rouge scores"
      ],
      "metadata": {
        "id": "prhYhnc9zNEy"
      }
    },
    {
      "cell_type": "code",
      "source": [
        "def compute_metrics(eval_pred):\n",
        "    predictions, labels = eval_pred\n",
        "    # Decode generated summaries into text\n",
        "    decoded_preds = tokenizer.batch_decode(predictions, skip_special_tokens=True)\n",
        "    # Replace -100 in the labels as we can't decode them\n",
        "    labels = np.where(labels != -100, labels, tokenizer.pad_token_id)\n",
        "    # Decode reference summaries into text\n",
        "    decoded_labels = tokenizer.batch_decode(labels, skip_special_tokens=True)\n",
        "    # ROUGE expects a newline after each sentence\n",
        "    decoded_preds = [\"\\n\".join(sent_tokenize(pred.strip())) for pred in decoded_preds]\n",
        "    decoded_labels = [\"\\n\".join(sent_tokenize(label.strip())) for label in decoded_labels]\n",
        "    # Compute ROUGE scores\n",
        "    result = rouge.compute(\n",
        "        predictions=decoded_preds, references=decoded_labels, use_stemmer=True\n",
        "    )\n",
        "    # Extract the median scores\n",
        "    result = {key: value.mid.fmeasure * 100 for key, value in result.items()}\n",
        "    return {k: round(v, 4) for k, v in result.items()}"
      ],
      "metadata": {
        "id": "XeS7keYgsHSD"
      },
      "execution_count": null,
      "outputs": []
    },
    {
      "cell_type": "code",
      "source": [
        "trainer = Seq2SeqTrainer(\n",
        "    model,\n",
        "    args,\n",
        "    train_dataset=tokenized_datasets[\"train\"],\n",
        "    eval_dataset=tokenized_datasets[\"validation\"],\n",
        "    data_collator=data_collator,\n",
        "    tokenizer=tokenizer,\n",
        "    compute_metrics=compute_metrics,\n",
        ")"
      ],
      "metadata": {
        "id": "TuaOWtkhsHVU"
      },
      "execution_count": null,
      "outputs": []
    },
    {
      "cell_type": "markdown",
      "source": [
        "#Experiment 1 results\n",
        "As can be seen on plots below all 4 rouge metrics continued to improve throughout the training process. My guess that 10 epochs of training will lead to overfitting was incorrect, if I were to train this model for more epochs metrics might still improve. \n",
        "\n",
        "I'm going to upload the best checkpoint to huggingface hub and start another training run\n"
      ],
      "metadata": {
        "id": "BQyC9_iDhlP1"
      }
    },
    {
      "cell_type": "markdown",
      "source": [
        "![exp1.PNG](data:image/png;base64,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)"
      ],
      "metadata": {
        "id": "0TZtNxK2hhIV"
      }
    },
    {
      "cell_type": "code",
      "source": [
        "trainer.train()"
      ],
      "metadata": {
        "colab": {
          "base_uri": "https://localhost:8080/",
          "height": 1000
        },
        "id": "W_otoJmYsHXy",
        "outputId": "fce2ac5f-b5d1-4ac7-f53f-9b820262d2c8"
      },
      "execution_count": null,
      "outputs": [
        {
          "output_type": "stream",
          "name": "stderr",
          "text": [
            "/usr/local/lib/python3.7/dist-packages/transformers/optimization.py:310: FutureWarning: This implementation of AdamW is deprecated and will be removed in a future version. Use the PyTorch implementation torch.optim.AdamW instead, or set `no_deprecation_warning=True` to disable this warning\n",
            "  FutureWarning,\n",
            "***** Running training *****\n",
            "  Num examples = 14732\n",
            "  Num Epochs = 10\n",
            "  Instantaneous batch size per device = 32\n",
            "  Total train batch size (w. parallel, distributed & accumulation) = 128\n",
            "  Gradient Accumulation steps = 4\n",
            "  Total optimization steps = 1150\n",
            "Automatic Weights & Biases logging enabled, to disable set os.environ[\"WANDB_DISABLED\"] = \"true\"\n"
          ]
        },
        {
          "output_type": "display_data",
          "data": {
            "text/plain": [
              "<IPython.core.display.HTML object>"
            ],
            "text/html": [
              "Changes to your `wandb` environment variables will be ignored because your `wandb` session has already started. For more information on how to modify your settings with `wandb.init()` arguments, please refer to <a href=\"https://wandb.me/wandb-init\" target=\"_blank\">the W&B docs</a>."
            ]
          },
          "metadata": {}
        },
        {
          "output_type": "display_data",
          "data": {
            "text/plain": [
              "<IPython.core.display.HTML object>"
            ],
            "text/html": [
              "Tracking run with wandb version 0.13.4"
            ]
          },
          "metadata": {}
        },
        {
          "output_type": "display_data",
          "data": {
            "text/plain": [
              "<IPython.core.display.HTML object>"
            ],
            "text/html": [
              "Run data is saved locally in <code>/content/wandb/run-20221030_161020-f95irw6m</code>"
            ]
          },
          "metadata": {}
        },
        {
          "output_type": "display_data",
          "data": {
            "text/plain": [
              "<IPython.core.display.HTML object>"
            ],
            "text/html": [
              "Syncing run <strong><a href=\"https://wandb.ai/gozdi/samsum_summarization/runs/f95irw6m\" target=\"_blank\">exp_1</a></strong> to <a href=\"https://wandb.ai/gozdi/samsum_summarization\" target=\"_blank\">Weights & Biases</a> (<a href=\"https://wandb.me/run\" target=\"_blank\">docs</a>)<br/>"
            ]
          },
          "metadata": {}
        },
        {
          "output_type": "display_data",
          "data": {
            "text/plain": [
              "<IPython.core.display.HTML object>"
            ],
            "text/html": [
              "\n",
              "    <div>\n",
              "      \n",
              "      <progress value='1150' max='1150' style='width:300px; height:20px; vertical-align: middle;'></progress>\n",
              "      [1150/1150 52:56, Epoch 9/10]\n",
              "    </div>\n",
              "    <table border=\"1\" class=\"dataframe\">\n",
              "  <thead>\n",
              " <tr style=\"text-align: left;\">\n",
              "      <th>Epoch</th>\n",
              "      <th>Training Loss</th>\n",
              "      <th>Validation Loss</th>\n",
              "      <th>Rouge1</th>\n",
              "      <th>Rouge2</th>\n",
              "      <th>Rougel</th>\n",
              "      <th>Rougelsum</th>\n",
              "    </tr>\n",
              "  </thead>\n",
              "  <tbody>\n",
              "    <tr>\n",
              "      <td>0</td>\n",
              "      <td>3.068700</td>\n",
              "      <td>1.815513</td>\n",
              "      <td>43.997800</td>\n",
              "      <td>21.410100</td>\n",
              "      <td>37.085600</td>\n",
              "      <td>40.588800</td>\n",
              "    </tr>\n",
              "    <tr>\n",
              "      <td>1</td>\n",
              "      <td>2.024200</td>\n",
              "      <td>1.676723</td>\n",
              "      <td>45.375900</td>\n",
              "      <td>23.406700</td>\n",
              "      <td>38.595400</td>\n",
              "      <td>42.083500</td>\n",
              "    </tr>\n",
              "    <tr>\n",
              "      <td>2</td>\n",
              "      <td>1.842400</td>\n",
              "      <td>1.652906</td>\n",
              "      <td>45.655000</td>\n",
              "      <td>22.956800</td>\n",
              "      <td>38.726900</td>\n",
              "      <td>42.357100</td>\n",
              "    </tr>\n",
              "    <tr>\n",
              "      <td>3</td>\n",
              "      <td>1.734300</td>\n",
              "      <td>1.616042</td>\n",
              "      <td>46.934500</td>\n",
              "      <td>24.496900</td>\n",
              "      <td>40.003700</td>\n",
              "      <td>43.366700</td>\n",
              "    </tr>\n",
              "    <tr>\n",
              "      <td>4</td>\n",
              "      <td>1.659100</td>\n",
              "      <td>1.608319</td>\n",
              "      <td>47.269800</td>\n",
              "      <td>24.662400</td>\n",
              "      <td>40.298200</td>\n",
              "      <td>43.971600</td>\n",
              "    </tr>\n",
              "    <tr>\n",
              "      <td>5</td>\n",
              "      <td>1.582300</td>\n",
              "      <td>1.611440</td>\n",
              "      <td>47.967900</td>\n",
              "      <td>25.175700</td>\n",
              "      <td>40.770700</td>\n",
              "      <td>44.450100</td>\n",
              "    </tr>\n",
              "    <tr>\n",
              "      <td>6</td>\n",
              "      <td>1.480000</td>\n",
              "      <td>1.606204</td>\n",
              "      <td>47.865200</td>\n",
              "      <td>25.173000</td>\n",
              "      <td>40.747600</td>\n",
              "      <td>44.400400</td>\n",
              "    </tr>\n",
              "    <tr>\n",
              "      <td>7</td>\n",
              "      <td>1.440300</td>\n",
              "      <td>1.609283</td>\n",
              "      <td>47.939700</td>\n",
              "      <td>25.218700</td>\n",
              "      <td>40.922800</td>\n",
              "      <td>44.413500</td>\n",
              "    </tr>\n",
              "    <tr>\n",
              "      <td>8</td>\n",
              "      <td>1.411300</td>\n",
              "      <td>1.611382</td>\n",
              "      <td>48.064400</td>\n",
              "      <td>25.378300</td>\n",
              "      <td>40.938700</td>\n",
              "      <td>44.441300</td>\n",
              "    </tr>\n",
              "    <tr>\n",
              "      <td>9</td>\n",
              "      <td>1.386400</td>\n",
              "      <td>1.614237</td>\n",
              "      <td>48.101100</td>\n",
              "      <td>25.613000</td>\n",
              "      <td>41.228500</td>\n",
              "      <td>44.655900</td>\n",
              "    </tr>\n",
              "  </tbody>\n",
              "</table><p>"
            ]
          },
          "metadata": {}
        },
        {
          "output_type": "stream",
          "name": "stderr",
          "text": [
            "***** Running Evaluation *****\n",
            "  Num examples = 818\n",
            "  Batch size = 32\n",
            "Saving model checkpoint to t5-efficient-small-nl16-finetuned-samsum/checkpoint-115\n",
            "Configuration saved in t5-efficient-small-nl16-finetuned-samsum/checkpoint-115/config.json\n",
            "Model weights saved in t5-efficient-small-nl16-finetuned-samsum/checkpoint-115/pytorch_model.bin\n",
            "tokenizer config file saved in t5-efficient-small-nl16-finetuned-samsum/checkpoint-115/tokenizer_config.json\n",
            "Special tokens file saved in t5-efficient-small-nl16-finetuned-samsum/checkpoint-115/special_tokens_map.json\n",
            "Copy vocab file to t5-efficient-small-nl16-finetuned-samsum/checkpoint-115/spiece.model\n",
            "***** Running Evaluation *****\n",
            "  Num examples = 818\n",
            "  Batch size = 32\n",
            "Saving model checkpoint to t5-efficient-small-nl16-finetuned-samsum/checkpoint-230\n",
            "Configuration saved in t5-efficient-small-nl16-finetuned-samsum/checkpoint-230/config.json\n",
            "Model weights saved in t5-efficient-small-nl16-finetuned-samsum/checkpoint-230/pytorch_model.bin\n",
            "tokenizer config file saved in t5-efficient-small-nl16-finetuned-samsum/checkpoint-230/tokenizer_config.json\n",
            "Special tokens file saved in t5-efficient-small-nl16-finetuned-samsum/checkpoint-230/special_tokens_map.json\n",
            "Copy vocab file to t5-efficient-small-nl16-finetuned-samsum/checkpoint-230/spiece.model\n",
            "***** Running Evaluation *****\n",
            "  Num examples = 818\n",
            "  Batch size = 32\n",
            "Saving model checkpoint to t5-efficient-small-nl16-finetuned-samsum/checkpoint-345\n",
            "Configuration saved in t5-efficient-small-nl16-finetuned-samsum/checkpoint-345/config.json\n",
            "Model weights saved in t5-efficient-small-nl16-finetuned-samsum/checkpoint-345/pytorch_model.bin\n",
            "tokenizer config file saved in t5-efficient-small-nl16-finetuned-samsum/checkpoint-345/tokenizer_config.json\n",
            "Special tokens file saved in t5-efficient-small-nl16-finetuned-samsum/checkpoint-345/special_tokens_map.json\n",
            "Copy vocab file to t5-efficient-small-nl16-finetuned-samsum/checkpoint-345/spiece.model\n",
            "***** Running Evaluation *****\n",
            "  Num examples = 818\n",
            "  Batch size = 32\n",
            "Saving model checkpoint to t5-efficient-small-nl16-finetuned-samsum/checkpoint-460\n",
            "Configuration saved in t5-efficient-small-nl16-finetuned-samsum/checkpoint-460/config.json\n",
            "Model weights saved in t5-efficient-small-nl16-finetuned-samsum/checkpoint-460/pytorch_model.bin\n",
            "tokenizer config file saved in t5-efficient-small-nl16-finetuned-samsum/checkpoint-460/tokenizer_config.json\n",
            "Special tokens file saved in t5-efficient-small-nl16-finetuned-samsum/checkpoint-460/special_tokens_map.json\n",
            "Copy vocab file to t5-efficient-small-nl16-finetuned-samsum/checkpoint-460/spiece.model\n",
            "***** Running Evaluation *****\n",
            "  Num examples = 818\n",
            "  Batch size = 32\n",
            "Saving model checkpoint to t5-efficient-small-nl16-finetuned-samsum/checkpoint-575\n",
            "Configuration saved in t5-efficient-small-nl16-finetuned-samsum/checkpoint-575/config.json\n",
            "Model weights saved in t5-efficient-small-nl16-finetuned-samsum/checkpoint-575/pytorch_model.bin\n",
            "tokenizer config file saved in t5-efficient-small-nl16-finetuned-samsum/checkpoint-575/tokenizer_config.json\n",
            "Special tokens file saved in t5-efficient-small-nl16-finetuned-samsum/checkpoint-575/special_tokens_map.json\n",
            "Copy vocab file to t5-efficient-small-nl16-finetuned-samsum/checkpoint-575/spiece.model\n",
            "***** Running Evaluation *****\n",
            "  Num examples = 818\n",
            "  Batch size = 32\n",
            "Saving model checkpoint to t5-efficient-small-nl16-finetuned-samsum/checkpoint-690\n",
            "Configuration saved in t5-efficient-small-nl16-finetuned-samsum/checkpoint-690/config.json\n",
            "Model weights saved in t5-efficient-small-nl16-finetuned-samsum/checkpoint-690/pytorch_model.bin\n",
            "tokenizer config file saved in t5-efficient-small-nl16-finetuned-samsum/checkpoint-690/tokenizer_config.json\n",
            "Special tokens file saved in t5-efficient-small-nl16-finetuned-samsum/checkpoint-690/special_tokens_map.json\n",
            "Copy vocab file to t5-efficient-small-nl16-finetuned-samsum/checkpoint-690/spiece.model\n",
            "***** Running Evaluation *****\n",
            "  Num examples = 818\n",
            "  Batch size = 32\n",
            "Saving model checkpoint to t5-efficient-small-nl16-finetuned-samsum/checkpoint-805\n",
            "Configuration saved in t5-efficient-small-nl16-finetuned-samsum/checkpoint-805/config.json\n",
            "Model weights saved in t5-efficient-small-nl16-finetuned-samsum/checkpoint-805/pytorch_model.bin\n",
            "tokenizer config file saved in t5-efficient-small-nl16-finetuned-samsum/checkpoint-805/tokenizer_config.json\n",
            "Special tokens file saved in t5-efficient-small-nl16-finetuned-samsum/checkpoint-805/special_tokens_map.json\n",
            "Copy vocab file to t5-efficient-small-nl16-finetuned-samsum/checkpoint-805/spiece.model\n",
            "***** Running Evaluation *****\n",
            "  Num examples = 818\n",
            "  Batch size = 32\n",
            "Saving model checkpoint to t5-efficient-small-nl16-finetuned-samsum/checkpoint-920\n",
            "Configuration saved in t5-efficient-small-nl16-finetuned-samsum/checkpoint-920/config.json\n",
            "Model weights saved in t5-efficient-small-nl16-finetuned-samsum/checkpoint-920/pytorch_model.bin\n",
            "tokenizer config file saved in t5-efficient-small-nl16-finetuned-samsum/checkpoint-920/tokenizer_config.json\n",
            "Special tokens file saved in t5-efficient-small-nl16-finetuned-samsum/checkpoint-920/special_tokens_map.json\n",
            "Copy vocab file to t5-efficient-small-nl16-finetuned-samsum/checkpoint-920/spiece.model\n",
            "***** Running Evaluation *****\n",
            "  Num examples = 818\n",
            "  Batch size = 32\n",
            "Saving model checkpoint to t5-efficient-small-nl16-finetuned-samsum/checkpoint-1035\n",
            "Configuration saved in t5-efficient-small-nl16-finetuned-samsum/checkpoint-1035/config.json\n",
            "Model weights saved in t5-efficient-small-nl16-finetuned-samsum/checkpoint-1035/pytorch_model.bin\n",
            "tokenizer config file saved in t5-efficient-small-nl16-finetuned-samsum/checkpoint-1035/tokenizer_config.json\n",
            "Special tokens file saved in t5-efficient-small-nl16-finetuned-samsum/checkpoint-1035/special_tokens_map.json\n",
            "Copy vocab file to t5-efficient-small-nl16-finetuned-samsum/checkpoint-1035/spiece.model\n",
            "***** Running Evaluation *****\n",
            "  Num examples = 818\n",
            "  Batch size = 32\n",
            "Saving model checkpoint to t5-efficient-small-nl16-finetuned-samsum/checkpoint-1150\n",
            "Configuration saved in t5-efficient-small-nl16-finetuned-samsum/checkpoint-1150/config.json\n",
            "Model weights saved in t5-efficient-small-nl16-finetuned-samsum/checkpoint-1150/pytorch_model.bin\n",
            "tokenizer config file saved in t5-efficient-small-nl16-finetuned-samsum/checkpoint-1150/tokenizer_config.json\n",
            "Special tokens file saved in t5-efficient-small-nl16-finetuned-samsum/checkpoint-1150/special_tokens_map.json\n",
            "Copy vocab file to t5-efficient-small-nl16-finetuned-samsum/checkpoint-1150/spiece.model\n",
            "\n",
            "\n",
            "Training completed. Do not forget to share your model on huggingface.co/models =)\n",
            "\n",
            "\n"
          ]
        },
        {
          "output_type": "execute_result",
          "data": {
            "text/plain": [
              "TrainOutput(global_step=1150, training_loss=1.7297226524353027, metrics={'train_runtime': 3182.8234, 'train_samples_per_second': 46.286, 'train_steps_per_second': 0.361, 'total_flos': 4.538781813967258e+16, 'train_loss': 1.7297226524353027, 'epoch': 10.0})"
            ]
          },
          "metadata": {},
          "execution_count": 24
        }
      ]
    },
    {
      "cell_type": "code",
      "source": [
        "model = AutoModelForSeq2SeqLM.from_pretrained('/content/t5-efficient-small-nl16-finetuned-samsum/checkpoint-1150')"
      ],
      "metadata": {
        "id": "bzVc7ipZUvkg"
      },
      "execution_count": null,
      "outputs": []
    },
    {
      "cell_type": "code",
      "source": [
        "create_repo(f\"t5-efficient-small-nl16-samsum-exp1\")\n",
        "\n",
        "model.push_to_hub(f\"t5-efficient-small-nl16-samsum-exp1\")\n",
        "\n",
        "tokenizer.push_to_hub(f\"t5-efficient-small-nl16-samsum-exp1\")"
      ],
      "metadata": {
        "colab": {
          "base_uri": "https://localhost:8080/"
        },
        "id": "OMVuPFytUvnl",
        "outputId": "2f8b33e5-4b75-4f7e-8565-a34dfed9c0eb"
      },
      "execution_count": null,
      "outputs": [
        {
          "output_type": "stream",
          "name": "stderr",
          "text": [
            "Configuration saved in /tmp/tmp_yx9v5cj/config.json\n",
            "Model weights saved in /tmp/tmp_yx9v5cj/pytorch_model.bin\n",
            "Uploading the following files to Gozdi/t5-efficient-small-nl16-samsum-exp1: config.json,pytorch_model.bin\n",
            "tokenizer config file saved in /tmp/tmpytoms80v/tokenizer_config.json\n",
            "Special tokens file saved in /tmp/tmpytoms80v/special_tokens_map.json\n",
            "Copy vocab file to /tmp/tmpytoms80v/spiece.model\n",
            "Uploading the following files to Gozdi/t5-efficient-small-nl16-samsum-exp1: special_tokens_map.json,tokenizer.json,spiece.model,tokenizer_config.json\n"
          ]
        },
        {
          "output_type": "execute_result",
          "data": {
            "text/plain": [
              "CommitInfo(commit_url='https://huggingface.co/Gozdi/t5-efficient-small-nl16-samsum-exp1/commit/129f21d3ec2822f69fb21dda20721673410fda2c', commit_message='Upload tokenizer', commit_description='', oid='129f21d3ec2822f69fb21dda20721673410fda2c', pr_url=None, pr_revision=None, pr_num=None)"
            ]
          },
          "metadata": {},
          "execution_count": 27
        }
      ]
    },
    {
      "cell_type": "code",
      "source": [
        "wandb.finish()"
      ],
      "metadata": {
        "id": "TbmalkG8kawA"
      },
      "execution_count": null,
      "outputs": []
    },
    {
      "cell_type": "code",
      "source": [
        "model_checkpoint"
      ],
      "metadata": {
        "colab": {
          "base_uri": "https://localhost:8080/",
          "height": 36
        },
        "id": "wMu4XcwW2zeZ",
        "outputId": "43290afb-6082-46d8-bd81-5abf0619b908"
      },
      "execution_count": null,
      "outputs": [
        {
          "output_type": "execute_result",
          "data": {
            "text/plain": [
              "'google/t5-efficient-small-nl16'"
            ],
            "application/vnd.google.colaboratory.intrinsic+json": {
              "type": "string"
            }
          },
          "metadata": {},
          "execution_count": 29
        }
      ]
    },
    {
      "cell_type": "code",
      "source": [
        "model = AutoModelForSeq2SeqLM.from_pretrained(model_checkpoint)"
      ],
      "metadata": {
        "id": "-e3ofpAYiO0R"
      },
      "execution_count": null,
      "outputs": []
    },
    {
      "cell_type": "markdown",
      "source": [
        "#Experiment 2\n",
        "\n",
        "I'm going to keep all hyperparameters the same except for learning rate which I doubled and it is now 1e-3"
      ],
      "metadata": {
        "id": "Y3T7pv50og4n"
      }
    },
    {
      "cell_type": "code",
      "source": [
        "batch_size = 32\n",
        "num_train_epochs = 10\n",
        "logging_steps = 100\n",
        "model_name = model_checkpoint.split(\"/\")[-1]\n",
        "\n",
        "args = Seq2SeqTrainingArguments(\n",
        "    output_dir=f\"{model_name}-finetuned-samsum\",\n",
        "    evaluation_strategy=\"epoch\",\n",
        "    learning_rate=1e-3,\n",
        "    per_device_train_batch_size=batch_size,\n",
        "    per_device_eval_batch_size=batch_size,\n",
        "    weight_decay=0.01,\n",
        "    lr_scheduler_type='linear',\n",
        "    num_train_epochs=num_train_epochs,\n",
        "    predict_with_generate=True,\n",
        "    logging_steps=logging_steps,\n",
        "    report_to=\"wandb\",\n",
        "    run_name='exp_2',\n",
        "    logging_strategy='steps',\n",
        "    save_strategy='epoch',\n",
        "    logging_first_step=True,\n",
        "    generation_num_beams=5,\n",
        "    warmup_ratio=0.05,\n",
        "    gradient_accumulation_steps=4\n",
        "\n",
        ")"
      ],
      "metadata": {
        "colab": {
          "base_uri": "https://localhost:8080/"
        },
        "id": "NGlAAW_6Uvty",
        "outputId": "43cb5483-319a-43cb-8ad9-f8464fa8baf1"
      },
      "execution_count": null,
      "outputs": [
        {
          "output_type": "stream",
          "name": "stderr",
          "text": [
            "PyTorch: setting up devices\n"
          ]
        }
      ]
    },
    {
      "cell_type": "code",
      "source": [
        "trainer = Seq2SeqTrainer(\n",
        "    model,\n",
        "    args,\n",
        "    train_dataset=tokenized_datasets[\"train\"],\n",
        "    eval_dataset=tokenized_datasets[\"validation\"],\n",
        "    data_collator=data_collator,\n",
        "    tokenizer=tokenizer,\n",
        "    compute_metrics=compute_metrics,\n",
        ")"
      ],
      "metadata": {
        "id": "FWAAhDOgUvwy"
      },
      "execution_count": null,
      "outputs": []
    },
    {
      "cell_type": "markdown",
      "source": [
        "#Experiment 2 results\n",
        "\n",
        "Increasing learning rate resulted in higher rouge scores. Best results were achieved after 6 epochs of training, after that point the results deteriorated and were on par with those of the previous experiment.\n",
        "\n",
        "Best results were:\n",
        "\n",
        "Rouge1 48.5645\n",
        "\n",
        "Rouge2 25.9046\n",
        "\n",
        "RougeSum 45.1479\n",
        "\n",
        "RougeL 41.5816"
      ],
      "metadata": {
        "id": "kDc1LfiapSK7"
      }
    },
    {
      "cell_type": "markdown",
      "source": [
        "![exp2.PNG](data:image/png;base64,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)"
      ],
      "metadata": {
        "id": "RebAIaSYpST5"
      }
    },
    {
      "cell_type": "code",
      "source": [
        "trainer.train()"
      ],
      "metadata": {
        "colab": {
          "base_uri": "https://localhost:8080/",
          "height": 1000
        },
        "id": "nhcgeXvAUvzv",
        "outputId": "eff256e6-5429-4c09-ddc4-cd5deab9a292"
      },
      "execution_count": null,
      "outputs": [
        {
          "output_type": "stream",
          "name": "stderr",
          "text": [
            "/usr/local/lib/python3.7/dist-packages/transformers/optimization.py:310: FutureWarning: This implementation of AdamW is deprecated and will be removed in a future version. Use the PyTorch implementation torch.optim.AdamW instead, or set `no_deprecation_warning=True` to disable this warning\n",
            "  FutureWarning,\n",
            "***** Running training *****\n",
            "  Num examples = 14732\n",
            "  Num Epochs = 10\n",
            "  Instantaneous batch size per device = 32\n",
            "  Total train batch size (w. parallel, distributed & accumulation) = 128\n",
            "  Gradient Accumulation steps = 4\n",
            "  Total optimization steps = 1150\n",
            "Automatic Weights & Biases logging enabled, to disable set os.environ[\"WANDB_DISABLED\"] = \"true\"\n"
          ]
        },
        {
          "output_type": "display_data",
          "data": {
            "text/plain": [
              "<IPython.core.display.HTML object>"
            ],
            "text/html": [
              "Changes to your `wandb` environment variables will be ignored because your `wandb` session has already started. For more information on how to modify your settings with `wandb.init()` arguments, please refer to <a href=\"https://wandb.me/wandb-init\" target=\"_blank\">the W&B docs</a>."
            ]
          },
          "metadata": {}
        },
        {
          "output_type": "display_data",
          "data": {
            "text/plain": [
              "<IPython.core.display.HTML object>"
            ],
            "text/html": [
              "Tracking run with wandb version 0.13.4"
            ]
          },
          "metadata": {}
        },
        {
          "output_type": "display_data",
          "data": {
            "text/plain": [
              "<IPython.core.display.HTML object>"
            ],
            "text/html": [
              "Run data is saved locally in <code>/content/wandb/run-20221030_171103-duucp3h5</code>"
            ]
          },
          "metadata": {}
        },
        {
          "output_type": "display_data",
          "data": {
            "text/plain": [
              "<IPython.core.display.HTML object>"
            ],
            "text/html": [
              "Syncing run <strong><a href=\"https://wandb.ai/gozdi/samsum_summarization/runs/duucp3h5\" target=\"_blank\">exp_2</a></strong> to <a href=\"https://wandb.ai/gozdi/samsum_summarization\" target=\"_blank\">Weights & Biases</a> (<a href=\"https://wandb.me/run\" target=\"_blank\">docs</a>)<br/>"
            ]
          },
          "metadata": {}
        },
        {
          "output_type": "display_data",
          "data": {
            "text/plain": [
              "<IPython.core.display.HTML object>"
            ],
            "text/html": [
              "\n",
              "    <div>\n",
              "      \n",
              "      <progress value='1150' max='1150' style='width:300px; height:20px; vertical-align: middle;'></progress>\n",
              "      [1150/1150 53:02, Epoch 9/10]\n",
              "    </div>\n",
              "    <table border=\"1\" class=\"dataframe\">\n",
              "  <thead>\n",
              " <tr style=\"text-align: left;\">\n",
              "      <th>Epoch</th>\n",
              "      <th>Training Loss</th>\n",
              "      <th>Validation Loss</th>\n",
              "      <th>Rouge1</th>\n",
              "      <th>Rouge2</th>\n",
              "      <th>Rougel</th>\n",
              "      <th>Rougelsum</th>\n",
              "    </tr>\n",
              "  </thead>\n",
              "  <tbody>\n",
              "    <tr>\n",
              "      <td>0</td>\n",
              "      <td>2.836300</td>\n",
              "      <td>1.768150</td>\n",
              "      <td>43.890100</td>\n",
              "      <td>21.350900</td>\n",
              "      <td>37.493900</td>\n",
              "      <td>40.758200</td>\n",
              "    </tr>\n",
              "    <tr>\n",
              "      <td>1</td>\n",
              "      <td>1.925000</td>\n",
              "      <td>1.662409</td>\n",
              "      <td>46.255400</td>\n",
              "      <td>24.045300</td>\n",
              "      <td>39.280200</td>\n",
              "      <td>42.725400</td>\n",
              "    </tr>\n",
              "    <tr>\n",
              "      <td>2</td>\n",
              "      <td>1.740000</td>\n",
              "      <td>1.638989</td>\n",
              "      <td>46.533100</td>\n",
              "      <td>24.149700</td>\n",
              "      <td>39.876300</td>\n",
              "      <td>43.296300</td>\n",
              "    </tr>\n",
              "    <tr>\n",
              "      <td>3</td>\n",
              "      <td>1.607900</td>\n",
              "      <td>1.631137</td>\n",
              "      <td>47.419900</td>\n",
              "      <td>24.586500</td>\n",
              "      <td>40.501600</td>\n",
              "      <td>44.109700</td>\n",
              "    </tr>\n",
              "    <tr>\n",
              "      <td>4</td>\n",
              "      <td>1.508400</td>\n",
              "      <td>1.628935</td>\n",
              "      <td>47.165400</td>\n",
              "      <td>24.845800</td>\n",
              "      <td>40.361500</td>\n",
              "      <td>43.912600</td>\n",
              "    </tr>\n",
              "    <tr>\n",
              "      <td>5</td>\n",
              "      <td>1.409000</td>\n",
              "      <td>1.647891</td>\n",
              "      <td>48.564500</td>\n",
              "      <td>25.904600</td>\n",
              "      <td>41.581600</td>\n",
              "      <td>45.147900</td>\n",
              "    </tr>\n",
              "    <tr>\n",
              "      <td>6</td>\n",
              "      <td>1.264400</td>\n",
              "      <td>1.651561</td>\n",
              "      <td>48.138000</td>\n",
              "      <td>25.297800</td>\n",
              "      <td>40.787500</td>\n",
              "      <td>44.645600</td>\n",
              "    </tr>\n",
              "    <tr>\n",
              "      <td>7</td>\n",
              "      <td>1.204700</td>\n",
              "      <td>1.675448</td>\n",
              "      <td>48.453900</td>\n",
              "      <td>25.495900</td>\n",
              "      <td>41.057000</td>\n",
              "      <td>44.902100</td>\n",
              "    </tr>\n",
              "    <tr>\n",
              "      <td>8</td>\n",
              "      <td>1.158800</td>\n",
              "      <td>1.683095</td>\n",
              "      <td>48.348300</td>\n",
              "      <td>25.275600</td>\n",
              "      <td>40.976600</td>\n",
              "      <td>44.735900</td>\n",
              "    </tr>\n",
              "    <tr>\n",
              "      <td>9</td>\n",
              "      <td>1.123800</td>\n",
              "      <td>1.693998</td>\n",
              "      <td>48.465500</td>\n",
              "      <td>25.364700</td>\n",
              "      <td>40.951900</td>\n",
              "      <td>44.840100</td>\n",
              "    </tr>\n",
              "  </tbody>\n",
              "</table><p>"
            ]
          },
          "metadata": {}
        },
        {
          "output_type": "stream",
          "name": "stderr",
          "text": [
            "***** Running Evaluation *****\n",
            "  Num examples = 818\n",
            "  Batch size = 32\n",
            "Saving model checkpoint to t5-efficient-small-nl16-finetuned-samsum/checkpoint-115\n",
            "Configuration saved in t5-efficient-small-nl16-finetuned-samsum/checkpoint-115/config.json\n",
            "Model weights saved in t5-efficient-small-nl16-finetuned-samsum/checkpoint-115/pytorch_model.bin\n",
            "tokenizer config file saved in t5-efficient-small-nl16-finetuned-samsum/checkpoint-115/tokenizer_config.json\n",
            "Special tokens file saved in t5-efficient-small-nl16-finetuned-samsum/checkpoint-115/special_tokens_map.json\n",
            "Copy vocab file to t5-efficient-small-nl16-finetuned-samsum/checkpoint-115/spiece.model\n",
            "***** Running Evaluation *****\n",
            "  Num examples = 818\n",
            "  Batch size = 32\n",
            "Saving model checkpoint to t5-efficient-small-nl16-finetuned-samsum/checkpoint-230\n",
            "Configuration saved in t5-efficient-small-nl16-finetuned-samsum/checkpoint-230/config.json\n",
            "Model weights saved in t5-efficient-small-nl16-finetuned-samsum/checkpoint-230/pytorch_model.bin\n",
            "tokenizer config file saved in t5-efficient-small-nl16-finetuned-samsum/checkpoint-230/tokenizer_config.json\n",
            "Special tokens file saved in t5-efficient-small-nl16-finetuned-samsum/checkpoint-230/special_tokens_map.json\n",
            "Copy vocab file to t5-efficient-small-nl16-finetuned-samsum/checkpoint-230/spiece.model\n",
            "***** Running Evaluation *****\n",
            "  Num examples = 818\n",
            "  Batch size = 32\n",
            "Saving model checkpoint to t5-efficient-small-nl16-finetuned-samsum/checkpoint-345\n",
            "Configuration saved in t5-efficient-small-nl16-finetuned-samsum/checkpoint-345/config.json\n",
            "Model weights saved in t5-efficient-small-nl16-finetuned-samsum/checkpoint-345/pytorch_model.bin\n",
            "tokenizer config file saved in t5-efficient-small-nl16-finetuned-samsum/checkpoint-345/tokenizer_config.json\n",
            "Special tokens file saved in t5-efficient-small-nl16-finetuned-samsum/checkpoint-345/special_tokens_map.json\n",
            "Copy vocab file to t5-efficient-small-nl16-finetuned-samsum/checkpoint-345/spiece.model\n",
            "***** Running Evaluation *****\n",
            "  Num examples = 818\n",
            "  Batch size = 32\n",
            "Saving model checkpoint to t5-efficient-small-nl16-finetuned-samsum/checkpoint-460\n",
            "Configuration saved in t5-efficient-small-nl16-finetuned-samsum/checkpoint-460/config.json\n",
            "Model weights saved in t5-efficient-small-nl16-finetuned-samsum/checkpoint-460/pytorch_model.bin\n",
            "tokenizer config file saved in t5-efficient-small-nl16-finetuned-samsum/checkpoint-460/tokenizer_config.json\n",
            "Special tokens file saved in t5-efficient-small-nl16-finetuned-samsum/checkpoint-460/special_tokens_map.json\n",
            "Copy vocab file to t5-efficient-small-nl16-finetuned-samsum/checkpoint-460/spiece.model\n",
            "***** Running Evaluation *****\n",
            "  Num examples = 818\n",
            "  Batch size = 32\n",
            "Saving model checkpoint to t5-efficient-small-nl16-finetuned-samsum/checkpoint-575\n",
            "Configuration saved in t5-efficient-small-nl16-finetuned-samsum/checkpoint-575/config.json\n",
            "Model weights saved in t5-efficient-small-nl16-finetuned-samsum/checkpoint-575/pytorch_model.bin\n",
            "tokenizer config file saved in t5-efficient-small-nl16-finetuned-samsum/checkpoint-575/tokenizer_config.json\n",
            "Special tokens file saved in t5-efficient-small-nl16-finetuned-samsum/checkpoint-575/special_tokens_map.json\n",
            "Copy vocab file to t5-efficient-small-nl16-finetuned-samsum/checkpoint-575/spiece.model\n",
            "***** Running Evaluation *****\n",
            "  Num examples = 818\n",
            "  Batch size = 32\n",
            "Saving model checkpoint to t5-efficient-small-nl16-finetuned-samsum/checkpoint-690\n",
            "Configuration saved in t5-efficient-small-nl16-finetuned-samsum/checkpoint-690/config.json\n",
            "Model weights saved in t5-efficient-small-nl16-finetuned-samsum/checkpoint-690/pytorch_model.bin\n",
            "tokenizer config file saved in t5-efficient-small-nl16-finetuned-samsum/checkpoint-690/tokenizer_config.json\n",
            "Special tokens file saved in t5-efficient-small-nl16-finetuned-samsum/checkpoint-690/special_tokens_map.json\n",
            "Copy vocab file to t5-efficient-small-nl16-finetuned-samsum/checkpoint-690/spiece.model\n",
            "***** Running Evaluation *****\n",
            "  Num examples = 818\n",
            "  Batch size = 32\n",
            "Saving model checkpoint to t5-efficient-small-nl16-finetuned-samsum/checkpoint-805\n",
            "Configuration saved in t5-efficient-small-nl16-finetuned-samsum/checkpoint-805/config.json\n",
            "Model weights saved in t5-efficient-small-nl16-finetuned-samsum/checkpoint-805/pytorch_model.bin\n",
            "tokenizer config file saved in t5-efficient-small-nl16-finetuned-samsum/checkpoint-805/tokenizer_config.json\n",
            "Special tokens file saved in t5-efficient-small-nl16-finetuned-samsum/checkpoint-805/special_tokens_map.json\n",
            "Copy vocab file to t5-efficient-small-nl16-finetuned-samsum/checkpoint-805/spiece.model\n",
            "***** Running Evaluation *****\n",
            "  Num examples = 818\n",
            "  Batch size = 32\n",
            "Saving model checkpoint to t5-efficient-small-nl16-finetuned-samsum/checkpoint-920\n",
            "Configuration saved in t5-efficient-small-nl16-finetuned-samsum/checkpoint-920/config.json\n",
            "Model weights saved in t5-efficient-small-nl16-finetuned-samsum/checkpoint-920/pytorch_model.bin\n",
            "tokenizer config file saved in t5-efficient-small-nl16-finetuned-samsum/checkpoint-920/tokenizer_config.json\n",
            "Special tokens file saved in t5-efficient-small-nl16-finetuned-samsum/checkpoint-920/special_tokens_map.json\n",
            "Copy vocab file to t5-efficient-small-nl16-finetuned-samsum/checkpoint-920/spiece.model\n",
            "***** Running Evaluation *****\n",
            "  Num examples = 818\n",
            "  Batch size = 32\n",
            "Saving model checkpoint to t5-efficient-small-nl16-finetuned-samsum/checkpoint-1035\n",
            "Configuration saved in t5-efficient-small-nl16-finetuned-samsum/checkpoint-1035/config.json\n",
            "Model weights saved in t5-efficient-small-nl16-finetuned-samsum/checkpoint-1035/pytorch_model.bin\n",
            "tokenizer config file saved in t5-efficient-small-nl16-finetuned-samsum/checkpoint-1035/tokenizer_config.json\n",
            "Special tokens file saved in t5-efficient-small-nl16-finetuned-samsum/checkpoint-1035/special_tokens_map.json\n",
            "Copy vocab file to t5-efficient-small-nl16-finetuned-samsum/checkpoint-1035/spiece.model\n",
            "***** Running Evaluation *****\n",
            "  Num examples = 818\n",
            "  Batch size = 32\n",
            "Saving model checkpoint to t5-efficient-small-nl16-finetuned-samsum/checkpoint-1150\n",
            "Configuration saved in t5-efficient-small-nl16-finetuned-samsum/checkpoint-1150/config.json\n",
            "Model weights saved in t5-efficient-small-nl16-finetuned-samsum/checkpoint-1150/pytorch_model.bin\n",
            "tokenizer config file saved in t5-efficient-small-nl16-finetuned-samsum/checkpoint-1150/tokenizer_config.json\n",
            "Special tokens file saved in t5-efficient-small-nl16-finetuned-samsum/checkpoint-1150/special_tokens_map.json\n",
            "Copy vocab file to t5-efficient-small-nl16-finetuned-samsum/checkpoint-1150/spiece.model\n",
            "\n",
            "\n",
            "Training completed. Do not forget to share your model on huggingface.co/models =)\n",
            "\n",
            "\n"
          ]
        },
        {
          "output_type": "execute_result",
          "data": {
            "text/plain": [
              "TrainOutput(global_step=1150, training_loss=1.5404601130278215, metrics={'train_runtime': 3186.8936, 'train_samples_per_second': 46.227, 'train_steps_per_second': 0.361, 'total_flos': 4.538781813967258e+16, 'train_loss': 1.5404601130278215, 'epoch': 10.0})"
            ]
          },
          "metadata": {},
          "execution_count": 35
        }
      ]
    },
    {
      "cell_type": "code",
      "source": [
        "wandb.finish()"
      ],
      "metadata": {
        "id": "ncpM-8_cUv2S"
      },
      "execution_count": null,
      "outputs": []
    },
    {
      "cell_type": "code",
      "source": [
        "model = AutoModelForSeq2SeqLM.from_pretrained('/content/t5-efficient-small-nl16-finetuned-samsum/checkpoint-690')\n",
        "\n",
        "create_repo(f\"t5-efficient-small-nl16-samsum-exp2\")\n",
        "\n",
        "model.push_to_hub(f\"t5-efficient-small-nl16-samsum-exp2\")\n",
        "\n",
        "tokenizer.push_to_hub(f\"t5-efficient-small-nl16-samsum-exp2\")"
      ],
      "metadata": {
        "id": "Fr8-n2JUEO72"
      },
      "execution_count": null,
      "outputs": []
    },
    {
      "cell_type": "code",
      "source": [
        "model = AutoModelForSeq2SeqLM.from_pretrained(model_checkpoint)"
      ],
      "metadata": {
        "id": "p2rUNALvt6jF"
      },
      "execution_count": null,
      "outputs": []
    },
    {
      "cell_type": "markdown",
      "source": [
        "#Experiment 3\n",
        "\n",
        "I'm going to increase learning rate even more to 2.5e-3"
      ],
      "metadata": {
        "id": "szzlK9Vpwi9j"
      }
    },
    {
      "cell_type": "code",
      "source": [
        "batch_size = 32\n",
        "num_train_epochs = 10\n",
        "logging_steps = 100\n",
        "model_name = model_checkpoint.split(\"/\")[-1]\n",
        "\n",
        "args = Seq2SeqTrainingArguments(\n",
        "    output_dir=f\"{model_name}-finetuned-samsum-exp3\",\n",
        "    evaluation_strategy=\"epoch\",\n",
        "    learning_rate=2.5e-3,\n",
        "    per_device_train_batch_size=batch_size,\n",
        "    per_device_eval_batch_size=batch_size,\n",
        "    weight_decay=0.01,\n",
        "    lr_scheduler_type='linear',\n",
        "    num_train_epochs=num_train_epochs,\n",
        "    predict_with_generate=True,\n",
        "    logging_steps=logging_steps,\n",
        "    report_to=\"wandb\",\n",
        "    run_name='exp_3',\n",
        "    logging_strategy='steps',\n",
        "    save_strategy='epoch',\n",
        "    logging_first_step=True,\n",
        "    generation_num_beams=5,\n",
        "    warmup_ratio=0.05,\n",
        "    gradient_accumulation_steps=4\n",
        "\n",
        ")"
      ],
      "metadata": {
        "colab": {
          "base_uri": "https://localhost:8080/"
        },
        "id": "Z-AG1GvuUv5H",
        "outputId": "a25b16a6-e61f-4885-de1e-aa136e208d14"
      },
      "execution_count": null,
      "outputs": [
        {
          "output_type": "stream",
          "name": "stderr",
          "text": [
            "PyTorch: setting up devices\n"
          ]
        }
      ]
    },
    {
      "cell_type": "code",
      "source": [
        "trainer = Seq2SeqTrainer(\n",
        "    model,\n",
        "    args,\n",
        "    train_dataset=tokenized_datasets[\"train\"],\n",
        "    eval_dataset=tokenized_datasets[\"validation\"],\n",
        "    data_collator=data_collator,\n",
        "    tokenizer=tokenizer,\n",
        "    compute_metrics=compute_metrics,\n",
        ")"
      ],
      "metadata": {
        "id": "QOZ6GnxQt0FW"
      },
      "execution_count": null,
      "outputs": []
    },
    {
      "cell_type": "markdown",
      "source": [
        "#Experiment 3 results\n",
        "\n",
        "Increasing learning rate to 2.5e-3 did have a positive effect on the first 4 epochs, at that point results were better that those of last 2 experiments but they didn't beat the best results from experiment 2. \n",
        "\n",
        "After 10 epochs of training results were almost identical for all three experiments"
      ],
      "metadata": {
        "id": "3rw3QWUHw807"
      }
    },
    {
      "cell_type": "markdown",
      "source": [
        "![exp3.PNG](data:image/png;base64,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)"
      ],
      "metadata": {
        "id": "S_f7yQWqw84K"
      }
    },
    {
      "cell_type": "code",
      "source": [
        "trainer.train()"
      ],
      "metadata": {
        "colab": {
          "base_uri": "https://localhost:8080/",
          "height": 1000
        },
        "id": "xe6l9uLot0H5",
        "outputId": "151e9bd9-90b0-4bd7-a78c-c570b5bfac0f"
      },
      "execution_count": null,
      "outputs": [
        {
          "output_type": "stream",
          "name": "stderr",
          "text": [
            "/usr/local/lib/python3.7/dist-packages/transformers/optimization.py:310: FutureWarning: This implementation of AdamW is deprecated and will be removed in a future version. Use the PyTorch implementation torch.optim.AdamW instead, or set `no_deprecation_warning=True` to disable this warning\n",
            "  FutureWarning,\n",
            "***** Running training *****\n",
            "  Num examples = 14732\n",
            "  Num Epochs = 10\n",
            "  Instantaneous batch size per device = 32\n",
            "  Total train batch size (w. parallel, distributed & accumulation) = 128\n",
            "  Gradient Accumulation steps = 4\n",
            "  Total optimization steps = 1150\n",
            "Automatic Weights & Biases logging enabled, to disable set os.environ[\"WANDB_DISABLED\"] = \"true\"\n"
          ]
        },
        {
          "output_type": "display_data",
          "data": {
            "text/plain": [
              "<IPython.core.display.HTML object>"
            ],
            "text/html": [
              "Changes to your `wandb` environment variables will be ignored because your `wandb` session has already started. For more information on how to modify your settings with `wandb.init()` arguments, please refer to <a href=\"https://wandb.me/wandb-init\" target=\"_blank\">the W&B docs</a>."
            ]
          },
          "metadata": {}
        },
        {
          "output_type": "display_data",
          "data": {
            "text/plain": [
              "<IPython.core.display.HTML object>"
            ],
            "text/html": [
              "Tracking run with wandb version 0.13.4"
            ]
          },
          "metadata": {}
        },
        {
          "output_type": "display_data",
          "data": {
            "text/plain": [
              "<IPython.core.display.HTML object>"
            ],
            "text/html": [
              "Run data is saved locally in <code>/content/wandb/run-20221030_180944-2dox5k6u</code>"
            ]
          },
          "metadata": {}
        },
        {
          "output_type": "display_data",
          "data": {
            "text/plain": [
              "<IPython.core.display.HTML object>"
            ],
            "text/html": [
              "Syncing run <strong><a href=\"https://wandb.ai/gozdi/samsum_summarization/runs/2dox5k6u\" target=\"_blank\">exp_3</a></strong> to <a href=\"https://wandb.ai/gozdi/samsum_summarization\" target=\"_blank\">Weights & Biases</a> (<a href=\"https://wandb.me/run\" target=\"_blank\">docs</a>)<br/>"
            ]
          },
          "metadata": {}
        },
        {
          "output_type": "display_data",
          "data": {
            "text/plain": [
              "<IPython.core.display.HTML object>"
            ],
            "text/html": [
              "\n",
              "    <div>\n",
              "      \n",
              "      <progress value='1150' max='1150' style='width:300px; height:20px; vertical-align: middle;'></progress>\n",
              "      [1150/1150 52:51, Epoch 9/10]\n",
              "    </div>\n",
              "    <table border=\"1\" class=\"dataframe\">\n",
              "  <thead>\n",
              " <tr style=\"text-align: left;\">\n",
              "      <th>Epoch</th>\n",
              "      <th>Training Loss</th>\n",
              "      <th>Validation Loss</th>\n",
              "      <th>Rouge1</th>\n",
              "      <th>Rouge2</th>\n",
              "      <th>Rougel</th>\n",
              "      <th>Rougelsum</th>\n",
              "    </tr>\n",
              "  </thead>\n",
              "  <tbody>\n",
              "    <tr>\n",
              "      <td>0</td>\n",
              "      <td>2.647100</td>\n",
              "      <td>1.797176</td>\n",
              "      <td>43.685700</td>\n",
              "      <td>21.700000</td>\n",
              "      <td>37.362900</td>\n",
              "      <td>40.533400</td>\n",
              "    </tr>\n",
              "    <tr>\n",
              "      <td>1</td>\n",
              "      <td>1.911500</td>\n",
              "      <td>1.708773</td>\n",
              "      <td>46.050400</td>\n",
              "      <td>23.306700</td>\n",
              "      <td>39.485700</td>\n",
              "      <td>42.927700</td>\n",
              "    </tr>\n",
              "    <tr>\n",
              "      <td>2</td>\n",
              "      <td>1.693800</td>\n",
              "      <td>1.691033</td>\n",
              "      <td>46.370200</td>\n",
              "      <td>23.528100</td>\n",
              "      <td>39.354900</td>\n",
              "      <td>42.753900</td>\n",
              "    </tr>\n",
              "    <tr>\n",
              "      <td>3</td>\n",
              "      <td>1.524300</td>\n",
              "      <td>1.700875</td>\n",
              "      <td>48.147500</td>\n",
              "      <td>25.616700</td>\n",
              "      <td>41.121700</td>\n",
              "      <td>44.667200</td>\n",
              "    </tr>\n",
              "    <tr>\n",
              "      <td>4</td>\n",
              "      <td>1.388700</td>\n",
              "      <td>1.719765</td>\n",
              "      <td>47.947800</td>\n",
              "      <td>24.858500</td>\n",
              "      <td>40.568100</td>\n",
              "      <td>44.321200</td>\n",
              "    </tr>\n",
              "    <tr>\n",
              "      <td>5</td>\n",
              "      <td>1.255000</td>\n",
              "      <td>1.745727</td>\n",
              "      <td>47.583800</td>\n",
              "      <td>25.114400</td>\n",
              "      <td>40.472000</td>\n",
              "      <td>44.113900</td>\n",
              "    </tr>\n",
              "    <tr>\n",
              "      <td>6</td>\n",
              "      <td>1.034300</td>\n",
              "      <td>1.786483</td>\n",
              "      <td>47.748100</td>\n",
              "      <td>24.616600</td>\n",
              "      <td>40.148800</td>\n",
              "      <td>43.965700</td>\n",
              "    </tr>\n",
              "    <tr>\n",
              "      <td>7</td>\n",
              "      <td>0.938200</td>\n",
              "      <td>1.847206</td>\n",
              "      <td>47.955200</td>\n",
              "      <td>24.843900</td>\n",
              "      <td>40.494000</td>\n",
              "      <td>44.082000</td>\n",
              "    </tr>\n",
              "    <tr>\n",
              "      <td>8</td>\n",
              "      <td>0.860800</td>\n",
              "      <td>1.889056</td>\n",
              "      <td>48.194100</td>\n",
              "      <td>24.941000</td>\n",
              "      <td>40.555000</td>\n",
              "      <td>44.322600</td>\n",
              "    </tr>\n",
              "    <tr>\n",
              "      <td>9</td>\n",
              "      <td>0.800100</td>\n",
              "      <td>1.929345</td>\n",
              "      <td>48.408400</td>\n",
              "      <td>25.411200</td>\n",
              "      <td>40.643100</td>\n",
              "      <td>44.550500</td>\n",
              "    </tr>\n",
              "  </tbody>\n",
              "</table><p>"
            ]
          },
          "metadata": {}
        },
        {
          "output_type": "stream",
          "name": "stderr",
          "text": [
            "***** Running Evaluation *****\n",
            "  Num examples = 818\n",
            "  Batch size = 32\n",
            "Saving model checkpoint to t5-efficient-small-nl16-finetuned-samsum-exp3/checkpoint-115\n",
            "Configuration saved in t5-efficient-small-nl16-finetuned-samsum-exp3/checkpoint-115/config.json\n",
            "Model weights saved in t5-efficient-small-nl16-finetuned-samsum-exp3/checkpoint-115/pytorch_model.bin\n",
            "tokenizer config file saved in t5-efficient-small-nl16-finetuned-samsum-exp3/checkpoint-115/tokenizer_config.json\n",
            "Special tokens file saved in t5-efficient-small-nl16-finetuned-samsum-exp3/checkpoint-115/special_tokens_map.json\n",
            "Copy vocab file to t5-efficient-small-nl16-finetuned-samsum-exp3/checkpoint-115/spiece.model\n",
            "***** Running Evaluation *****\n",
            "  Num examples = 818\n",
            "  Batch size = 32\n",
            "Saving model checkpoint to t5-efficient-small-nl16-finetuned-samsum-exp3/checkpoint-230\n",
            "Configuration saved in t5-efficient-small-nl16-finetuned-samsum-exp3/checkpoint-230/config.json\n",
            "Model weights saved in t5-efficient-small-nl16-finetuned-samsum-exp3/checkpoint-230/pytorch_model.bin\n",
            "tokenizer config file saved in t5-efficient-small-nl16-finetuned-samsum-exp3/checkpoint-230/tokenizer_config.json\n",
            "Special tokens file saved in t5-efficient-small-nl16-finetuned-samsum-exp3/checkpoint-230/special_tokens_map.json\n",
            "Copy vocab file to t5-efficient-small-nl16-finetuned-samsum-exp3/checkpoint-230/spiece.model\n",
            "***** Running Evaluation *****\n",
            "  Num examples = 818\n",
            "  Batch size = 32\n",
            "Saving model checkpoint to t5-efficient-small-nl16-finetuned-samsum-exp3/checkpoint-345\n",
            "Configuration saved in t5-efficient-small-nl16-finetuned-samsum-exp3/checkpoint-345/config.json\n",
            "Model weights saved in t5-efficient-small-nl16-finetuned-samsum-exp3/checkpoint-345/pytorch_model.bin\n",
            "tokenizer config file saved in t5-efficient-small-nl16-finetuned-samsum-exp3/checkpoint-345/tokenizer_config.json\n",
            "Special tokens file saved in t5-efficient-small-nl16-finetuned-samsum-exp3/checkpoint-345/special_tokens_map.json\n",
            "Copy vocab file to t5-efficient-small-nl16-finetuned-samsum-exp3/checkpoint-345/spiece.model\n",
            "***** Running Evaluation *****\n",
            "  Num examples = 818\n",
            "  Batch size = 32\n",
            "Saving model checkpoint to t5-efficient-small-nl16-finetuned-samsum-exp3/checkpoint-460\n",
            "Configuration saved in t5-efficient-small-nl16-finetuned-samsum-exp3/checkpoint-460/config.json\n",
            "Model weights saved in t5-efficient-small-nl16-finetuned-samsum-exp3/checkpoint-460/pytorch_model.bin\n",
            "tokenizer config file saved in t5-efficient-small-nl16-finetuned-samsum-exp3/checkpoint-460/tokenizer_config.json\n",
            "Special tokens file saved in t5-efficient-small-nl16-finetuned-samsum-exp3/checkpoint-460/special_tokens_map.json\n",
            "Copy vocab file to t5-efficient-small-nl16-finetuned-samsum-exp3/checkpoint-460/spiece.model\n",
            "***** Running Evaluation *****\n",
            "  Num examples = 818\n",
            "  Batch size = 32\n",
            "Saving model checkpoint to t5-efficient-small-nl16-finetuned-samsum-exp3/checkpoint-575\n",
            "Configuration saved in t5-efficient-small-nl16-finetuned-samsum-exp3/checkpoint-575/config.json\n",
            "Model weights saved in t5-efficient-small-nl16-finetuned-samsum-exp3/checkpoint-575/pytorch_model.bin\n",
            "tokenizer config file saved in t5-efficient-small-nl16-finetuned-samsum-exp3/checkpoint-575/tokenizer_config.json\n",
            "Special tokens file saved in t5-efficient-small-nl16-finetuned-samsum-exp3/checkpoint-575/special_tokens_map.json\n",
            "Copy vocab file to t5-efficient-small-nl16-finetuned-samsum-exp3/checkpoint-575/spiece.model\n",
            "***** Running Evaluation *****\n",
            "  Num examples = 818\n",
            "  Batch size = 32\n",
            "Saving model checkpoint to t5-efficient-small-nl16-finetuned-samsum-exp3/checkpoint-690\n",
            "Configuration saved in t5-efficient-small-nl16-finetuned-samsum-exp3/checkpoint-690/config.json\n",
            "Model weights saved in t5-efficient-small-nl16-finetuned-samsum-exp3/checkpoint-690/pytorch_model.bin\n",
            "tokenizer config file saved in t5-efficient-small-nl16-finetuned-samsum-exp3/checkpoint-690/tokenizer_config.json\n",
            "Special tokens file saved in t5-efficient-small-nl16-finetuned-samsum-exp3/checkpoint-690/special_tokens_map.json\n",
            "Copy vocab file to t5-efficient-small-nl16-finetuned-samsum-exp3/checkpoint-690/spiece.model\n",
            "***** Running Evaluation *****\n",
            "  Num examples = 818\n",
            "  Batch size = 32\n",
            "Saving model checkpoint to t5-efficient-small-nl16-finetuned-samsum-exp3/checkpoint-805\n",
            "Configuration saved in t5-efficient-small-nl16-finetuned-samsum-exp3/checkpoint-805/config.json\n",
            "Model weights saved in t5-efficient-small-nl16-finetuned-samsum-exp3/checkpoint-805/pytorch_model.bin\n",
            "tokenizer config file saved in t5-efficient-small-nl16-finetuned-samsum-exp3/checkpoint-805/tokenizer_config.json\n",
            "Special tokens file saved in t5-efficient-small-nl16-finetuned-samsum-exp3/checkpoint-805/special_tokens_map.json\n",
            "Copy vocab file to t5-efficient-small-nl16-finetuned-samsum-exp3/checkpoint-805/spiece.model\n",
            "***** Running Evaluation *****\n",
            "  Num examples = 818\n",
            "  Batch size = 32\n",
            "Saving model checkpoint to t5-efficient-small-nl16-finetuned-samsum-exp3/checkpoint-920\n",
            "Configuration saved in t5-efficient-small-nl16-finetuned-samsum-exp3/checkpoint-920/config.json\n",
            "Model weights saved in t5-efficient-small-nl16-finetuned-samsum-exp3/checkpoint-920/pytorch_model.bin\n",
            "tokenizer config file saved in t5-efficient-small-nl16-finetuned-samsum-exp3/checkpoint-920/tokenizer_config.json\n",
            "Special tokens file saved in t5-efficient-small-nl16-finetuned-samsum-exp3/checkpoint-920/special_tokens_map.json\n",
            "Copy vocab file to t5-efficient-small-nl16-finetuned-samsum-exp3/checkpoint-920/spiece.model\n",
            "***** Running Evaluation *****\n",
            "  Num examples = 818\n",
            "  Batch size = 32\n",
            "Saving model checkpoint to t5-efficient-small-nl16-finetuned-samsum-exp3/checkpoint-1035\n",
            "Configuration saved in t5-efficient-small-nl16-finetuned-samsum-exp3/checkpoint-1035/config.json\n",
            "Model weights saved in t5-efficient-small-nl16-finetuned-samsum-exp3/checkpoint-1035/pytorch_model.bin\n",
            "tokenizer config file saved in t5-efficient-small-nl16-finetuned-samsum-exp3/checkpoint-1035/tokenizer_config.json\n",
            "Special tokens file saved in t5-efficient-small-nl16-finetuned-samsum-exp3/checkpoint-1035/special_tokens_map.json\n",
            "Copy vocab file to t5-efficient-small-nl16-finetuned-samsum-exp3/checkpoint-1035/spiece.model\n",
            "***** Running Evaluation *****\n",
            "  Num examples = 818\n",
            "  Batch size = 32\n",
            "Saving model checkpoint to t5-efficient-small-nl16-finetuned-samsum-exp3/checkpoint-1150\n",
            "Configuration saved in t5-efficient-small-nl16-finetuned-samsum-exp3/checkpoint-1150/config.json\n",
            "Model weights saved in t5-efficient-small-nl16-finetuned-samsum-exp3/checkpoint-1150/pytorch_model.bin\n",
            "tokenizer config file saved in t5-efficient-small-nl16-finetuned-samsum-exp3/checkpoint-1150/tokenizer_config.json\n",
            "Special tokens file saved in t5-efficient-small-nl16-finetuned-samsum-exp3/checkpoint-1150/special_tokens_map.json\n",
            "Copy vocab file to t5-efficient-small-nl16-finetuned-samsum-exp3/checkpoint-1150/spiece.model\n",
            "\n",
            "\n",
            "Training completed. Do not forget to share your model on huggingface.co/models =)\n",
            "\n",
            "\n"
          ]
        },
        {
          "output_type": "execute_result",
          "data": {
            "text/plain": [
              "TrainOutput(global_step=1150, training_loss=1.3596257359048594, metrics={'train_runtime': 3176.6246, 'train_samples_per_second': 46.376, 'train_steps_per_second': 0.362, 'total_flos': 4.538781813967258e+16, 'train_loss': 1.3596257359048594, 'epoch': 10.0})"
            ]
          },
          "metadata": {},
          "execution_count": 43
        }
      ]
    },
    {
      "cell_type": "code",
      "source": [
        "wandb.finish()"
      ],
      "metadata": {
        "id": "nQRflB5lt0K5"
      },
      "execution_count": null,
      "outputs": []
    },
    {
      "cell_type": "markdown",
      "source": [
        "#Experiment 4\n",
        "\n",
        "Increasing learning rate to 2.5e-3 didn't make the model outperform model from experiment 2 so let's go back to learning rate of 1e-3 but this time I'm going to train only for 6 epochs making lr decay faster. I'm also going to reduce weight decay to 0.001"
      ],
      "metadata": {
        "id": "FpEvMEqV_Ph1"
      }
    },
    {
      "cell_type": "code",
      "source": [
        "model = AutoModelForSeq2SeqLM.from_pretrained(model_checkpoint)"
      ],
      "metadata": {
        "id": "3GsUkTE12XZH"
      },
      "execution_count": null,
      "outputs": []
    },
    {
      "cell_type": "code",
      "source": [
        "batch_size = 32\n",
        "num_train_epochs = 6\n",
        "logging_steps = 100\n",
        "model_name = model_checkpoint.split(\"/\")[-1]\n",
        "\n",
        "args = Seq2SeqTrainingArguments(\n",
        "    output_dir=f\"{model_name}-finetuned-samsum-exp4\",\n",
        "    evaluation_strategy=\"epoch\",\n",
        "    learning_rate=1e-3,\n",
        "    per_device_train_batch_size=batch_size,\n",
        "    per_device_eval_batch_size=batch_size,\n",
        "    weight_decay=0.001,\n",
        "    lr_scheduler_type='linear',\n",
        "    num_train_epochs=num_train_epochs,\n",
        "    predict_with_generate=True,\n",
        "    logging_steps=logging_steps,\n",
        "    report_to=\"wandb\",\n",
        "    run_name='exp_4',\n",
        "    logging_strategy='steps',\n",
        "    save_strategy='epoch',\n",
        "    logging_first_step=True,\n",
        "    generation_num_beams=5,\n",
        "    warmup_ratio=0.05,\n",
        "    gradient_accumulation_steps=4\n",
        "\n",
        ")"
      ],
      "metadata": {
        "id": "1v94RYYC_Upl"
      },
      "execution_count": null,
      "outputs": []
    },
    {
      "cell_type": "code",
      "source": [
        "trainer = Seq2SeqTrainer(\n",
        "    model,\n",
        "    args,\n",
        "    train_dataset=tokenized_datasets[\"train\"],\n",
        "    eval_dataset=tokenized_datasets[\"validation\"],\n",
        "    data_collator=data_collator,\n",
        "    tokenizer=tokenizer,\n",
        "    compute_metrics=compute_metrics,\n",
        ")"
      ],
      "metadata": {
        "id": "yL1VpbjO_u7y"
      },
      "execution_count": null,
      "outputs": []
    },
    {
      "cell_type": "markdown",
      "source": [
        "#Experiment 4 results\n",
        "\n",
        "Training for less epochs and reducing weight decay didn't improve model performance. At the end of training metrics are almost on the same level as they were after final epoch of all the other experiments"
      ],
      "metadata": {
        "id": "d1tDWWyUoZVB"
      }
    },
    {
      "cell_type": "markdown",
      "source": [
        "![exp4.PNG](data:image/png;base64,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)"
      ],
      "metadata": {
        "id": "O1g6QmTwoaBe"
      }
    },
    {
      "cell_type": "code",
      "source": [
        "trainer.train()"
      ],
      "metadata": {
        "colab": {
          "base_uri": "https://localhost:8080/",
          "height": 1000
        },
        "id": "63OJNV1B_1nY",
        "outputId": "8c18afdd-a1e3-4117-9930-e6e34791238c"
      },
      "execution_count": null,
      "outputs": [
        {
          "output_type": "stream",
          "name": "stderr",
          "text": [
            "/usr/local/lib/python3.7/dist-packages/transformers/optimization.py:310: FutureWarning: This implementation of AdamW is deprecated and will be removed in a future version. Use the PyTorch implementation torch.optim.AdamW instead, or set `no_deprecation_warning=True` to disable this warning\n",
            "  FutureWarning,\n",
            "***** Running training *****\n",
            "  Num examples = 14732\n",
            "  Num Epochs = 6\n",
            "  Instantaneous batch size per device = 32\n",
            "  Total train batch size (w. parallel, distributed & accumulation) = 128\n",
            "  Gradient Accumulation steps = 4\n",
            "  Total optimization steps = 690\n",
            "Automatic Weights & Biases logging enabled, to disable set os.environ[\"WANDB_DISABLED\"] = \"true\"\n"
          ]
        },
        {
          "output_type": "display_data",
          "data": {
            "text/plain": [
              "<IPython.core.display.HTML object>"
            ],
            "text/html": [
              "Changes to your `wandb` environment variables will be ignored because your `wandb` session has already started. For more information on how to modify your settings with `wandb.init()` arguments, please refer to <a href=\"https://wandb.me/wandb-init\" target=\"_blank\">the W&B docs</a>."
            ]
          },
          "metadata": {}
        },
        {
          "output_type": "stream",
          "name": "stderr",
          "text": [
            "\u001b[34m\u001b[1mwandb\u001b[0m: Currently logged in as: \u001b[33mgozdi\u001b[0m. Use \u001b[1m`wandb login --relogin`\u001b[0m to force relogin\n"
          ]
        },
        {
          "output_type": "display_data",
          "data": {
            "text/plain": [
              "<IPython.core.display.HTML object>"
            ],
            "text/html": [
              "Tracking run with wandb version 0.13.4"
            ]
          },
          "metadata": {}
        },
        {
          "output_type": "display_data",
          "data": {
            "text/plain": [
              "<IPython.core.display.HTML object>"
            ],
            "text/html": [
              "Run data is saved locally in <code>/content/wandb/run-20221030_222533-1k6ocfle</code>"
            ]
          },
          "metadata": {}
        },
        {
          "output_type": "display_data",
          "data": {
            "text/plain": [
              "<IPython.core.display.HTML object>"
            ],
            "text/html": [
              "Syncing run <strong><a href=\"https://wandb.ai/gozdi/samsum_summarization/runs/1k6ocfle\" target=\"_blank\">exp_4</a></strong> to <a href=\"https://wandb.ai/gozdi/samsum_summarization\" target=\"_blank\">Weights & Biases</a> (<a href=\"https://wandb.me/run\" target=\"_blank\">docs</a>)<br/>"
            ]
          },
          "metadata": {}
        },
        {
          "output_type": "display_data",
          "data": {
            "text/plain": [
              "<IPython.core.display.HTML object>"
            ],
            "text/html": [
              "\n",
              "    <div>\n",
              "      \n",
              "      <progress value='690' max='690' style='width:300px; height:20px; vertical-align: middle;'></progress>\n",
              "      [690/690 31:44, Epoch 5/6]\n",
              "    </div>\n",
              "    <table border=\"1\" class=\"dataframe\">\n",
              "  <thead>\n",
              " <tr style=\"text-align: left;\">\n",
              "      <th>Epoch</th>\n",
              "      <th>Training Loss</th>\n",
              "      <th>Validation Loss</th>\n",
              "      <th>Rouge1</th>\n",
              "      <th>Rouge2</th>\n",
              "      <th>Rougel</th>\n",
              "      <th>Rougelsum</th>\n",
              "    </tr>\n",
              "  </thead>\n",
              "  <tbody>\n",
              "    <tr>\n",
              "      <td>0</td>\n",
              "      <td>2.715600</td>\n",
              "      <td>1.745581</td>\n",
              "      <td>43.653000</td>\n",
              "      <td>21.085200</td>\n",
              "      <td>37.137700</td>\n",
              "      <td>40.482000</td>\n",
              "    </tr>\n",
              "    <tr>\n",
              "      <td>1</td>\n",
              "      <td>1.905800</td>\n",
              "      <td>1.658016</td>\n",
              "      <td>46.454700</td>\n",
              "      <td>23.812900</td>\n",
              "      <td>39.237700</td>\n",
              "      <td>42.842300</td>\n",
              "    </tr>\n",
              "    <tr>\n",
              "      <td>2</td>\n",
              "      <td>1.732500</td>\n",
              "      <td>1.638405</td>\n",
              "      <td>46.716200</td>\n",
              "      <td>24.117900</td>\n",
              "      <td>39.712300</td>\n",
              "      <td>43.381500</td>\n",
              "    </tr>\n",
              "    <tr>\n",
              "      <td>3</td>\n",
              "      <td>1.606800</td>\n",
              "      <td>1.610961</td>\n",
              "      <td>47.329400</td>\n",
              "      <td>24.854800</td>\n",
              "      <td>40.616400</td>\n",
              "      <td>43.907600</td>\n",
              "    </tr>\n",
              "    <tr>\n",
              "      <td>4</td>\n",
              "      <td>1.517900</td>\n",
              "      <td>1.615638</td>\n",
              "      <td>48.021100</td>\n",
              "      <td>25.496200</td>\n",
              "      <td>40.997000</td>\n",
              "      <td>44.646200</td>\n",
              "    </tr>\n",
              "    <tr>\n",
              "      <td>5</td>\n",
              "      <td>1.433500</td>\n",
              "      <td>1.622739</td>\n",
              "      <td>47.960600</td>\n",
              "      <td>25.426800</td>\n",
              "      <td>40.695600</td>\n",
              "      <td>44.686800</td>\n",
              "    </tr>\n",
              "  </tbody>\n",
              "</table><p>"
            ]
          },
          "metadata": {}
        },
        {
          "output_type": "stream",
          "name": "stderr",
          "text": [
            "***** Running Evaluation *****\n",
            "  Num examples = 818\n",
            "  Batch size = 32\n",
            "Saving model checkpoint to t5-efficient-small-nl16-finetuned-samsum-exp4/checkpoint-115\n",
            "Configuration saved in t5-efficient-small-nl16-finetuned-samsum-exp4/checkpoint-115/config.json\n",
            "Model weights saved in t5-efficient-small-nl16-finetuned-samsum-exp4/checkpoint-115/pytorch_model.bin\n",
            "tokenizer config file saved in t5-efficient-small-nl16-finetuned-samsum-exp4/checkpoint-115/tokenizer_config.json\n",
            "Special tokens file saved in t5-efficient-small-nl16-finetuned-samsum-exp4/checkpoint-115/special_tokens_map.json\n",
            "Copy vocab file to t5-efficient-small-nl16-finetuned-samsum-exp4/checkpoint-115/spiece.model\n",
            "***** Running Evaluation *****\n",
            "  Num examples = 818\n",
            "  Batch size = 32\n",
            "Saving model checkpoint to t5-efficient-small-nl16-finetuned-samsum-exp4/checkpoint-230\n",
            "Configuration saved in t5-efficient-small-nl16-finetuned-samsum-exp4/checkpoint-230/config.json\n",
            "Model weights saved in t5-efficient-small-nl16-finetuned-samsum-exp4/checkpoint-230/pytorch_model.bin\n",
            "tokenizer config file saved in t5-efficient-small-nl16-finetuned-samsum-exp4/checkpoint-230/tokenizer_config.json\n",
            "Special tokens file saved in t5-efficient-small-nl16-finetuned-samsum-exp4/checkpoint-230/special_tokens_map.json\n",
            "Copy vocab file to t5-efficient-small-nl16-finetuned-samsum-exp4/checkpoint-230/spiece.model\n",
            "***** Running Evaluation *****\n",
            "  Num examples = 818\n",
            "  Batch size = 32\n",
            "Saving model checkpoint to t5-efficient-small-nl16-finetuned-samsum-exp4/checkpoint-345\n",
            "Configuration saved in t5-efficient-small-nl16-finetuned-samsum-exp4/checkpoint-345/config.json\n",
            "Model weights saved in t5-efficient-small-nl16-finetuned-samsum-exp4/checkpoint-345/pytorch_model.bin\n",
            "tokenizer config file saved in t5-efficient-small-nl16-finetuned-samsum-exp4/checkpoint-345/tokenizer_config.json\n",
            "Special tokens file saved in t5-efficient-small-nl16-finetuned-samsum-exp4/checkpoint-345/special_tokens_map.json\n",
            "Copy vocab file to t5-efficient-small-nl16-finetuned-samsum-exp4/checkpoint-345/spiece.model\n",
            "***** Running Evaluation *****\n",
            "  Num examples = 818\n",
            "  Batch size = 32\n",
            "Saving model checkpoint to t5-efficient-small-nl16-finetuned-samsum-exp4/checkpoint-460\n",
            "Configuration saved in t5-efficient-small-nl16-finetuned-samsum-exp4/checkpoint-460/config.json\n",
            "Model weights saved in t5-efficient-small-nl16-finetuned-samsum-exp4/checkpoint-460/pytorch_model.bin\n",
            "tokenizer config file saved in t5-efficient-small-nl16-finetuned-samsum-exp4/checkpoint-460/tokenizer_config.json\n",
            "Special tokens file saved in t5-efficient-small-nl16-finetuned-samsum-exp4/checkpoint-460/special_tokens_map.json\n",
            "Copy vocab file to t5-efficient-small-nl16-finetuned-samsum-exp4/checkpoint-460/spiece.model\n",
            "***** Running Evaluation *****\n",
            "  Num examples = 818\n",
            "  Batch size = 32\n",
            "Saving model checkpoint to t5-efficient-small-nl16-finetuned-samsum-exp4/checkpoint-575\n",
            "Configuration saved in t5-efficient-small-nl16-finetuned-samsum-exp4/checkpoint-575/config.json\n",
            "Model weights saved in t5-efficient-small-nl16-finetuned-samsum-exp4/checkpoint-575/pytorch_model.bin\n",
            "tokenizer config file saved in t5-efficient-small-nl16-finetuned-samsum-exp4/checkpoint-575/tokenizer_config.json\n",
            "Special tokens file saved in t5-efficient-small-nl16-finetuned-samsum-exp4/checkpoint-575/special_tokens_map.json\n",
            "Copy vocab file to t5-efficient-small-nl16-finetuned-samsum-exp4/checkpoint-575/spiece.model\n",
            "***** Running Evaluation *****\n",
            "  Num examples = 818\n",
            "  Batch size = 32\n",
            "Saving model checkpoint to t5-efficient-small-nl16-finetuned-samsum-exp4/checkpoint-690\n",
            "Configuration saved in t5-efficient-small-nl16-finetuned-samsum-exp4/checkpoint-690/config.json\n",
            "Model weights saved in t5-efficient-small-nl16-finetuned-samsum-exp4/checkpoint-690/pytorch_model.bin\n",
            "tokenizer config file saved in t5-efficient-small-nl16-finetuned-samsum-exp4/checkpoint-690/tokenizer_config.json\n",
            "Special tokens file saved in t5-efficient-small-nl16-finetuned-samsum-exp4/checkpoint-690/special_tokens_map.json\n",
            "Copy vocab file to t5-efficient-small-nl16-finetuned-samsum-exp4/checkpoint-690/spiece.model\n",
            "\n",
            "\n",
            "Training completed. Do not forget to share your model on huggingface.co/models =)\n",
            "\n",
            "\n"
          ]
        },
        {
          "output_type": "execute_result",
          "data": {
            "text/plain": [
              "TrainOutput(global_step=690, training_loss=1.768792676234591, metrics={'train_runtime': 1916.3569, 'train_samples_per_second': 46.125, 'train_steps_per_second': 0.36, 'total_flos': 2.728139517923328e+16, 'train_loss': 1.768792676234591, 'epoch': 6.0})"
            ]
          },
          "metadata": {},
          "execution_count": 26
        }
      ]
    },
    {
      "cell_type": "code",
      "source": [
        "wandb.finish()"
      ],
      "metadata": {
        "id": "BMbRBWRa__pQ"
      },
      "execution_count": null,
      "outputs": []
    },
    {
      "cell_type": "markdown",
      "source": [
        "#Evaluating the best model on test set\n",
        "\n",
        "The best performing model is the one from second experiment. It has been saved to huggingface hub so I'm going to download it from there and test in on testing set"
      ],
      "metadata": {
        "id": "2Ml11ooEqL3Z"
      }
    },
    {
      "cell_type": "code",
      "source": [
        "model = AutoModelForSeq2SeqLM.from_pretrained('Gozdi/t5-efficient-small-nl16-samsum-exp2')"
      ],
      "metadata": {
        "colab": {
          "base_uri": "https://localhost:8080/",
          "height": 764,
          "referenced_widgets": [
            "cdb73ede16b64a149afe9b273c5eb8c3",
            "ccad7eba8cb3431da24fd7720996ec98",
            "ee5cb1efddda4069b723470439ebbed0",
            "045c2a6d431d4ba9bc71775b0e39e259",
            "6b3320c1e066429abe9ecca8bd18b52d",
            "3fad8de680b1411297d6f88ebf0b4ca0",
            "e50e4b3702fb4f55a811793c0a898807",
            "821e83ed6c2f44a59bce637181388114",
            "44ef9c03c0cc41f59b6e69f76c2d8500",
            "96b7273c8a404feaac96963ba6410b74",
            "a844ca8f6fde43148ba7bd169ed15526",
            "9000e1c8f11d4be88d49d21d04258383",
            "1218d4f6637e4c35b0e99abf60ae95a2",
            "d52c1ab385ae4e55ae86312e1ea7eaeb",
            "47a0cf0d29b54468aa4804d443631f99",
            "29063ea109af4ea69fb30ec0fcda61e0",
            "0439ec1071ab497db0938a0ded0ad9e6",
            "8451f3cad1314124a6cabdeed4b9592c",
            "0b200dba333f4e71ad8f66f9421e6ef8",
            "1b4efdeabe8b46778b0fd3b445692956",
            "fb2d04bad9b64e73b492506de6ba49ed",
            "a4ea701033a841ceb19de3af4a17a11c"
          ]
        },
        "id": "e5_0nXYYHbCr",
        "outputId": "524ff4a3-212b-4746-c1c6-72a70a84eae2"
      },
      "execution_count": null,
      "outputs": [
        {
          "output_type": "display_data",
          "data": {
            "text/plain": [
              "Downloading:   0%|          | 0.00/765 [00:00<?, ?B/s]"
            ],
            "application/vnd.jupyter.widget-view+json": {
              "version_major": 2,
              "version_minor": 0,
              "model_id": "cdb73ede16b64a149afe9b273c5eb8c3"
            }
          },
          "metadata": {}
        },
        {
          "output_type": "stream",
          "name": "stderr",
          "text": [
            "loading configuration file config.json from cache at /root/.cache/huggingface/hub/models--Gozdi--t5-efficient-small-nl16-samsum-exp2/snapshots/c16dd4db84729cce5ce6be09fcfedc6e201c53a6/config.json\n",
            "Model config T5Config {\n",
            "  \"_name_or_path\": \"Gozdi/t5-efficient-small-nl16-samsum-exp2\",\n",
            "  \"architectures\": [\n",
            "    \"T5ForConditionalGeneration\"\n",
            "  ],\n",
            "  \"d_ff\": 2048,\n",
            "  \"d_kv\": 64,\n",
            "  \"d_model\": 512,\n",
            "  \"decoder_start_token_id\": 0,\n",
            "  \"dense_act_fn\": \"relu\",\n",
            "  \"dropout_rate\": 0.1,\n",
            "  \"eos_token_id\": 1,\n",
            "  \"feed_forward_proj\": \"relu\",\n",
            "  \"initializer_factor\": 1.0,\n",
            "  \"is_encoder_decoder\": true,\n",
            "  \"is_gated_act\": false,\n",
            "  \"layer_norm_epsilon\": 1e-06,\n",
            "  \"model_type\": \"t5\",\n",
            "  \"n_positions\": 512,\n",
            "  \"num_decoder_layers\": 16,\n",
            "  \"num_heads\": 8,\n",
            "  \"num_layers\": 16,\n",
            "  \"pad_token_id\": 0,\n",
            "  \"relative_attention_max_distance\": 128,\n",
            "  \"relative_attention_num_buckets\": 32,\n",
            "  \"torch_dtype\": \"float32\",\n",
            "  \"transformers_version\": \"4.23.1\",\n",
            "  \"use_cache\": true,\n",
            "  \"vocab_size\": 32128\n",
            "}\n",
            "\n"
          ]
        },
        {
          "output_type": "display_data",
          "data": {
            "text/plain": [
              "Downloading:   0%|          | 0.00/536M [00:00<?, ?B/s]"
            ],
            "application/vnd.jupyter.widget-view+json": {
              "version_major": 2,
              "version_minor": 0,
              "model_id": "9000e1c8f11d4be88d49d21d04258383"
            }
          },
          "metadata": {}
        },
        {
          "output_type": "stream",
          "name": "stderr",
          "text": [
            "loading weights file pytorch_model.bin from cache at /root/.cache/huggingface/hub/models--Gozdi--t5-efficient-small-nl16-samsum-exp2/snapshots/c16dd4db84729cce5ce6be09fcfedc6e201c53a6/pytorch_model.bin\n",
            "All model checkpoint weights were used when initializing T5ForConditionalGeneration.\n",
            "\n",
            "All the weights of T5ForConditionalGeneration were initialized from the model checkpoint at Gozdi/t5-efficient-small-nl16-samsum-exp2.\n",
            "If your task is similar to the task the model of the checkpoint was trained on, you can already use T5ForConditionalGeneration for predictions without further training.\n"
          ]
        }
      ]
    },
    {
      "cell_type": "markdown",
      "source": [
        "Using trainer will automaticly upload results to weights and biases"
      ],
      "metadata": {
        "id": "BsYYBTwpq1bF"
      }
    },
    {
      "cell_type": "code",
      "source": [
        "args = Seq2SeqTrainingArguments(\n",
        "    output_dir=f\"{model_name}-finetuned-samsum-exp4\",\n",
        "    evaluation_strategy=\"epoch\",\n",
        "    learning_rate=1e-3,\n",
        "    per_device_train_batch_size=batch_size,\n",
        "    per_device_eval_batch_size=batch_size,\n",
        "    weight_decay=0.001,\n",
        "    lr_scheduler_type='linear',\n",
        "    num_train_epochs=num_train_epochs,\n",
        "    predict_with_generate=True,\n",
        "    logging_steps=logging_steps,\n",
        "    report_to=\"wandb\",\n",
        "    run_name='final_test',\n",
        "    logging_strategy='steps',\n",
        "    save_strategy='epoch',\n",
        "    logging_first_step=True,\n",
        "    generation_num_beams=5,\n",
        "    warmup_ratio=0.05,\n",
        "    gradient_accumulation_steps=4\n",
        "\n",
        ")"
      ],
      "metadata": {
        "colab": {
          "base_uri": "https://localhost:8080/"
        },
        "id": "RCrt2Ue8Ia9u",
        "outputId": "f58cbd2b-6118-432b-900d-f425b6cf14b5"
      },
      "execution_count": null,
      "outputs": [
        {
          "output_type": "stream",
          "name": "stderr",
          "text": [
            "PyTorch: setting up devices\n"
          ]
        }
      ]
    },
    {
      "cell_type": "code",
      "source": [
        "trainer = Seq2SeqTrainer(\n",
        "    model,\n",
        "    args,\n",
        "    train_dataset=tokenized_datasets[\"train\"],\n",
        "    eval_dataset=tokenized_datasets[\"test\"],\n",
        "    data_collator=data_collator,\n",
        "    tokenizer=tokenizer,\n",
        "    compute_metrics=compute_metrics,\n",
        ")"
      ],
      "metadata": {
        "id": "-CFHs6PjHvGi"
      },
      "execution_count": null,
      "outputs": []
    },
    {
      "cell_type": "code",
      "source": [
        "test_metrics = trainer.evaluate()"
      ],
      "metadata": {
        "colab": {
          "base_uri": "https://localhost:8080/",
          "height": 181
        },
        "id": "OtzgN_jfH6e6",
        "outputId": "42907ba4-5967-4909-8a83-4de139712ca2"
      },
      "execution_count": null,
      "outputs": [
        {
          "output_type": "stream",
          "name": "stderr",
          "text": [
            "***** Running Evaluation *****\n",
            "  Num examples = 819\n",
            "  Batch size = 32\n"
          ]
        },
        {
          "output_type": "display_data",
          "data": {
            "text/plain": [
              "<IPython.core.display.HTML object>"
            ],
            "text/html": [
              "\n",
              "    <div>\n",
              "      \n",
              "      <progress value='26' max='26' style='width:300px; height:20px; vertical-align: middle;'></progress>\n",
              "      [26/26 00:36]\n",
              "    </div>\n",
              "    "
            ]
          },
          "metadata": {}
        },
        {
          "output_type": "stream",
          "name": "stderr",
          "text": [
            "Automatic Weights & Biases logging enabled, to disable set os.environ[\"WANDB_DISABLED\"] = \"true\"\n"
          ]
        },
        {
          "output_type": "display_data",
          "data": {
            "text/plain": [
              "<IPython.core.display.HTML object>"
            ],
            "text/html": [
              "Changes to your `wandb` environment variables will be ignored because your `wandb` session has already started. For more information on how to modify your settings with `wandb.init()` arguments, please refer to <a href=\"https://wandb.me/wandb-init\" target=\"_blank\">the W&B docs</a>."
            ]
          },
          "metadata": {}
        },
        {
          "output_type": "display_data",
          "data": {
            "text/plain": [
              "<IPython.core.display.HTML object>"
            ],
            "text/html": [
              "Tracking run with wandb version 0.13.4"
            ]
          },
          "metadata": {}
        },
        {
          "output_type": "display_data",
          "data": {
            "text/plain": [
              "<IPython.core.display.HTML object>"
            ],
            "text/html": [
              "Run data is saved locally in <code>/content/wandb/run-20221030_230353-hdy9614f</code>"
            ]
          },
          "metadata": {}
        },
        {
          "output_type": "display_data",
          "data": {
            "text/plain": [
              "<IPython.core.display.HTML object>"
            ],
            "text/html": [
              "Syncing run <strong><a href=\"https://wandb.ai/gozdi/samsum_summarization/runs/hdy9614f\" target=\"_blank\">final_test</a></strong> to <a href=\"https://wandb.ai/gozdi/samsum_summarization\" target=\"_blank\">Weights & Biases</a> (<a href=\"https://wandb.me/run\" target=\"_blank\">docs</a>)<br/>"
            ]
          },
          "metadata": {}
        }
      ]
    },
    {
      "cell_type": "markdown",
      "source": [
        "#Test set metrics\n",
        "\n",
        "Results on test set are worse than on validation set.  Judging from the graphs, the difference may seem big but it's the scale of the graphs that causes this effect\n",
        "\n",
        "Let's look at results metric by meterics\n",
        "\n",
        "Rouge1: Valid 48.5645 Test 47.2864 \n",
        "\n",
        "Rouge 2: Valid 25.9046 Test 23.6196\n",
        "\n",
        "RougeSum: Valid 45.1479 Test 43.2821\n",
        "\n",
        "RougeL: Valid 41.5816 Test 39.619\n"
      ],
      "metadata": {
        "id": "nbdOInn-rFAl"
      }
    },
    {
      "cell_type": "markdown",
      "source": [
        "![final_results.PNG](data:image/png;base64,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)"
      ],
      "metadata": {
        "id": "1ADHZnQerFIT"
      }
    },
    {
      "cell_type": "code",
      "source": [
        "pd.DataFrame(test_metrics, index=[0])"
      ],
      "metadata": {
        "colab": {
          "base_uri": "https://localhost:8080/",
          "height": 81
        },
        "id": "WfrzEZuOH_eS",
        "outputId": "13e5f27e-90d9-48db-c129-a119217357f9"
      },
      "execution_count": null,
      "outputs": [
        {
          "output_type": "execute_result",
          "data": {
            "text/plain": [
              "   eval_loss  eval_rouge1  eval_rouge2  eval_rougeL  eval_rougeLsum  \\\n",
              "0   1.655984      47.2864      23.6196       39.619         43.2821   \n",
              "\n",
              "   eval_runtime  eval_samples_per_second  eval_steps_per_second  \n",
              "0       39.3665                   20.805                   0.66  "
            ],
            "text/html": [
              "\n",
              "  <div id=\"df-98f4ded6-dd8c-41fc-9319-459b1dbb571e\">\n",
              "    <div class=\"colab-df-container\">\n",
              "      <div>\n",
              "<style scoped>\n",
              "    .dataframe tbody tr th:only-of-type {\n",
              "        vertical-align: middle;\n",
              "    }\n",
              "\n",
              "    .dataframe tbody tr th {\n",
              "        vertical-align: top;\n",
              "    }\n",
              "\n",
              "    .dataframe thead th {\n",
              "        text-align: right;\n",
              "    }\n",
              "</style>\n",
              "<table border=\"1\" class=\"dataframe\">\n",
              "  <thead>\n",
              "    <tr style=\"text-align: right;\">\n",
              "      <th></th>\n",
              "      <th>eval_loss</th>\n",
              "      <th>eval_rouge1</th>\n",
              "      <th>eval_rouge2</th>\n",
              "      <th>eval_rougeL</th>\n",
              "      <th>eval_rougeLsum</th>\n",
              "      <th>eval_runtime</th>\n",
              "      <th>eval_samples_per_second</th>\n",
              "      <th>eval_steps_per_second</th>\n",
              "    </tr>\n",
              "  </thead>\n",
              "  <tbody>\n",
              "    <tr>\n",
              "      <th>0</th>\n",
              "      <td>1.655984</td>\n",
              "      <td>47.2864</td>\n",
              "      <td>23.6196</td>\n",
              "      <td>39.619</td>\n",
              "      <td>43.2821</td>\n",
              "      <td>39.3665</td>\n",
              "      <td>20.805</td>\n",
              "      <td>0.66</td>\n",
              "    </tr>\n",
              "  </tbody>\n",
              "</table>\n",
              "</div>\n",
              "      <button class=\"colab-df-convert\" onclick=\"convertToInteractive('df-98f4ded6-dd8c-41fc-9319-459b1dbb571e')\"\n",
              "              title=\"Convert this dataframe to an interactive table.\"\n",
              "              style=\"display:none;\">\n",
              "        \n",
              "  <svg xmlns=\"http://www.w3.org/2000/svg\" height=\"24px\"viewBox=\"0 0 24 24\"\n",
              "       width=\"24px\">\n",
              "    <path d=\"M0 0h24v24H0V0z\" fill=\"none\"/>\n",
              "    <path d=\"M18.56 5.44l.94 2.06.94-2.06 2.06-.94-2.06-.94-.94-2.06-.94 2.06-2.06.94zm-11 1L8.5 8.5l.94-2.06 2.06-.94-2.06-.94L8.5 2.5l-.94 2.06-2.06.94zm10 10l.94 2.06.94-2.06 2.06-.94-2.06-.94-.94-2.06-.94 2.06-2.06.94z\"/><path d=\"M17.41 7.96l-1.37-1.37c-.4-.4-.92-.59-1.43-.59-.52 0-1.04.2-1.43.59L10.3 9.45l-7.72 7.72c-.78.78-.78 2.05 0 2.83L4 21.41c.39.39.9.59 1.41.59.51 0 1.02-.2 1.41-.59l7.78-7.78 2.81-2.81c.8-.78.8-2.07 0-2.86zM5.41 20L4 18.59l7.72-7.72 1.47 1.35L5.41 20z\"/>\n",
              "  </svg>\n",
              "      </button>\n",
              "      \n",
              "  <style>\n",
              "    .colab-df-container {\n",
              "      display:flex;\n",
              "      flex-wrap:wrap;\n",
              "      gap: 12px;\n",
              "    }\n",
              "\n",
              "    .colab-df-convert {\n",
              "      background-color: #E8F0FE;\n",
              "      border: none;\n",
              "      border-radius: 50%;\n",
              "      cursor: pointer;\n",
              "      display: none;\n",
              "      fill: #1967D2;\n",
              "      height: 32px;\n",
              "      padding: 0 0 0 0;\n",
              "      width: 32px;\n",
              "    }\n",
              "\n",
              "    .colab-df-convert:hover {\n",
              "      background-color: #E2EBFA;\n",
              "      box-shadow: 0px 1px 2px rgba(60, 64, 67, 0.3), 0px 1px 3px 1px rgba(60, 64, 67, 0.15);\n",
              "      fill: #174EA6;\n",
              "    }\n",
              "\n",
              "    [theme=dark] .colab-df-convert {\n",
              "      background-color: #3B4455;\n",
              "      fill: #D2E3FC;\n",
              "    }\n",
              "\n",
              "    [theme=dark] .colab-df-convert:hover {\n",
              "      background-color: #434B5C;\n",
              "      box-shadow: 0px 1px 3px 1px rgba(0, 0, 0, 0.15);\n",
              "      filter: drop-shadow(0px 1px 2px rgba(0, 0, 0, 0.3));\n",
              "      fill: #FFFFFF;\n",
              "    }\n",
              "  </style>\n",
              "\n",
              "      <script>\n",
              "        const buttonEl =\n",
              "          document.querySelector('#df-98f4ded6-dd8c-41fc-9319-459b1dbb571e button.colab-df-convert');\n",
              "        buttonEl.style.display =\n",
              "          google.colab.kernel.accessAllowed ? 'block' : 'none';\n",
              "\n",
              "        async function convertToInteractive(key) {\n",
              "          const element = document.querySelector('#df-98f4ded6-dd8c-41fc-9319-459b1dbb571e');\n",
              "          const dataTable =\n",
              "            await google.colab.kernel.invokeFunction('convertToInteractive',\n",
              "                                                     [key], {});\n",
              "          if (!dataTable) return;\n",
              "\n",
              "          const docLinkHtml = 'Like what you see? Visit the ' +\n",
              "            '<a target=\"_blank\" href=https://colab.research.google.com/notebooks/data_table.ipynb>data table notebook</a>'\n",
              "            + ' to learn more about interactive tables.';\n",
              "          element.innerHTML = '';\n",
              "          dataTable['output_type'] = 'display_data';\n",
              "          await google.colab.output.renderOutput(dataTable, element);\n",
              "          const docLink = document.createElement('div');\n",
              "          docLink.innerHTML = docLinkHtml;\n",
              "          element.appendChild(docLink);\n",
              "        }\n",
              "      </script>\n",
              "    </div>\n",
              "  </div>\n",
              "  "
            ]
          },
          "metadata": {},
          "execution_count": 38
        }
      ]
    },
    {
      "cell_type": "code",
      "source": [
        "wandb.finish()"
      ],
      "metadata": {
        "id": "v_6c_SQmIMzT"
      },
      "execution_count": null,
      "outputs": []
    },
    {
      "cell_type": "markdown",
      "source": [
        "#Using the model\n",
        "\n",
        "Summaries will be generated with beam search with number of beams equal to 10 and a second summary will be generated with typical sampling https://arxiv.org/pdf/2202.00666.pdf. I want to test typical sampling and comapre it to beam search. I'm setting maximum length of summary to 100 not to limit the model. Pipeline be default uses max length from models config and in case of t5 it was only 20 stopping some predictions in the middle of a sentence."
      ],
      "metadata": {
        "id": "SIfCxTX9uR_L"
      }
    },
    {
      "cell_type": "code",
      "source": [
        "summarizer = pipeline(\"summarization\", model='Gozdi/t5-efficient-small-nl16-samsum-exp2')"
      ],
      "metadata": {
        "id": "OAo3HoUKIZz6"
      },
      "execution_count": null,
      "outputs": []
    },
    {
      "cell_type": "code",
      "source": [
        "def print_summary(idx=None):\n",
        "  if type(idx) == type(None):\n",
        "    idx = np.random.randint(0, len(dataset['test'])+1)\n",
        "  sample = dataset['test'][idx]\n",
        "  print('dialogue: \\n')\n",
        "  print(sample['dialogue'])\n",
        "  print('-------------'*5)\n",
        "  print('summary from dataset: \\n')\n",
        "  print(sample['summary'])\n",
        "  print('-------------'*5)\n",
        "  print('generated summary beam search: \\n')\n",
        "  print(summarizer(sample['dialogue'], num_beams=10, max_length=100)[0]['summary_text'])\n",
        "  print('-------------'*5)\n",
        "  print('generated summary typical sampling: \\n')\n",
        "  print(summarizer(sample['dialogue'], typical_p=0.9, top_k=40, max_length=100, do_sample=True)[0]['summary_text'])"
      ],
      "metadata": {
        "id": "rH99S0EYuqgU"
      },
      "execution_count": null,
      "outputs": []
    },
    {
      "cell_type": "markdown",
      "source": [
        "In this beam search summary Igor's gender was confused in the first sentence but it's correct in the second one. Besides this in my opinion is as good as ground truth one. \n",
        "\n",
        "Typical sampling summary is simmilar to beam search one but worse in my opinion, it also confuses Igors gender."
      ],
      "metadata": {
        "id": "YDjFUAIc_kZU"
      }
    },
    {
      "cell_type": "code",
      "source": [
        "print_summary(17)"
      ],
      "metadata": {
        "colab": {
          "base_uri": "https://localhost:8080/"
        },
        "id": "Mye_jW5_ww63",
        "outputId": "93433d6d-cf9b-42c7-f2d4-67b66a7d9bc4"
      },
      "execution_count": null,
      "outputs": [
        {
          "output_type": "stream",
          "name": "stdout",
          "text": [
            "dialogue: \n",
            "\n",
            "Igor: Shit, I've got so much to do at work and I'm so demotivated. \r\n",
            "John: It's pretty irresponsible to give that much work to someone on their notice period.\r\n",
            "Igor: Yeah, exactly! Should I even care?\r\n",
            "John: It's up to you, but you know what they say...\r\n",
            "Igor: What do you mean?\r\n",
            "John: Well, they say how you end things shows how you really are...\r\n",
            "Igor: And now how you start, right?\r\n",
            "John: Gotcha! \r\n",
            "Igor: So what shall I do then? \r\n",
            "John: It's only two weeks left, so grit your teeth and do what you have to do. \r\n",
            "Igor: Easy to say, hard to perform.\r\n",
            "John: Come on, stop thinking, start doing! \r\n",
            "Igor: That's so typical of you!  ;)  \n",
            "-----------------------------------------------------------------\n",
            "summary from dataset: \n",
            "\n",
            "Igor has a lot of work on his notice period and he feels demotivated. John thinks he should do what he has to do nevertheless. \n",
            "-----------------------------------------------------------------\n",
            "generated summary beam search: \n",
            "\n",
            "Igor is demotivated because she has a lot of work to do at work. John suggests gritting his teeth and doing what he has to do.\n",
            "-----------------------------------------------------------------\n",
            "generated summary typical sampling: \n",
            "\n",
            "Igor is demotivated and has a lot to do at work. John advises him to do what she has to do.\n"
          ]
        }
      ]
    },
    {
      "cell_type": "markdown",
      "source": [
        "Beam search and typical sampling summaries both say that Ashleigh got a job at the cinema. I would interpret this conversation as Ashleigh and Peter are going to the cinema to celebrate the fact that she got the job but I think that even some humans might think that she got a job at the cinema. "
      ],
      "metadata": {
        "id": "mEMDKVTQANrn"
      }
    },
    {
      "cell_type": "code",
      "source": [
        "print_summary(90)"
      ],
      "metadata": {
        "colab": {
          "base_uri": "https://localhost:8080/"
        },
        "id": "CAhuxpzFwVbM",
        "outputId": "d0bcb905-f3c5-47ce-e2fb-2c9c1d9b8e79"
      },
      "execution_count": null,
      "outputs": [
        {
          "output_type": "stream",
          "name": "stderr",
          "text": [
            "Your max_length is set to 100, but you input_length is only 65. You might consider decreasing max_length manually, e.g. summarizer('...', max_length=32)\n"
          ]
        },
        {
          "output_type": "stream",
          "name": "stdout",
          "text": [
            "dialogue: \n",
            "\n",
            "Ashleigh: Looks like we're going to the cinema!! \n",
            "Ashleigh: <file_gif>\n",
            "Peter: You got the job??\n",
            "Ashleigh: I got hte job! :D\n",
            "Peter: <file_gif>\n",
            "Ashleigh: <file_gif>\n",
            "-----------------------------------------------------------------\n",
            "summary from dataset: \n",
            "\n",
            "Ashleigh got the job.\n",
            "-----------------------------------------------------------------\n",
            "generated summary beam search: \n",
            "\n"
          ]
        },
        {
          "output_type": "stream",
          "name": "stderr",
          "text": [
            "Your max_length is set to 100, but you input_length is only 65. You might consider decreasing max_length manually, e.g. summarizer('...', max_length=32)\n"
          ]
        },
        {
          "output_type": "stream",
          "name": "stdout",
          "text": [
            "Ashleigh got a job at the cinema.\n",
            "-----------------------------------------------------------------\n",
            "generated summary typical sampling: \n",
            "\n",
            "Ashleigh got a job at the cinema.\n"
          ]
        }
      ]
    },
    {
      "cell_type": "markdown",
      "source": [
        "Beam search summary says that daisy is in 4 places at the same time which obviously doesn't make sense but she will be in these places in the future. Rest of the summary is in line with the facts but it doesn't say that Daisy and Charlie have met before\n",
        "\n",
        "Typical sampling summary gets current location of Daisy right but hallucinate the fact that charlie will take a ferry to Florence and also repeats itself about Charlie goint to Florence"
      ],
      "metadata": {
        "id": "5aWJ6tukB2tO"
      }
    },
    {
      "cell_type": "code",
      "source": [
        "print_summary(700)"
      ],
      "metadata": {
        "colab": {
          "base_uri": "https://localhost:8080/"
        },
        "id": "93BSTNE60ebu",
        "outputId": "1e1d7a68-4d78-45f7-bcc3-763905fc9514"
      },
      "execution_count": null,
      "outputs": [
        {
          "output_type": "stream",
          "name": "stdout",
          "text": [
            "dialogue: \n",
            "\n",
            "Charlie: How are you doing.\r\n",
            "Daisy: Good, seeing a lot of beautiful places\r\n",
            "Charlie: Where are you now?\r\n",
            "Daisy: in Naples \r\n",
            "Charlie: Pity, I hoped you may be still in Sicily.\r\n",
            "Daisy: No, we took a ferry early in the morning yesterday.\r\n",
            "Charlie: I am still thinking about the evening we spent together.\r\n",
            "Daisy: Yes, it was nice.\r\n",
            "Charlie: I would like to meet you again.\r\n",
            "Daisy: But where?\r\n",
            "Charlie: Either in the US or here.\r\n",
            "Daisy: But we're heading North now. Rome, Florence, Venice.\r\n",
            "Charlie: And you're flying to NY?\r\n",
            "Daisy: No, directly to San Fransisco.\r\n",
            "Charlie: Too bad.\r\n",
            "Daisy: I know.\r\n",
            "Charlie: I think I will take a train to Florence.\r\n",
            "Daisy: wow, are you sure?\r\n",
            "Charlie: More than sure. When are you going to be there?\r\n",
            "Daisy: 1-5 of September.\r\n",
            "Charlie: Perfect. I want to see this amazing city with you.\r\n",
            "Daisy: I am looking forward to it!\r\n",
            "Charlie: Me too!\n",
            "-----------------------------------------------------------------\n",
            "summary from dataset: \n",
            "\n",
            "Daisy is in Naples. Charlie recalls their meeting and wants to see her again. He will come to Florence to see Daisy between 1-5 September.\n",
            "-----------------------------------------------------------------\n",
            "generated summary beam search: \n",
            "\n",
            "Daisy is in Naples, Florence, Venice and San Fransisco. Daisy is going to visit Florence from 1-5 September. Charlie will take a train to Florence.\n",
            "-----------------------------------------------------------------\n",
            "generated summary typical sampling: \n",
            "\n",
            "Daisy is visiting Naples. Charlie will take a ferry to Florence from 1-5 September. Daisy is going to visit Florence on 1-5 September. Charlie is travelling to Florence. \n"
          ]
        }
      ]
    },
    {
      "cell_type": "markdown",
      "source": [
        "Both summaries are valid and almost identical to the ground truth one"
      ],
      "metadata": {
        "id": "sWfhfJA-NQcM"
      }
    },
    {
      "cell_type": "code",
      "source": [
        "print_summary(560)"
      ],
      "metadata": {
        "colab": {
          "base_uri": "https://localhost:8080/"
        },
        "id": "NLUIEErx08N2",
        "outputId": "a101cf5e-0ca5-4bb5-dae5-21e28ee5d914"
      },
      "execution_count": null,
      "outputs": [
        {
          "output_type": "stream",
          "name": "stderr",
          "text": [
            "Your max_length is set to 100, but you input_length is only 52. You might consider decreasing max_length manually, e.g. summarizer('...', max_length=26)\n"
          ]
        },
        {
          "output_type": "stream",
          "name": "stdout",
          "text": [
            "dialogue: \n",
            "\n",
            "Oscar: A coffee at Tristano's?\r\n",
            "Payne: Why not. in 15 mins?\r\n",
            "Oscar: let's make it half an hour ok?\r\n",
            "Payne: great, i'll be there\r\n",
            "Oscar: see you there\n",
            "-----------------------------------------------------------------\n",
            "summary from dataset: \n",
            "\n",
            "Payne and Oscar will have a coffee at Tristano's in half an hour.\n",
            "-----------------------------------------------------------------\n",
            "generated summary beam search: \n",
            "\n"
          ]
        },
        {
          "output_type": "stream",
          "name": "stderr",
          "text": [
            "Your max_length is set to 100, but you input_length is only 52. You might consider decreasing max_length manually, e.g. summarizer('...', max_length=26)\n"
          ]
        },
        {
          "output_type": "stream",
          "name": "stdout",
          "text": [
            "Oscar and Payne will have a coffee at Tristano's in half an hour.\n",
            "-----------------------------------------------------------------\n",
            "generated summary typical sampling: \n",
            "\n",
            "Oscar and Payne will meet for a coffee at Tristano's in half an hour. \n"
          ]
        }
      ]
    },
    {
      "cell_type": "markdown",
      "source": [
        "Beam search summary theoretically sticks to the facts but doesn't specifying to whom 'his' refer to in 'watch some of his stand-ups'. It's not said in the conversation who is the autor of the stand up they are talking about, if it was said model probably would use it instead of his. It is a mistake but a reasonable one. \n",
        "\n",
        "Typical sampling summary would be great with the word Russian as it's not said that author is a Russian."
      ],
      "metadata": {
        "id": "BUEog9ZlRm8W"
      }
    },
    {
      "cell_type": "code",
      "source": [
        "print_summary(1)"
      ],
      "metadata": {
        "colab": {
          "base_uri": "https://localhost:8080/"
        },
        "id": "DmBqmUTI1QTt",
        "outputId": "77a671a4-71e0-4e75-d96f-e311da639944"
      },
      "execution_count": null,
      "outputs": [
        {
          "output_type": "stream",
          "name": "stdout",
          "text": [
            "dialogue: \n",
            "\n",
            "Eric: MACHINE!\r\n",
            "Rob: That's so gr8!\r\n",
            "Eric: I know! And shows how Americans see Russian ;)\r\n",
            "Rob: And it's really funny!\r\n",
            "Eric: I know! I especially like the train part!\r\n",
            "Rob: Hahaha! No one talks to the machine like that!\r\n",
            "Eric: Is this his only stand-up?\r\n",
            "Rob: Idk. I'll check.\r\n",
            "Eric: Sure.\r\n",
            "Rob: Turns out no! There are some of his stand-ups on youtube.\r\n",
            "Eric: Gr8! I'll watch them now!\r\n",
            "Rob: Me too!\r\n",
            "Eric: MACHINE!\r\n",
            "Rob: MACHINE!\r\n",
            "Eric: TTYL?\r\n",
            "Rob: Sure :)\n",
            "-----------------------------------------------------------------\n",
            "summary from dataset: \n",
            "\n",
            "Eric and Rob are going to watch a stand-up on youtube.\n",
            "-----------------------------------------------------------------\n",
            "generated summary beam search: \n",
            "\n",
            "Eric will watch some of his stand-ups on youtube.\n",
            "-----------------------------------------------------------------\n",
            "generated summary typical sampling: \n",
            "\n",
            "Rob and Eric are talking about Russian stand-ups.\n"
          ]
        }
      ]
    },
    {
      "cell_type": "markdown",
      "source": [
        "This conversation is longer than the previous ones and it affects summaries quality. Beam search summary makes sense logically besides the last sentence but it mixes up facts\n",
        "\n",
        "Typical sampling summary doesn't make any seans, it is just a bunch of random words from conversation mixed together."
      ],
      "metadata": {
        "id": "4eTMh9RyUiAK"
      }
    },
    {
      "cell_type": "code",
      "source": [
        "print_summary(430)"
      ],
      "metadata": {
        "colab": {
          "base_uri": "https://localhost:8080/"
        },
        "id": "iUSdR_XS1V8F",
        "outputId": "165efbe1-1abb-472d-82f4-101651c7e811"
      },
      "execution_count": null,
      "outputs": [
        {
          "output_type": "stream",
          "name": "stdout",
          "text": [
            "dialogue: \n",
            "\n",
            "Nathan: Hey Honey, what are our plans for tomorrow then?\r\n",
            "Deborah: So I've been thinking that we should pack everything today, we won't have time tomorrow\r\n",
            "Nathan: Totally true, I started packing my stuff in the bedroom, I also told the girls to start packing too\r\n",
            "Deborah: If Sofie wants to take the unicorn we won't have much space in the car XD\r\n",
            "Nathan: No, I explained to her that he'll be fine without her these few days, I hope it worked :D\r\n",
            "Deborah: We need to take boots and those warm jackets for the girls, my parents promised them to take them on a trip to the forest\r\n",
            "Nathan: I remember, Lucy was really excited about that. Are we taking the bicycles?\r\n",
            "Deborah: Yeah, don't you think we could use some alone time while the rest of the family is hiking? XD\r\n",
            "Nathan: Now you're talking! We could have a ride to this beautiful cliff where we were last year!\r\n",
            "Deborah: Why not, it's a wonderful idea! :*\r\n",
            "Nathan: So tomorrow I'm seeing the dentist after work, you go to pick up the girls from school…\r\n",
            "Deborah: Yeah, then we meet at home, have a quick bite (you probably won't, haha!)\r\n",
            "Nathan: Thanks Honey, so nice of you to remind me of this! After the quick bite you girls have, we are off!\r\n",
            "Deborah: Damn, I forgot to buy this syrup for travel sickness. Will you have time today to do it?\r\n",
            "Nathan: Yes, it's feasible :) I'll do it on my way from work\r\n",
            "Deborah: Wonderful! So see you in the evening then?\r\n",
            "Nathan: I should be home around 6, if nothing happens\r\n",
            "Deborah: Dinner will be waiting for you in the oven, bye :*\n",
            "-----------------------------------------------------------------\n",
            "summary from dataset: \n",
            "\n",
            "Deborah and Nathan want to start packing today as they won't have time tomorrow. They need warm clothes for the girls so Deborah's parents could take them to the forest. Deborah and Nathan want to spend some time alone. They will have a quick bite before their leave. Nathan will be home around 6.\n",
            "-----------------------------------------------------------------\n",
            "generated summary beam search: \n",
            "\n",
            "Deborah, Deborah and Lucy are going to the forest tomorrow. They will take boots and warm jackets for the girls, Lucy will take them on a trip to the forest. They will have dinner in the oven tomorrow.\n",
            "-----------------------------------------------------------------\n",
            "generated summary typical sampling: \n",
            "\n",
            "Deborah and Lucy will go to the forest tomorrow after work to pack their stuff. They are going to have a ride in the evening. Deborah will be home around 6. Deborah has to buy some syrup for travel sickness.\n"
          ]
        }
      ]
    },
    {
      "cell_type": "markdown",
      "source": [
        "Beam search summary gets the facts right except for the fact that Judie's girlfriend got a tatto at Warsaw ink and summary says just Warsaw but Warsaw ink could and probably is located in the city of Warsaw. It also misses the fact that Javier wanted to have a tatoo done there but it's not said directly and thats probably the reason. \n",
        "\n",
        "Typical sampling summary confusses the fact that it was Judie's girlfirend not Judie who got a tatoo at Warsaw ink, it also says that Javier wants to get a tatoo in Mexico instead of Colombia"
      ],
      "metadata": {
        "id": "A-o_H83ZWJXU"
      }
    },
    {
      "cell_type": "code",
      "source": [
        "print_summary(432)"
      ],
      "metadata": {
        "colab": {
          "base_uri": "https://localhost:8080/"
        },
        "id": "WLIz293WGBFa",
        "outputId": "34dbbbf4-901e-4c49-8d0c-05cb55a23a5f"
      },
      "execution_count": null,
      "outputs": [
        {
          "output_type": "stream",
          "name": "stdout",
          "text": [
            "dialogue: \n",
            "\n",
            "Javier: Hey do you know any tattoo parlors over here with English speaking employees?\r\n",
            "Judie: Oh there's Warsaw ink\r\n",
            "Javier: the name sounds neat... have you had a tattoo done there?\r\n",
            "Judie: nope but my gf has\r\n",
            "Javier: got a pic?\r\n",
            "Judie: <file_photo>\r\n",
            "Javier: wow that looks amazing\r\n",
            "Javier: how much did she pay?\r\n",
            "Judie: it was a 1000\r\n",
            "Javier: fuck\r\n",
            "Javier: let me just get a tatttoo back in colombia then, thx\n",
            "-----------------------------------------------------------------\n",
            "summary from dataset: \n",
            "\n",
            "Javier was initially eager to have a tatoo done at Warsaw Ink but the price turned out to be too high. Javier decided to have a tatoo done in Colombia.\n",
            "-----------------------------------------------------------------\n",
            "generated summary beam search: \n",
            "\n",
            "Judie's girlfriend has a tattoo done in Warsaw. Javier wants to get a tattoo back in colombia.\n",
            "-----------------------------------------------------------------\n",
            "generated summary typical sampling: \n",
            "\n",
            "Judie had a tattoo done at Warsaw ink at a price of 1000. Javier wants to get a tattoo back in Mexico.\n"
          ]
        }
      ]
    },
    {
      "cell_type": "markdown",
      "source": [
        "#Conclusions\n",
        "\n",
        "Beam search summaries consist of one or more short sentences and each one of them reports some fact from the conversation. Some things are not stated explicitly and need to be inferred from the context and model isn't capable of doing it. Model tries to use exact same words as in conversation sometimes resulting in false sentences. When conversations are much longer that average model omits some facts or mixes couple of them into one sentence that's untrue. In one of the examples model confused the gender of the person. Overall almost all of the sentences make sense from logical point of view.\n",
        "\n",
        "Typical sampling have the same problems as beam search ones but multiple sentences reporting the same fact can be observed. In case of a longer than average conversation summary was more chaotic\n",
        "\n",
        "There is a mistake I made during training. Max length of generated summary was set to 20 tokens in models config and I wasn't aware of it untill I generated summaries in the section above. This mistake lowered the results and might have resulted in not choosing the best model as a final model. Unfortunately I'm not able to fix this mistake without repeating training. I'm not able to reevaluate all the training checkpoints as they were stored in colab's temoral memory and got deleated. This didn't affect training because tokens used to calculate loss function are chosen greedily.\n",
        "\n",
        "Main purpose of this notebook is to show my ability to pick and train right model on a specific task such as abstractive summary and in my opinion goal was achieved. I'm not going to fix my mistake mentioned above because that would require a lot of time and as I said the goal wasn't to make a perfect model ready for production. I think that noticing and mentioning this mistake is enough.\n"
      ],
      "metadata": {
        "id": "9OABRe4g2G5G"
      }
    }
  ]
}