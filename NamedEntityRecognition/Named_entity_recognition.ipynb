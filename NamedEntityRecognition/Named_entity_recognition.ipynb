{
  "cells": [
    {
      "cell_type": "markdown",
      "source": [
        "#Introduction\n",
        "Welcome\n",
        "\n",
        "In this notebook I will be training transformers based models to perform named entity recognition which means that every word is classified as one of the entities listed below\n",
        "\n",
        "O = no entity\n",
        "\n",
        "geo = Geographical Entity\n",
        "\n",
        "org = Organization\n",
        "\n",
        "per = Person\n",
        "\n",
        "gpe = Geopolitical Entity\n",
        "\n",
        "tim = Time indicator\n",
        "\n",
        "art = Artifact\n",
        "\n",
        "eve = Event\n",
        "\n",
        "nat = Natural Phenomenon"
      ],
      "metadata": {
        "id": "isS4cRgKVfqj"
      }
    },
    {
      "cell_type": "code",
      "execution_count": null,
      "metadata": {
        "id": "kUTXEvMmkVdk"
      },
      "outputs": [],
      "source": [
        "%%capture\n",
        "!pip install datasets evaluate transformers[sentencepiece]\n",
        "!apt install git-lfs\n",
        "!pip install ipywidgets==7.7.1\n",
        "!pip install torchinfo\n",
        "!pip install seqeval\n",
        "!pip install wandb"
      ]
    },
    {
      "cell_type": "code",
      "execution_count": null,
      "metadata": {
        "colab": {
          "base_uri": "https://localhost:8080/"
        },
        "id": "5L0e7Q-GpEE4",
        "outputId": "2dfc8ca4-7f21-4c6e-b6f2-c252f00ccd62"
      },
      "outputs": [
        {
          "output_type": "stream",
          "name": "stdout",
          "text": [
            "Mon Nov 21 15:46:12 2022       \n",
            "+-----------------------------------------------------------------------------+\n",
            "| NVIDIA-SMI 460.32.03    Driver Version: 460.32.03    CUDA Version: 11.2     |\n",
            "|-------------------------------+----------------------+----------------------+\n",
            "| GPU  Name        Persistence-M| Bus-Id        Disp.A | Volatile Uncorr. ECC |\n",
            "| Fan  Temp  Perf  Pwr:Usage/Cap|         Memory-Usage | GPU-Util  Compute M. |\n",
            "|                               |                      |               MIG M. |\n",
            "|===============================+======================+======================|\n",
            "|   0  Tesla T4            Off  | 00000000:00:04.0 Off |                    0 |\n",
            "| N/A   50C    P8     9W /  70W |      0MiB / 15109MiB |      0%      Default |\n",
            "|                               |                      |                  N/A |\n",
            "+-------------------------------+----------------------+----------------------+\n",
            "                                                                               \n",
            "+-----------------------------------------------------------------------------+\n",
            "| Processes:                                                                  |\n",
            "|  GPU   GI   CI        PID   Type   Process name                  GPU Memory |\n",
            "|        ID   ID                                                   Usage      |\n",
            "|=============================================================================|\n",
            "|  No running processes found                                                 |\n",
            "+-----------------------------------------------------------------------------+\n"
          ]
        }
      ],
      "source": [
        "!nvidia-smi"
      ]
    },
    {
      "cell_type": "code",
      "source": [
        "import pandas as pd\n",
        "import numpy as np\n",
        "from datasets import Dataset\n",
        "from collections import defaultdict\n",
        "from transformers import AutoTokenizer\n",
        "from transformers import DataCollatorForTokenClassification\n",
        "from transformers import AutoModelForTokenClassification\n",
        "from huggingface_hub import create_repo\n",
        "from datasets import load_metric\n",
        "from torchinfo import summary\n",
        "from transformers import TrainingArguments\n",
        "from transformers import Trainer\n",
        "import evaluate\n",
        "from huggingface_hub import notebook_login\n",
        "import wandb"
      ],
      "metadata": {
        "id": "dw_Hstc4eUKn"
      },
      "execution_count": null,
      "outputs": []
    },
    {
      "cell_type": "markdown",
      "source": [
        "I will store models on huggingface hub and track my experiments with Weights&Biases"
      ],
      "metadata": {
        "id": "ynOFVapUGTFw"
      }
    },
    {
      "cell_type": "code",
      "source": [
        "notebook_login()"
      ],
      "metadata": {
        "id": "lCHU0UdIHA36"
      },
      "execution_count": null,
      "outputs": []
    },
    {
      "cell_type": "code",
      "source": [
        "wandb.login()"
      ],
      "metadata": {
        "id": "N73JfvGtedb3"
      },
      "execution_count": null,
      "outputs": []
    },
    {
      "cell_type": "code",
      "source": [
        "%env WANDB_PROJECT=ner"
      ],
      "metadata": {
        "id": "6pKHwfe_ed5J"
      },
      "execution_count": null,
      "outputs": []
    },
    {
      "cell_type": "markdown",
      "source": [
        "#Data exploration and preprocessing"
      ],
      "metadata": {
        "id": "S0BGmKNogdLe"
      }
    },
    {
      "cell_type": "markdown",
      "metadata": {
        "id": "z6XL1ey6a2BY"
      },
      "source": [
        "Dataset I'm using https://www.kaggle.com/rajnathpatel/ner-data"
      ]
    },
    {
      "cell_type": "code",
      "execution_count": null,
      "metadata": {
        "id": "OZ1WLfjMlAt2"
      },
      "outputs": [],
      "source": [
        "df = pd.read_csv('/content/drive/MyDrive/Kaggle_datasets/ner.csv')"
      ]
    },
    {
      "cell_type": "code",
      "execution_count": null,
      "metadata": {
        "colab": {
          "base_uri": "https://localhost:8080/",
          "height": 206
        },
        "id": "bVR49GR2lHw2",
        "outputId": "f2b4a25c-e0c2-436c-a8bf-ec74d30f39de"
      },
      "outputs": [
        {
          "output_type": "execute_result",
          "data": {
            "text/plain": [
              "                                                text  \\\n",
              "0  Thousands of demonstrators have marched throug...   \n",
              "1  Iranian officials say they expect to get acces...   \n",
              "2  Helicopter gunships Saturday pounded militant ...   \n",
              "3  They left after a tense hour-long standoff wit...   \n",
              "4  U.N. relief coordinator Jan Egeland said Sunda...   \n",
              "\n",
              "                                              labels  \n",
              "0  O O O O O O B-geo O O O O O B-geo O O O O O B-...  \n",
              "1  B-gpe O O O O O O O O O O O O O O B-tim O O O ...  \n",
              "2  O O B-tim O O O O O B-geo O O O O O B-org O O ...  \n",
              "3                              O O O O O O O O O O O  \n",
              "4  B-geo O O B-per I-per O B-tim O B-geo O B-gpe ...  "
            ],
            "text/html": [
              "\n",
              "  <div id=\"df-d14f5ab5-818f-4562-86aa-fb13795f8e20\">\n",
              "    <div class=\"colab-df-container\">\n",
              "      <div>\n",
              "<style scoped>\n",
              "    .dataframe tbody tr th:only-of-type {\n",
              "        vertical-align: middle;\n",
              "    }\n",
              "\n",
              "    .dataframe tbody tr th {\n",
              "        vertical-align: top;\n",
              "    }\n",
              "\n",
              "    .dataframe thead th {\n",
              "        text-align: right;\n",
              "    }\n",
              "</style>\n",
              "<table border=\"1\" class=\"dataframe\">\n",
              "  <thead>\n",
              "    <tr style=\"text-align: right;\">\n",
              "      <th></th>\n",
              "      <th>text</th>\n",
              "      <th>labels</th>\n",
              "    </tr>\n",
              "  </thead>\n",
              "  <tbody>\n",
              "    <tr>\n",
              "      <th>0</th>\n",
              "      <td>Thousands of demonstrators have marched throug...</td>\n",
              "      <td>O O O O O O B-geo O O O O O B-geo O O O O O B-...</td>\n",
              "    </tr>\n",
              "    <tr>\n",
              "      <th>1</th>\n",
              "      <td>Iranian officials say they expect to get acces...</td>\n",
              "      <td>B-gpe O O O O O O O O O O O O O O B-tim O O O ...</td>\n",
              "    </tr>\n",
              "    <tr>\n",
              "      <th>2</th>\n",
              "      <td>Helicopter gunships Saturday pounded militant ...</td>\n",
              "      <td>O O B-tim O O O O O B-geo O O O O O B-org O O ...</td>\n",
              "    </tr>\n",
              "    <tr>\n",
              "      <th>3</th>\n",
              "      <td>They left after a tense hour-long standoff wit...</td>\n",
              "      <td>O O O O O O O O O O O</td>\n",
              "    </tr>\n",
              "    <tr>\n",
              "      <th>4</th>\n",
              "      <td>U.N. relief coordinator Jan Egeland said Sunda...</td>\n",
              "      <td>B-geo O O B-per I-per O B-tim O B-geo O B-gpe ...</td>\n",
              "    </tr>\n",
              "  </tbody>\n",
              "</table>\n",
              "</div>\n",
              "      <button class=\"colab-df-convert\" onclick=\"convertToInteractive('df-d14f5ab5-818f-4562-86aa-fb13795f8e20')\"\n",
              "              title=\"Convert this dataframe to an interactive table.\"\n",
              "              style=\"display:none;\">\n",
              "        \n",
              "  <svg xmlns=\"http://www.w3.org/2000/svg\" height=\"24px\"viewBox=\"0 0 24 24\"\n",
              "       width=\"24px\">\n",
              "    <path d=\"M0 0h24v24H0V0z\" fill=\"none\"/>\n",
              "    <path d=\"M18.56 5.44l.94 2.06.94-2.06 2.06-.94-2.06-.94-.94-2.06-.94 2.06-2.06.94zm-11 1L8.5 8.5l.94-2.06 2.06-.94-2.06-.94L8.5 2.5l-.94 2.06-2.06.94zm10 10l.94 2.06.94-2.06 2.06-.94-2.06-.94-.94-2.06-.94 2.06-2.06.94z\"/><path d=\"M17.41 7.96l-1.37-1.37c-.4-.4-.92-.59-1.43-.59-.52 0-1.04.2-1.43.59L10.3 9.45l-7.72 7.72c-.78.78-.78 2.05 0 2.83L4 21.41c.39.39.9.59 1.41.59.51 0 1.02-.2 1.41-.59l7.78-7.78 2.81-2.81c.8-.78.8-2.07 0-2.86zM5.41 20L4 18.59l7.72-7.72 1.47 1.35L5.41 20z\"/>\n",
              "  </svg>\n",
              "      </button>\n",
              "      \n",
              "  <style>\n",
              "    .colab-df-container {\n",
              "      display:flex;\n",
              "      flex-wrap:wrap;\n",
              "      gap: 12px;\n",
              "    }\n",
              "\n",
              "    .colab-df-convert {\n",
              "      background-color: #E8F0FE;\n",
              "      border: none;\n",
              "      border-radius: 50%;\n",
              "      cursor: pointer;\n",
              "      display: none;\n",
              "      fill: #1967D2;\n",
              "      height: 32px;\n",
              "      padding: 0 0 0 0;\n",
              "      width: 32px;\n",
              "    }\n",
              "\n",
              "    .colab-df-convert:hover {\n",
              "      background-color: #E2EBFA;\n",
              "      box-shadow: 0px 1px 2px rgba(60, 64, 67, 0.3), 0px 1px 3px 1px rgba(60, 64, 67, 0.15);\n",
              "      fill: #174EA6;\n",
              "    }\n",
              "\n",
              "    [theme=dark] .colab-df-convert {\n",
              "      background-color: #3B4455;\n",
              "      fill: #D2E3FC;\n",
              "    }\n",
              "\n",
              "    [theme=dark] .colab-df-convert:hover {\n",
              "      background-color: #434B5C;\n",
              "      box-shadow: 0px 1px 3px 1px rgba(0, 0, 0, 0.15);\n",
              "      filter: drop-shadow(0px 1px 2px rgba(0, 0, 0, 0.3));\n",
              "      fill: #FFFFFF;\n",
              "    }\n",
              "  </style>\n",
              "\n",
              "      <script>\n",
              "        const buttonEl =\n",
              "          document.querySelector('#df-d14f5ab5-818f-4562-86aa-fb13795f8e20 button.colab-df-convert');\n",
              "        buttonEl.style.display =\n",
              "          google.colab.kernel.accessAllowed ? 'block' : 'none';\n",
              "\n",
              "        async function convertToInteractive(key) {\n",
              "          const element = document.querySelector('#df-d14f5ab5-818f-4562-86aa-fb13795f8e20');\n",
              "          const dataTable =\n",
              "            await google.colab.kernel.invokeFunction('convertToInteractive',\n",
              "                                                     [key], {});\n",
              "          if (!dataTable) return;\n",
              "\n",
              "          const docLinkHtml = 'Like what you see? Visit the ' +\n",
              "            '<a target=\"_blank\" href=https://colab.research.google.com/notebooks/data_table.ipynb>data table notebook</a>'\n",
              "            + ' to learn more about interactive tables.';\n",
              "          element.innerHTML = '';\n",
              "          dataTable['output_type'] = 'display_data';\n",
              "          await google.colab.output.renderOutput(dataTable, element);\n",
              "          const docLink = document.createElement('div');\n",
              "          docLink.innerHTML = docLinkHtml;\n",
              "          element.appendChild(docLink);\n",
              "        }\n",
              "      </script>\n",
              "    </div>\n",
              "  </div>\n",
              "  "
            ]
          },
          "metadata": {},
          "execution_count": 4
        }
      ],
      "source": [
        "df.head()"
      ]
    },
    {
      "cell_type": "markdown",
      "metadata": {
        "id": "_QnV9tu1ayPF"
      },
      "source": [
        "I'm splitting text and labels strings on white spaces so it will be easier to work with them later"
      ]
    },
    {
      "cell_type": "code",
      "execution_count": null,
      "metadata": {
        "id": "TDteVNEhlI_-"
      },
      "outputs": [],
      "source": [
        "df = df.applymap(lambda x: x.split())"
      ]
    },
    {
      "cell_type": "code",
      "execution_count": null,
      "metadata": {
        "colab": {
          "base_uri": "https://localhost:8080/",
          "height": 206
        },
        "id": "myfhVFOWlZt2",
        "outputId": "d6678938-382d-44f2-de30-a0d70df6b440"
      },
      "outputs": [
        {
          "output_type": "execute_result",
          "data": {
            "text/plain": [
              "                                                text  \\\n",
              "0  [Thousands, of, demonstrators, have, marched, ...   \n",
              "1  [Iranian, officials, say, they, expect, to, ge...   \n",
              "2  [Helicopter, gunships, Saturday, pounded, mili...   \n",
              "3  [They, left, after, a, tense, hour-long, stand...   \n",
              "4  [U.N., relief, coordinator, Jan, Egeland, said...   \n",
              "\n",
              "                                              labels  \n",
              "0  [O, O, O, O, O, O, B-geo, O, O, O, O, O, B-geo...  \n",
              "1  [B-gpe, O, O, O, O, O, O, O, O, O, O, O, O, O,...  \n",
              "2  [O, O, B-tim, O, O, O, O, O, B-geo, O, O, O, O...  \n",
              "3                  [O, O, O, O, O, O, O, O, O, O, O]  \n",
              "4  [B-geo, O, O, B-per, I-per, O, B-tim, O, B-geo...  "
            ],
            "text/html": [
              "\n",
              "  <div id=\"df-629ace33-8f60-4f51-883e-46027dfc5180\">\n",
              "    <div class=\"colab-df-container\">\n",
              "      <div>\n",
              "<style scoped>\n",
              "    .dataframe tbody tr th:only-of-type {\n",
              "        vertical-align: middle;\n",
              "    }\n",
              "\n",
              "    .dataframe tbody tr th {\n",
              "        vertical-align: top;\n",
              "    }\n",
              "\n",
              "    .dataframe thead th {\n",
              "        text-align: right;\n",
              "    }\n",
              "</style>\n",
              "<table border=\"1\" class=\"dataframe\">\n",
              "  <thead>\n",
              "    <tr style=\"text-align: right;\">\n",
              "      <th></th>\n",
              "      <th>text</th>\n",
              "      <th>labels</th>\n",
              "    </tr>\n",
              "  </thead>\n",
              "  <tbody>\n",
              "    <tr>\n",
              "      <th>0</th>\n",
              "      <td>[Thousands, of, demonstrators, have, marched, ...</td>\n",
              "      <td>[O, O, O, O, O, O, B-geo, O, O, O, O, O, B-geo...</td>\n",
              "    </tr>\n",
              "    <tr>\n",
              "      <th>1</th>\n",
              "      <td>[Iranian, officials, say, they, expect, to, ge...</td>\n",
              "      <td>[B-gpe, O, O, O, O, O, O, O, O, O, O, O, O, O,...</td>\n",
              "    </tr>\n",
              "    <tr>\n",
              "      <th>2</th>\n",
              "      <td>[Helicopter, gunships, Saturday, pounded, mili...</td>\n",
              "      <td>[O, O, B-tim, O, O, O, O, O, B-geo, O, O, O, O...</td>\n",
              "    </tr>\n",
              "    <tr>\n",
              "      <th>3</th>\n",
              "      <td>[They, left, after, a, tense, hour-long, stand...</td>\n",
              "      <td>[O, O, O, O, O, O, O, O, O, O, O]</td>\n",
              "    </tr>\n",
              "    <tr>\n",
              "      <th>4</th>\n",
              "      <td>[U.N., relief, coordinator, Jan, Egeland, said...</td>\n",
              "      <td>[B-geo, O, O, B-per, I-per, O, B-tim, O, B-geo...</td>\n",
              "    </tr>\n",
              "  </tbody>\n",
              "</table>\n",
              "</div>\n",
              "      <button class=\"colab-df-convert\" onclick=\"convertToInteractive('df-629ace33-8f60-4f51-883e-46027dfc5180')\"\n",
              "              title=\"Convert this dataframe to an interactive table.\"\n",
              "              style=\"display:none;\">\n",
              "        \n",
              "  <svg xmlns=\"http://www.w3.org/2000/svg\" height=\"24px\"viewBox=\"0 0 24 24\"\n",
              "       width=\"24px\">\n",
              "    <path d=\"M0 0h24v24H0V0z\" fill=\"none\"/>\n",
              "    <path d=\"M18.56 5.44l.94 2.06.94-2.06 2.06-.94-2.06-.94-.94-2.06-.94 2.06-2.06.94zm-11 1L8.5 8.5l.94-2.06 2.06-.94-2.06-.94L8.5 2.5l-.94 2.06-2.06.94zm10 10l.94 2.06.94-2.06 2.06-.94-2.06-.94-.94-2.06-.94 2.06-2.06.94z\"/><path d=\"M17.41 7.96l-1.37-1.37c-.4-.4-.92-.59-1.43-.59-.52 0-1.04.2-1.43.59L10.3 9.45l-7.72 7.72c-.78.78-.78 2.05 0 2.83L4 21.41c.39.39.9.59 1.41.59.51 0 1.02-.2 1.41-.59l7.78-7.78 2.81-2.81c.8-.78.8-2.07 0-2.86zM5.41 20L4 18.59l7.72-7.72 1.47 1.35L5.41 20z\"/>\n",
              "  </svg>\n",
              "      </button>\n",
              "      \n",
              "  <style>\n",
              "    .colab-df-container {\n",
              "      display:flex;\n",
              "      flex-wrap:wrap;\n",
              "      gap: 12px;\n",
              "    }\n",
              "\n",
              "    .colab-df-convert {\n",
              "      background-color: #E8F0FE;\n",
              "      border: none;\n",
              "      border-radius: 50%;\n",
              "      cursor: pointer;\n",
              "      display: none;\n",
              "      fill: #1967D2;\n",
              "      height: 32px;\n",
              "      padding: 0 0 0 0;\n",
              "      width: 32px;\n",
              "    }\n",
              "\n",
              "    .colab-df-convert:hover {\n",
              "      background-color: #E2EBFA;\n",
              "      box-shadow: 0px 1px 2px rgba(60, 64, 67, 0.3), 0px 1px 3px 1px rgba(60, 64, 67, 0.15);\n",
              "      fill: #174EA6;\n",
              "    }\n",
              "\n",
              "    [theme=dark] .colab-df-convert {\n",
              "      background-color: #3B4455;\n",
              "      fill: #D2E3FC;\n",
              "    }\n",
              "\n",
              "    [theme=dark] .colab-df-convert:hover {\n",
              "      background-color: #434B5C;\n",
              "      box-shadow: 0px 1px 3px 1px rgba(0, 0, 0, 0.15);\n",
              "      filter: drop-shadow(0px 1px 2px rgba(0, 0, 0, 0.3));\n",
              "      fill: #FFFFFF;\n",
              "    }\n",
              "  </style>\n",
              "\n",
              "      <script>\n",
              "        const buttonEl =\n",
              "          document.querySelector('#df-629ace33-8f60-4f51-883e-46027dfc5180 button.colab-df-convert');\n",
              "        buttonEl.style.display =\n",
              "          google.colab.kernel.accessAllowed ? 'block' : 'none';\n",
              "\n",
              "        async function convertToInteractive(key) {\n",
              "          const element = document.querySelector('#df-629ace33-8f60-4f51-883e-46027dfc5180');\n",
              "          const dataTable =\n",
              "            await google.colab.kernel.invokeFunction('convertToInteractive',\n",
              "                                                     [key], {});\n",
              "          if (!dataTable) return;\n",
              "\n",
              "          const docLinkHtml = 'Like what you see? Visit the ' +\n",
              "            '<a target=\"_blank\" href=https://colab.research.google.com/notebooks/data_table.ipynb>data table notebook</a>'\n",
              "            + ' to learn more about interactive tables.';\n",
              "          element.innerHTML = '';\n",
              "          dataTable['output_type'] = 'display_data';\n",
              "          await google.colab.output.renderOutput(dataTable, element);\n",
              "          const docLink = document.createElement('div');\n",
              "          docLink.innerHTML = docLinkHtml;\n",
              "          element.appendChild(docLink);\n",
              "        }\n",
              "      </script>\n",
              "    </div>\n",
              "  </div>\n",
              "  "
            ]
          },
          "metadata": {},
          "execution_count": 8
        }
      ],
      "source": [
        "df.head()"
      ]
    },
    {
      "cell_type": "markdown",
      "metadata": {
        "id": "o2ZJ44YsasWO"
      },
      "source": [
        "Splitting on white spaces might not work on all of the examples so I will only keep those with matching lengths"
      ]
    },
    {
      "cell_type": "code",
      "execution_count": null,
      "metadata": {
        "id": "DCKG0FHflvsv"
      },
      "outputs": [],
      "source": [
        "alligned_indexes = []\n",
        "lenghts = []\n",
        "for index, row in df.iterrows():\n",
        "  if len(row['text']) == len(row['labels']):\n",
        "    alligned_indexes.append(index)\n",
        "    lenghts.append(len(row['text']))"
      ]
    },
    {
      "cell_type": "code",
      "execution_count": null,
      "metadata": {
        "id": "ik6tt5bxOLT7"
      },
      "outputs": [],
      "source": [
        "label2id = {\n",
        "    'O': 0, 'B-per': 1, 'I-per': 2, 'B-nat': 3, 'I-nat': 4, 'B-tim': 5, 'I-tim': 6, 'B-gpe': 7, 'I-gpe': 8, 'B-org': 9, 'I-org': 10, 'B-art': 11, 'I-art': 12,  'B-eve': 13, 'I-eve': 14, 'B-geo': 15, 'I-geo': 16\n",
        "}"
      ]
    },
    {
      "cell_type": "markdown",
      "metadata": {
        "id": "MgfiWyHV439v"
      },
      "source": [
        "B at the beginning means that there will be a sequence of the same labels and this word is first, all other labels in that sequence are appended with I"
      ]
    },
    {
      "cell_type": "markdown",
      "source": [
        "B at the beginning means that this word is a beginning of a sequence of the same labels"
      ],
      "metadata": {
        "id": "EA9Tm-kt72b6"
      }
    },
    {
      "cell_type": "code",
      "execution_count": null,
      "metadata": {
        "colab": {
          "base_uri": "https://localhost:8080/"
        },
        "id": "-cR-G3_OOLfS",
        "outputId": "782a30f3-945d-449d-8ed1-074ba7fea449"
      },
      "outputs": [
        {
          "output_type": "execute_result",
          "data": {
            "text/plain": [
              "{0: 'O',\n",
              " 1: 'B-per',\n",
              " 2: 'I-per',\n",
              " 3: 'B-nat',\n",
              " 4: 'I-nat',\n",
              " 5: 'B-tim',\n",
              " 6: 'I-tim',\n",
              " 7: 'B-gpe',\n",
              " 8: 'I-gpe',\n",
              " 9: 'B-org',\n",
              " 10: 'I-org',\n",
              " 11: 'B-art',\n",
              " 12: 'I-art',\n",
              " 13: 'B-eve',\n",
              " 14: 'I-eve',\n",
              " 15: 'B-geo',\n",
              " 16: 'I-geo'}"
            ]
          },
          "metadata": {},
          "execution_count": 11
        }
      ],
      "source": [
        "id2label = {v: k for k, v in label2id.items()}\n",
        "id2label"
      ]
    },
    {
      "cell_type": "code",
      "execution_count": null,
      "metadata": {
        "id": "qzrgjjH_qjak"
      },
      "outputs": [],
      "source": [
        "lenghts = pd.Series(data=lenghts)"
      ]
    },
    {
      "cell_type": "code",
      "execution_count": null,
      "metadata": {
        "colab": {
          "base_uri": "https://localhost:8080/",
          "height": 283
        },
        "id": "BMu0NWUpaNzQ",
        "outputId": "016ff58e-93db-4a29-e58d-51b77c5eccd8"
      },
      "outputs": [
        {
          "output_type": "execute_result",
          "data": {
            "text/plain": [
              "<matplotlib.axes._subplots.AxesSubplot at 0x7feeec577210>"
            ]
          },
          "metadata": {},
          "execution_count": 12
        },
        {
          "output_type": "display_data",
          "data": {
            "text/plain": [
              "<Figure size 432x288 with 1 Axes>"
            ],
            "image/png": "[encoded data removed]"
          },
          "metadata": {
            "needs_background": "light"
          }
        }
      ],
      "source": [
        "lenghts.hist()"
      ]
    },
    {
      "cell_type": "markdown",
      "metadata": {
        "id": "9RijJH_zaXhb"
      },
      "source": [
        "Majority of samples have between 10 and 30 words"
      ]
    },
    {
      "cell_type": "code",
      "execution_count": null,
      "metadata": {
        "colab": {
          "base_uri": "https://localhost:8080/"
        },
        "id": "qBSMxL1FqoIa",
        "outputId": "8930730b-5f2d-42c0-eb54-d9d0545fe674"
      },
      "outputs": [
        {
          "output_type": "execute_result",
          "data": {
            "text/plain": [
              "count    47946.000000\n",
              "mean        21.861532\n",
              "std          7.961603\n",
              "min          1.000000\n",
              "25%         16.000000\n",
              "50%         21.000000\n",
              "75%         27.000000\n",
              "max        104.000000\n",
              "dtype: float64"
            ]
          },
          "metadata": {},
          "execution_count": 13
        }
      ],
      "source": [
        "lenghts.describe()"
      ]
    },
    {
      "cell_type": "code",
      "source": [
        "df = df.iloc[alligned_indexes]"
      ],
      "metadata": {
        "id": "S9MYKUYhYc7Z"
      },
      "execution_count": null,
      "outputs": []
    },
    {
      "cell_type": "code",
      "source": [
        "label_count = defaultdict(None)"
      ],
      "metadata": {
        "id": "gF7K7XzLXomm"
      },
      "execution_count": null,
      "outputs": []
    },
    {
      "cell_type": "code",
      "source": [
        "for key in label2id.keys():\n",
        "  label_count[key] = 0"
      ],
      "metadata": {
        "id": "LCYQwJ1EXoo5"
      },
      "execution_count": null,
      "outputs": []
    },
    {
      "cell_type": "code",
      "source": [
        "for col in df['labels']:\n",
        "  for label in col:\n",
        "    label_count[label] += 1\n",
        "\n",
        "label_count"
      ],
      "metadata": {
        "colab": {
          "base_uri": "https://localhost:8080/"
        },
        "id": "QCXVsBIaYlJL",
        "outputId": "f6957261-7fc7-4d3a-dc8d-2c00cba00a6e"
      },
      "execution_count": null,
      "outputs": [
        {
          "output_type": "execute_result",
          "data": {
            "text/plain": [
              "defaultdict(None,\n",
              "            {'O': 887550,\n",
              "             'B-per': 16986,\n",
              "             'I-per': 17248,\n",
              "             'B-nat': 200,\n",
              "             'I-nat': 50,\n",
              "             'B-tim': 20330,\n",
              "             'I-tim': 6525,\n",
              "             'B-gpe': 15864,\n",
              "             'I-gpe': 198,\n",
              "             'B-org': 20134,\n",
              "             'I-org': 16779,\n",
              "             'B-art': 402,\n",
              "             'I-art': 297,\n",
              "             'B-eve': 308,\n",
              "             'I-eve': 253,\n",
              "             'B-geo': 37637,\n",
              "             'I-geo': 7412})"
            ]
          },
          "metadata": {},
          "execution_count": 17
        }
      ]
    },
    {
      "cell_type": "markdown",
      "source": [
        "There are some classes with less than 1000 samples so I'll get rid of them as they probably are unlernable"
      ],
      "metadata": {
        "id": "sQK-pkYYZz3_"
      }
    },
    {
      "cell_type": "code",
      "source": [
        "id2label = {\n",
        "    0: 'O',\n",
        "    1: 'B-per',\n",
        "    2: 'I-per',\n",
        "    3: 'B-tim',\n",
        "    4: 'I-tim',\n",
        "    5: 'B-gpe',\n",
        "    6: 'I-gpe',\n",
        "    7: 'B-org',\n",
        "    8: 'I-org',\n",
        "    9: 'B-geo',\n",
        "    10: 'I-geo'\n",
        "}"
      ],
      "metadata": {
        "id": "VLli1VReYlLb"
      },
      "execution_count": null,
      "outputs": []
    },
    {
      "cell_type": "code",
      "source": [
        "label2id = {v: k for k, v in id2label.items()}\n",
        "label2id"
      ],
      "metadata": {
        "colab": {
          "base_uri": "https://localhost:8080/"
        },
        "id": "mkcoepCMYlOU",
        "outputId": "24886e0e-589d-461a-b6d3-92844e1db9e4"
      },
      "execution_count": null,
      "outputs": [
        {
          "output_type": "execute_result",
          "data": {
            "text/plain": [
              "{'O': 0,\n",
              " 'B-per': 1,\n",
              " 'I-per': 2,\n",
              " 'B-tim': 3,\n",
              " 'I-tim': 4,\n",
              " 'B-gpe': 5,\n",
              " 'I-gpe': 6,\n",
              " 'B-org': 7,\n",
              " 'I-org': 8,\n",
              " 'B-geo': 9,\n",
              " 'I-geo': 10}"
            ]
          },
          "metadata": {},
          "execution_count": 4
        }
      ]
    },
    {
      "cell_type": "code",
      "source": [
        "df = pd.read_csv('/content/drive/MyDrive/Kaggle_datasets/ner.csv')"
      ],
      "metadata": {
        "id": "OIehiIc5aUjc"
      },
      "execution_count": null,
      "outputs": []
    },
    {
      "cell_type": "code",
      "source": [
        "df['labels'] = df['labels'].map(lambda x: x.replace('B-nat', 'O'))\n",
        "df['labels'] = df['labels'].map(lambda x: x.replace('I-nat', 'O'))\n",
        "df['labels'] = df['labels'].map(lambda x: x.replace('B-eve', 'O'))\n",
        "df['labels'] = df['labels'].map(lambda x: x.replace('I-eve', 'O'))\n",
        "df['labels'] = df['labels'].map(lambda x: x.replace('B-art', 'O'))\n",
        "df['labels'] = df['labels'].map(lambda x: x.replace('I-art', 'O'))"
      ],
      "metadata": {
        "id": "dyhrKARSaUl3"
      },
      "execution_count": null,
      "outputs": []
    },
    {
      "cell_type": "code",
      "source": [
        "df = df.applymap(lambda x: x.split())"
      ],
      "metadata": {
        "id": "hVlX_RsrapLj"
      },
      "execution_count": null,
      "outputs": []
    },
    {
      "cell_type": "code",
      "source": [
        "alligned_indexes = []\n",
        "lenghts = []\n",
        "for index, row in df.iterrows():\n",
        "  if len(row['text']) == len(row['labels']):\n",
        "    alligned_indexes.append(index)\n",
        "    lenghts.append(len(row['text']))"
      ],
      "metadata": {
        "id": "J4mlWsiPapOK"
      },
      "execution_count": null,
      "outputs": []
    },
    {
      "cell_type": "code",
      "source": [
        "df = df.iloc[alligned_indexes]"
      ],
      "metadata": {
        "id": "J3P_b_WLapQh"
      },
      "execution_count": null,
      "outputs": []
    },
    {
      "cell_type": "code",
      "execution_count": null,
      "metadata": {
        "id": "8PoKXm02m_se"
      },
      "outputs": [],
      "source": [
        "dataset = Dataset.from_pandas(df)"
      ]
    },
    {
      "cell_type": "code",
      "execution_count": null,
      "metadata": {
        "colab": {
          "base_uri": "https://localhost:8080/"
        },
        "id": "f1LTnOLnploB",
        "outputId": "d4e4a9b0-067d-4a68-b5dc-c056757db78c"
      },
      "outputs": [
        {
          "output_type": "execute_result",
          "data": {
            "text/plain": [
              "Dataset({\n",
              "    features: ['text', 'labels', '__index_level_0__'],\n",
              "    num_rows: 47946\n",
              "})"
            ]
          },
          "metadata": {},
          "execution_count": 11
        }
      ],
      "source": [
        "dataset"
      ]
    },
    {
      "cell_type": "code",
      "execution_count": null,
      "metadata": {
        "id": "x_oqemV8pt9_"
      },
      "outputs": [],
      "source": [
        "dataset = dataset.remove_columns('__index_level_0__')"
      ]
    },
    {
      "cell_type": "markdown",
      "source": [
        "I'm creating only train and test splits. Every model will be evaluated using test split after each epoch of training. I'm not creating a holdout set to test performance of the best model because my main goal is to compare two different architectures. I'm going to elaborate on that later."
      ],
      "metadata": {
        "id": "Lu4iQJVhGno2"
      }
    },
    {
      "cell_type": "code",
      "source": [
        "dataset = dataset.train_test_split(0.15, seed=42)\n",
        "\n",
        "dataset"
      ],
      "metadata": {
        "colab": {
          "base_uri": "https://localhost:8080/"
        },
        "id": "ekg7d-yy6ux7",
        "outputId": "78e67841-c4fb-44f9-8366-cbaa769008da"
      },
      "execution_count": null,
      "outputs": [
        {
          "output_type": "execute_result",
          "data": {
            "text/plain": [
              "DatasetDict({\n",
              "    train: Dataset({\n",
              "        features: ['text', 'labels'],\n",
              "        num_rows: 40754\n",
              "    })\n",
              "    test: Dataset({\n",
              "        features: ['text', 'labels'],\n",
              "        num_rows: 7192\n",
              "    })\n",
              "})"
            ]
          },
          "metadata": {},
          "execution_count": 13
        }
      ]
    },
    {
      "cell_type": "code",
      "execution_count": null,
      "metadata": {
        "colab": {
          "base_uri": "https://localhost:8080/"
        },
        "id": "SU-BUIA5tPCY",
        "outputId": "89967903-5706-4e6b-ec0b-982e689c9dd6"
      },
      "outputs": [
        {
          "output_type": "execute_result",
          "data": {
            "text/plain": [
              "{'text': Sequence(feature=Value(dtype='string', id=None), length=-1, id=None),\n",
              " 'labels': Sequence(feature=Value(dtype='string', id=None), length=-1, id=None)}"
            ]
          },
          "metadata": {},
          "execution_count": 19
        }
      ],
      "source": [
        "dataset['train'].features"
      ]
    },
    {
      "cell_type": "code",
      "execution_count": null,
      "metadata": {
        "colab": {
          "base_uri": "https://localhost:8080/"
        },
        "id": "4s35DZI8uptR",
        "outputId": "117c68dd-9bc0-4473-afa5-feae1659f5b6"
      },
      "outputs": [
        {
          "output_type": "stream",
          "name": "stdout",
          "text": [
            "[['It', 'breaks', 'the', 'month-long', 'fast', 'of', 'Ramadan', ',', 'when', 'Muslims', 'abstain', 'from', 'eating', ',', 'drinking', ',', 'smoking', 'and', 'sexual', 'relations', 'from', 'sunrise', 'to', 'sundown', '.']]\n",
            "[['O', 'O', 'O', 'O', 'O', 'O', 'B-tim', 'O', 'O', 'O', 'O', 'O', 'O', 'O', 'O', 'O', 'O', 'O', 'O', 'O', 'O', 'O', 'O', 'O', 'O']]\n"
          ]
        }
      ],
      "source": [
        "sample = dataset['train'].select(range(395, 396))\n",
        "print(sample['text'])\n",
        "print(sample['labels'])"
      ]
    },
    {
      "cell_type": "markdown",
      "source": [
        "First model that I'm going to train is RoBERTa Base and I'm going to compare it's results with these achieved by DeBERTav3 xSmall. I chose these particular models because in DeBERTav3 paper https://arxiv.org/pdf/2111.09543.pdf authors say that xsmall variant of their model outperformed base variant of RoBERTa on MNLI-m/mm and SQuAD v2.0. RoBERTa backbone has 86M parameters and DeBERTav3 backbone has only 22M parameters which is almost four times less. Model's backbone doesn't include embedding layer and task specific head put on top of model's final layer. Including embedding layer number of parameters increases to 86M + 38M = 124M and 22M + 49M = 71M for RoBERTa and DeBERTav3 respectively. Number of parameters in embedding layer can by calculated as vocab size*model's hidden dimention size. RoBERTa hidden dimention is 768 and it's vocabulary size is 50K tokens. DeBERTav3 hidden dimention is 384 and it's vocabulary size is 128K tokens."
      ],
      "metadata": {
        "id": "9EV6KlmAH7Cg"
      }
    },
    {
      "cell_type": "code",
      "source": [
        "model_checkpoint = 'roberta-base'"
      ],
      "metadata": {
        "id": "iBx63KE7opor"
      },
      "execution_count": null,
      "outputs": []
    },
    {
      "cell_type": "code",
      "execution_count": null,
      "metadata": {
        "id": "-hOjtdbJvIs5"
      },
      "outputs": [],
      "source": [
        "tokenizer = AutoTokenizer.from_pretrained(model_checkpoint, add_prefix_space=True)"
      ]
    },
    {
      "cell_type": "markdown",
      "source": [
        "Main preprocessing step is tokenization. Here is an example of how tokenizers work. They map every word into it's position in models dictionary. If certain word is not in the dictionary it gets split into multiple tokens that are present in the dictionary. In this example word 'month-long' gets split into 3 tokens 'Ġmonth', '-' and 'long'. 'Ġ' means beginning of a word. Tokenizers also add special tokens required by model. Because of this array containing labels will be shorter than tokenized sample and it needs to be aligned. It can be done using word ids created by tokenizer. Word ids is a mapping linking tokens to words they were created from."
      ],
      "metadata": {
        "id": "U3CcNnwFKznJ"
      }
    },
    {
      "cell_type": "code",
      "source": [
        "tokenized_sample = tokenizer(sample['text'], is_split_into_words=True)"
      ],
      "metadata": {
        "id": "EHbCBAx9J-2b"
      },
      "execution_count": null,
      "outputs": []
    },
    {
      "cell_type": "code",
      "source": [
        "print(sample['text'][0], 'Num of words',len(sample['text'][0]))\n",
        "print(tokenized_sample['input_ids'][0], 'Num of tokens', len(tokenized_sample['input_ids'][0]))\n",
        "print(tokenized_sample.word_ids(), 'Lenght of word ids mapping', len(tokenized_sample.word_ids()))\n",
        "print(tokenizer.convert_ids_to_tokens([353, 12, 3479]))"
      ],
      "metadata": {
        "colab": {
          "base_uri": "https://localhost:8080/"
        },
        "id": "-FeSePWiI2La",
        "outputId": "3c631987-6369-4254-af8b-e6fc1cd70ecd"
      },
      "execution_count": null,
      "outputs": [
        {
          "output_type": "stream",
          "name": "stdout",
          "text": [
            "['It', 'breaks', 'the', 'month-long', 'fast', 'of', 'Ramadan', ',', 'when', 'Muslims', 'abstain', 'from', 'eating', ',', 'drinking', ',', 'smoking', 'and', 'sexual', 'relations', 'from', 'sunrise', 'to', 'sundown', '.'] Num of words 25\n",
            "[0, 85, 6383, 5, 353, 12, 3479, 1769, 9, 23828, 2156, 77, 6299, 22182, 1851, 31, 4441, 2156, 4835, 2156, 7893, 8, 1363, 3115, 31, 29518, 7, 28087, 3355, 479, 2] Num of tokens 31\n",
            "[None, 0, 1, 2, 3, 3, 3, 4, 5, 6, 7, 8, 9, 10, 10, 11, 12, 13, 14, 15, 16, 17, 18, 19, 20, 21, 22, 23, 23, 24, None] Lenght of word ids mapping 31\n",
            "['Ġmonth', '-', 'long']\n"
          ]
        }
      ]
    },
    {
      "cell_type": "code",
      "execution_count": null,
      "metadata": {
        "id": "NXbQoZ6lLuTI"
      },
      "outputs": [],
      "source": [
        "def align_labels_with_tokens(labels, word_ids):\n",
        "  new_labels = []\n",
        "  current_word = None\n",
        "  for word_id in word_ids:\n",
        "    #new word\n",
        "    if word_id != current_word:\n",
        "      current_word = word_id\n",
        "      # word_id is None only if it comes from special token thats why it's label should be -100\n",
        "      label = -100 if word_id is None else labels[word_id]\n",
        "      new_labels.append(label)\n",
        "    #same word as previous but is None\n",
        "    elif word_id is None:\n",
        "      label = -100\n",
        "      new_labels.append(label)\n",
        "    #same word as previous but isn't None\n",
        "    else:\n",
        "      label = labels[word_id]\n",
        "      # If label is B-XXX we change it to I-XXX\n",
        "      if label % 2 == 1:\n",
        "        label += 1\n",
        "      new_labels.append(label)\n",
        "\n",
        "  return new_labels"
      ]
    },
    {
      "cell_type": "markdown",
      "metadata": {
        "id": "l3YIw6vlcydz"
      },
      "source": [
        "Labels need to be passed as integers "
      ]
    },
    {
      "cell_type": "code",
      "execution_count": null,
      "metadata": {
        "id": "JLz_gwY8jFCm"
      },
      "outputs": [],
      "source": [
        "def labels_str_to_num(batch):\n",
        "  num_labels = []\n",
        "  batch_labels = batch['labels']\n",
        "  for labels in batch_labels:\n",
        "    temp_num_labels = []\n",
        "    for label in labels:\n",
        "      temp_num_labels.append(label2id[label])\n",
        "    num_labels.append(temp_num_labels)\n",
        "  \n",
        "  batch['labels'] = num_labels\n",
        "  return batch\n"
      ]
    },
    {
      "cell_type": "code",
      "execution_count": null,
      "metadata": {
        "id": "o5JDJ3YAn0s4"
      },
      "outputs": [],
      "source": [
        "dataset = dataset.map(labels_str_to_num, batched=True)"
      ]
    },
    {
      "cell_type": "code",
      "execution_count": null,
      "metadata": {
        "id": "alZNLgoldScU"
      },
      "outputs": [],
      "source": [
        "def tokenize_and_align(batch):\n",
        "  tokenized_inputs = tokenizer(\n",
        "      batch['text'], truncation=True, is_split_into_words=True\n",
        "  )\n",
        "  batch_labels = batch['labels']\n",
        "  new_labels = []\n",
        "  for i, labels in enumerate(batch_labels):\n",
        "    #word_ids is a mapping from words to tokens \n",
        "    word_ids = tokenized_inputs.word_ids(i)\n",
        "    new_labels.append(align_labels_with_tokens(labels, word_ids))\n",
        "\n",
        "  tokenized_inputs['labels'] = new_labels\n",
        "  return tokenized_inputs"
      ]
    },
    {
      "cell_type": "code",
      "execution_count": null,
      "metadata": {
        "id": "F_abWEoBigVf"
      },
      "outputs": [],
      "source": [
        "tokenized_dataset = dataset.map(\n",
        "    tokenize_and_align,\n",
        "    batched=True,\n",
        "    remove_columns=dataset['train'].column_names\n",
        ")"
      ]
    },
    {
      "cell_type": "code",
      "execution_count": null,
      "metadata": {
        "colab": {
          "base_uri": "https://localhost:8080/"
        },
        "id": "PeFigrgDo-sI",
        "outputId": "1d04da86-9dc2-4e56-9caa-193daf4da44c"
      },
      "outputs": [
        {
          "output_type": "execute_result",
          "data": {
            "text/plain": [
              "DatasetDict({\n",
              "    train: Dataset({\n",
              "        features: ['labels', 'input_ids', 'attention_mask'],\n",
              "        num_rows: 40754\n",
              "    })\n",
              "    test: Dataset({\n",
              "        features: ['labels', 'input_ids', 'attention_mask'],\n",
              "        num_rows: 7192\n",
              "    })\n",
              "})"
            ]
          },
          "metadata": {},
          "execution_count": 29
        }
      ],
      "source": [
        "tokenized_dataset"
      ]
    },
    {
      "cell_type": "markdown",
      "source": [
        "Batches processed by model can't be a ragged tensor and input sequences are of varying length. To fix this issue sequences are padded with special tokens to match length of the longest sequence in the batch. This process is called dynamic padding, non dynamic padding means padding all sequences to match length of the longest sequence in whole dataset. Dynamic padding is done by datacollator.    "
      ],
      "metadata": {
        "id": "ABr4fNTwRqMS"
      }
    },
    {
      "cell_type": "code",
      "execution_count": null,
      "metadata": {
        "id": "4Y03G8dZpNdo"
      },
      "outputs": [],
      "source": [
        "data_collator = DataCollatorForTokenClassification(\n",
        "    tokenizer=tokenizer, return_tensors='pt'\n",
        ")"
      ]
    },
    {
      "cell_type": "markdown",
      "source": [
        "As you can see first tensor was padded with 2 special tokens to match the length of second tensor"
      ],
      "metadata": {
        "id": "YsEmXuXkTPTr"
      }
    },
    {
      "cell_type": "code",
      "source": [
        "batch = data_collator([tokenized_dataset[\"train\"][i] for i in range(2, 4)])\n",
        "batch[\"labels\"]"
      ],
      "metadata": {
        "colab": {
          "base_uri": "https://localhost:8080/"
        },
        "id": "Df7oij9PONhS",
        "outputId": "dfad0eae-30cc-485d-fb9f-20fd29993ae4"
      },
      "execution_count": null,
      "outputs": [
        {
          "output_type": "stream",
          "name": "stderr",
          "text": [
            "You're using a RobertaTokenizerFast tokenizer. Please note that with a fast tokenizer, using the `__call__` method is faster than using a method to encode the text followed by a call to the `pad` method to get a padded encoding.\n"
          ]
        },
        {
          "output_type": "execute_result",
          "data": {
            "text/plain": [
              "tensor([[-100,    0,    0,    0,    0,    0,    0,    0,    0,    0,    9,    0,\n",
              "            0,    0,    0,    0,    0,    0,    0,    0,    0,    0,    0,    0,\n",
              "            0,    0,    0,    0,    0,    0,    0,    0, -100, -100, -100],\n",
              "        [-100,    0,    0,    0,    0,    0,    0,    0,    0,    0,    0,    0,\n",
              "            0,    0,    9,    0,    0,    0,    0,    0,    0,    0,    0,    0,\n",
              "            0,    0,    0,    0,    0,    0,    0,    0,    0,    0, -100]])"
            ]
          },
          "metadata": {},
          "execution_count": 31
        }
      ]
    },
    {
      "cell_type": "code",
      "source": [
        "for i in range(2):\n",
        "    print(tokenized_dataset[\"train\"][i][\"labels\"])"
      ],
      "metadata": {
        "colab": {
          "base_uri": "https://localhost:8080/"
        },
        "id": "VqQmphJiONkX",
        "outputId": "7e269e2d-f1dd-4522-9a3d-acbc88b3982f"
      },
      "execution_count": null,
      "outputs": [
        {
          "output_type": "stream",
          "name": "stdout",
          "text": [
            "[-100, 0, 0, 0, 0, 0, 0, 0, 0, 0, 0, 0, 0, 0, 0, 0, 0, 9, 0, 0, 9, 10, 10, 0, 0, 0, 9, 10, 0, -100]\n",
            "[-100, 5, 0, 0, 0, 0, 0, 0, 0, 0, 0, 0, 0, 0, 0, 0, 0, 0, 0, 0, 0, 0, 0, 0, 0, 0, 0, 0, 0, -100]\n"
          ]
        }
      ]
    },
    {
      "cell_type": "markdown",
      "source": [
        "Metrics will be computed using seqeval \"A Python framework for sequence labeling evaluation(named-entity recognition, pos tagging, etc...)\".\n",
        "\n",
        "Seqeval will compute accuracy, precision, recall and f1 for all classes togehter. It also computes these metrics for each class individually but I'm not going to include them in the output of evaluation function because there would be too much numbers to look at at the same time."
      ],
      "metadata": {
        "id": "YrsildrJTyoR"
      }
    },
    {
      "cell_type": "code",
      "source": [
        "metric = evaluate.load(\"seqeval\")"
      ],
      "metadata": {
        "id": "3dXGY5eEONpu"
      },
      "execution_count": null,
      "outputs": []
    },
    {
      "cell_type": "code",
      "source": [
        "label_names = list(label2id.keys())"
      ],
      "metadata": {
        "id": "eSRlO7eaONsW"
      },
      "execution_count": null,
      "outputs": []
    },
    {
      "cell_type": "code",
      "source": [
        "def compute_metrics(eval_preds):\n",
        "    #eval preds is a tuple returned by model containing logits and labels\n",
        "    logits, labels = eval_preds\n",
        "    #geting the predicted label\n",
        "    predictions = np.argmax(logits, axis=-1)\n",
        "\n",
        "    # Labels are represented as integers and they contain -100 for special tokens\n",
        "    # Seqeval uses strings for calculating metrics so they need to be converted back to strings\n",
        "    true_labels = [[label_names[l] for l in label if l != -100] for label in labels]\n",
        "    true_predictions = [\n",
        "        [label_names[p] for (p, l) in zip(prediction, label) if l != -100]\n",
        "        for prediction, label in zip(predictions, labels)\n",
        "    ]\n",
        "    all_metrics = metric.compute(predictions=true_predictions, references=true_labels)\n",
        "    return {\n",
        "        \"overall_precision\": all_metrics[\"overall_precision\"],\n",
        "        \"overall_recall\": all_metrics[\"overall_recall\"],\n",
        "        \"overall_f1\": all_metrics[\"overall_f1\"],\n",
        "        \"overall_accuracy\": all_metrics[\"overall_accuracy\"]\n",
        "    }"
      ],
      "metadata": {
        "id": "CEKgSE5sPGKa"
      },
      "execution_count": null,
      "outputs": []
    },
    {
      "cell_type": "code",
      "execution_count": null,
      "metadata": {
        "id": "GiO9D0u1qMCC"
      },
      "outputs": [],
      "source": [
        "model = AutoModelForTokenClassification.from_pretrained(\n",
        "    model_checkpoint,\n",
        "    id2label=id2label,\n",
        "    label2id=label2id\n",
        ")\n"
      ]
    },
    {
      "cell_type": "code",
      "execution_count": null,
      "metadata": {
        "colab": {
          "base_uri": "https://localhost:8080/"
        },
        "id": "xikR9TFbrglq",
        "outputId": "579067c3-17ec-4a38-ea2b-ea92b6ebd97c"
      },
      "outputs": [
        {
          "output_type": "execute_result",
          "data": {
            "text/plain": [
              "11"
            ]
          },
          "metadata": {},
          "execution_count": 37
        }
      ],
      "source": [
        "model.config.num_labels"
      ]
    },
    {
      "cell_type": "code",
      "source": [
        "summary(model, input_size=(1, 512), dtypes=['torch.IntTensor'])"
      ],
      "metadata": {
        "id": "ORA3GHusaFfu",
        "colab": {
          "base_uri": "https://localhost:8080/"
        },
        "outputId": "90a07676-7fc0-4fea-997f-cfae38cebd95"
      },
      "execution_count": null,
      "outputs": [
        {
          "output_type": "execute_result",
          "data": {
            "text/plain": [
              "==============================================================================================================\n",
              "Layer (type:depth-idx)                                       Output Shape              Param #\n",
              "==============================================================================================================\n",
              "RobertaForTokenClassification                                [1, 512, 11]              --\n",
              "├─RobertaModel: 1-1                                          [1, 512, 768]             --\n",
              "│    └─RobertaEmbeddings: 2-1                                [1, 512, 768]             --\n",
              "│    │    └─Embedding: 3-1                                   [1, 512, 768]             38,603,520\n",
              "│    │    └─Embedding: 3-2                                   [1, 512, 768]             768\n",
              "│    │    └─Embedding: 3-3                                   [1, 512, 768]             394,752\n",
              "│    │    └─LayerNorm: 3-4                                   [1, 512, 768]             1,536\n",
              "│    │    └─Dropout: 3-5                                     [1, 512, 768]             --\n",
              "│    └─RobertaEncoder: 2-2                                   [1, 512, 768]             --\n",
              "│    │    └─ModuleList: 3-6                                  --                        85,054,464\n",
              "├─Dropout: 1-2                                               [1, 512, 768]             --\n",
              "├─Linear: 1-3                                                [1, 512, 11]              8,459\n",
              "==============================================================================================================\n",
              "Total params: 124,063,499\n",
              "Trainable params: 124,063,499\n",
              "Non-trainable params: 0\n",
              "Total mult-adds (M): 124.06\n",
              "==============================================================================================================\n",
              "Input size (MB): 0.00\n",
              "Forward/backward pass size (MB): 427.86\n",
              "Params size (MB): 496.25\n",
              "Estimated Total Size (MB): 924.12\n",
              "=============================================================================================================="
            ]
          },
          "metadata": {},
          "execution_count": 9
        }
      ]
    },
    {
      "cell_type": "markdown",
      "metadata": {
        "id": "y52nljz4ilWN"
      },
      "source": [
        "#Experiment 1 RoBERTa\n",
        "\n",
        "Hyperparameters:\n",
        "Learning rate: 3e-5 \n",
        "\n",
        "Batch size: 32\n",
        "\n",
        "Training epochs: 10\n",
        "\n",
        "Weight decay: 0.01\n",
        "\n",
        "Warmup ratio: 6%\n",
        "\n",
        "Learning rate decay: linear going down to 0\n",
        "\n",
        "Optimizer: AdamW with default settings\n",
        "\n",
        "All of the hyperparameters are taken from RoBERTa paper https://arxiv.org/pdf/1907.11692.pdf table 10 on the last page\n",
        "\n"
      ]
    },
    {
      "cell_type": "code",
      "source": [
        "batch_size = 32\n",
        "num_train_epochs = 10\n",
        "logging_steps = 300\n",
        "model_name = model_checkpoint.split(\"/\")[-1]\n",
        "\n",
        "args = TrainingArguments(\n",
        "    output_dir=f\"{model_name}-ner\",\n",
        "    evaluation_strategy=\"epoch\",\n",
        "    learning_rate=3e-5,\n",
        "    per_device_train_batch_size=batch_size,\n",
        "    per_device_eval_batch_size=batch_size,\n",
        "    weight_decay=0.01,\n",
        "    lr_scheduler_type='linear',\n",
        "    num_train_epochs=num_train_epochs,\n",
        "    logging_steps=logging_steps,\n",
        "    report_to=\"wandb\",\n",
        "    run_name=f'{model_name}_exp1',\n",
        "    logging_strategy='steps',\n",
        "    save_strategy='epoch',\n",
        "    logging_first_step=True,\n",
        "    warmup_ratio=0.06,\n",
        "    gradient_accumulation_steps=1\n",
        "\n",
        ")"
      ],
      "metadata": {
        "id": "zyNhl3xuagAD"
      },
      "execution_count": null,
      "outputs": []
    },
    {
      "cell_type": "code",
      "source": [
        "trainer = Trainer(\n",
        "    model=model,\n",
        "    args=args,\n",
        "    train_dataset=tokenized_dataset[\"train\"],\n",
        "    eval_dataset=tokenized_dataset[\"test\"],\n",
        "    data_collator=data_collator,\n",
        "    compute_metrics=compute_metrics,\n",
        "    tokenizer=tokenizer,\n",
        ")\n",
        "trainer.train()"
      ],
      "metadata": {
        "colab": {
          "base_uri": "https://localhost:8080/",
          "height": 1000
        },
        "id": "8bQdMjdHcgAN",
        "outputId": "694876c9-2910-4046-f5b7-c47b40627d6f"
      },
      "execution_count": null,
      "outputs": [
        {
          "output_type": "stream",
          "name": "stderr",
          "text": [
            "/usr/local/lib/python3.7/dist-packages/transformers/optimization.py:310: FutureWarning: This implementation of AdamW is deprecated and will be removed in a future version. Use the PyTorch implementation torch.optim.AdamW instead, or set `no_deprecation_warning=True` to disable this warning\n",
            "  FutureWarning,\n",
            "***** Running training *****\n",
            "  Num examples = 40754\n",
            "  Num Epochs = 10\n",
            "  Instantaneous batch size per device = 32\n",
            "  Total train batch size (w. parallel, distributed & accumulation) = 32\n",
            "  Gradient Accumulation steps = 1\n",
            "  Total optimization steps = 12740\n",
            "  Number of trainable parameters = 124063499\n",
            "Automatic Weights & Biases logging enabled, to disable set os.environ[\"WANDB_DISABLED\"] = \"true\"\n"
          ]
        },
        {
          "output_type": "display_data",
          "data": {
            "text/plain": [
              "<IPython.core.display.HTML object>"
            ],
            "text/html": [
              "Changes to your `wandb` environment variables will be ignored because your `wandb` session has already started. For more information on how to modify your settings with `wandb.init()` arguments, please refer to <a href=\"https://wandb.me/wandb-init\" target=\"_blank\">the W&B docs</a>."
            ]
          },
          "metadata": {}
        },
        {
          "output_type": "stream",
          "name": "stderr",
          "text": [
            "\u001b[34m\u001b[1mwandb\u001b[0m: Currently logged in as: \u001b[33mgozdi\u001b[0m. Use \u001b[1m`wandb login --relogin`\u001b[0m to force relogin\n"
          ]
        },
        {
          "output_type": "display_data",
          "data": {
            "text/plain": [
              "<IPython.core.display.HTML object>"
            ],
            "text/html": [
              "Tracking run with wandb version 0.13.5"
            ]
          },
          "metadata": {}
        },
        {
          "output_type": "display_data",
          "data": {
            "text/plain": [
              "<IPython.core.display.HTML object>"
            ],
            "text/html": [
              "Run data is saved locally in <code>/content/wandb/run-20221104_153659-3q4fjd0h</code>"
            ]
          },
          "metadata": {}
        },
        {
          "output_type": "display_data",
          "data": {
            "text/plain": [
              "<IPython.core.display.HTML object>"
            ],
            "text/html": [
              "Syncing run <strong><a href=\"https://wandb.ai/gozdi/ner/runs/3q4fjd0h\" target=\"_blank\">roberta-base_exp1</a></strong> to <a href=\"https://wandb.ai/gozdi/ner\" target=\"_blank\">Weights & Biases</a> (<a href=\"https://wandb.me/run\" target=\"_blank\">docs</a>)<br/>"
            ]
          },
          "metadata": {}
        },
        {
          "output_type": "display_data",
          "data": {
            "text/plain": [
              "<IPython.core.display.HTML object>"
            ],
            "text/html": [
              "\n",
              "    <div>\n",
              "      \n",
              "      <progress value='12740' max='12740' style='width:300px; height:20px; vertical-align: middle;'></progress>\n",
              "      [12740/12740 22:33, Epoch 10/10]\n",
              "    </div>\n",
              "    <table border=\"1\" class=\"dataframe\">\n",
              "  <thead>\n",
              " <tr style=\"text-align: left;\">\n",
              "      <th>Epoch</th>\n",
              "      <th>Training Loss</th>\n",
              "      <th>Validation Loss</th>\n",
              "      <th>Overall Precision</th>\n",
              "      <th>Overall Recall</th>\n",
              "      <th>Overall F1</th>\n",
              "      <th>Overall Accuracy</th>\n",
              "    </tr>\n",
              "  </thead>\n",
              "  <tbody>\n",
              "    <tr>\n",
              "      <td>1</td>\n",
              "      <td>0.134800</td>\n",
              "      <td>0.130499</td>\n",
              "      <td>0.811895</td>\n",
              "      <td>0.821620</td>\n",
              "      <td>0.816729</td>\n",
              "      <td>0.959570</td>\n",
              "    </tr>\n",
              "    <tr>\n",
              "      <td>2</td>\n",
              "      <td>0.111100</td>\n",
              "      <td>0.111590</td>\n",
              "      <td>0.815965</td>\n",
              "      <td>0.834022</td>\n",
              "      <td>0.824895</td>\n",
              "      <td>0.962456</td>\n",
              "    </tr>\n",
              "    <tr>\n",
              "      <td>3</td>\n",
              "      <td>0.090500</td>\n",
              "      <td>0.117173</td>\n",
              "      <td>0.809009</td>\n",
              "      <td>0.841865</td>\n",
              "      <td>0.825110</td>\n",
              "      <td>0.961395</td>\n",
              "    </tr>\n",
              "    <tr>\n",
              "      <td>4</td>\n",
              "      <td>0.076200</td>\n",
              "      <td>0.116744</td>\n",
              "      <td>0.828091</td>\n",
              "      <td>0.846668</td>\n",
              "      <td>0.837276</td>\n",
              "      <td>0.964333</td>\n",
              "    </tr>\n",
              "    <tr>\n",
              "      <td>5</td>\n",
              "      <td>0.060700</td>\n",
              "      <td>0.127279</td>\n",
              "      <td>0.825674</td>\n",
              "      <td>0.846607</td>\n",
              "      <td>0.836010</td>\n",
              "      <td>0.963996</td>\n",
              "    </tr>\n",
              "    <tr>\n",
              "      <td>6</td>\n",
              "      <td>0.050100</td>\n",
              "      <td>0.140723</td>\n",
              "      <td>0.832649</td>\n",
              "      <td>0.850620</td>\n",
              "      <td>0.841539</td>\n",
              "      <td>0.964709</td>\n",
              "    </tr>\n",
              "    <tr>\n",
              "      <td>7</td>\n",
              "      <td>0.039500</td>\n",
              "      <td>0.153898</td>\n",
              "      <td>0.836047</td>\n",
              "      <td>0.852262</td>\n",
              "      <td>0.844076</td>\n",
              "      <td>0.965057</td>\n",
              "    </tr>\n",
              "    <tr>\n",
              "      <td>8</td>\n",
              "      <td>0.034700</td>\n",
              "      <td>0.162406</td>\n",
              "      <td>0.830601</td>\n",
              "      <td>0.850195</td>\n",
              "      <td>0.840284</td>\n",
              "      <td>0.964105</td>\n",
              "    </tr>\n",
              "    <tr>\n",
              "      <td>9</td>\n",
              "      <td>0.028100</td>\n",
              "      <td>0.171846</td>\n",
              "      <td>0.836743</td>\n",
              "      <td>0.852870</td>\n",
              "      <td>0.844729</td>\n",
              "      <td>0.964664</td>\n",
              "    </tr>\n",
              "    <tr>\n",
              "      <td>10</td>\n",
              "      <td>0.024700</td>\n",
              "      <td>0.178911</td>\n",
              "      <td>0.834642</td>\n",
              "      <td>0.852809</td>\n",
              "      <td>0.843628</td>\n",
              "      <td>0.964806</td>\n",
              "    </tr>\n",
              "  </tbody>\n",
              "</table><p>"
            ]
          },
          "metadata": {}
        },
        {
          "output_type": "stream",
          "name": "stderr",
          "text": [
            "***** Running Evaluation *****\n",
            "  Num examples = 7192\n",
            "  Batch size = 32\n",
            "Saving model checkpoint to roberta-base-ner/checkpoint-1274\n",
            "Configuration saved in roberta-base-ner/checkpoint-1274/config.json\n",
            "Model weights saved in roberta-base-ner/checkpoint-1274/pytorch_model.bin\n",
            "tokenizer config file saved in roberta-base-ner/checkpoint-1274/tokenizer_config.json\n",
            "Special tokens file saved in roberta-base-ner/checkpoint-1274/special_tokens_map.json\n",
            "***** Running Evaluation *****\n",
            "  Num examples = 7192\n",
            "  Batch size = 32\n",
            "Saving model checkpoint to roberta-base-ner/checkpoint-2548\n",
            "Configuration saved in roberta-base-ner/checkpoint-2548/config.json\n",
            "Model weights saved in roberta-base-ner/checkpoint-2548/pytorch_model.bin\n",
            "tokenizer config file saved in roberta-base-ner/checkpoint-2548/tokenizer_config.json\n",
            "Special tokens file saved in roberta-base-ner/checkpoint-2548/special_tokens_map.json\n",
            "***** Running Evaluation *****\n",
            "  Num examples = 7192\n",
            "  Batch size = 32\n",
            "Saving model checkpoint to roberta-base-ner/checkpoint-3822\n",
            "Configuration saved in roberta-base-ner/checkpoint-3822/config.json\n",
            "Model weights saved in roberta-base-ner/checkpoint-3822/pytorch_model.bin\n",
            "tokenizer config file saved in roberta-base-ner/checkpoint-3822/tokenizer_config.json\n",
            "Special tokens file saved in roberta-base-ner/checkpoint-3822/special_tokens_map.json\n",
            "***** Running Evaluation *****\n",
            "  Num examples = 7192\n",
            "  Batch size = 32\n",
            "Saving model checkpoint to roberta-base-ner/checkpoint-5096\n",
            "Configuration saved in roberta-base-ner/checkpoint-5096/config.json\n",
            "Model weights saved in roberta-base-ner/checkpoint-5096/pytorch_model.bin\n",
            "tokenizer config file saved in roberta-base-ner/checkpoint-5096/tokenizer_config.json\n",
            "Special tokens file saved in roberta-base-ner/checkpoint-5096/special_tokens_map.json\n",
            "***** Running Evaluation *****\n",
            "  Num examples = 7192\n",
            "  Batch size = 32\n",
            "Saving model checkpoint to roberta-base-ner/checkpoint-6370\n",
            "Configuration saved in roberta-base-ner/checkpoint-6370/config.json\n",
            "Model weights saved in roberta-base-ner/checkpoint-6370/pytorch_model.bin\n",
            "tokenizer config file saved in roberta-base-ner/checkpoint-6370/tokenizer_config.json\n",
            "Special tokens file saved in roberta-base-ner/checkpoint-6370/special_tokens_map.json\n",
            "***** Running Evaluation *****\n",
            "  Num examples = 7192\n",
            "  Batch size = 32\n",
            "Saving model checkpoint to roberta-base-ner/checkpoint-7644\n",
            "Configuration saved in roberta-base-ner/checkpoint-7644/config.json\n",
            "Model weights saved in roberta-base-ner/checkpoint-7644/pytorch_model.bin\n",
            "tokenizer config file saved in roberta-base-ner/checkpoint-7644/tokenizer_config.json\n",
            "Special tokens file saved in roberta-base-ner/checkpoint-7644/special_tokens_map.json\n",
            "***** Running Evaluation *****\n",
            "  Num examples = 7192\n",
            "  Batch size = 32\n",
            "Saving model checkpoint to roberta-base-ner/checkpoint-8918\n",
            "Configuration saved in roberta-base-ner/checkpoint-8918/config.json\n",
            "Model weights saved in roberta-base-ner/checkpoint-8918/pytorch_model.bin\n",
            "tokenizer config file saved in roberta-base-ner/checkpoint-8918/tokenizer_config.json\n",
            "Special tokens file saved in roberta-base-ner/checkpoint-8918/special_tokens_map.json\n",
            "***** Running Evaluation *****\n",
            "  Num examples = 7192\n",
            "  Batch size = 32\n",
            "Saving model checkpoint to roberta-base-ner/checkpoint-10192\n",
            "Configuration saved in roberta-base-ner/checkpoint-10192/config.json\n",
            "Model weights saved in roberta-base-ner/checkpoint-10192/pytorch_model.bin\n",
            "tokenizer config file saved in roberta-base-ner/checkpoint-10192/tokenizer_config.json\n",
            "Special tokens file saved in roberta-base-ner/checkpoint-10192/special_tokens_map.json\n",
            "***** Running Evaluation *****\n",
            "  Num examples = 7192\n",
            "  Batch size = 32\n",
            "Saving model checkpoint to roberta-base-ner/checkpoint-11466\n",
            "Configuration saved in roberta-base-ner/checkpoint-11466/config.json\n",
            "Model weights saved in roberta-base-ner/checkpoint-11466/pytorch_model.bin\n",
            "tokenizer config file saved in roberta-base-ner/checkpoint-11466/tokenizer_config.json\n",
            "Special tokens file saved in roberta-base-ner/checkpoint-11466/special_tokens_map.json\n",
            "***** Running Evaluation *****\n",
            "  Num examples = 7192\n",
            "  Batch size = 32\n",
            "Saving model checkpoint to roberta-base-ner/checkpoint-12740\n",
            "Configuration saved in roberta-base-ner/checkpoint-12740/config.json\n",
            "Model weights saved in roberta-base-ner/checkpoint-12740/pytorch_model.bin\n",
            "tokenizer config file saved in roberta-base-ner/checkpoint-12740/tokenizer_config.json\n",
            "Special tokens file saved in roberta-base-ner/checkpoint-12740/special_tokens_map.json\n",
            "\n",
            "\n",
            "Training completed. Do not forget to share your model on huggingface.co/models =)\n",
            "\n",
            "\n"
          ]
        },
        {
          "output_type": "execute_result",
          "data": {
            "text/plain": [
              "TrainOutput(global_step=12740, training_loss=0.08085447678947748, metrics={'train_runtime': 1359.2744, 'train_samples_per_second': 299.822, 'train_steps_per_second': 9.373, 'total_flos': 1.007332983220164e+16, 'train_loss': 0.08085447678947748, 'epoch': 10.0})"
            ]
          },
          "metadata": {},
          "execution_count": 41
        }
      ]
    },
    {
      "cell_type": "code",
      "source": [
        "wandb.finish()"
      ],
      "metadata": {
        "id": "vcoUqVvNgS8c"
      },
      "execution_count": null,
      "outputs": []
    },
    {
      "cell_type": "markdown",
      "source": [
        "#Experiment 1 results\n",
        "\n",
        "The best results were achieved after 7 epochs of training. After 10th epoch results were almost identical to those of 7th epoch, but slightly worse. Training for more epochs could have produced better results.\n",
        "\n",
        "If you want to take a closer look you can do that here https://wandb.ai/gozdi/ner?workspace=user-gozdi\n",
        "\n",
        "I'm not going to perform a hyperparameter search but it probably would result in better results.\n",
        "\n",
        "I'll upload the best checkpoint to huggingface hub and move on to train DeBERTav3 x-small"
      ],
      "metadata": {
        "id": "TnWf5QEtYmLB"
      }
    },
    {
      "cell_type": "markdown",
      "source": [
        "![exp1.PNG](data:image/png;base64,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)"
      ],
      "metadata": {
        "id": "edphARPNYmWu"
      }
    },
    {
      "cell_type": "code",
      "source": [
        "1274*7"
      ],
      "metadata": {
        "colab": {
          "base_uri": "https://localhost:8080/"
        },
        "id": "7MwYfVW3YGcn",
        "outputId": "7e33ee70-fdf4-44fd-c0bb-0c5e46529334"
      },
      "execution_count": null,
      "outputs": [
        {
          "output_type": "execute_result",
          "data": {
            "text/plain": [
              "8918"
            ]
          },
          "metadata": {},
          "execution_count": 43
        }
      ]
    },
    {
      "cell_type": "code",
      "source": [
        "model = AutoModelForTokenClassification.from_pretrained('/content/roberta-base-ner/checkpoint-8918')"
      ],
      "metadata": {
        "id": "qUCic8DogU2o"
      },
      "execution_count": null,
      "outputs": []
    },
    {
      "cell_type": "code",
      "execution_count": null,
      "metadata": {
        "colab": {
          "base_uri": "https://localhost:8080/"
        },
        "id": "eOpOGeak4H-1",
        "outputId": "ee356977-4b8c-400e-94eb-32b3152958e3"
      },
      "outputs": [
        {
          "output_type": "stream",
          "name": "stderr",
          "text": [
            "Configuration saved in /tmp/tmpszvqz6z7/config.json\n",
            "Model weights saved in /tmp/tmpszvqz6z7/pytorch_model.bin\n",
            "Uploading the following files to Gozdi/roberta-base-finetuned-ner: pytorch_model.bin,config.json\n",
            "tokenizer config file saved in /tmp/tmpxva6of6u/tokenizer_config.json\n",
            "Special tokens file saved in /tmp/tmpxva6of6u/special_tokens_map.json\n",
            "Uploading the following files to Gozdi/roberta-base-finetuned-ner: vocab.json,tokenizer.json,tokenizer_config.json,special_tokens_map.json,merges.txt\n"
          ]
        },
        {
          "output_type": "execute_result",
          "data": {
            "text/plain": [
              "CommitInfo(commit_url='https://huggingface.co/Gozdi/roberta-base-finetuned-ner/commit/1b2c04be594751d2ab293df05a6aec76a18374d5', commit_message='Upload tokenizer', commit_description='', oid='1b2c04be594751d2ab293df05a6aec76a18374d5', pr_url=None, pr_revision=None, pr_num=None)"
            ]
          },
          "metadata": {},
          "execution_count": 45
        }
      ],
      "source": [
        "create_repo(\"roberta-base-finetuned-ner\")\n",
        "\n",
        "model.push_to_hub(\"roberta-base-finetuned-ner\")\n",
        "\n",
        "tokenizer.push_to_hub(\"roberta-base-finetuned-ner\")"
      ]
    },
    {
      "cell_type": "markdown",
      "source": [
        "#DeBERTav3 Experiment 1"
      ],
      "metadata": {
        "id": "6JOOY7JHpx7b"
      }
    },
    {
      "cell_type": "code",
      "source": [
        "model_checkpoint = 'microsoft/deberta-v3-xsmall'"
      ],
      "metadata": {
        "id": "HE-0Kr6mpmeg"
      },
      "execution_count": null,
      "outputs": []
    },
    {
      "cell_type": "code",
      "source": [
        "tokenizer = AutoTokenizer.from_pretrained(model_checkpoint, add_prefix_space=True)"
      ],
      "metadata": {
        "id": "k4766-DJmwrT"
      },
      "execution_count": null,
      "outputs": []
    },
    {
      "cell_type": "markdown",
      "source": [
        "New tokenized dataset needs to be made using DeBERTa tokenizer"
      ],
      "metadata": {
        "id": "A9NNoWU1q87I"
      }
    },
    {
      "cell_type": "code",
      "source": [
        "def tokenize_and_align(batch):\n",
        "  tokenized_inputs = tokenizer(\n",
        "      batch['text'], truncation=True, is_split_into_words=True\n",
        "  )\n",
        "  batch_labels = batch['labels']\n",
        "  new_labels = []\n",
        "  for i, labels in enumerate(batch_labels):\n",
        "    #word_ids is a mapping from words to tokens \n",
        "    word_ids = tokenized_inputs.word_ids(i)\n",
        "    new_labels.append(align_labels_with_tokens(labels, word_ids))\n",
        "\n",
        "  tokenized_inputs['labels'] = new_labels\n",
        "  return tokenized_inputs"
      ],
      "metadata": {
        "id": "wJPIZgcSnNq7"
      },
      "execution_count": null,
      "outputs": []
    },
    {
      "cell_type": "code",
      "source": [
        "tokenized_dataset = dataset.map(\n",
        "    tokenize_and_align,\n",
        "    batched=True,\n",
        "    remove_columns=dataset['train'].column_names\n",
        ")"
      ],
      "metadata": {
        "id": "dIZhEFsFnbwq"
      },
      "execution_count": null,
      "outputs": []
    },
    {
      "cell_type": "code",
      "source": [
        "model = AutoModelForTokenClassification.from_pretrained(\n",
        "    model_checkpoint,\n",
        "    id2label=id2label,\n",
        "    label2id=label2id,\n",
        ")"
      ],
      "metadata": {
        "id": "UKhOpcP-_8-m"
      },
      "execution_count": null,
      "outputs": []
    },
    {
      "cell_type": "markdown",
      "source": [
        "For some reason printing model's summary doesn't work with DeBERTa"
      ],
      "metadata": {
        "id": "rQF34MDCCo_6"
      }
    },
    {
      "cell_type": "code",
      "source": [
        "summary(model, input_size=(2, 512), dtypes=['torch.IntTensor'])"
      ],
      "metadata": {
        "colab": {
          "base_uri": "https://localhost:8080/",
          "height": 565
        },
        "id": "Lc50DcAWp58P",
        "outputId": "f4d7b074-a2cc-439b-f12b-7bc7fb03de27"
      },
      "execution_count": null,
      "outputs": [
        {
          "output_type": "error",
          "ename": "RuntimeError",
          "evalue": "ignored",
          "traceback": [
            "\u001b[0;31m---------------------------------------------------------------------------\u001b[0m",
            "\u001b[0;31mAttributeError\u001b[0m                            Traceback (most recent call last)",
            "\u001b[0;32m/usr/local/lib/python3.7/dist-packages/torchinfo/torchinfo.py\u001b[0m in \u001b[0;36mforward_pass\u001b[0;34m(model, x, batch_dim, cache_forward_pass, device, mode, **kwargs)\u001b[0m\n\u001b[1;32m    286\u001b[0m             \u001b[0;32mif\u001b[0m \u001b[0misinstance\u001b[0m\u001b[0;34m(\u001b[0m\u001b[0mx\u001b[0m\u001b[0;34m,\u001b[0m \u001b[0;34m(\u001b[0m\u001b[0mlist\u001b[0m\u001b[0;34m,\u001b[0m \u001b[0mtuple\u001b[0m\u001b[0;34m)\u001b[0m\u001b[0;34m)\u001b[0m\u001b[0;34m:\u001b[0m\u001b[0;34m\u001b[0m\u001b[0;34m\u001b[0m\u001b[0m\n\u001b[0;32m--> 287\u001b[0;31m                 \u001b[0m_\u001b[0m \u001b[0;34m=\u001b[0m \u001b[0mmodel\u001b[0m\u001b[0;34m.\u001b[0m\u001b[0mto\u001b[0m\u001b[0;34m(\u001b[0m\u001b[0mdevice\u001b[0m\u001b[0;34m)\u001b[0m\u001b[0;34m(\u001b[0m\u001b[0;34m*\u001b[0m\u001b[0mx\u001b[0m\u001b[0;34m,\u001b[0m \u001b[0;34m**\u001b[0m\u001b[0mkwargs\u001b[0m\u001b[0;34m)\u001b[0m\u001b[0;34m\u001b[0m\u001b[0;34m\u001b[0m\u001b[0m\n\u001b[0m\u001b[1;32m    288\u001b[0m             \u001b[0;32melif\u001b[0m \u001b[0misinstance\u001b[0m\u001b[0;34m(\u001b[0m\u001b[0mx\u001b[0m\u001b[0;34m,\u001b[0m \u001b[0mdict\u001b[0m\u001b[0;34m)\u001b[0m\u001b[0;34m:\u001b[0m\u001b[0;34m\u001b[0m\u001b[0;34m\u001b[0m\u001b[0m\n",
            "\u001b[0;32m/usr/local/lib/python3.7/dist-packages/torch/nn/modules/module.py\u001b[0m in \u001b[0;36m_call_impl\u001b[0;34m(self, *input, **kwargs)\u001b[0m\n\u001b[1;32m   1147\u001b[0m \u001b[0;34m\u001b[0m\u001b[0m\n\u001b[0;32m-> 1148\u001b[0;31m         \u001b[0mresult\u001b[0m \u001b[0;34m=\u001b[0m \u001b[0mforward_call\u001b[0m\u001b[0;34m(\u001b[0m\u001b[0;34m*\u001b[0m\u001b[0minput\u001b[0m\u001b[0;34m,\u001b[0m \u001b[0;34m**\u001b[0m\u001b[0mkwargs\u001b[0m\u001b[0;34m)\u001b[0m\u001b[0;34m\u001b[0m\u001b[0;34m\u001b[0m\u001b[0m\n\u001b[0m\u001b[1;32m   1149\u001b[0m         \u001b[0;32mif\u001b[0m \u001b[0m_global_forward_hooks\u001b[0m \u001b[0;32mor\u001b[0m \u001b[0mself\u001b[0m\u001b[0;34m.\u001b[0m\u001b[0m_forward_hooks\u001b[0m\u001b[0;34m:\u001b[0m\u001b[0;34m\u001b[0m\u001b[0;34m\u001b[0m\u001b[0m\n",
            "\u001b[0;32m/usr/local/lib/python3.7/dist-packages/transformers/models/deberta_v2/modeling_deberta_v2.py\u001b[0m in \u001b[0;36mforward\u001b[0;34m(self, input_ids, attention_mask, token_type_ids, position_ids, inputs_embeds, labels, output_attentions, output_hidden_states, return_dict)\u001b[0m\n\u001b[1;32m   1449\u001b[0m             \u001b[0moutput_hidden_states\u001b[0m\u001b[0;34m=\u001b[0m\u001b[0moutput_hidden_states\u001b[0m\u001b[0;34m,\u001b[0m\u001b[0;34m\u001b[0m\u001b[0;34m\u001b[0m\u001b[0m\n\u001b[0;32m-> 1450\u001b[0;31m             \u001b[0mreturn_dict\u001b[0m\u001b[0;34m=\u001b[0m\u001b[0mreturn_dict\u001b[0m\u001b[0;34m,\u001b[0m\u001b[0;34m\u001b[0m\u001b[0;34m\u001b[0m\u001b[0m\n\u001b[0m\u001b[1;32m   1451\u001b[0m         )\n",
            "\u001b[0;32m/usr/local/lib/python3.7/dist-packages/torch/nn/modules/module.py\u001b[0m in \u001b[0;36m_call_impl\u001b[0;34m(self, *input, **kwargs)\u001b[0m\n\u001b[1;32m   1147\u001b[0m \u001b[0;34m\u001b[0m\u001b[0m\n\u001b[0;32m-> 1148\u001b[0;31m         \u001b[0mresult\u001b[0m \u001b[0;34m=\u001b[0m \u001b[0mforward_call\u001b[0m\u001b[0;34m(\u001b[0m\u001b[0;34m*\u001b[0m\u001b[0minput\u001b[0m\u001b[0;34m,\u001b[0m \u001b[0;34m**\u001b[0m\u001b[0mkwargs\u001b[0m\u001b[0;34m)\u001b[0m\u001b[0;34m\u001b[0m\u001b[0;34m\u001b[0m\u001b[0m\n\u001b[0m\u001b[1;32m   1149\u001b[0m         \u001b[0;32mif\u001b[0m \u001b[0m_global_forward_hooks\u001b[0m \u001b[0;32mor\u001b[0m \u001b[0mself\u001b[0m\u001b[0;34m.\u001b[0m\u001b[0m_forward_hooks\u001b[0m\u001b[0;34m:\u001b[0m\u001b[0;34m\u001b[0m\u001b[0;34m\u001b[0m\u001b[0m\n",
            "\u001b[0;32m/usr/local/lib/python3.7/dist-packages/transformers/models/deberta_v2/modeling_deberta_v2.py\u001b[0m in \u001b[0;36mforward\u001b[0;34m(self, input_ids, attention_mask, token_type_ids, position_ids, inputs_embeds, output_attentions, output_hidden_states, return_dict)\u001b[0m\n\u001b[1;32m   1103\u001b[0m             \u001b[0moutput_attentions\u001b[0m\u001b[0;34m=\u001b[0m\u001b[0moutput_attentions\u001b[0m\u001b[0;34m,\u001b[0m\u001b[0;34m\u001b[0m\u001b[0;34m\u001b[0m\u001b[0m\n\u001b[0;32m-> 1104\u001b[0;31m             \u001b[0mreturn_dict\u001b[0m\u001b[0;34m=\u001b[0m\u001b[0mreturn_dict\u001b[0m\u001b[0;34m,\u001b[0m\u001b[0;34m\u001b[0m\u001b[0;34m\u001b[0m\u001b[0m\n\u001b[0m\u001b[1;32m   1105\u001b[0m         )\n",
            "\u001b[0;32m/usr/local/lib/python3.7/dist-packages/torch/nn/modules/module.py\u001b[0m in \u001b[0;36m_call_impl\u001b[0;34m(self, *input, **kwargs)\u001b[0m\n\u001b[1;32m   1150\u001b[0m             \u001b[0;32mfor\u001b[0m \u001b[0mhook\u001b[0m \u001b[0;32min\u001b[0m \u001b[0;34m(\u001b[0m\u001b[0;34m*\u001b[0m\u001b[0m_global_forward_hooks\u001b[0m\u001b[0;34m.\u001b[0m\u001b[0mvalues\u001b[0m\u001b[0;34m(\u001b[0m\u001b[0;34m)\u001b[0m\u001b[0;34m,\u001b[0m \u001b[0;34m*\u001b[0m\u001b[0mself\u001b[0m\u001b[0;34m.\u001b[0m\u001b[0m_forward_hooks\u001b[0m\u001b[0;34m.\u001b[0m\u001b[0mvalues\u001b[0m\u001b[0;34m(\u001b[0m\u001b[0;34m)\u001b[0m\u001b[0;34m)\u001b[0m\u001b[0;34m:\u001b[0m\u001b[0;34m\u001b[0m\u001b[0;34m\u001b[0m\u001b[0m\n\u001b[0;32m-> 1151\u001b[0;31m                 \u001b[0mhook_result\u001b[0m \u001b[0;34m=\u001b[0m \u001b[0mhook\u001b[0m\u001b[0;34m(\u001b[0m\u001b[0mself\u001b[0m\u001b[0;34m,\u001b[0m \u001b[0minput\u001b[0m\u001b[0;34m,\u001b[0m \u001b[0mresult\u001b[0m\u001b[0;34m)\u001b[0m\u001b[0;34m\u001b[0m\u001b[0;34m\u001b[0m\u001b[0m\n\u001b[0m\u001b[1;32m   1152\u001b[0m                 \u001b[0;32mif\u001b[0m \u001b[0mhook_result\u001b[0m \u001b[0;32mis\u001b[0m \u001b[0;32mnot\u001b[0m \u001b[0;32mNone\u001b[0m\u001b[0;34m:\u001b[0m\u001b[0;34m\u001b[0m\u001b[0;34m\u001b[0m\u001b[0m\n",
            "\u001b[0;32m/usr/local/lib/python3.7/dist-packages/torchinfo/torchinfo.py\u001b[0m in \u001b[0;36mhook\u001b[0;34m(module, inputs, outputs)\u001b[0m\n\u001b[1;32m    550\u001b[0m         \u001b[0minfo\u001b[0m\u001b[0;34m.\u001b[0m\u001b[0minput_size\u001b[0m\u001b[0;34m,\u001b[0m \u001b[0m_\u001b[0m \u001b[0;34m=\u001b[0m \u001b[0minfo\u001b[0m\u001b[0;34m.\u001b[0m\u001b[0mcalculate_size\u001b[0m\u001b[0;34m(\u001b[0m\u001b[0minputs\u001b[0m\u001b[0;34m,\u001b[0m \u001b[0mbatch_dim\u001b[0m\u001b[0;34m)\u001b[0m\u001b[0;34m\u001b[0m\u001b[0;34m\u001b[0m\u001b[0m\n\u001b[0;32m--> 551\u001b[0;31m         \u001b[0minfo\u001b[0m\u001b[0;34m.\u001b[0m\u001b[0moutput_size\u001b[0m\u001b[0;34m,\u001b[0m \u001b[0melem_bytes\u001b[0m \u001b[0;34m=\u001b[0m \u001b[0minfo\u001b[0m\u001b[0;34m.\u001b[0m\u001b[0mcalculate_size\u001b[0m\u001b[0;34m(\u001b[0m\u001b[0moutputs\u001b[0m\u001b[0;34m,\u001b[0m \u001b[0mbatch_dim\u001b[0m\u001b[0;34m)\u001b[0m\u001b[0;34m\u001b[0m\u001b[0;34m\u001b[0m\u001b[0m\n\u001b[0m\u001b[1;32m    552\u001b[0m         \u001b[0minfo\u001b[0m\u001b[0;34m.\u001b[0m\u001b[0moutput_bytes\u001b[0m \u001b[0;34m=\u001b[0m \u001b[0melem_bytes\u001b[0m \u001b[0;34m*\u001b[0m \u001b[0mprod\u001b[0m\u001b[0;34m(\u001b[0m\u001b[0minfo\u001b[0m\u001b[0;34m.\u001b[0m\u001b[0moutput_size\u001b[0m\u001b[0;34m)\u001b[0m\u001b[0;34m\u001b[0m\u001b[0;34m\u001b[0m\u001b[0m\n",
            "\u001b[0;32m/usr/local/lib/python3.7/dist-packages/torchinfo/layer_info.py\u001b[0m in \u001b[0;36mcalculate_size\u001b[0;34m(inputs, batch_dim)\u001b[0m\n\u001b[1;32m    131\u001b[0m             \u001b[0;32mfor\u001b[0m \u001b[0m_\u001b[0m\u001b[0;34m,\u001b[0m \u001b[0moutput\u001b[0m \u001b[0;32min\u001b[0m \u001b[0minputs\u001b[0m\u001b[0;34m.\u001b[0m\u001b[0mitems\u001b[0m\u001b[0;34m(\u001b[0m\u001b[0;34m)\u001b[0m\u001b[0;34m:\u001b[0m\u001b[0;34m\u001b[0m\u001b[0;34m\u001b[0m\u001b[0m\n\u001b[0;32m--> 132\u001b[0;31m                 \u001b[0msize\u001b[0m \u001b[0;34m=\u001b[0m \u001b[0mlist\u001b[0m\u001b[0;34m(\u001b[0m\u001b[0moutput\u001b[0m\u001b[0;34m.\u001b[0m\u001b[0msize\u001b[0m\u001b[0;34m(\u001b[0m\u001b[0;34m)\u001b[0m\u001b[0;34m)\u001b[0m\u001b[0;34m\u001b[0m\u001b[0;34m\u001b[0m\u001b[0m\n\u001b[0m\u001b[1;32m    133\u001b[0m                 \u001b[0;32mif\u001b[0m \u001b[0mbatch_dim\u001b[0m \u001b[0;32mis\u001b[0m \u001b[0;32mnot\u001b[0m \u001b[0;32mNone\u001b[0m\u001b[0;34m:\u001b[0m\u001b[0;34m\u001b[0m\u001b[0;34m\u001b[0m\u001b[0m\n",
            "\u001b[0;31mAttributeError\u001b[0m: 'tuple' object has no attribute 'size'",
            "\nThe above exception was the direct cause of the following exception:\n",
            "\u001b[0;31mRuntimeError\u001b[0m                              Traceback (most recent call last)",
            "\u001b[0;32m<ipython-input-17-fee9abd56fcc>\u001b[0m in \u001b[0;36m<module>\u001b[0;34m\u001b[0m\n\u001b[0;32m----> 1\u001b[0;31m \u001b[0msummary\u001b[0m\u001b[0;34m(\u001b[0m\u001b[0mmodel\u001b[0m\u001b[0;34m,\u001b[0m \u001b[0minput_size\u001b[0m\u001b[0;34m=\u001b[0m\u001b[0;34m(\u001b[0m\u001b[0;36m2\u001b[0m\u001b[0;34m,\u001b[0m \u001b[0;36m512\u001b[0m\u001b[0;34m)\u001b[0m\u001b[0;34m,\u001b[0m \u001b[0mdtypes\u001b[0m\u001b[0;34m=\u001b[0m\u001b[0;34m[\u001b[0m\u001b[0;34m'torch.IntTensor'\u001b[0m\u001b[0;34m]\u001b[0m\u001b[0;34m)\u001b[0m\u001b[0;34m\u001b[0m\u001b[0;34m\u001b[0m\u001b[0m\n\u001b[0m",
            "\u001b[0;32m/usr/local/lib/python3.7/dist-packages/torchinfo/torchinfo.py\u001b[0m in \u001b[0;36msummary\u001b[0;34m(model, input_size, input_data, batch_dim, cache_forward_pass, col_names, col_width, depth, device, dtypes, mode, row_settings, verbose, **kwargs)\u001b[0m\n\u001b[1;32m    216\u001b[0m     )\n\u001b[1;32m    217\u001b[0m     summary_list = forward_pass(\n\u001b[0;32m--> 218\u001b[0;31m         \u001b[0mmodel\u001b[0m\u001b[0;34m,\u001b[0m \u001b[0mx\u001b[0m\u001b[0;34m,\u001b[0m \u001b[0mbatch_dim\u001b[0m\u001b[0;34m,\u001b[0m \u001b[0mcache_forward_pass\u001b[0m\u001b[0;34m,\u001b[0m \u001b[0mdevice\u001b[0m\u001b[0;34m,\u001b[0m \u001b[0mmodel_mode\u001b[0m\u001b[0;34m,\u001b[0m \u001b[0;34m**\u001b[0m\u001b[0mkwargs\u001b[0m\u001b[0;34m\u001b[0m\u001b[0;34m\u001b[0m\u001b[0m\n\u001b[0m\u001b[1;32m    219\u001b[0m     )\n\u001b[1;32m    220\u001b[0m     \u001b[0mformatting\u001b[0m \u001b[0;34m=\u001b[0m \u001b[0mFormattingOptions\u001b[0m\u001b[0;34m(\u001b[0m\u001b[0mdepth\u001b[0m\u001b[0;34m,\u001b[0m \u001b[0mverbose\u001b[0m\u001b[0;34m,\u001b[0m \u001b[0mcolumns\u001b[0m\u001b[0;34m,\u001b[0m \u001b[0mcol_width\u001b[0m\u001b[0;34m,\u001b[0m \u001b[0mrows\u001b[0m\u001b[0;34m)\u001b[0m\u001b[0;34m\u001b[0m\u001b[0;34m\u001b[0m\u001b[0m\n",
            "\u001b[0;32m/usr/local/lib/python3.7/dist-packages/torchinfo/torchinfo.py\u001b[0m in \u001b[0;36mforward_pass\u001b[0;34m(model, x, batch_dim, cache_forward_pass, device, mode, **kwargs)\u001b[0m\n\u001b[1;32m    297\u001b[0m             \u001b[0;34m\"Failed to run torchinfo. See above stack traces for more details. \"\u001b[0m\u001b[0;34m\u001b[0m\u001b[0;34m\u001b[0m\u001b[0m\n\u001b[1;32m    298\u001b[0m             \u001b[0;34mf\"Executed layers up to: {executed_layers}\"\u001b[0m\u001b[0;34m\u001b[0m\u001b[0;34m\u001b[0m\u001b[0m\n\u001b[0;32m--> 299\u001b[0;31m         ) from e\n\u001b[0m\u001b[1;32m    300\u001b[0m     \u001b[0;32mfinally\u001b[0m\u001b[0;34m:\u001b[0m\u001b[0;34m\u001b[0m\u001b[0;34m\u001b[0m\u001b[0m\n\u001b[1;32m    301\u001b[0m         \u001b[0;32mif\u001b[0m \u001b[0mhooks\u001b[0m\u001b[0;34m:\u001b[0m\u001b[0;34m\u001b[0m\u001b[0;34m\u001b[0m\u001b[0m\n",
            "\u001b[0;31mRuntimeError\u001b[0m: Failed to run torchinfo. See above stack traces for more details. Executed layers up to: [DebertaV2Embeddings: 2, Embedding: 3, LayerNorm: 3, StableDropout: 3, LayerNorm: 3, DebertaV2Layer: 4, DebertaV2Attention: 5, DisentangledSelfAttention: 6, Linear: 7, Linear: 7, Linear: 7, StableDropout: 7, Linear: 7, Linear: 7, StableDropout: 7, DebertaV2SelfOutput: 6, Linear: 7, StableDropout: 7, LayerNorm: 7, DebertaV2Intermediate: 5, Linear: 6, GELUActivation: 6, DebertaV2Output: 5, Linear: 6, StableDropout: 6, LayerNorm: 6, DebertaV2Layer: 4, DebertaV2Attention: 5, DisentangledSelfAttention: 6, Linear: 7, Linear: 7, Linear: 7, StableDropout: 7, Linear: 7, Linear: 7, StableDropout: 7, DebertaV2SelfOutput: 6, Linear: 7, StableDropout: 7, LayerNorm: 7, DebertaV2Intermediate: 5, Linear: 6, GELUActivation: 6, DebertaV2Output: 5, Linear: 6, StableDropout: 6, LayerNorm: 6, DebertaV2Layer: 4, DebertaV2Attention: 5, DisentangledSelfAttention: 6, Linear: 7, Linear: 7, Linear: 7, StableDropout: 7, Linear: 7, Linear: 7, StableDropout: 7, DebertaV2SelfOutput: 6, Linear: 7, StableDropout: 7, LayerNorm: 7, DebertaV2Intermediate: 5, Linear: 6, GELUActivation: 6, DebertaV2Output: 5, Linear: 6, StableDropout: 6, LayerNorm: 6, DebertaV2Layer: 4, DebertaV2Attention: 5, DisentangledSelfAttention: 6, Linear: 7, Linear: 7, Linear: 7, StableDropout: 7, Linear: 7, Linear: 7, StableDropout: 7, DebertaV2SelfOutput: 6, Linear: 7, StableDropout: 7, LayerNorm: 7, DebertaV2Intermediate..."
          ]
        }
      ]
    },
    {
      "cell_type": "markdown",
      "source": [
        "Hyperparameters\n",
        "\n",
        "Learning rate: 3e-5\n",
        "\n",
        "Epochs: 10\n",
        "\n",
        "Weight decay: 0.01\n",
        "\n",
        "Batch size: 32\n",
        "\n",
        "Learning rate decay: Linear decaying to 0\n",
        "\n",
        "Optimizer: AdamW with default settings\n",
        "\n",
        "Warmup steps: 500\n",
        "\n",
        "I chose these hyperparameters basing on table 10 on last page of DeBERTAv3 paper https://arxiv.org/pdf/2111.09543.pdf\n",
        "\n",
        "In table 10 authors list hyperparameters they used for fine-tuning, they didn't share their choices for xsmall variant but except for learning rate they were the same for all variants so I assumed they wouldn't differ for xsmall."
      ],
      "metadata": {
        "id": "fTNb6wHDp9l6"
      }
    },
    {
      "cell_type": "code",
      "source": [
        "batch_size = 32\n",
        "num_train_epochs = 10\n",
        "logging_steps = 300\n",
        "model_name = model_checkpoint.split(\"/\")[-1]\n",
        "\n",
        "args = TrainingArguments(\n",
        "    output_dir=f\"{model_name}-ner\",\n",
        "    evaluation_strategy=\"epoch\",\n",
        "    learning_rate=3e-5,\n",
        "    per_device_train_batch_size=batch_size,\n",
        "    per_device_eval_batch_size=batch_size,\n",
        "    weight_decay=0.01,\n",
        "    lr_scheduler_type='linear',\n",
        "    num_train_epochs=num_train_epochs,\n",
        "    logging_steps=logging_steps,\n",
        "    report_to=\"wandb\",\n",
        "    run_name=model_name,\n",
        "    logging_strategy='steps',\n",
        "    save_strategy='epoch',\n",
        "    logging_first_step=True,\n",
        "    warmup_steps=500,\n",
        "    gradient_accumulation_steps=1\n",
        "\n",
        ")"
      ],
      "metadata": {
        "id": "KV96dSS7cUMV",
        "colab": {
          "base_uri": "https://localhost:8080/"
        },
        "outputId": "98e9303b-a01c-4e42-8cd4-c4d3f8edd8b9"
      },
      "execution_count": null,
      "outputs": [
        {
          "output_type": "stream",
          "name": "stderr",
          "text": [
            "PyTorch: setting up devices\n"
          ]
        }
      ]
    },
    {
      "cell_type": "code",
      "source": [
        "trainer = Trainer(\n",
        "    model=model,\n",
        "    args=args,\n",
        "    train_dataset=tokenized_dataset[\"train\"],\n",
        "    eval_dataset=tokenized_dataset[\"test\"],\n",
        "    data_collator=data_collator,\n",
        "    compute_metrics=compute_metrics,\n",
        "    tokenizer=tokenizer,\n",
        ")\n",
        "trainer.train()"
      ],
      "metadata": {
        "id": "-1loQWhtcu62",
        "colab": {
          "base_uri": "https://localhost:8080/",
          "height": 1000
        },
        "outputId": "b413f77e-5be5-4c86-ace1-f4134b994c6c"
      },
      "execution_count": null,
      "outputs": [
        {
          "output_type": "stream",
          "name": "stderr",
          "text": [
            "/usr/local/lib/python3.7/dist-packages/transformers/optimization.py:310: FutureWarning: This implementation of AdamW is deprecated and will be removed in a future version. Use the PyTorch implementation torch.optim.AdamW instead, or set `no_deprecation_warning=True` to disable this warning\n",
            "  FutureWarning,\n",
            "***** Running training *****\n",
            "  Num examples = 40754\n",
            "  Num Epochs = 10\n",
            "  Instantaneous batch size per device = 32\n",
            "  Total train batch size (w. parallel, distributed & accumulation) = 32\n",
            "  Gradient Accumulation steps = 1\n",
            "  Total optimization steps = 12740\n",
            "  Number of trainable parameters = 70686347\n",
            "Automatic Weights & Biases logging enabled, to disable set os.environ[\"WANDB_DISABLED\"] = \"true\"\n"
          ]
        },
        {
          "output_type": "display_data",
          "data": {
            "text/plain": [
              "<IPython.core.display.HTML object>"
            ],
            "text/html": [
              "Changes to your `wandb` environment variables will be ignored because your `wandb` session has already started. For more information on how to modify your settings with `wandb.init()` arguments, please refer to <a href=\"https://wandb.me/wandb-init\" target=\"_blank\">the W&B docs</a>."
            ]
          },
          "metadata": {}
        },
        {
          "output_type": "display_data",
          "data": {
            "text/plain": [
              "<IPython.core.display.HTML object>"
            ],
            "text/html": [
              "Tracking run with wandb version 0.13.5"
            ]
          },
          "metadata": {}
        },
        {
          "output_type": "display_data",
          "data": {
            "text/plain": [
              "<IPython.core.display.HTML object>"
            ],
            "text/html": [
              "Run data is saved locally in <code>/content/wandb/run-20221104_160924-3k7mr553</code>"
            ]
          },
          "metadata": {}
        },
        {
          "output_type": "display_data",
          "data": {
            "text/plain": [
              "<IPython.core.display.HTML object>"
            ],
            "text/html": [
              "Syncing run <strong><a href=\"https://wandb.ai/gozdi/ner/runs/3k7mr553\" target=\"_blank\">deberta-v3-xsmall</a></strong> to <a href=\"https://wandb.ai/gozdi/ner\" target=\"_blank\">Weights & Biases</a> (<a href=\"https://wandb.me/run\" target=\"_blank\">docs</a>)<br/>"
            ]
          },
          "metadata": {}
        },
        {
          "output_type": "display_data",
          "data": {
            "text/plain": [
              "<IPython.core.display.HTML object>"
            ],
            "text/html": [
              "\n",
              "    <div>\n",
              "      \n",
              "      <progress value='12740' max='12740' style='width:300px; height:20px; vertical-align: middle;'></progress>\n",
              "      [12740/12740 24:43, Epoch 10/10]\n",
              "    </div>\n",
              "    <table border=\"1\" class=\"dataframe\">\n",
              "  <thead>\n",
              " <tr style=\"text-align: left;\">\n",
              "      <th>Epoch</th>\n",
              "      <th>Training Loss</th>\n",
              "      <th>Validation Loss</th>\n",
              "      <th>Overall Precision</th>\n",
              "      <th>Overall Recall</th>\n",
              "      <th>Overall F1</th>\n",
              "      <th>Overall Accuracy</th>\n",
              "    </tr>\n",
              "  </thead>\n",
              "  <tbody>\n",
              "    <tr>\n",
              "      <td>1</td>\n",
              "      <td>0.361400</td>\n",
              "      <td>0.301189</td>\n",
              "      <td>0.603350</td>\n",
              "      <td>0.589190</td>\n",
              "      <td>0.596186</td>\n",
              "      <td>0.915583</td>\n",
              "    </tr>\n",
              "    <tr>\n",
              "      <td>2</td>\n",
              "      <td>0.233600</td>\n",
              "      <td>0.201520</td>\n",
              "      <td>0.672531</td>\n",
              "      <td>0.722823</td>\n",
              "      <td>0.696771</td>\n",
              "      <td>0.937817</td>\n",
              "    </tr>\n",
              "    <tr>\n",
              "      <td>3</td>\n",
              "      <td>0.186500</td>\n",
              "      <td>0.176018</td>\n",
              "      <td>0.726291</td>\n",
              "      <td>0.744042</td>\n",
              "      <td>0.735059</td>\n",
              "      <td>0.944686</td>\n",
              "    </tr>\n",
              "    <tr>\n",
              "      <td>4</td>\n",
              "      <td>0.160600</td>\n",
              "      <td>0.158968</td>\n",
              "      <td>0.733372</td>\n",
              "      <td>0.777602</td>\n",
              "      <td>0.754839</td>\n",
              "      <td>0.950165</td>\n",
              "    </tr>\n",
              "    <tr>\n",
              "      <td>5</td>\n",
              "      <td>0.141400</td>\n",
              "      <td>0.150680</td>\n",
              "      <td>0.759038</td>\n",
              "      <td>0.782527</td>\n",
              "      <td>0.770603</td>\n",
              "      <td>0.952532</td>\n",
              "    </tr>\n",
              "    <tr>\n",
              "      <td>6</td>\n",
              "      <td>0.132800</td>\n",
              "      <td>0.142166</td>\n",
              "      <td>0.767319</td>\n",
              "      <td>0.795963</td>\n",
              "      <td>0.781379</td>\n",
              "      <td>0.955549</td>\n",
              "    </tr>\n",
              "    <tr>\n",
              "      <td>7</td>\n",
              "      <td>0.121400</td>\n",
              "      <td>0.139108</td>\n",
              "      <td>0.777699</td>\n",
              "      <td>0.797179</td>\n",
              "      <td>0.787318</td>\n",
              "      <td>0.956815</td>\n",
              "    </tr>\n",
              "    <tr>\n",
              "      <td>8</td>\n",
              "      <td>0.115900</td>\n",
              "      <td>0.139288</td>\n",
              "      <td>0.778090</td>\n",
              "      <td>0.807089</td>\n",
              "      <td>0.792324</td>\n",
              "      <td>0.956644</td>\n",
              "    </tr>\n",
              "    <tr>\n",
              "      <td>9</td>\n",
              "      <td>0.111000</td>\n",
              "      <td>0.137935</td>\n",
              "      <td>0.776139</td>\n",
              "      <td>0.806055</td>\n",
              "      <td>0.790814</td>\n",
              "      <td>0.957158</td>\n",
              "    </tr>\n",
              "    <tr>\n",
              "      <td>10</td>\n",
              "      <td>0.108600</td>\n",
              "      <td>0.137410</td>\n",
              "      <td>0.780052</td>\n",
              "      <td>0.808791</td>\n",
              "      <td>0.794162</td>\n",
              "      <td>0.957691</td>\n",
              "    </tr>\n",
              "  </tbody>\n",
              "</table><p>"
            ]
          },
          "metadata": {}
        },
        {
          "output_type": "stream",
          "name": "stderr",
          "text": [
            "***** Running Evaluation *****\n",
            "  Num examples = 7192\n",
            "  Batch size = 32\n",
            "Saving model checkpoint to deberta-v3-xsmall-ner/checkpoint-1274\n",
            "Configuration saved in deberta-v3-xsmall-ner/checkpoint-1274/config.json\n",
            "Model weights saved in deberta-v3-xsmall-ner/checkpoint-1274/pytorch_model.bin\n",
            "tokenizer config file saved in deberta-v3-xsmall-ner/checkpoint-1274/tokenizer_config.json\n",
            "Special tokens file saved in deberta-v3-xsmall-ner/checkpoint-1274/special_tokens_map.json\n",
            "***** Running Evaluation *****\n",
            "  Num examples = 7192\n",
            "  Batch size = 32\n",
            "Saving model checkpoint to deberta-v3-xsmall-ner/checkpoint-2548\n",
            "Configuration saved in deberta-v3-xsmall-ner/checkpoint-2548/config.json\n",
            "Model weights saved in deberta-v3-xsmall-ner/checkpoint-2548/pytorch_model.bin\n",
            "tokenizer config file saved in deberta-v3-xsmall-ner/checkpoint-2548/tokenizer_config.json\n",
            "Special tokens file saved in deberta-v3-xsmall-ner/checkpoint-2548/special_tokens_map.json\n",
            "***** Running Evaluation *****\n",
            "  Num examples = 7192\n",
            "  Batch size = 32\n",
            "Saving model checkpoint to deberta-v3-xsmall-ner/checkpoint-3822\n",
            "Configuration saved in deberta-v3-xsmall-ner/checkpoint-3822/config.json\n",
            "Model weights saved in deberta-v3-xsmall-ner/checkpoint-3822/pytorch_model.bin\n",
            "tokenizer config file saved in deberta-v3-xsmall-ner/checkpoint-3822/tokenizer_config.json\n",
            "Special tokens file saved in deberta-v3-xsmall-ner/checkpoint-3822/special_tokens_map.json\n",
            "***** Running Evaluation *****\n",
            "  Num examples = 7192\n",
            "  Batch size = 32\n",
            "Saving model checkpoint to deberta-v3-xsmall-ner/checkpoint-5096\n",
            "Configuration saved in deberta-v3-xsmall-ner/checkpoint-5096/config.json\n",
            "Model weights saved in deberta-v3-xsmall-ner/checkpoint-5096/pytorch_model.bin\n",
            "tokenizer config file saved in deberta-v3-xsmall-ner/checkpoint-5096/tokenizer_config.json\n",
            "Special tokens file saved in deberta-v3-xsmall-ner/checkpoint-5096/special_tokens_map.json\n",
            "***** Running Evaluation *****\n",
            "  Num examples = 7192\n",
            "  Batch size = 32\n",
            "Saving model checkpoint to deberta-v3-xsmall-ner/checkpoint-6370\n",
            "Configuration saved in deberta-v3-xsmall-ner/checkpoint-6370/config.json\n",
            "Model weights saved in deberta-v3-xsmall-ner/checkpoint-6370/pytorch_model.bin\n",
            "tokenizer config file saved in deberta-v3-xsmall-ner/checkpoint-6370/tokenizer_config.json\n",
            "Special tokens file saved in deberta-v3-xsmall-ner/checkpoint-6370/special_tokens_map.json\n",
            "***** Running Evaluation *****\n",
            "  Num examples = 7192\n",
            "  Batch size = 32\n",
            "Saving model checkpoint to deberta-v3-xsmall-ner/checkpoint-7644\n",
            "Configuration saved in deberta-v3-xsmall-ner/checkpoint-7644/config.json\n",
            "Model weights saved in deberta-v3-xsmall-ner/checkpoint-7644/pytorch_model.bin\n",
            "tokenizer config file saved in deberta-v3-xsmall-ner/checkpoint-7644/tokenizer_config.json\n",
            "Special tokens file saved in deberta-v3-xsmall-ner/checkpoint-7644/special_tokens_map.json\n",
            "***** Running Evaluation *****\n",
            "  Num examples = 7192\n",
            "  Batch size = 32\n",
            "Saving model checkpoint to deberta-v3-xsmall-ner/checkpoint-8918\n",
            "Configuration saved in deberta-v3-xsmall-ner/checkpoint-8918/config.json\n",
            "Model weights saved in deberta-v3-xsmall-ner/checkpoint-8918/pytorch_model.bin\n",
            "tokenizer config file saved in deberta-v3-xsmall-ner/checkpoint-8918/tokenizer_config.json\n",
            "Special tokens file saved in deberta-v3-xsmall-ner/checkpoint-8918/special_tokens_map.json\n",
            "***** Running Evaluation *****\n",
            "  Num examples = 7192\n",
            "  Batch size = 32\n",
            "Saving model checkpoint to deberta-v3-xsmall-ner/checkpoint-10192\n",
            "Configuration saved in deberta-v3-xsmall-ner/checkpoint-10192/config.json\n",
            "Model weights saved in deberta-v3-xsmall-ner/checkpoint-10192/pytorch_model.bin\n",
            "tokenizer config file saved in deberta-v3-xsmall-ner/checkpoint-10192/tokenizer_config.json\n",
            "Special tokens file saved in deberta-v3-xsmall-ner/checkpoint-10192/special_tokens_map.json\n",
            "***** Running Evaluation *****\n",
            "  Num examples = 7192\n",
            "  Batch size = 32\n",
            "Saving model checkpoint to deberta-v3-xsmall-ner/checkpoint-11466\n",
            "Configuration saved in deberta-v3-xsmall-ner/checkpoint-11466/config.json\n",
            "Model weights saved in deberta-v3-xsmall-ner/checkpoint-11466/pytorch_model.bin\n",
            "tokenizer config file saved in deberta-v3-xsmall-ner/checkpoint-11466/tokenizer_config.json\n",
            "Special tokens file saved in deberta-v3-xsmall-ner/checkpoint-11466/special_tokens_map.json\n",
            "***** Running Evaluation *****\n",
            "  Num examples = 7192\n",
            "  Batch size = 32\n",
            "Saving model checkpoint to deberta-v3-xsmall-ner/checkpoint-12740\n",
            "Configuration saved in deberta-v3-xsmall-ner/checkpoint-12740/config.json\n",
            "Model weights saved in deberta-v3-xsmall-ner/checkpoint-12740/pytorch_model.bin\n",
            "tokenizer config file saved in deberta-v3-xsmall-ner/checkpoint-12740/tokenizer_config.json\n",
            "Special tokens file saved in deberta-v3-xsmall-ner/checkpoint-12740/special_tokens_map.json\n",
            "\n",
            "\n",
            "Training completed. Do not forget to share your model on huggingface.co/models =)\n",
            "\n",
            "\n"
          ]
        },
        {
          "output_type": "execute_result",
          "data": {
            "text/plain": [
              "TrainOutput(global_step=12740, training_loss=0.19258216563349054, metrics={'train_runtime': 1486.0365, 'train_samples_per_second': 274.246, 'train_steps_per_second': 8.573, 'total_flos': 2413995772073028.0, 'train_loss': 0.19258216563349054, 'epoch': 10.0})"
            ]
          },
          "metadata": {},
          "execution_count": 53
        }
      ]
    },
    {
      "cell_type": "markdown",
      "source": [
        "#DeBERTav3 experiment 1 results\n",
        "\n",
        "DeBERTa wasn't able to beat RoBERTa's results. DeBERTa best results were behind by 5% on recall, f1 and precision. In accuracy the difference is smaller that 1%. The best results were obtained after final epoch suggesting that longer training  may have been beneficial. Train runtime was 9% longer for DeBERTa. DeBERTa also requires more GPU memory to be allocated.\n",
        "\n",
        "https://wandb.ai/gozdi/ner?workspace=user-gozdi"
      ],
      "metadata": {
        "id": "PoaG-GSKtZmQ"
      }
    },
    {
      "cell_type": "markdown",
      "source": [
        "![deberta.PNG](data:image/png;base64,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)"
      ],
      "metadata": {
        "id": "6wmsvbUxtZo-"
      }
    },
    {
      "cell_type": "markdown",
      "source": [
        "![gpu.PNG](data:image/png;base64,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)"
      ],
      "metadata": {
        "id": "0COPYKxIFWKo"
      }
    },
    {
      "cell_type": "code",
      "source": [
        "wandb.finish()"
      ],
      "metadata": {
        "id": "R6BEI3Mpg7Tt"
      },
      "execution_count": null,
      "outputs": []
    },
    {
      "cell_type": "code",
      "source": [
        "model = AutoModelForTokenClassification.from_pretrained('/content/deberta-v3-xsmall-ner/checkpoint-12740')"
      ],
      "metadata": {
        "id": "yCz_ra81fpXM"
      },
      "execution_count": null,
      "outputs": []
    },
    {
      "cell_type": "code",
      "source": [
        "create_repo(\"deberta_v3_xsmall-finetuned-ner-exp1\")\n",
        "\n",
        "model.push_to_hub(\"deberta_v3_xsmall-finetuned-ner-exp1\")\n",
        "\n",
        "tokenizer.push_to_hub(\"deberta_v3_xsmall-finetuned-ner-exp1\")"
      ],
      "metadata": {
        "id": "0m7BSIZKpCWj"
      },
      "execution_count": null,
      "outputs": []
    },
    {
      "cell_type": "markdown",
      "source": [
        "#DeBERTav3 Experiment 2\n",
        "\n",
        "For this experiment I increased learning rate from 0.00003 to 0.00005 and doubled the batch size to 64\n",
        "\n",
        "All the other hyperparameters did not change"
      ],
      "metadata": {
        "id": "LFBQwsfzFnNm"
      }
    },
    {
      "cell_type": "code",
      "source": [
        "model = AutoModelForTokenClassification.from_pretrained(\n",
        "    model_checkpoint,\n",
        "    id2label=id2label,\n",
        "    label2id=label2id,\n",
        ")"
      ],
      "metadata": {
        "id": "oq8-iHRbgJMr"
      },
      "execution_count": null,
      "outputs": []
    },
    {
      "cell_type": "code",
      "source": [
        "batch_size = 64\n",
        "num_train_epochs = 10\n",
        "logging_steps = 300\n",
        "model_name = model_checkpoint.split(\"/\")[-1]\n",
        "\n",
        "args = TrainingArguments(\n",
        "    output_dir=f\"{model_name}-ner_exp2\",\n",
        "    evaluation_strategy=\"epoch\",\n",
        "    learning_rate=5e-5,\n",
        "    per_device_train_batch_size=batch_size,\n",
        "    per_device_eval_batch_size=batch_size,\n",
        "    weight_decay=0.01,\n",
        "    lr_scheduler_type='linear',\n",
        "    num_train_epochs=num_train_epochs,\n",
        "    logging_steps=logging_steps,\n",
        "    report_to=\"wandb\",\n",
        "    run_name=f'{model_name}_exp2',\n",
        "    logging_strategy='steps',\n",
        "    save_strategy='epoch',\n",
        "    logging_first_step=True,\n",
        "    warmup_steps=500,\n",
        "    gradient_accumulation_steps=1\n",
        "\n",
        ")"
      ],
      "metadata": {
        "colab": {
          "base_uri": "https://localhost:8080/"
        },
        "id": "Jb7vwtn4gBFU",
        "outputId": "244c8041-5fb1-4fe0-eb43-c8a289753761"
      },
      "execution_count": null,
      "outputs": [
        {
          "output_type": "stream",
          "name": "stderr",
          "text": [
            "PyTorch: setting up devices\n"
          ]
        }
      ]
    },
    {
      "cell_type": "code",
      "source": [
        "trainer = Trainer(\n",
        "    model=model,\n",
        "    args=args,\n",
        "    train_dataset=tokenized_dataset[\"train\"],\n",
        "    eval_dataset=tokenized_dataset[\"test\"],\n",
        "    data_collator=data_collator,\n",
        "    compute_metrics=compute_metrics,\n",
        "    tokenizer=tokenizer,\n",
        ")\n",
        "trainer.train()"
      ],
      "metadata": {
        "colab": {
          "base_uri": "https://localhost:8080/",
          "height": 1000
        },
        "id": "FVBBT-obgBKv",
        "outputId": "185a5d32-f37b-4ca2-f6c9-99e8220eacfb"
      },
      "execution_count": null,
      "outputs": [
        {
          "output_type": "stream",
          "name": "stderr",
          "text": [
            "/usr/local/lib/python3.7/dist-packages/transformers/optimization.py:310: FutureWarning: This implementation of AdamW is deprecated and will be removed in a future version. Use the PyTorch implementation torch.optim.AdamW instead, or set `no_deprecation_warning=True` to disable this warning\n",
            "  FutureWarning,\n",
            "***** Running training *****\n",
            "  Num examples = 40754\n",
            "  Num Epochs = 10\n",
            "  Instantaneous batch size per device = 64\n",
            "  Total train batch size (w. parallel, distributed & accumulation) = 64\n",
            "  Gradient Accumulation steps = 1\n",
            "  Total optimization steps = 6370\n",
            "  Number of trainable parameters = 70686347\n",
            "Automatic Weights & Biases logging enabled, to disable set os.environ[\"WANDB_DISABLED\"] = \"true\"\n"
          ]
        },
        {
          "output_type": "display_data",
          "data": {
            "text/plain": [
              "<IPython.core.display.HTML object>"
            ],
            "text/html": [
              "Changes to your `wandb` environment variables will be ignored because your `wandb` session has already started. For more information on how to modify your settings with `wandb.init()` arguments, please refer to <a href=\"https://wandb.me/wandb-init\" target=\"_blank\">the W&B docs</a>."
            ]
          },
          "metadata": {}
        },
        {
          "output_type": "display_data",
          "data": {
            "text/plain": [
              "<IPython.core.display.HTML object>"
            ],
            "text/html": [
              "Tracking run with wandb version 0.13.5"
            ]
          },
          "metadata": {}
        },
        {
          "output_type": "display_data",
          "data": {
            "text/plain": [
              "<IPython.core.display.HTML object>"
            ],
            "text/html": [
              "Run data is saved locally in <code>/content/wandb/run-20221104_164057-1kut823r</code>"
            ]
          },
          "metadata": {}
        },
        {
          "output_type": "display_data",
          "data": {
            "text/plain": [
              "<IPython.core.display.HTML object>"
            ],
            "text/html": [
              "Syncing run <strong><a href=\"https://wandb.ai/gozdi/ner/runs/1kut823r\" target=\"_blank\">deberta-v3-xsmall_exp2</a></strong> to <a href=\"https://wandb.ai/gozdi/ner\" target=\"_blank\">Weights & Biases</a> (<a href=\"https://wandb.me/run\" target=\"_blank\">docs</a>)<br/>"
            ]
          },
          "metadata": {}
        },
        {
          "output_type": "display_data",
          "data": {
            "text/plain": [
              "<IPython.core.display.HTML object>"
            ],
            "text/html": [
              "\n",
              "    <div>\n",
              "      \n",
              "      <progress value='6370' max='6370' style='width:300px; height:20px; vertical-align: middle;'></progress>\n",
              "      [6370/6370 15:21, Epoch 10/10]\n",
              "    </div>\n",
              "    <table border=\"1\" class=\"dataframe\">\n",
              "  <thead>\n",
              " <tr style=\"text-align: left;\">\n",
              "      <th>Epoch</th>\n",
              "      <th>Training Loss</th>\n",
              "      <th>Validation Loss</th>\n",
              "      <th>Overall Precision</th>\n",
              "      <th>Overall Recall</th>\n",
              "      <th>Overall F1</th>\n",
              "      <th>Overall Accuracy</th>\n",
              "    </tr>\n",
              "  </thead>\n",
              "  <tbody>\n",
              "    <tr>\n",
              "      <td>1</td>\n",
              "      <td>0.451600</td>\n",
              "      <td>0.313414</td>\n",
              "      <td>0.541269</td>\n",
              "      <td>0.561770</td>\n",
              "      <td>0.551329</td>\n",
              "      <td>0.908927</td>\n",
              "    </tr>\n",
              "    <tr>\n",
              "      <td>2</td>\n",
              "      <td>0.239000</td>\n",
              "      <td>0.201655</td>\n",
              "      <td>0.665277</td>\n",
              "      <td>0.727566</td>\n",
              "      <td>0.695028</td>\n",
              "      <td>0.937646</td>\n",
              "    </tr>\n",
              "    <tr>\n",
              "      <td>3</td>\n",
              "      <td>0.183200</td>\n",
              "      <td>0.163673</td>\n",
              "      <td>0.736039</td>\n",
              "      <td>0.756445</td>\n",
              "      <td>0.746102</td>\n",
              "      <td>0.948106</td>\n",
              "    </tr>\n",
              "    <tr>\n",
              "      <td>4</td>\n",
              "      <td>0.153900</td>\n",
              "      <td>0.148393</td>\n",
              "      <td>0.750552</td>\n",
              "      <td>0.784959</td>\n",
              "      <td>0.767370</td>\n",
              "      <td>0.952733</td>\n",
              "    </tr>\n",
              "    <tr>\n",
              "      <td>5</td>\n",
              "      <td>0.136100</td>\n",
              "      <td>0.141558</td>\n",
              "      <td>0.771214</td>\n",
              "      <td>0.794565</td>\n",
              "      <td>0.782715</td>\n",
              "      <td>0.955484</td>\n",
              "    </tr>\n",
              "    <tr>\n",
              "      <td>6</td>\n",
              "      <td>0.126000</td>\n",
              "      <td>0.141825</td>\n",
              "      <td>0.763377</td>\n",
              "      <td>0.803198</td>\n",
              "      <td>0.782781</td>\n",
              "      <td>0.955839</td>\n",
              "    </tr>\n",
              "    <tr>\n",
              "      <td>7</td>\n",
              "      <td>0.114600</td>\n",
              "      <td>0.137379</td>\n",
              "      <td>0.781375</td>\n",
              "      <td>0.807028</td>\n",
              "      <td>0.793994</td>\n",
              "      <td>0.958046</td>\n",
              "    </tr>\n",
              "    <tr>\n",
              "      <td>8</td>\n",
              "      <td>0.107800</td>\n",
              "      <td>0.142834</td>\n",
              "      <td>0.763402</td>\n",
              "      <td>0.812135</td>\n",
              "      <td>0.787015</td>\n",
              "      <td>0.954999</td>\n",
              "    </tr>\n",
              "    <tr>\n",
              "      <td>9</td>\n",
              "      <td>0.100300</td>\n",
              "      <td>0.136961</td>\n",
              "      <td>0.783489</td>\n",
              "      <td>0.816452</td>\n",
              "      <td>0.799631</td>\n",
              "      <td>0.958419</td>\n",
              "    </tr>\n",
              "    <tr>\n",
              "      <td>10</td>\n",
              "      <td>0.098700</td>\n",
              "      <td>0.137547</td>\n",
              "      <td>0.780563</td>\n",
              "      <td>0.815965</td>\n",
              "      <td>0.797872</td>\n",
              "      <td>0.957969</td>\n",
              "    </tr>\n",
              "  </tbody>\n",
              "</table><p>"
            ]
          },
          "metadata": {}
        },
        {
          "output_type": "stream",
          "name": "stderr",
          "text": [
            "***** Running Evaluation *****\n",
            "  Num examples = 7192\n",
            "  Batch size = 64\n",
            "Saving model checkpoint to deberta-v3-xsmall-ner_exp2/checkpoint-637\n",
            "Configuration saved in deberta-v3-xsmall-ner_exp2/checkpoint-637/config.json\n",
            "Model weights saved in deberta-v3-xsmall-ner_exp2/checkpoint-637/pytorch_model.bin\n",
            "tokenizer config file saved in deberta-v3-xsmall-ner_exp2/checkpoint-637/tokenizer_config.json\n",
            "Special tokens file saved in deberta-v3-xsmall-ner_exp2/checkpoint-637/special_tokens_map.json\n",
            "***** Running Evaluation *****\n",
            "  Num examples = 7192\n",
            "  Batch size = 64\n",
            "Saving model checkpoint to deberta-v3-xsmall-ner_exp2/checkpoint-1274\n",
            "Configuration saved in deberta-v3-xsmall-ner_exp2/checkpoint-1274/config.json\n",
            "Model weights saved in deberta-v3-xsmall-ner_exp2/checkpoint-1274/pytorch_model.bin\n",
            "tokenizer config file saved in deberta-v3-xsmall-ner_exp2/checkpoint-1274/tokenizer_config.json\n",
            "Special tokens file saved in deberta-v3-xsmall-ner_exp2/checkpoint-1274/special_tokens_map.json\n",
            "***** Running Evaluation *****\n",
            "  Num examples = 7192\n",
            "  Batch size = 64\n",
            "Saving model checkpoint to deberta-v3-xsmall-ner_exp2/checkpoint-1911\n",
            "Configuration saved in deberta-v3-xsmall-ner_exp2/checkpoint-1911/config.json\n",
            "Model weights saved in deberta-v3-xsmall-ner_exp2/checkpoint-1911/pytorch_model.bin\n",
            "tokenizer config file saved in deberta-v3-xsmall-ner_exp2/checkpoint-1911/tokenizer_config.json\n",
            "Special tokens file saved in deberta-v3-xsmall-ner_exp2/checkpoint-1911/special_tokens_map.json\n",
            "***** Running Evaluation *****\n",
            "  Num examples = 7192\n",
            "  Batch size = 64\n",
            "Saving model checkpoint to deberta-v3-xsmall-ner_exp2/checkpoint-2548\n",
            "Configuration saved in deberta-v3-xsmall-ner_exp2/checkpoint-2548/config.json\n",
            "Model weights saved in deberta-v3-xsmall-ner_exp2/checkpoint-2548/pytorch_model.bin\n",
            "tokenizer config file saved in deberta-v3-xsmall-ner_exp2/checkpoint-2548/tokenizer_config.json\n",
            "Special tokens file saved in deberta-v3-xsmall-ner_exp2/checkpoint-2548/special_tokens_map.json\n",
            "***** Running Evaluation *****\n",
            "  Num examples = 7192\n",
            "  Batch size = 64\n",
            "Saving model checkpoint to deberta-v3-xsmall-ner_exp2/checkpoint-3185\n",
            "Configuration saved in deberta-v3-xsmall-ner_exp2/checkpoint-3185/config.json\n",
            "Model weights saved in deberta-v3-xsmall-ner_exp2/checkpoint-3185/pytorch_model.bin\n",
            "tokenizer config file saved in deberta-v3-xsmall-ner_exp2/checkpoint-3185/tokenizer_config.json\n",
            "Special tokens file saved in deberta-v3-xsmall-ner_exp2/checkpoint-3185/special_tokens_map.json\n",
            "***** Running Evaluation *****\n",
            "  Num examples = 7192\n",
            "  Batch size = 64\n",
            "Saving model checkpoint to deberta-v3-xsmall-ner_exp2/checkpoint-3822\n",
            "Configuration saved in deberta-v3-xsmall-ner_exp2/checkpoint-3822/config.json\n",
            "Model weights saved in deberta-v3-xsmall-ner_exp2/checkpoint-3822/pytorch_model.bin\n",
            "tokenizer config file saved in deberta-v3-xsmall-ner_exp2/checkpoint-3822/tokenizer_config.json\n",
            "Special tokens file saved in deberta-v3-xsmall-ner_exp2/checkpoint-3822/special_tokens_map.json\n",
            "***** Running Evaluation *****\n",
            "  Num examples = 7192\n",
            "  Batch size = 64\n",
            "Saving model checkpoint to deberta-v3-xsmall-ner_exp2/checkpoint-4459\n",
            "Configuration saved in deberta-v3-xsmall-ner_exp2/checkpoint-4459/config.json\n",
            "Model weights saved in deberta-v3-xsmall-ner_exp2/checkpoint-4459/pytorch_model.bin\n",
            "tokenizer config file saved in deberta-v3-xsmall-ner_exp2/checkpoint-4459/tokenizer_config.json\n",
            "Special tokens file saved in deberta-v3-xsmall-ner_exp2/checkpoint-4459/special_tokens_map.json\n",
            "***** Running Evaluation *****\n",
            "  Num examples = 7192\n",
            "  Batch size = 64\n",
            "Saving model checkpoint to deberta-v3-xsmall-ner_exp2/checkpoint-5096\n",
            "Configuration saved in deberta-v3-xsmall-ner_exp2/checkpoint-5096/config.json\n",
            "Model weights saved in deberta-v3-xsmall-ner_exp2/checkpoint-5096/pytorch_model.bin\n",
            "tokenizer config file saved in deberta-v3-xsmall-ner_exp2/checkpoint-5096/tokenizer_config.json\n",
            "Special tokens file saved in deberta-v3-xsmall-ner_exp2/checkpoint-5096/special_tokens_map.json\n",
            "***** Running Evaluation *****\n",
            "  Num examples = 7192\n",
            "  Batch size = 64\n",
            "Saving model checkpoint to deberta-v3-xsmall-ner_exp2/checkpoint-5733\n",
            "Configuration saved in deberta-v3-xsmall-ner_exp2/checkpoint-5733/config.json\n",
            "Model weights saved in deberta-v3-xsmall-ner_exp2/checkpoint-5733/pytorch_model.bin\n",
            "tokenizer config file saved in deberta-v3-xsmall-ner_exp2/checkpoint-5733/tokenizer_config.json\n",
            "Special tokens file saved in deberta-v3-xsmall-ner_exp2/checkpoint-5733/special_tokens_map.json\n",
            "***** Running Evaluation *****\n",
            "  Num examples = 7192\n",
            "  Batch size = 64\n",
            "Saving model checkpoint to deberta-v3-xsmall-ner_exp2/checkpoint-6370\n",
            "Configuration saved in deberta-v3-xsmall-ner_exp2/checkpoint-6370/config.json\n",
            "Model weights saved in deberta-v3-xsmall-ner_exp2/checkpoint-6370/pytorch_model.bin\n",
            "tokenizer config file saved in deberta-v3-xsmall-ner_exp2/checkpoint-6370/tokenizer_config.json\n",
            "Special tokens file saved in deberta-v3-xsmall-ner_exp2/checkpoint-6370/special_tokens_map.json\n",
            "\n",
            "\n",
            "Training completed. Do not forget to share your model on huggingface.co/models =)\n",
            "\n",
            "\n"
          ]
        },
        {
          "output_type": "execute_result",
          "data": {
            "text/plain": [
              "TrainOutput(global_step=6370, training_loss=0.19603221536244103, metrics={'train_runtime': 924.0672, 'train_samples_per_second': 441.029, 'train_steps_per_second': 6.893, 'total_flos': 2603878186495044.0, 'train_loss': 0.19603221536244103, 'epoch': 10.0})"
            ]
          },
          "metadata": {},
          "execution_count": 64
        }
      ]
    },
    {
      "cell_type": "markdown",
      "source": [
        "#DeBERTav3 experiment 2 results\n",
        "\n",
        "Doubeling the batch size halved the number of steps which resulted in shorter training time. Higher batch size combined with higher learning rate yielded better slightly results on recall (+0.8%) and f1 (+0.6%), on accuracy and precision they are the same. Best results were achieved after 9 epochs of training\n",
        "\n",
        "https://wandb.ai/gozdi/ner?workspace=user-gozdi"
      ],
      "metadata": {
        "id": "KgcLPApuHHZm"
      }
    },
    {
      "cell_type": "markdown",
      "source": [
        "![debedraexp2.PNG](data:image/png;base64,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)"
      ],
      "metadata": {
        "id": "pEVpE8WLHHdi"
      }
    },
    {
      "cell_type": "code",
      "source": [
        "wandb.finish()"
      ],
      "metadata": {
        "colab": {
          "base_uri": "https://localhost:8080/",
          "height": 595,
          "referenced_widgets": [
            "97e4b3cd679d40fb96e7a6bc73da358c",
            "fa9f1a013c4a49d58fb871d20fdda415",
            "8a7eb2f664b74506b1403ce3ed49695d",
            "c432bc374a824023948499ffadbb9734",
            "35fe2b92a76147838f253e5304f2bf4c",
            "ac439e655942448a84a57641bd2f6b53",
            "d252ff7aac784446bd7e0ebf4f84a754",
            "c9435ba1e2c147b4a991299db32b677f"
          ]
        },
        "id": "GtvJrixzgBNh",
        "outputId": "6d60464c-8ad5-4f44-8f35-8e33c1671728"
      },
      "execution_count": null,
      "outputs": [
        {
          "output_type": "display_data",
          "data": {
            "text/plain": [
              "<IPython.core.display.HTML object>"
            ],
            "text/html": [
              "Waiting for W&B process to finish... <strong style=\"color:green\">(success).</strong>"
            ]
          },
          "metadata": {}
        },
        {
          "output_type": "display_data",
          "data": {
            "text/plain": [
              "VBox(children=(Label(value='0.001 MB of 0.001 MB uploaded (0.000 MB deduped)\\r'), FloatProgress(value=1.0, max…"
            ],
            "application/vnd.jupyter.widget-view+json": {
              "version_major": 2,
              "version_minor": 0,
              "model_id": "97e4b3cd679d40fb96e7a6bc73da358c"
            }
          },
          "metadata": {}
        },
        {
          "output_type": "display_data",
          "data": {
            "text/plain": [
              "<IPython.core.display.HTML object>"
            ],
            "text/html": [
              "<style>\n",
              "    table.wandb td:nth-child(1) { padding: 0 10px; text-align: left ; width: auto;} td:nth-child(2) {text-align: left ; width: 100%}\n",
              "    .wandb-row { display: flex; flex-direction: row; flex-wrap: wrap; justify-content: flex-start; width: 100% }\n",
              "    .wandb-col { display: flex; flex-direction: column; flex-basis: 100%; flex: 1; padding: 10px; }\n",
              "    </style>\n",
              "<div class=\"wandb-row\"><div class=\"wandb-col\"><h3>Run history:</h3><br/><table class=\"wandb\"><tr><td>eval/loss</td><td>█▄▂▁▁▁▁▁▁▁</td></tr><tr><td>eval/overall_accuracy</td><td>▁▅▇▇██████</td></tr><tr><td>eval/overall_f1</td><td>▁▅▆▇██████</td></tr><tr><td>eval/overall_precision</td><td>▁▅▇▇█▇█▇██</td></tr><tr><td>eval/overall_recall</td><td>▁▆▆▇▇█████</td></tr><tr><td>eval/runtime</td><td>▂▂▇▁▁▂▁▁▂█</td></tr><tr><td>eval/samples_per_second</td><td>▇▇▂██▇██▇▁</td></tr><tr><td>eval/steps_per_second</td><td>▇▇▂██▇██▇▁</td></tr><tr><td>train/epoch</td><td>▁▁▂▂▂▂▂▃▃▃▃▄▄▄▄▅▅▅▅▅▆▆▆▆▇▇▇▇▇████</td></tr><tr><td>train/global_step</td><td>▁▁▂▂▂▂▂▃▃▃▃▄▄▄▄▄▅▅▅▅▆▆▆▆▇▇▇▇▇████</td></tr><tr><td>train/learning_rate</td><td>▁▅██▇▇▇▆▆▅▅▅▄▄▄▃▃▃▂▂▁▁</td></tr><tr><td>train/loss</td><td>█▄▂▂▁▁▁▁▁▁▁▁▁▁▁▁▁▁▁▁▁▁</td></tr><tr><td>train/total_flos</td><td>▁</td></tr><tr><td>train/train_loss</td><td>▁</td></tr><tr><td>train/train_runtime</td><td>▁</td></tr><tr><td>train/train_samples_per_second</td><td>▁</td></tr><tr><td>train/train_steps_per_second</td><td>▁</td></tr></table><br/></div><div class=\"wandb-col\"><h3>Run summary:</h3><br/><table class=\"wandb\"><tr><td>eval/loss</td><td>0.13755</td></tr><tr><td>eval/overall_accuracy</td><td>0.95797</td></tr><tr><td>eval/overall_f1</td><td>0.79787</td></tr><tr><td>eval/overall_precision</td><td>0.78056</td></tr><tr><td>eval/overall_recall</td><td>0.81597</td></tr><tr><td>eval/runtime</td><td>8.5086</td></tr><tr><td>eval/samples_per_second</td><td>845.262</td></tr><tr><td>eval/steps_per_second</td><td>13.281</td></tr><tr><td>train/epoch</td><td>10.0</td></tr><tr><td>train/global_step</td><td>6370</td></tr><tr><td>train/learning_rate</td><td>0.0</td></tr><tr><td>train/loss</td><td>0.0987</td></tr><tr><td>train/total_flos</td><td>2603878186495044.0</td></tr><tr><td>train/train_loss</td><td>0.19603</td></tr><tr><td>train/train_runtime</td><td>924.0672</td></tr><tr><td>train/train_samples_per_second</td><td>441.029</td></tr><tr><td>train/train_steps_per_second</td><td>6.893</td></tr></table><br/></div></div>"
            ]
          },
          "metadata": {}
        },
        {
          "output_type": "display_data",
          "data": {
            "text/plain": [
              "<IPython.core.display.HTML object>"
            ],
            "text/html": [
              "Synced <strong style=\"color:#cdcd00\">deberta-v3-xsmall_exp2</strong>: <a href=\"https://wandb.ai/gozdi/ner/runs/1kut823r\" target=\"_blank\">https://wandb.ai/gozdi/ner/runs/1kut823r</a><br/>Synced 5 W&B file(s), 0 media file(s), 0 artifact file(s) and 0 other file(s)"
            ]
          },
          "metadata": {}
        },
        {
          "output_type": "display_data",
          "data": {
            "text/plain": [
              "<IPython.core.display.HTML object>"
            ],
            "text/html": [
              "Find logs at: <code>./wandb/run-20221104_164057-1kut823r/logs</code>"
            ]
          },
          "metadata": {}
        }
      ]
    },
    {
      "cell_type": "code",
      "source": [
        "model = AutoModelForTokenClassification.from_pretrained('/content/deberta-v3-xsmall-ner_exp2/checkpoint-5733')"
      ],
      "metadata": {
        "id": "To9I3XXDk9Hs"
      },
      "execution_count": null,
      "outputs": []
    },
    {
      "cell_type": "code",
      "source": [
        "create_repo(\"deberta_v3_xsmall-finetuned-ner-exp2\")\n",
        "\n",
        "model.push_to_hub(\"deberta_v3_xsmall-finetuned-ner-exp2\")\n",
        "\n",
        "tokenizer.push_to_hub(\"deberta_v3_xsmall-finetuned-ner-exp2\")"
      ],
      "metadata": {
        "id": "QLSyX2RFlJQy"
      },
      "execution_count": null,
      "outputs": []
    },
    {
      "cell_type": "markdown",
      "source": [
        "#Conclusions \n",
        "\n",
        "DeBERTa wasn't able to outperform RoBERTa on this NER task but considering only backbone size difference, DeBERTa's performance is impresive. Nevertheless, despite bigger backbone size RoBERTa trained faster and achieved better results, so it would be a better option for this particular task if model's size isn't a concerne."
      ],
      "metadata": {
        "id": "_I58wjRTK45A"
      }
    }
  ],
  "metadata": {
    "colab": {
      "provenance": [],
      "collapsed_sections": [
        "y52nljz4ilWN",
        "TnWf5QEtYmLB",
        "6JOOY7JHpx7b",
        "PoaG-GSKtZmQ",
        "LFBQwsfzFnNm",
        "KgcLPApuHHZm",
        "_I58wjRTK45A"
      ]
    },
    "kernelspec": {
      "display_name": "Python 3",
      "name": "python3"
    },
    "language_info": {
      "name": "python"
    },
    "widgets": {
      "application/vnd.jupyter.widget-state+json": {
        "97e4b3cd679d40fb96e7a6bc73da358c": {
          "model_module": "@jupyter-widgets/controls",
          "model_name": "VBoxModel",
          "model_module_version": "1.5.0",
          "state": {
            "_dom_classes": [],
            "_model_module": "@jupyter-widgets/controls",
            "_model_module_version": "1.5.0",
            "_model_name": "VBoxModel",
            "_view_count": null,
            "_view_module": "@jupyter-widgets/controls",
            "_view_module_version": "1.5.0",
            "_view_name": "VBoxView",
            "box_style": "",
            "children": [
              "IPY_MODEL_fa9f1a013c4a49d58fb871d20fdda415",
              "IPY_MODEL_8a7eb2f664b74506b1403ce3ed49695d"
            ],
            "layout": "IPY_MODEL_c432bc374a824023948499ffadbb9734"
          }
        },
        "fa9f1a013c4a49d58fb871d20fdda415": {
          "model_module": "@jupyter-widgets/controls",
          "model_name": "LabelModel",
          "model_module_version": "1.5.0",
          "state": {
            "_dom_classes": [],
            "_model_module": "@jupyter-widgets/controls",
            "_model_module_version": "1.5.0",
            "_model_name": "LabelModel",
            "_view_count": null,
            "_view_module": "@jupyter-widgets/controls",
            "_view_module_version": "1.5.0",
            "_view_name": "LabelView",
            "description": "",
            "description_tooltip": null,
            "layout": "IPY_MODEL_35fe2b92a76147838f253e5304f2bf4c",
            "placeholder": "​",
            "style": "IPY_MODEL_ac439e655942448a84a57641bd2f6b53",
            "value": "0.469 MB of 0.469 MB uploaded (0.000 MB deduped)\r"
          }
        },
        "8a7eb2f664b74506b1403ce3ed49695d": {
          "model_module": "@jupyter-widgets/controls",
          "model_name": "FloatProgressModel",
          "model_module_version": "1.5.0",
          "state": {
            "_dom_classes": [],
            "_model_module": "@jupyter-widgets/controls",
            "_model_module_version": "1.5.0",
            "_model_name": "FloatProgressModel",
            "_view_count": null,
            "_view_module": "@jupyter-widgets/controls",
            "_view_module_version": "1.5.0",
            "_view_name": "ProgressView",
            "bar_style": "",
            "description": "",
            "description_tooltip": null,
            "layout": "IPY_MODEL_d252ff7aac784446bd7e0ebf4f84a754",
            "max": 1,
            "min": 0,
            "orientation": "horizontal",
            "style": "IPY_MODEL_c9435ba1e2c147b4a991299db32b677f",
            "value": 1
          }
        },
        "c432bc374a824023948499ffadbb9734": {
          "model_module": "@jupyter-widgets/base",
          "model_name": "LayoutModel",
          "model_module_version": "1.2.0",
          "state": {
            "_model_module": "@jupyter-widgets/base",
            "_model_module_version": "1.2.0",
            "_model_name": "LayoutModel",
            "_view_count": null,
            "_view_module": "@jupyter-widgets/base",
            "_view_module_version": "1.2.0",
            "_view_name": "LayoutView",
            "align_content": null,
            "align_items": null,
            "align_self": null,
            "border": null,
            "bottom": null,
            "display": null,
            "flex": null,
            "flex_flow": null,
            "grid_area": null,
            "grid_auto_columns": null,
            "grid_auto_flow": null,
            "grid_auto_rows": null,
            "grid_column": null,
            "grid_gap": null,
            "grid_row": null,
            "grid_template_areas": null,
            "grid_template_columns": null,
            "grid_template_rows": null,
            "height": null,
            "justify_content": null,
            "justify_items": null,
            "left": null,
            "margin": null,
            "max_height": null,
            "max_width": null,
            "min_height": null,
            "min_width": null,
            "object_fit": null,
            "object_position": null,
            "order": null,
            "overflow": null,
            "overflow_x": null,
            "overflow_y": null,
            "padding": null,
            "right": null,
            "top": null,
            "visibility": null,
            "width": null
          }
        },
        "35fe2b92a76147838f253e5304f2bf4c": {
          "model_module": "@jupyter-widgets/base",
          "model_name": "LayoutModel",
          "model_module_version": "1.2.0",
          "state": {
            "_model_module": "@jupyter-widgets/base",
            "_model_module_version": "1.2.0",
            "_model_name": "LayoutModel",
            "_view_count": null,
            "_view_module": "@jupyter-widgets/base",
            "_view_module_version": "1.2.0",
            "_view_name": "LayoutView",
            "align_content": null,
            "align_items": null,
            "align_self": null,
            "border": null,
            "bottom": null,
            "display": null,
            "flex": null,
            "flex_flow": null,
            "grid_area": null,
            "grid_auto_columns": null,
            "grid_auto_flow": null,
            "grid_auto_rows": null,
            "grid_column": null,
            "grid_gap": null,
            "grid_row": null,
            "grid_template_areas": null,
            "grid_template_columns": null,
            "grid_template_rows": null,
            "height": null,
            "justify_content": null,
            "justify_items": null,
            "left": null,
            "margin": null,
            "max_height": null,
            "max_width": null,
            "min_height": null,
            "min_width": null,
            "object_fit": null,
            "object_position": null,
            "order": null,
            "overflow": null,
            "overflow_x": null,
            "overflow_y": null,
            "padding": null,
            "right": null,
            "top": null,
            "visibility": null,
            "width": null
          }
        },
        "ac439e655942448a84a57641bd2f6b53": {
          "model_module": "@jupyter-widgets/controls",
          "model_name": "DescriptionStyleModel",
          "model_module_version": "1.5.0",
          "state": {
            "_model_module": "@jupyter-widgets/controls",
            "_model_module_version": "1.5.0",
            "_model_name": "DescriptionStyleModel",
            "_view_count": null,
            "_view_module": "@jupyter-widgets/base",
            "_view_module_version": "1.2.0",
            "_view_name": "StyleView",
            "description_width": ""
          }
        },
        "d252ff7aac784446bd7e0ebf4f84a754": {
          "model_module": "@jupyter-widgets/base",
          "model_name": "LayoutModel",
          "model_module_version": "1.2.0",
          "state": {
            "_model_module": "@jupyter-widgets/base",
            "_model_module_version": "1.2.0",
            "_model_name": "LayoutModel",
            "_view_count": null,
            "_view_module": "@jupyter-widgets/base",
            "_view_module_version": "1.2.0",
            "_view_name": "LayoutView",
            "align_content": null,
            "align_items": null,
            "align_self": null,
            "border": null,
            "bottom": null,
            "display": null,
            "flex": null,
            "flex_flow": null,
            "grid_area": null,
            "grid_auto_columns": null,
            "grid_auto_flow": null,
            "grid_auto_rows": null,
            "grid_column": null,
            "grid_gap": null,
            "grid_row": null,
            "grid_template_areas": null,
            "grid_template_columns": null,
            "grid_template_rows": null,
            "height": null,
            "justify_content": null,
            "justify_items": null,
            "left": null,
            "margin": null,
            "max_height": null,
            "max_width": null,
            "min_height": null,
            "min_width": null,
            "object_fit": null,
            "object_position": null,
            "order": null,
            "overflow": null,
            "overflow_x": null,
            "overflow_y": null,
            "padding": null,
            "right": null,
            "top": null,
            "visibility": null,
            "width": null
          }
        },
        "c9435ba1e2c147b4a991299db32b677f": {
          "model_module": "@jupyter-widgets/controls",
          "model_name": "ProgressStyleModel",
          "model_module_version": "1.5.0",
          "state": {
            "_model_module": "@jupyter-widgets/controls",
            "_model_module_version": "1.5.0",
            "_model_name": "ProgressStyleModel",
            "_view_count": null,
            "_view_module": "@jupyter-widgets/base",
            "_view_module_version": "1.2.0",
            "_view_name": "StyleView",
            "bar_color": null,
            "description_width": ""
          }
        }
      }
    },
    "gpuClass": "standard",
    "accelerator": "GPU"
  },
  "nbformat": 4,
  "nbformat_minor": 0
}