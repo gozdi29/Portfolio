{
  "cells": [
    {
      "cell_type": "markdown",
      "source": [
        "#Welcome\n",
        "\n",
        "\n",
        "In this notebook I will be training various machine learning models to perform classification. I will be working with a dataset where features are information about patients and the dependant variable is information if they have heart disease.\n",
        "\n",
        "I'll be using Spark on Databricks platform for data preprocessing and model training. Databricks have a nice integration with MLFlow and I'm going to use it for model tracking. For hyperparameter tuning I'll be using Hyperopt.\n",
        "\n",
        "This notebook is a 'remake' of previous notebook which I produced using Google Colab & RAPISD (SKLearn with GPU support). My main goal is to show my familiarity with Spark&Databricks workflow.\n",
        "\n",
        "Using Spark MLLib for such a small dataset is not an optimal solution, using sklearn model training would probably be faster but as I said this notebook is for demonstrating my Spark skills.   \n",
        "\n",
        "###Below is a short description of every feature\n",
        "\n",
        "Age: age of the patient [years]\n",
        "\n",
        "Sex: sex of the patient [M: Male, F: Female]\n",
        "\n",
        "ChestPainType: chest pain type [TA: Typical Angina, ATA: Atypical Angina, NAP: Non-Anginal Pain, ASY: Asymptomatic]\n",
        "\n",
        "RestingBP: resting blood pressure [mm Hg]\n",
        "\n",
        "Cholesterol: serum cholesterol [mm/dl]\n",
        "\n",
        "FastingBS: fasting blood sugar [1: if FastingBS > 120 mg/dl, 0: otherwise]\n",
        "\n",
        "RestingECG: resting electrocardiogram results [Normal: Normal, ST: having ST-T wave abnormality (T wave inversions and/or ST elevation or depression of > 0.05 mV), LVH: showing probable or definite left ventricular hypertrophy by Estes' criteria]\n",
        "\n",
        "MaxHR: maximum heart rate achieved [Numeric value between 60 and 202]\n",
        "\n",
        "ExerciseAngina: exercise-induced angina [Y: Yes, N: No]\n",
        "\n",
        "Oldpeak: oldpeak = ST [Numeric value measured in depression]\n",
        "\n",
        "ST_Slope: the slope of the peak exercise ST segment [Up: upsloping, Flat: flat, Down: downsloping]\n",
        "\n",
        "HeartDisease: output class [1: heart disease, 0: Normal]"
      ],
      "metadata": {
        "application/vnd.databricks.v1+cell": {
          "showTitle": false,
          "cellMetadata": {},
          "nuid": "cfa421cc-b630-4f78-a82c-be832b560d19",
          "inputWidgets": {},
          "title": ""
        },
        "id": "Fn1HFl_vreUu"
      }
    },
    {
      "cell_type": "code",
      "source": [
        "import pyspark.pandas as ps\n",
        "import numpy as np\n",
        "from pyspark.ml.feature import OneHotEncoder, StringIndexer, VectorAssembler\n",
        "from pyspark.ml import Pipeline\n",
        "from pyspark.ml.feature import Imputer\n",
        "from pyspark.ml.classification import LogisticRegression\n",
        "from pyspark.ml.tuning import CrossValidator\n",
        "from pyspark.ml.evaluation import MulticlassClassificationEvaluator\n",
        "from pyspark.ml.tuning import ParamGridBuilder\n",
        "from pyspark.sql.functions import col, when\n",
        "from hyperopt import fmin, tpe, Trials, STATUS_OK, hp\n",
        "import mlflow\n",
        "import mlflow.spark\n",
        "from mlflow.tracking.client import MlflowClient\n",
        "from mlflow.models.signature import infer_signature\n",
        "from pyspark.ml.classification import RandomForestClassifier\n",
        "from hyperopt.early_stop import no_progress_loss\n",
        "from pyspark.ml.feature import VectorIndexer\n",
        "from xgboost.spark import SparkXGBClassifier\n",
        "\n",
        "mlflow.autolog(disable=True)"
      ],
      "metadata": {
        "application/vnd.databricks.v1+cell": {
          "showTitle": false,
          "cellMetadata": {},
          "nuid": "af3382bc-6706-4052-8676-6a8658ac626b",
          "inputWidgets": {},
          "title": ""
        },
        "id": "p0wu7kHsreU1"
      },
      "outputs": [],
      "execution_count": null
    },
    {
      "cell_type": "code",
      "source": [
        "spdf = spark.read.csv('dbfs:/FileStore/tables/heart.csv', inferSchema=True, header=True)\n",
        "display(spdf.limit(10))"
      ],
      "metadata": {
        "application/vnd.databricks.v1+cell": {
          "showTitle": false,
          "cellMetadata": {},
          "nuid": "900052be-4c65-4315-9162-cc31d8568702",
          "inputWidgets": {},
          "title": ""
        },
        "id": "ibG95bpRreU3",
        "outputId": "d793e403-5f38-44de-cb9e-5a1ea5c81ac3"
      },
      "outputs": [
        {
          "output_type": "display_data",
          "metadata": {
            "application/vnd.databricks.v1+output": {
              "overflow": false,
              "datasetInfos": [],
              "data": [
                [
                  40,
                  "M",
                  "ATA",
                  140,
                  289,
                  0,
                  "Normal",
                  172,
                  "N",
                  0,
                  "Up",
                  0
                ],
                [
                  49,
                  "F",
                  "NAP",
                  160,
                  180,
                  0,
                  "Normal",
                  156,
                  "N",
                  1,
                  "Flat",
                  1
                ],
                [
                  37,
                  "M",
                  "ATA",
                  130,
                  283,
                  0,
                  "ST",
                  98,
                  "N",
                  0,
                  "Up",
                  0
                ],
                [
                  48,
                  "F",
                  "ASY",
                  138,
                  214,
                  0,
                  "Normal",
                  108,
                  "Y",
                  1.5,
                  "Flat",
                  1
                ],
                [
                  54,
                  "M",
                  "NAP",
                  150,
                  195,
                  0,
                  "Normal",
                  122,
                  "N",
                  0,
                  "Up",
                  0
                ],
                [
                  39,
                  "M",
                  "NAP",
                  120,
                  339,
                  0,
                  "Normal",
                  170,
                  "N",
                  0,
                  "Up",
                  0
                ],
                [
                  45,
                  "F",
                  "ATA",
                  130,
                  237,
                  0,
                  "Normal",
                  170,
                  "N",
                  0,
                  "Up",
                  0
                ],
                [
                  54,
                  "M",
                  "ATA",
                  110,
                  208,
                  0,
                  "Normal",
                  142,
                  "N",
                  0,
                  "Up",
                  0
                ],
                [
                  37,
                  "M",
                  "ASY",
                  140,
                  207,
                  0,
                  "Normal",
                  130,
                  "Y",
                  1.5,
                  "Flat",
                  1
                ],
                [
                  48,
                  "F",
                  "ATA",
                  120,
                  284,
                  0,
                  "Normal",
                  120,
                  "N",
                  0,
                  "Up",
                  0
                ]
              ],
              "plotOptions": {
                "displayType": "table",
                "customPlotOptions": {},
                "pivotColumns": null,
                "pivotAggregation": null,
                "xColumns": null,
                "yColumns": null
              },
              "columnCustomDisplayInfos": {},
              "aggType": "",
              "isJsonSchema": true,
              "removedWidgets": [],
              "aggSchema": [],
              "schema": [
                {
                  "name": "Age",
                  "type": "\"integer\"",
                  "metadata": "{}"
                },
                {
                  "name": "Sex",
                  "type": "\"string\"",
                  "metadata": "{}"
                },
                {
                  "name": "ChestPainType",
                  "type": "\"string\"",
                  "metadata": "{}"
                },
                {
                  "name": "RestingBP",
                  "type": "\"integer\"",
                  "metadata": "{}"
                },
                {
                  "name": "Cholesterol",
                  "type": "\"integer\"",
                  "metadata": "{}"
                },
                {
                  "name": "FastingBS",
                  "type": "\"integer\"",
                  "metadata": "{}"
                },
                {
                  "name": "RestingECG",
                  "type": "\"string\"",
                  "metadata": "{}"
                },
                {
                  "name": "MaxHR",
                  "type": "\"integer\"",
                  "metadata": "{}"
                },
                {
                  "name": "ExerciseAngina",
                  "type": "\"string\"",
                  "metadata": "{}"
                },
                {
                  "name": "Oldpeak",
                  "type": "\"double\"",
                  "metadata": "{}"
                },
                {
                  "name": "ST_Slope",
                  "type": "\"string\"",
                  "metadata": "{}"
                },
                {
                  "name": "HeartDisease",
                  "type": "\"integer\"",
                  "metadata": "{}"
                }
              ],
              "aggError": "",
              "aggData": [],
              "addedWidgets": {},
              "metadata": {},
              "dbfsResultPath": null,
              "type": "table",
              "aggOverflow": false,
              "aggSeriesLimitReached": false,
              "arguments": {}
            }
          },
          "data": {
            "text/html": [
              "<style scoped>\n  .table-result-container {\n    max-height: 300px;\n    overflow: auto;\n  }\n  table, th, td {\n    border: 1px solid black;\n    border-collapse: collapse;\n  }\n  th, td {\n    padding: 5px;\n  }\n  th {\n    text-align: left;\n  }\n</style><div class='table-result-container'><table class='table-result'><thead style='background-color: white'><tr><th>Age</th><th>Sex</th><th>ChestPainType</th><th>RestingBP</th><th>Cholesterol</th><th>FastingBS</th><th>RestingECG</th><th>MaxHR</th><th>ExerciseAngina</th><th>Oldpeak</th><th>ST_Slope</th><th>HeartDisease</th></tr></thead><tbody><tr><td>40</td><td>M</td><td>ATA</td><td>140</td><td>289</td><td>0</td><td>Normal</td><td>172</td><td>N</td><td>0.0</td><td>Up</td><td>0</td></tr><tr><td>49</td><td>F</td><td>NAP</td><td>160</td><td>180</td><td>0</td><td>Normal</td><td>156</td><td>N</td><td>1.0</td><td>Flat</td><td>1</td></tr><tr><td>37</td><td>M</td><td>ATA</td><td>130</td><td>283</td><td>0</td><td>ST</td><td>98</td><td>N</td><td>0.0</td><td>Up</td><td>0</td></tr><tr><td>48</td><td>F</td><td>ASY</td><td>138</td><td>214</td><td>0</td><td>Normal</td><td>108</td><td>Y</td><td>1.5</td><td>Flat</td><td>1</td></tr><tr><td>54</td><td>M</td><td>NAP</td><td>150</td><td>195</td><td>0</td><td>Normal</td><td>122</td><td>N</td><td>0.0</td><td>Up</td><td>0</td></tr><tr><td>39</td><td>M</td><td>NAP</td><td>120</td><td>339</td><td>0</td><td>Normal</td><td>170</td><td>N</td><td>0.0</td><td>Up</td><td>0</td></tr><tr><td>45</td><td>F</td><td>ATA</td><td>130</td><td>237</td><td>0</td><td>Normal</td><td>170</td><td>N</td><td>0.0</td><td>Up</td><td>0</td></tr><tr><td>54</td><td>M</td><td>ATA</td><td>110</td><td>208</td><td>0</td><td>Normal</td><td>142</td><td>N</td><td>0.0</td><td>Up</td><td>0</td></tr><tr><td>37</td><td>M</td><td>ASY</td><td>140</td><td>207</td><td>0</td><td>Normal</td><td>130</td><td>Y</td><td>1.5</td><td>Flat</td><td>1</td></tr><tr><td>48</td><td>F</td><td>ATA</td><td>120</td><td>284</td><td>0</td><td>Normal</td><td>120</td><td>N</td><td>0.0</td><td>Up</td><td>0</td></tr></tbody></table></div>"
            ]
          }
        }
      ],
      "execution_count": null
    },
    {
      "cell_type": "code",
      "source": [
        "spdf.write.mode('overwrite').format('delta').save('dbfs:/FileStore/tables/heart.delta')"
      ],
      "metadata": {
        "application/vnd.databricks.v1+cell": {
          "showTitle": false,
          "cellMetadata": {},
          "nuid": "476ca262-c2cf-4cbb-aee9-a33df2a8c663",
          "inputWidgets": {},
          "title": ""
        },
        "id": "2h0rLBBYreU4"
      },
      "outputs": [],
      "execution_count": null
    },
    {
      "cell_type": "code",
      "source": [
        "spdf = spark.read.format('delta').load('dbfs:/FileStore/tables/heart.delta')"
      ],
      "metadata": {
        "application/vnd.databricks.v1+cell": {
          "showTitle": false,
          "cellMetadata": {},
          "nuid": "f35e2fe1-e00f-4936-aa48-8bde07e4eaf1",
          "inputWidgets": {},
          "title": ""
        },
        "id": "hjboFtz1reU5"
      },
      "outputs": [],
      "execution_count": null
    },
    {
      "cell_type": "markdown",
      "source": [
        "I'll use Databricks data profiling to take a first look at the data and then inspect it further"
      ],
      "metadata": {
        "application/vnd.databricks.v1+cell": {
          "showTitle": false,
          "cellMetadata": {},
          "nuid": "2d7553da-c1d6-4a47-83d6-039ef07cebd6",
          "inputWidgets": {},
          "title": ""
        },
        "id": "s0N_B6BereU5"
      }
    },
    {
      "cell_type": "code",
      "source": [
        "#display(spdf)"
      ],
      "metadata": {
        "application/vnd.databricks.v1+cell": {
          "showTitle": false,
          "cellMetadata": {},
          "nuid": "d1a11fc2-ad5e-4f24-84d1-9f5576cd5eb4",
          "inputWidgets": {},
          "title": ""
        },
        "id": "525oRFsYreU6"
      },
      "outputs": [],
      "execution_count": null
    },
    {
      "cell_type": "markdown",
      "source": [
        "![data profile.PNG](data:image/png;base64,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)"
      ],
      "metadata": {
        "id": "l3cVNAUvroEk"
      }
    },
    {
      "cell_type": "markdown",
      "source": [
        "![dataprofile2.PNG](data:image/png;base64,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)"
      ],
      "metadata": {
        "id": "RG_gW0bIro-d"
      }
    },
    {
      "cell_type": "markdown",
      "source": [
        "Target variable is pretty balanced which is good"
      ],
      "metadata": {
        "application/vnd.databricks.v1+cell": {
          "showTitle": false,
          "cellMetadata": {},
          "nuid": "f3ae8971-6527-44f7-80a6-07be031915f6",
          "inputWidgets": {},
          "title": ""
        },
        "id": "0gx_1vJtreU6"
      }
    },
    {
      "cell_type": "code",
      "source": [
        "categorical_numeric = ['FastingBS']\n",
        "\n",
        "categorical = ['ChestPainType', 'Sex', 'RestingECG', 'ExerciseAngina', 'ST_Slope']\n",
        "\n",
        "numerical = ['Age', 'RestingBP', 'Cholesterol', 'MaxHR', 'Oldpeak']"
      ],
      "metadata": {
        "application/vnd.databricks.v1+cell": {
          "showTitle": false,
          "cellMetadata": {},
          "nuid": "6d74cbbe-3b63-4d93-bda2-ab825a68338a",
          "inputWidgets": {},
          "title": ""
        },
        "id": "VHlF24S6reU7"
      },
      "outputs": [],
      "execution_count": null
    },
    {
      "cell_type": "code",
      "source": [
        "psdf = ps.DataFrame(spdf)"
      ],
      "metadata": {
        "application/vnd.databricks.v1+cell": {
          "showTitle": false,
          "cellMetadata": {},
          "nuid": "3392cfea-495d-47ec-8de5-a52dae306697",
          "inputWidgets": {},
          "title": ""
        },
        "id": "peI4FNtxreU8"
      },
      "outputs": [],
      "execution_count": null
    },
    {
      "cell_type": "markdown",
      "source": [
        "I have noticed that almost 19% of cholesterol column values are zeros, these 0 should be missing values rather than actual 0 so i'm going to change them to np.nan."
      ],
      "metadata": {
        "application/vnd.databricks.v1+cell": {
          "showTitle": false,
          "cellMetadata": {},
          "nuid": "e31b9b12-d7f7-4137-a727-352ba8fa3c08",
          "inputWidgets": {},
          "title": ""
        },
        "id": "FiI_fbJCreU8"
      }
    },
    {
      "cell_type": "code",
      "source": [
        "psdf['Cholesterol'] = psdf['Cholesterol'].apply(lambda x: np.nan if x == 0 else x)"
      ],
      "metadata": {
        "application/vnd.databricks.v1+cell": {
          "showTitle": false,
          "cellMetadata": {},
          "nuid": "84dc1818-fc62-446a-8b73-315a984c00df",
          "inputWidgets": {},
          "title": ""
        },
        "id": "wIMezo6FreU9"
      },
      "outputs": [],
      "execution_count": null
    },
    {
      "cell_type": "code",
      "source": [
        "spdf = psdf.to_spark()"
      ],
      "metadata": {
        "application/vnd.databricks.v1+cell": {
          "showTitle": false,
          "cellMetadata": {},
          "nuid": "fdfa0af4-f091-4f0d-afd0-95887c75d221",
          "inputWidgets": {},
          "title": ""
        },
        "id": "nndojFjareU-"
      },
      "outputs": [],
      "execution_count": null
    },
    {
      "cell_type": "markdown",
      "source": [
        "I've also noticed than minimal value in RestingBP column is 0 which is probably because of a missing value rather than actual measurement of 0."
      ],
      "metadata": {
        "application/vnd.databricks.v1+cell": {
          "showTitle": false,
          "cellMetadata": {},
          "nuid": "f313d70d-d8e1-4d78-9bb0-a50ad4995350",
          "inputWidgets": {},
          "title": ""
        },
        "id": "v-NIqRbdreU-"
      }
    },
    {
      "cell_type": "code",
      "source": [
        "#display(spdf.select('RestingBP'))"
      ],
      "metadata": {
        "application/vnd.databricks.v1+cell": {
          "showTitle": false,
          "cellMetadata": {},
          "nuid": "f991e4e4-87a0-478c-b2af-a88254294754",
          "inputWidgets": {},
          "title": ""
        },
        "id": "INAAMfIFreU-"
      },
      "outputs": [],
      "execution_count": null
    },
    {
      "cell_type": "markdown",
      "source": [
        "![s1.PNG](data:image/png;base64,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)"
      ],
      "metadata": {
        "id": "8EPm7Mlmr4TN"
      }
    },
    {
      "cell_type": "code",
      "source": [
        "psdf = ps.DataFrame(spdf)\n",
        "psdf = psdf[psdf['RestingBP'] > 0]"
      ],
      "metadata": {
        "application/vnd.databricks.v1+cell": {
          "showTitle": false,
          "cellMetadata": {},
          "nuid": "ea2222d3-7d87-43a5-ae92-be2fabdfcf5b",
          "inputWidgets": {},
          "title": ""
        },
        "id": "RwZZoio_reU_"
      },
      "outputs": [],
      "execution_count": null
    },
    {
      "cell_type": "code",
      "source": [
        "spdf = psdf.to_spark()"
      ],
      "metadata": {
        "application/vnd.databricks.v1+cell": {
          "showTitle": false,
          "cellMetadata": {},
          "nuid": "bf8ba3e5-d0c8-449e-bd55-43d5dfcff4a3",
          "inputWidgets": {},
          "title": ""
        },
        "id": "Wd9zAARFreU_"
      },
      "outputs": [],
      "execution_count": null
    },
    {
      "cell_type": "markdown",
      "source": [
        "There is a much larger percentage of men (63.1) than women (25.9) that have a heart disease."
      ],
      "metadata": {
        "application/vnd.databricks.v1+cell": {
          "showTitle": false,
          "cellMetadata": {},
          "nuid": "5450eae2-f329-458f-9a1f-48166cba220f",
          "inputWidgets": {},
          "title": ""
        },
        "id": "G86r0KjareU_"
      }
    },
    {
      "cell_type": "code",
      "source": [
        "display(spdf.crosstab('Sex', 'HeartDisease'))"
      ],
      "metadata": {
        "application/vnd.databricks.v1+cell": {
          "showTitle": false,
          "cellMetadata": {},
          "nuid": "924d02ff-162b-4006-9fc1-d61a213da471",
          "inputWidgets": {},
          "title": ""
        },
        "id": "lfwoyR5vreVA",
        "outputId": "579d2097-b143-4bcb-bab9-8dae6a85f076"
      },
      "outputs": [
        {
          "output_type": "display_data",
          "metadata": {
            "application/vnd.databricks.v1+output": {
              "overflow": false,
              "datasetInfos": [],
              "data": [
                [
                  "F",
                  143,
                  50
                ],
                [
                  "M",
                  267,
                  457
                ]
              ],
              "plotOptions": {
                "displayType": "table",
                "customPlotOptions": {},
                "pivotColumns": null,
                "pivotAggregation": null,
                "xColumns": null,
                "yColumns": null
              },
              "columnCustomDisplayInfos": {},
              "aggType": "",
              "isJsonSchema": true,
              "removedWidgets": [],
              "aggSchema": [],
              "schema": [
                {
                  "name": "Sex_HeartDisease",
                  "type": "\"string\"",
                  "metadata": "{}"
                },
                {
                  "name": "0",
                  "type": "\"long\"",
                  "metadata": "{}"
                },
                {
                  "name": "1",
                  "type": "\"long\"",
                  "metadata": "{}"
                }
              ],
              "aggError": "",
              "aggData": [],
              "addedWidgets": {},
              "metadata": {},
              "dbfsResultPath": null,
              "type": "table",
              "aggOverflow": false,
              "aggSeriesLimitReached": false,
              "arguments": {}
            }
          },
          "data": {
            "text/html": [
              "<style scoped>\n  .table-result-container {\n    max-height: 300px;\n    overflow: auto;\n  }\n  table, th, td {\n    border: 1px solid black;\n    border-collapse: collapse;\n  }\n  th, td {\n    padding: 5px;\n  }\n  th {\n    text-align: left;\n  }\n</style><div class='table-result-container'><table class='table-result'><thead style='background-color: white'><tr><th>Sex_HeartDisease</th><th>0</th><th>1</th></tr></thead><tbody><tr><td>F</td><td>143</td><td>50</td></tr><tr><td>M</td><td>267</td><td>457</td></tr></tbody></table></div>"
            ]
          }
        },
        {
          "output_type": "display_data",
          "metadata": {
            "application/vnd.databricks.v1.subcommand+json": {
              "resultDbfsErrorMessage": null,
              "diffInserts": [],
              "isLockedInExamMode": false,
              "tableResultIndex": 0,
              "startTime": 0,
              "resultDbfsStatus": "INLINED_IN_TREE",
              "state": "input",
              "subtype": "tableResultSubCmd.visualization",
              "commentThread": [],
              "guid": "f65c99e1-cf0f-4f09-a469-1cefbd3cd6c8",
              "bindings": {},
              "useConsistentColors": false,
              "displayType": "redashChart",
              "customPlotOptions": {
                "redashChart": [
                  {
                    "key": "type",
                    "value": "CHART"
                  },
                  {
                    "key": "options",
                    "value": {
                      "isAggregationOn": true,
                      "series": {
                        "stacking": null,
                        "error_y": {
                          "type": "data",
                          "visible": true
                        }
                      },
                      "coefficient": 1,
                      "yAxis": [
                        {
                          "type": "-"
                        },
                        {
                          "type": "-",
                          "opposite": true
                        }
                      ],
                      "columnConfigurationMap": {
                        "x": {
                          "column": "Sex_HeartDisease",
                          "id": "column_6516720128"
                        },
                        "y": [
                          {
                            "id": "column_6516720132",
                            "column": "0",
                            "transform": "SUM"
                          },
                          {
                            "id": "column_6516720134",
                            "column": "1",
                            "transform": "SUM"
                          }
                        ]
                      },
                      "alignYAxesAtZero": true,
                      "direction": {
                        "type": "counterclockwise"
                      },
                      "swappedAxes": false,
                      "percentFormat": "0[.]00%",
                      "textFormat": "",
                      "legend": {
                        "traceorder": "normal"
                      },
                      "globalSeriesType": "column",
                      "version": 2,
                      "sizemode": "diameter",
                      "seriesOptions": {
                        "column_6516720126": {
                          "name": "1",
                          "yAxis": 0,
                          "type": "column"
                        },
                        "column_6516720134": {
                          "yAxis": 0,
                          "type": "column",
                          "name": "Ill"
                        },
                        "column_6516720130": {
                          "yAxis": 0,
                          "type": "column"
                        },
                        "column_6516720132": {
                          "yAxis": 0,
                          "type": "column",
                          "name": "Healthy"
                        },
                        "M, SUM(1)": {
                          "color": "#E92828"
                        },
                        "M, SUM(0)": {
                          "color": "#356AFF"
                        }
                      },
                      "error_y": {
                        "type": "data",
                        "visible": true
                      },
                      "sortX": true,
                      "showDataLabels": false,
                      "missingValuesAsZero": true,
                      "useAggregationsUi": true,
                      "numberFormat": "0,0[.]00000",
                      "dateTimeFormat": "DD/MM/YYYY HH:mm",
                      "sortY": true,
                      "valuesOptions": {},
                      "xAxis": {
                        "type": "-",
                        "labels": {
                          "enabled": true
                        }
                      }
                    }
                  }
                ]
              },
              "collapsed": false,
              "errorSummary": null,
              "iPythonMetadata": null,
              "commandType": "auto",
              "height": "auto",
              "command": "%python\n__backend_agg_display_orig = display\n__backend_agg_dfs = []\ndef __backend_agg_display_new(df):\n    __backend_agg_df_modules = [\"pandas.core.frame\", \"databricks.koalas.frame\", \"pyspark.sql.dataframe\", \"pyspark.pandas.frame\"]\n    if (type(df).__module__ in __backend_agg_df_modules and type(df).__name__ == 'DataFrame') or isinstance(df, list):\n        __backend_agg_dfs.append(df)\n\ndisplay = __backend_agg_display_new\n\ndef __backend_agg_user_code_fn():\n    import base64\n    exec(base64.standard_b64decode(\"ZGlzcGxheShzcGRmLmNyb3NzdGFiKCdTZXgnLCAnSGVhcnREaXNlYXNlJykp\").decode())\n\ntry:\n    # run user code\n    __backend_agg_user_code_fn()\n\n    #reset display function\n    display = __backend_agg_display_orig\n\n    if len(__backend_agg_dfs) > 0:\n        # create a temp view\n        if hasattr(__backend_agg_dfs[0], \"to_spark\"):\n            # koalas dataframe\n            __backend_agg_dfs[0].to_spark().createOrReplaceTempView(\"DatabricksViewd68ed39\")\n        elif type(__backend_agg_dfs[0]).__module__ == \"pandas.core.frame\" or isinstance(__backend_agg_dfs[0], list):\n            # pandas dataframe\n            spark.createDataFrame(__backend_agg_dfs[0]).createOrReplaceTempView(\"DatabricksViewd68ed39\")\n        else:\n            __backend_agg_dfs[0].createOrReplaceTempView(\"DatabricksViewd68ed39\")\n        #run backend agg\n        display(spark.sql(\"\"\"WITH q AS (select * from DatabricksViewd68ed39) SELECT `Sex_HeartDisease`,SUM(`1`) `column_6516720126`,SUM(`0`) `column_6516720130`,`Sex_HeartDisease` FROM q GROUP BY `Sex_HeartDisease`\"\"\"))\n    else:\n        displayHTML(\"dataframe no longer exists. If you're using dataframe.display(), use display(dataframe) instead.\")\n\n\nfinally:\n    spark.sql(\"drop view if exists DatabricksViewd68ed39\")\n    display = __backend_agg_display_orig\n    del __backend_agg_display_new\n    del __backend_agg_display_orig\n    del __backend_agg_dfs\n    del __backend_agg_user_code_fn\n\n",
              "pivotColumns": null,
              "showCommandTitle": false,
              "datasetPreviewNameToCmdIdMap": {},
              "pivotAggregation": null,
              "version": "CommandV1",
              "nuid": "c7b35ea8-bcce-48c7-a1d3-76fa4c0b7f8b",
              "subcommandOptions": {
                "queryPlan": {
                  "selects": [
                    {
                      "column": "Sex_HeartDisease",
                      "type": "column"
                    },
                    {
                      "function": "SUM",
                      "args": [
                        {
                          "column": "0",
                          "type": "column"
                        }
                      ],
                      "alias": "column_6516720132",
                      "type": "function"
                    },
                    {
                      "function": "SUM",
                      "args": [
                        {
                          "column": "1",
                          "type": "column"
                        }
                      ],
                      "alias": "column_6516720134",
                      "type": "function"
                    }
                  ],
                  "groups": [
                    {
                      "column": "Sex_HeartDisease",
                      "type": "column"
                    }
                  ]
                }
              },
              "xColumns": null,
              "results": null,
              "streamStates": {},
              "commandVersion": 0,
              "contentSha256Hex": null,
              "hideCommandResult": false,
              "error": null,
              "workflows": [],
              "inputWidgets": {},
              "finishTime": 0,
              "commandTitle": "Visualization 1",
              "origId": 2297582246512941,
              "metadata": {},
              "submitTime": 0,
              "position": 12.5,
              "errorTraceType": null,
              "listResultMetadata": null,
              "latestUserId": null,
              "yColumns": null,
              "hideCommandCode": false,
              "latestUser": "a user",
              "commentsVisible": false,
              "parentHierarchy": [
                "a5abb97a-fba1-465f-a51c-895914595399"
              ],
              "width": "auto",
              "globalVars": {},
              "diffDeletes": []
            }
          },
          "data": {
            "text/plain": [
              "Output can only be rendered in Databricks"
            ]
          }
        }
      ],
      "execution_count": null
    },
    {
      "cell_type": "markdown",
      "source": [
        "![s2.PNG](data:image/png;base64,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)"
      ],
      "metadata": {
        "id": "HAWsA_OhsKYc"
      }
    },
    {
      "cell_type": "markdown",
      "source": [
        "ATA and NAP chest pain types have a larger percentage of healthy people TA is ballanced while ASY has a larger percentage of ill people."
      ],
      "metadata": {
        "application/vnd.databricks.v1+cell": {
          "showTitle": false,
          "cellMetadata": {},
          "nuid": "2c48ac36-6b4b-42c4-946d-bb523e2a61b4",
          "inputWidgets": {},
          "title": ""
        },
        "id": "5dD8w-a0reVA"
      }
    },
    {
      "cell_type": "code",
      "source": [
        "display(spdf.crosstab('ChestPainType', 'HeartDisease'))"
      ],
      "metadata": {
        "application/vnd.databricks.v1+cell": {
          "showTitle": false,
          "cellMetadata": {},
          "nuid": "cc5f41a7-58d3-4fb0-94db-ab80196e6b4d",
          "inputWidgets": {},
          "title": ""
        },
        "id": "SuAc_-EoreVA",
        "outputId": "0cde8107-153e-4f69-cba3-670c3357f2e6"
      },
      "outputs": [
        {
          "output_type": "display_data",
          "metadata": {
            "application/vnd.databricks.v1+output": {
              "overflow": false,
              "datasetInfos": [],
              "data": [
                [
                  "NAP",
                  131,
                  71
                ],
                [
                  "ATA",
                  149,
                  24
                ],
                [
                  "TA",
                  26,
                  20
                ],
                [
                  "ASY",
                  104,
                  392
                ]
              ],
              "plotOptions": {
                "displayType": "table",
                "customPlotOptions": {},
                "pivotColumns": null,
                "pivotAggregation": null,
                "xColumns": null,
                "yColumns": null
              },
              "columnCustomDisplayInfos": {},
              "aggType": "",
              "isJsonSchema": true,
              "removedWidgets": [],
              "aggSchema": [],
              "schema": [
                {
                  "name": "ChestPainType_HeartDisease",
                  "type": "\"string\"",
                  "metadata": "{}"
                },
                {
                  "name": "0",
                  "type": "\"long\"",
                  "metadata": "{}"
                },
                {
                  "name": "1",
                  "type": "\"long\"",
                  "metadata": "{}"
                }
              ],
              "aggError": "",
              "aggData": [],
              "addedWidgets": {},
              "metadata": {},
              "dbfsResultPath": null,
              "type": "table",
              "aggOverflow": false,
              "aggSeriesLimitReached": false,
              "arguments": {}
            }
          },
          "data": {
            "text/html": [
              "<style scoped>\n  .table-result-container {\n    max-height: 300px;\n    overflow: auto;\n  }\n  table, th, td {\n    border: 1px solid black;\n    border-collapse: collapse;\n  }\n  th, td {\n    padding: 5px;\n  }\n  th {\n    text-align: left;\n  }\n</style><div class='table-result-container'><table class='table-result'><thead style='background-color: white'><tr><th>ChestPainType_HeartDisease</th><th>0</th><th>1</th></tr></thead><tbody><tr><td>NAP</td><td>131</td><td>71</td></tr><tr><td>ATA</td><td>149</td><td>24</td></tr><tr><td>TA</td><td>26</td><td>20</td></tr><tr><td>ASY</td><td>104</td><td>392</td></tr></tbody></table></div>"
            ]
          }
        },
        {
          "output_type": "display_data",
          "metadata": {
            "application/vnd.databricks.v1.subcommand+json": {
              "resultDbfsErrorMessage": null,
              "diffInserts": [],
              "isLockedInExamMode": false,
              "tableResultIndex": 0,
              "startTime": 0,
              "resultDbfsStatus": "INLINED_IN_TREE",
              "state": "input",
              "subtype": "tableResultSubCmd.visualization",
              "commentThread": [],
              "guid": "16a1a053-5526-4873-9ccd-eb7ab2d6a86d",
              "bindings": {},
              "useConsistentColors": false,
              "displayType": "redashChart",
              "customPlotOptions": {
                "redashChart": [
                  {
                    "key": "type",
                    "value": "CHART"
                  },
                  {
                    "key": "options",
                    "value": {
                      "isAggregationOn": false,
                      "series": {
                        "stacking": null,
                        "error_y": {
                          "type": "data",
                          "visible": true
                        }
                      },
                      "coefficient": 1,
                      "yAxis": [
                        {
                          "type": "-"
                        },
                        {
                          "type": "-",
                          "opposite": true
                        }
                      ],
                      "columnConfigurationMap": {
                        "x": {
                          "column": "ChestPainType_HeartDisease",
                          "id": "column_6516720138"
                        },
                        "y": [
                          {
                            "id": "column_6516720142",
                            "column": "0"
                          },
                          {
                            "id": "column_6516720144",
                            "column": "1"
                          }
                        ]
                      },
                      "alignYAxesAtZero": true,
                      "direction": {
                        "type": "counterclockwise"
                      },
                      "swappedAxes": false,
                      "percentFormat": "0[.]00%",
                      "textFormat": "",
                      "legend": {
                        "traceorder": "normal"
                      },
                      "globalSeriesType": "column",
                      "version": 2,
                      "sizemode": "diameter",
                      "seriesOptions": {
                        "0": {
                          "yAxis": 0,
                          "type": "column",
                          "name": "Healthy"
                        },
                        "1": {
                          "yAxis": 0,
                          "type": "column",
                          "name": "Ill"
                        }
                      },
                      "error_y": {
                        "type": "data",
                        "visible": true
                      },
                      "sortX": true,
                      "showDataLabels": false,
                      "missingValuesAsZero": true,
                      "useAggregationsUi": true,
                      "numberFormat": "0,0[.]00000",
                      "dateTimeFormat": "DD/MM/YYYY HH:mm",
                      "sortY": true,
                      "valuesOptions": {},
                      "xAxis": {
                        "type": "-",
                        "labels": {
                          "enabled": true
                        }
                      }
                    }
                  }
                ]
              },
              "collapsed": false,
              "errorSummary": null,
              "iPythonMetadata": null,
              "commandType": "auto",
              "height": "auto",
              "command": "%python\n__backend_agg_display_orig = display\n__backend_agg_dfs = []\ndef __backend_agg_display_new(df):\n    __backend_agg_df_modules = [\"pandas.core.frame\", \"databricks.koalas.frame\", \"pyspark.sql.dataframe\", \"pyspark.pandas.frame\"]\n    if (type(df).__module__ in __backend_agg_df_modules and type(df).__name__ == 'DataFrame') or isinstance(df, list):\n        __backend_agg_dfs.append(df)\n\ndisplay = __backend_agg_display_new\n\ndef __backend_agg_user_code_fn():\n    import base64\n    exec(base64.standard_b64decode(\"ZGlzcGxheShzcGRmLmNyb3NzdGFiKCdDaGVzdFBhaW5UeXBlJywgJ0hlYXJ0RGlzZWFzZScpKQ==\").decode())\n\ntry:\n    # run user code\n    __backend_agg_user_code_fn()\n\n    #reset display function\n    display = __backend_agg_display_orig\n\n    if len(__backend_agg_dfs) > 0:\n        # create a temp view\n        if hasattr(__backend_agg_dfs[0], \"to_spark\"):\n            # koalas dataframe\n            __backend_agg_dfs[0].to_spark().createOrReplaceTempView(\"DatabricksView1ad62f8\")\n        elif type(__backend_agg_dfs[0]).__module__ == \"pandas.core.frame\" or isinstance(__backend_agg_dfs[0], list):\n            # pandas dataframe\n            spark.createDataFrame(__backend_agg_dfs[0]).createOrReplaceTempView(\"DatabricksView1ad62f8\")\n        else:\n            __backend_agg_dfs[0].createOrReplaceTempView(\"DatabricksView1ad62f8\")\n        #run backend agg\n        display(spark.sql(\"\"\"WITH q AS (select * from DatabricksView1ad62f8) SELECT `ChestPainType_HeartDisease`,`0`,`1` FROM q\"\"\"))\n    else:\n        displayHTML(\"dataframe no longer exists. If you're using dataframe.display(), use display(dataframe) instead.\")\n\n\nfinally:\n    spark.sql(\"drop view if exists DatabricksView1ad62f8\")\n    display = __backend_agg_display_orig\n    del __backend_agg_display_new\n    del __backend_agg_display_orig\n    del __backend_agg_dfs\n    del __backend_agg_user_code_fn\n\n",
              "pivotColumns": null,
              "showCommandTitle": false,
              "datasetPreviewNameToCmdIdMap": {},
              "pivotAggregation": null,
              "version": "CommandV1",
              "nuid": "b4b403cc-cef8-44a2-a785-db67ef7f4500",
              "subcommandOptions": {
                "queryPlan": {
                  "selects": [
                    {
                      "column": "ChestPainType_HeartDisease",
                      "type": "column"
                    },
                    {
                      "column": "0",
                      "type": "column"
                    },
                    {
                      "column": "1",
                      "type": "column"
                    }
                  ]
                }
              },
              "xColumns": null,
              "results": null,
              "streamStates": {},
              "commandVersion": 0,
              "contentSha256Hex": null,
              "hideCommandResult": false,
              "error": null,
              "workflows": [],
              "inputWidgets": {},
              "finishTime": 0,
              "commandTitle": "Visualization 1",
              "origId": 2297582246512944,
              "metadata": {},
              "submitTime": 0,
              "position": 14,
              "errorTraceType": null,
              "listResultMetadata": null,
              "latestUserId": null,
              "yColumns": null,
              "hideCommandCode": false,
              "latestUser": "a user",
              "commentsVisible": false,
              "parentHierarchy": [
                "1c88b635-907b-423d-97a9-7a20998fd198"
              ],
              "width": "auto",
              "globalVars": {},
              "diffDeletes": []
            }
          },
          "data": {
            "text/plain": [
              "Output can only be rendered in Databricks"
            ]
          }
        }
      ],
      "execution_count": null
    },
    {
      "cell_type": "markdown",
      "source": [
        "![s3.PNG](data:image/png;base64,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)"
      ],
      "metadata": {
        "id": "HK-78aBXsOJG"
      }
    },
    {
      "cell_type": "markdown",
      "source": [
        "All of RestingECG categories have a larger percentage of ill people. In 'Normal' category there is only about 5% more ill people than healthy while it's about 25% and 50% for LVH and ST categories respectfully."
      ],
      "metadata": {
        "id": "j2YIf75NsUmN"
      }
    },
    {
      "cell_type": "code",
      "source": [
        "display(spdf.crosstab('RestingECG', 'HeartDisease'))"
      ],
      "metadata": {
        "application/vnd.databricks.v1+cell": {
          "showTitle": false,
          "cellMetadata": {},
          "nuid": "83207b85-0d06-4b20-821d-9eb86b458b5a",
          "inputWidgets": {},
          "title": ""
        },
        "id": "6cDjOEsdreVB",
        "outputId": "2cce856f-997c-4144-faa9-81b4b152bddb"
      },
      "outputs": [
        {
          "output_type": "display_data",
          "metadata": {
            "application/vnd.databricks.v1+output": {
              "overflow": false,
              "datasetInfos": [],
              "data": [
                [
                  "LVH",
                  82,
                  106
                ],
                [
                  "Normal",
                  267,
                  284
                ],
                [
                  "ST",
                  61,
                  117
                ]
              ],
              "plotOptions": {
                "displayType": "table",
                "customPlotOptions": {},
                "pivotColumns": null,
                "pivotAggregation": null,
                "xColumns": null,
                "yColumns": null
              },
              "columnCustomDisplayInfos": {},
              "aggType": "",
              "isJsonSchema": true,
              "removedWidgets": [],
              "aggSchema": [],
              "schema": [
                {
                  "name": "RestingECG_HeartDisease",
                  "type": "\"string\"",
                  "metadata": "{}"
                },
                {
                  "name": "0",
                  "type": "\"long\"",
                  "metadata": "{}"
                },
                {
                  "name": "1",
                  "type": "\"long\"",
                  "metadata": "{}"
                }
              ],
              "aggError": "",
              "aggData": [],
              "addedWidgets": {},
              "metadata": {},
              "dbfsResultPath": null,
              "type": "table",
              "aggOverflow": false,
              "aggSeriesLimitReached": false,
              "arguments": {}
            }
          },
          "data": {
            "text/html": [
              "<style scoped>\n  .table-result-container {\n    max-height: 300px;\n    overflow: auto;\n  }\n  table, th, td {\n    border: 1px solid black;\n    border-collapse: collapse;\n  }\n  th, td {\n    padding: 5px;\n  }\n  th {\n    text-align: left;\n  }\n</style><div class='table-result-container'><table class='table-result'><thead style='background-color: white'><tr><th>RestingECG_HeartDisease</th><th>0</th><th>1</th></tr></thead><tbody><tr><td>LVH</td><td>82</td><td>106</td></tr><tr><td>Normal</td><td>267</td><td>284</td></tr><tr><td>ST</td><td>61</td><td>117</td></tr></tbody></table></div>"
            ]
          }
        },
        {
          "output_type": "display_data",
          "metadata": {
            "application/vnd.databricks.v1.subcommand+json": {
              "resultDbfsErrorMessage": null,
              "diffInserts": [],
              "isLockedInExamMode": false,
              "tableResultIndex": 0,
              "startTime": 0,
              "resultDbfsStatus": "INLINED_IN_TREE",
              "state": "input",
              "subtype": "tableResultSubCmd.visualization",
              "commentThread": [],
              "guid": "5ae000b2-c05f-4176-a29d-f16c17935b99",
              "bindings": {},
              "useConsistentColors": false,
              "displayType": "redashChart",
              "customPlotOptions": {
                "redashChart": [
                  {
                    "key": "type",
                    "value": "CHART"
                  },
                  {
                    "key": "options",
                    "value": {
                      "isAggregationOn": false,
                      "series": {
                        "stacking": null,
                        "error_y": {
                          "type": "data",
                          "visible": true
                        }
                      },
                      "coefficient": 1,
                      "yAxis": [
                        {
                          "type": "-"
                        },
                        {
                          "type": "-",
                          "opposite": true
                        }
                      ],
                      "columnConfigurationMap": {
                        "x": {
                          "column": "RestingECG_HeartDisease",
                          "id": "column_6516720150"
                        },
                        "y": [
                          {
                            "column": "0",
                            "id": "column_6516720146"
                          },
                          {
                            "id": "column_6516720149",
                            "column": "1"
                          }
                        ]
                      },
                      "alignYAxesAtZero": true,
                      "direction": {
                        "type": "counterclockwise"
                      },
                      "swappedAxes": false,
                      "percentFormat": "0[.]00%",
                      "textFormat": "",
                      "legend": {
                        "traceorder": "normal"
                      },
                      "globalSeriesType": "column",
                      "version": 2,
                      "sizemode": "diameter",
                      "seriesOptions": {
                        "0": {
                          "name": "Healthy",
                          "yAxis": 0,
                          "type": "column"
                        },
                        "1": {
                          "yAxis": 0,
                          "type": "column",
                          "name": "Ill"
                        }
                      },
                      "error_y": {
                        "type": "data",
                        "visible": true
                      },
                      "sortX": true,
                      "showDataLabels": false,
                      "missingValuesAsZero": true,
                      "useAggregationsUi": true,
                      "numberFormat": "0,0[.]00000",
                      "dateTimeFormat": "DD/MM/YYYY HH:mm",
                      "sortY": true,
                      "valuesOptions": {},
                      "xAxis": {
                        "type": "-",
                        "labels": {
                          "enabled": true
                        }
                      }
                    }
                  }
                ]
              },
              "collapsed": false,
              "errorSummary": null,
              "iPythonMetadata": null,
              "commandType": "auto",
              "height": "auto",
              "command": "%python\n__backend_agg_display_orig = display\n__backend_agg_dfs = []\ndef __backend_agg_display_new(df):\n    __backend_agg_df_modules = [\"pandas.core.frame\", \"databricks.koalas.frame\", \"pyspark.sql.dataframe\", \"pyspark.pandas.frame\"]\n    if (type(df).__module__ in __backend_agg_df_modules and type(df).__name__ == 'DataFrame') or isinstance(df, list):\n        __backend_agg_dfs.append(df)\n\ndisplay = __backend_agg_display_new\n\ndef __backend_agg_user_code_fn():\n    import base64\n    exec(base64.standard_b64decode(\"ZGlzcGxheShzcGRmLmNyb3NzdGFiKCdSZXN0aW5nRUNHJywgJ0hlYXJ0RGlzZWFzZScpKQ==\").decode())\n\ntry:\n    # run user code\n    __backend_agg_user_code_fn()\n\n    #reset display function\n    display = __backend_agg_display_orig\n\n    if len(__backend_agg_dfs) > 0:\n        # create a temp view\n        if hasattr(__backend_agg_dfs[0], \"to_spark\"):\n            # koalas dataframe\n            __backend_agg_dfs[0].to_spark().createOrReplaceTempView(\"DatabricksView63e1b9b\")\n        elif type(__backend_agg_dfs[0]).__module__ == \"pandas.core.frame\" or isinstance(__backend_agg_dfs[0], list):\n            # pandas dataframe\n            spark.createDataFrame(__backend_agg_dfs[0]).createOrReplaceTempView(\"DatabricksView63e1b9b\")\n        else:\n            __backend_agg_dfs[0].createOrReplaceTempView(\"DatabricksView63e1b9b\")\n        #run backend agg\n        display(spark.sql(\"\"\"WITH q AS (select * from DatabricksView63e1b9b) SELECT `RestingECG_HeartDisease`,`0`,`1` FROM q\"\"\"))\n    else:\n        displayHTML(\"dataframe no longer exists. If you're using dataframe.display(), use display(dataframe) instead.\")\n\n\nfinally:\n    spark.sql(\"drop view if exists DatabricksView63e1b9b\")\n    display = __backend_agg_display_orig\n    del __backend_agg_display_new\n    del __backend_agg_display_orig\n    del __backend_agg_dfs\n    del __backend_agg_user_code_fn\n\n",
              "pivotColumns": null,
              "showCommandTitle": false,
              "datasetPreviewNameToCmdIdMap": {},
              "pivotAggregation": null,
              "version": "CommandV1",
              "nuid": "98a54b65-06ba-4aad-85fb-87f78a6a0d75",
              "subcommandOptions": {
                "queryPlan": {
                  "selects": [
                    {
                      "column": "RestingECG_HeartDisease",
                      "type": "column"
                    },
                    {
                      "column": "0",
                      "type": "column"
                    },
                    {
                      "column": "1",
                      "type": "column"
                    }
                  ]
                }
              },
              "xColumns": null,
              "results": null,
              "streamStates": {},
              "commandVersion": 0,
              "contentSha256Hex": null,
              "hideCommandResult": false,
              "error": null,
              "workflows": [],
              "inputWidgets": {},
              "finishTime": 0,
              "commandTitle": "Visualization 1",
              "origId": 2297582246512947,
              "metadata": {},
              "submitTime": 0,
              "position": 15,
              "errorTraceType": null,
              "listResultMetadata": null,
              "latestUserId": null,
              "yColumns": null,
              "hideCommandCode": false,
              "latestUser": "a user",
              "commentsVisible": false,
              "parentHierarchy": [
                "afc8fe5b-d2c0-4260-88f9-cf9162bdaf66"
              ],
              "width": "auto",
              "globalVars": {},
              "diffDeletes": []
            }
          },
          "data": {
            "text/plain": [
              "Output can only be rendered in Databricks"
            ]
          }
        }
      ],
      "execution_count": null
    },
    {
      "cell_type": "markdown",
      "source": [
        "![s4.PNG](data:image/png;base64,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)"
      ],
      "metadata": {
        "id": "Rf84n0wGsQ0A"
      }
    },
    {
      "cell_type": "markdown",
      "source": [
        "Percentage of people with heart disease is much larger amongst these people that have exercise-induced angina."
      ],
      "metadata": {
        "application/vnd.databricks.v1+cell": {
          "showTitle": false,
          "cellMetadata": {},
          "nuid": "ec22813b-8795-4cba-b43f-7d8a8c8a926a",
          "inputWidgets": {},
          "title": ""
        },
        "id": "J9iMeMv8reVB"
      }
    },
    {
      "cell_type": "code",
      "source": [
        "display(spdf.crosstab('ExerciseAngina', 'HeartDisease'))"
      ],
      "metadata": {
        "application/vnd.databricks.v1+cell": {
          "showTitle": false,
          "cellMetadata": {},
          "nuid": "110e6d37-071a-4c47-9c6d-d59bd7b567ae",
          "inputWidgets": {},
          "title": ""
        },
        "id": "R-vrI2fPreVC",
        "outputId": "92783d01-ec1a-45ea-d136-64e0f0193b29"
      },
      "outputs": [
        {
          "output_type": "display_data",
          "metadata": {
            "application/vnd.databricks.v1+output": {
              "overflow": false,
              "datasetInfos": [],
              "data": [
                [
                  "Y",
                  55,
                  316
                ],
                [
                  "N",
                  355,
                  191
                ]
              ],
              "plotOptions": {
                "displayType": "table",
                "customPlotOptions": {},
                "pivotColumns": null,
                "pivotAggregation": null,
                "xColumns": null,
                "yColumns": null
              },
              "columnCustomDisplayInfos": {},
              "aggType": "",
              "isJsonSchema": true,
              "removedWidgets": [],
              "aggSchema": [],
              "schema": [
                {
                  "name": "ExerciseAngina_HeartDisease",
                  "type": "\"string\"",
                  "metadata": "{}"
                },
                {
                  "name": "0",
                  "type": "\"long\"",
                  "metadata": "{}"
                },
                {
                  "name": "1",
                  "type": "\"long\"",
                  "metadata": "{}"
                }
              ],
              "aggError": "",
              "aggData": [],
              "addedWidgets": {},
              "metadata": {},
              "dbfsResultPath": null,
              "type": "table",
              "aggOverflow": false,
              "aggSeriesLimitReached": false,
              "arguments": {}
            }
          },
          "data": {
            "text/html": [
              "<style scoped>\n  .table-result-container {\n    max-height: 300px;\n    overflow: auto;\n  }\n  table, th, td {\n    border: 1px solid black;\n    border-collapse: collapse;\n  }\n  th, td {\n    padding: 5px;\n  }\n  th {\n    text-align: left;\n  }\n</style><div class='table-result-container'><table class='table-result'><thead style='background-color: white'><tr><th>ExerciseAngina_HeartDisease</th><th>0</th><th>1</th></tr></thead><tbody><tr><td>Y</td><td>55</td><td>316</td></tr><tr><td>N</td><td>355</td><td>191</td></tr></tbody></table></div>"
            ]
          }
        },
        {
          "output_type": "display_data",
          "metadata": {
            "application/vnd.databricks.v1.subcommand+json": {
              "resultDbfsErrorMessage": null,
              "diffInserts": [],
              "isLockedInExamMode": false,
              "tableResultIndex": 0,
              "startTime": 0,
              "resultDbfsStatus": "INLINED_IN_TREE",
              "state": "input",
              "subtype": "tableResultSubCmd.visualization",
              "commentThread": [],
              "guid": "0b011cd8-3861-45a7-a1a3-08304d3ff195",
              "bindings": {},
              "useConsistentColors": false,
              "displayType": "redashChart",
              "customPlotOptions": {
                "redashChart": [
                  {
                    "key": "type",
                    "value": "CHART"
                  },
                  {
                    "key": "options",
                    "value": {
                      "isAggregationOn": false,
                      "series": {
                        "stacking": null,
                        "error_y": {
                          "type": "data",
                          "visible": true
                        }
                      },
                      "coefficient": 1,
                      "yAxis": [
                        {
                          "type": "-"
                        },
                        {
                          "type": "-",
                          "opposite": true
                        }
                      ],
                      "columnConfigurationMap": {
                        "x": {
                          "column": "ExerciseAngina_HeartDisease",
                          "id": "column_6516720154"
                        },
                        "y": [
                          {
                            "column": "0",
                            "id": "column_6516720152"
                          },
                          {
                            "id": "column_6516720156",
                            "column": "1"
                          }
                        ]
                      },
                      "alignYAxesAtZero": true,
                      "direction": {
                        "type": "counterclockwise"
                      },
                      "swappedAxes": false,
                      "percentFormat": "0[.]00%",
                      "textFormat": "",
                      "legend": {
                        "traceorder": "normal"
                      },
                      "globalSeriesType": "column",
                      "version": 2,
                      "sizemode": "diameter",
                      "seriesOptions": {
                        "0": {
                          "yAxis": 0,
                          "type": "column",
                          "name": "Healthy"
                        },
                        "1": {
                          "name": "Ill",
                          "yAxis": 0,
                          "type": "column"
                        }
                      },
                      "error_y": {
                        "type": "data",
                        "visible": true
                      },
                      "sortX": true,
                      "showDataLabels": false,
                      "missingValuesAsZero": true,
                      "useAggregationsUi": true,
                      "numberFormat": "0,0[.]00000",
                      "dateTimeFormat": "DD/MM/YYYY HH:mm",
                      "sortY": true,
                      "valuesOptions": {},
                      "xAxis": {
                        "type": "-",
                        "labels": {
                          "enabled": true
                        }
                      }
                    }
                  }
                ]
              },
              "collapsed": false,
              "errorSummary": null,
              "iPythonMetadata": null,
              "commandType": "auto",
              "height": "auto",
              "command": "%python\n__backend_agg_display_orig = display\n__backend_agg_dfs = []\ndef __backend_agg_display_new(df):\n    __backend_agg_df_modules = [\"pandas.core.frame\", \"databricks.koalas.frame\", \"pyspark.sql.dataframe\", \"pyspark.pandas.frame\"]\n    if (type(df).__module__ in __backend_agg_df_modules and type(df).__name__ == 'DataFrame') or isinstance(df, list):\n        __backend_agg_dfs.append(df)\n\ndisplay = __backend_agg_display_new\n\ndef __backend_agg_user_code_fn():\n    import base64\n    exec(base64.standard_b64decode(\"ZGlzcGxheShzcGRmLmNyb3NzdGFiKCdFeGVyY2lzZUFuZ2luYScsICdIZWFydERpc2Vhc2UnKSk=\").decode())\n\ntry:\n    # run user code\n    __backend_agg_user_code_fn()\n\n    #reset display function\n    display = __backend_agg_display_orig\n\n    if len(__backend_agg_dfs) > 0:\n        # create a temp view\n        if hasattr(__backend_agg_dfs[0], \"to_spark\"):\n            # koalas dataframe\n            __backend_agg_dfs[0].to_spark().createOrReplaceTempView(\"DatabricksView5ea825e\")\n        elif type(__backend_agg_dfs[0]).__module__ == \"pandas.core.frame\" or isinstance(__backend_agg_dfs[0], list):\n            # pandas dataframe\n            spark.createDataFrame(__backend_agg_dfs[0]).createOrReplaceTempView(\"DatabricksView5ea825e\")\n        else:\n            __backend_agg_dfs[0].createOrReplaceTempView(\"DatabricksView5ea825e\")\n        #run backend agg\n        display(spark.sql(\"\"\"WITH q AS (select * from DatabricksView5ea825e) SELECT `ExerciseAngina_HeartDisease`,`0`,`1` FROM q\"\"\"))\n    else:\n        displayHTML(\"dataframe no longer exists. If you're using dataframe.display(), use display(dataframe) instead.\")\n\n\nfinally:\n    spark.sql(\"drop view if exists DatabricksView5ea825e\")\n    display = __backend_agg_display_orig\n    del __backend_agg_display_new\n    del __backend_agg_display_orig\n    del __backend_agg_dfs\n    del __backend_agg_user_code_fn\n\n",
              "pivotColumns": null,
              "showCommandTitle": false,
              "datasetPreviewNameToCmdIdMap": {},
              "pivotAggregation": null,
              "version": "CommandV1",
              "nuid": "e02b988c-3db1-4efa-b592-345680445272",
              "subcommandOptions": {
                "queryPlan": {
                  "selects": [
                    {
                      "column": "ExerciseAngina_HeartDisease",
                      "type": "column"
                    },
                    {
                      "column": "0",
                      "type": "column"
                    },
                    {
                      "column": "1",
                      "type": "column"
                    }
                  ]
                }
              },
              "xColumns": null,
              "results": null,
              "streamStates": {},
              "commandVersion": 0,
              "contentSha256Hex": null,
              "hideCommandResult": false,
              "error": null,
              "workflows": [],
              "inputWidgets": {},
              "finishTime": 0,
              "commandTitle": "Visualization 1",
              "origId": 2297582246512950,
              "metadata": {},
              "submitTime": 0,
              "position": 16,
              "errorTraceType": null,
              "listResultMetadata": null,
              "latestUserId": null,
              "yColumns": null,
              "hideCommandCode": false,
              "latestUser": "a user",
              "commentsVisible": false,
              "parentHierarchy": [
                "b17a6b3d-4630-41e1-8e48-fa476cdbf644"
              ],
              "width": "auto",
              "globalVars": {},
              "diffDeletes": []
            }
          },
          "data": {
            "text/plain": [
              "Output can only be rendered in Databricks"
            ]
          }
        }
      ],
      "execution_count": null
    },
    {
      "cell_type": "markdown",
      "source": [
        "![s5.PNG](data:image/png;base64,iVBORw0KGgoAAAANSUhEUgAABvIAAAHqCAYAAADWL9mlAAAAAXNSR0IArs4c6QAAAARnQU1BAACxjwv8YQUAAAAJcEhZcwAADsMAAA7DAcdvqGQAAD6xSURBVHhe7d3fi2TpYd/hXPsv8F1ftjAeY7HYAQeTmxX4whdRojuRXEget2kEBoEwvkgQCEWi6cCikVgsRYuEstkhpJwRtlghxt7AyiLe7bbHEg62TKTIPzLW9Gh2pazsFWQ5Oe85p6rec+pUdU/3W/2efut54MNM/eiq6uqa2VF9dbr/yd/9/aMKAAAAAAAAyC/e7gx5AAAAAAAAMBGGPAAAAAAAAJggQx4AAAAAAABMkCEPAAAAAAAAJsiQBwAAAAAAABNkyAMAAAAAAIAJMuQBAAAAAADABBnyAAAAAAAAYIIMeQAAAAAAADBBhjwAAAAAAACYIEMeAAAAAAAATJAhDwAAAAAAACbIkAcAAAAAAAATZMgDAAAAAACACTLkAQAAAAAAwAQZ8gAAAAAAAGCCDHnARj/4wQ96vwIAAAAAANfDkAds9OMf/7j60Ic+1PwKAAAAAABcn4kNeX9Wff6Zj1Qvf787OfT9l6uPPPP5+lqk9Pr9qpr9RXcisdd/t6p++oX6SxdOvF1V91+uqlcfNhelsY3bpCcMeM8884whDwAAAAAArtkWh7zH1cu/9UwzAAz7yFcfd9cZMuSl9uJnq+qnv1RVb3an5771e/X5n6l/faeqXni+qt731e6CxHpD3g+r6rc/VVUfPWkuupTv/VFVvb/+fBYvkQS3eZ4369t+3xei+9wxhjwAAAAAAMjjeo7Iu/AAZ8hL7fuvVNVPP1dV93/YnRG8U1XPf6aqnv1Kd3qLekNeAqlvb5O3H1bVC1+qqp+rn7/rus8pMuQBAAAAAEAemYa8MNiNHaHXDXnfDNfvLv+tl6vF8XvD22lOz2/HwDfqSVV9+Lmq+u1vdKeDv6iqZ+vzXvxee/K5+vcfeKX9ffWwPv2Fbrz6VFV9Ihzp9vf15fXp577VXiWYvVBf/rvdifry575YVb8YPqbu/f+lqr73TntRb3iLb6f7fbh+3FfqL/bb364f72eXj+Hw5eY7aLa3FV23eczDx/bD+vN6sXss9ceGx/Lt+f7UXfcTf1hVHw1HKta/f99Ly8c69P1X6/v+cv251reRcsi7++dVdfw/uhOR3/za+PnX7fXXX29Gu3lnZ2fVu9/97ubX+PxwPQAAAAAAYHvyDHnf/Hz1+W92v28umx+F1w180Xj3Z5+rT3+u+8je7QyO3qtvszf6sfCVL1a9b6/ZfFvNz1ZVt+P1hrww0P3ci/VlP66qt79bVS+8Vp85HMtqvSHvf1XVi39e3379MW/+STsSzofDtUPeO/V1f9hV389heAx/GK5UX/dBVd2vz3u7vr1v368/vr7s+W/XF9Sn74dR7T/W54ePC+ve4Daff75+/F+oP8f6pfzm31XVJ8Lp+efeXXd++ff+uH2s531bztRHAYaxLnxO8WgXRrxwXvg1t8997nOLkT0URryf+qmfan6Nzw/XAwAAAAAAtifTEXmx8LP04iFv8K0144+Nfv/4qx9ZDnyN8LHr7mO3vfmNdiR6NQxf71TVc5+qlkfg1eIhL/xMvWboeqM93ThvyBuIb2/tkBe5/6X2OqNHxg0+ZmVUiy//n/Vjr38/P9IwmH/uzbcW7a77iehF0jzWbkBcJ/WQF8Rj3pRGvMAReQAAAAAAMA2Zhrww3i2P7Hmmd0TeYMiLB7rhkBcdHdS/HXrerqqPPtcdefatduz6ypP2omD4rTXn33byl8OgF74t5XlD3g/r2/tyfZ3fqapf/VT7sRcd8sK3rwyPZ1bf70L9MnzxblW9r769X+5u7yJD3vznAb4eD4L1+eG8WX29sfsPn/u6QXJuG0NeMB/zQlMZ8caE0S78+Qq/AgAAAAAA1yfDkNeOeItvrXmRI/Lm3zJzMOQtf7Ye53k1fEvKu/WvYZT6YvetJju9Ia/zdhj0PlNVP/fl+kQ3gMVHsj1fXzYfwMJRfM/Wt/29cNRb7cJH5NX3cRh+Bl5832/X9xOOGHy5/pj/W58efMymIW/TEXnN0YgTG/KC+RF5U2bIAwAAAACAPDIMeYOxrrksHvKeib5lZjv6LQa7+HZ6H8d53v6TduR69jOrPxMuHt5e+K/dz8d7UlXP/0435HXfjjN8y83ws+m+9bWq+sVwpFw3gIXLnq0/7vv1Zd97rap+Nbq9tUNefZuz+vbCz+r7Vn1f85+X93b9Emx+Xt799nS4r/C45+Pbt75Sf0x9f/fr670djrwb3ObYz8j71fpzCDveFIe8m8CQBwAAAAAAeWQY8mrf/Hz3rTDrfuvz1eeHR+R9Nbo8/jl4m25neF36ujEujGDN0WmReMibfbGqfjGMW3Xvf7Fqv7Vm7c0/qU93H//hP6yqF19YDmDf+8byso/Wv/9EdHvrhrw3X2sHuvm3lpwXvgXmt17uvqVm3Qt/NBjfHtb3f6e97uGr9enhOPe4qp6ffw71xx9+ub6vMPgFhrxLCQPehz70IUMeAAAAAABcs+sZ8oAb6wc/+EHvVwAAAAAA4HoY8gAAAAAAAGCCDHkAAAAAAAAwQYY8AAAAAAAAmCBDHgAAAAAAAEyQIQ8AAAAAAAAmyJAHAAAAAAAAE2TIAwAAAAAAgAky5AEAAAAAAMAEGfIAAAAAAABgggx5AAAAAAAAMEGGPAAAAAAAAJggQx4AAAAAAABMkCEPAAAAAAAAJsiQBwAAAAAAABNkyAMAAAAAAIAJMuQBAAAAAADABBnyAAAAAAAAYIIMeVv0089J2w8AAAAAACjTypB3cnKiRI2NLlLqxl57kiRJkiRJkiTp5ueIPAAAAAAAAJiAd955p3r77berN954o/rJT35iyAMAAAAAAICp+Yd/+AdDHgAAAAAAAExNODrPkAcAAAAAAAATZMgDAAAAAACACTLkAQAAAAAAwAQZ8gAAAAAAAGCCDHkAAAAAAAAwQYY8AAAAAAAAmCBDHgAAAAAAAEyQIQ8AAAAAAAAmyJAHAAAAAAAAE2TIAwAAAAAAgAky5AEAAAAAAMAEGfIAAAAAAABgggx5AAAAAAAAMEGGPAAAAAAAAJggQx4AAAAAAABMkCEPAAAAAAAAJsiQBwAAAAAAABNkyAMAAAAAAODKPvuVp4vzGfIAAAAAAAC4sl84fLo4nyEPAAAAAACAKxsb6zZ1eWfVvduH1b2H3cnOo9lhdeekO/HUHlR39o+r0+5Uz8NZdXB7VuVY0Qx5AAAAAAAAXNnYWLepy9v2kDe4fUMeAAAAAAAAN9nYWLepyzPkAQAAAAAAwIWNjXWburyLDXmnR7eqvf22g9lZd24Y7NadH4a8cNvLy/eOHiyGvNP69tvz5/cdPqb/OMJ9Lm/z6gx5AAAAAAAAXNnYWLepyxuMbVHzIS8MastRb3z46x+Fd84RefVtzwe6MBg2A1/3+9UxMB1DHgAAAAAAAFc2NtZt6vLOOyJvfOibD3vNELc4Pz667oLfWjM+Hf/+5Hgx8KViyAMAAAAAAODKxsa6TV3eRYa81cuD+Gi6/vUuOeTVTo/a685/TcmQBwAAAAAAwJWNjXWburzzhrzu5+ONHB3X+xl2YZC76hF5wclxfZuz6k58XiKGPAAAAAAAAK5sbKzb1OWdP+S111l+W829+UjXjHfdebePqzujR+RF334zjIHnDXnNx8Y/ky8dQx4AAAAAAABXNjbWbaoc/REwJUMeAAAAAAAAV/bZrzxdpej/3L20DHkAAAAAAADw1Npvqbm3hZ+NN2fIAwAAAAAAgAky5AEAAAAAAMAEGfIAAAAAAABgggx5AAAAAAAAMEGGPAAAAAAAAJggQx4AAAAAAABX9tanP/1UcT5DHgAAAAAAAFf2/Xe966nifIY8AAAAAAAArmxsrNvU5Z1V924fVvcetqdOj25Vd07C7x5Ud/aPq9Pm3DIY8gAAAAAAALiysbFuU5dnyAMAAAAAAIALGxvrNnV5hjwAAAAAAAC4sLGxblOXZ8gDAAAAAACACxsb6zZ1eYY8AAAAAAAAuLCxsW5Tl2fIm4aT42pv/1ZX/4l/NDuMLpt/gVrhCzZ2Ptvz1deq6j/dl6Td7uQvu78UAQAAAGAHjY11m7o8Q94kPDp5UM0fUTPcHT3oTsVflL7e9R7OqoPCvmBTFYa8XziUpN3OkAcAAADALhsb6zZ1eYa86Qmj3O3ZYtg7PVp+gZb6X7hg3eBHWoY8STLkAQAAALDbxsa6TV2eIW9ywpF2B7Oz7lT4Ai2/febySL3VL1D/49gWQ54kGfIAAAAA2G1jY92mON/Eh7zlYLd+jGuv015++SHvyZMnukKzV94afVNbknapV05+NPp3pCRJkiRJknSTuqy3Pv3pp4rz3agj8vaib63Zc3LcHZXniLxcHJEnSY7IAwAAAADSujFD3tjPv1tYDHmr1/Ez8q6HIU+SDHkAAAAAQFoTHvLOqtOT6Ei6MNaNHpHXfmvN+VjXHLk3/5l5D2fVQWE/1HCqDHmSZMgDAAAAANKa9BF54Wi68PPx2uJBLnwLzeVl/W+dufy5env7a47gIzlDniQZ8gAAAACAtCY95HFzGPIkyZAHAAAAAKRlyCMJQ54kGfIAAAAAgLQMeSRhyJMkQx4AAAAAkJYhjyQMeZJkyAMAAAAA0jLkkYQhT5IMeQAAAABAWoY8kjDkSZIhDwAAAABIy5BHEoY8STLkAQAAAABpGfJIwpAnSYY8AAAAACAtQx5JGPIkyZAHAAAAAKRlyCMJQ54kGfIAAAAAgLQMeSRhyJMkQx4AAAAAkJYhjyQMeZJkyAMAAAAA0jLkkYQhT5IMeQAAAABAWoY8kjDkSZIhDwAAAABIy5BHEoY8STLkAQAAAABpGfJIwpAnSYY8AAAAACAtQx5JGPIkyZAHAAAAAKRlyCMJQ54kGfIAAAAAgLQMeSRhyJMkQx4AAAAAkJYhjyQMeZJkyAMAAAAA0jLkkYQhT5IMeQAAAABAWoY8kjDkSZIhDwAAAABIy5BHEoY8STLkAQAAAABpGfJIwpAnSYY8AAAAACAtQx5JGPIkyZAHAADk95M//uPq+z/zM5K00/3j7/1e97ci3HyGPJIw5EmSIQ8AAMivGfLe9S5J2ukMeZTEkEcShjxJMuQBAAD5GfIkyZBHWQx5JGHIkyRDHgAAkJ8hT5IMeZTFkEcShjxJMuQBAAD5GfIkyZBHWQx5JGHIkyRDHgAAkJ8hT5IMeZTFkEcShjxJMuQBAAD5GfIkyZBHWQx5JGHIkyRDHgAAkJ8hT5IMeZTFkEcShjxJMuQBAAD5GfIkyZBHWaY95J0cV3v7t7qOq9Pu7MbDWXUwv+z2rIof+enR/GNuVXdOujPZKkOeJBnyAACA/Ax5kmTIoyyTHvIenTxYDHSPZofV3tGD7tSD6s7+YXXvYXsqDHcHs7Pm973rNWPfYABkKwx5kmTIAwAA8jPkSZIhj7JM+4i8WBjl5kfehSP1FqNebXHZWXXv9nLgC8LI56i87TPkSZIhDwAAyM+QJ0mGPMpyY4a8cKRdfNTd/PetcIReOPJu/uvS6nXZBkOeJBnyAACA/Ax5kmTIoywTH/LCEXbtz7qLx7htDHlPnjzRFZq98tbom9qStEu9cvKj0b8jJUmSJOm6enz//uib2pK0Sz2+e3f070hdPKbjRh2Rt9d9a01H5E2PI/IkyRF5AABAfo7IkyRH5FGWGzPktUfndT//zs/ImxxDniQZ8gAAgPwMeZJkyKMsEx7yzqrTk+hIujDedUfktUfgLQe7MNbNj7prjtybj3xh4Bscocd2GPIkyZAHAADkZ8iTJEMeZZn0EXlhoAs/H69tMMiFYW9+WXx0XvRz9faisY/tMuRJkiEPAADIz5AnSYY8yjLpIY+bw5AnSYY8AAAgP0OeJBnyKIshjyQMeZJkyAMAAPIz5EmSIY+yGPJIwpAnSYY8AAAgP0OeJBnyKIshjyQMeZJkyAMAAPIz5EmSIY+yGPJIwpAnSYY8AAAgP0OeJBnyKIshjyQMeZJkyAMAAPIz5EmSIY+yGPJIwpAnSYY8AAAgP0OeJBnyKIshjyQMeZJkyAMAAPIz5EmSIY+yGPJIwpAnSYY8AAAgP0OeJBnyKIshjyQMeZJkyAMAAPIz5EmSIY+yGPJIwpAnSYY8AAAgP0OeJBnyKIshjyQMeZJkyAMAAPIz5EmSIY+yGPJIwpAnSYY8AAAgP0OeJBnyKIshjyQMeZJkyAMAAPIz5EmSIY+yGPJIwpAnSYY8AAAgP0OeJBnyKIshjyQMeZJkyAMAAPIz5EmSIY+yGPJIwpAnSYY8AAAgP0OeJBnyKIshjyQMeZJkyAMAAPIz5EmSIY+yGPJIwpAnSYY8AAAgP0OeJBnyKIshjyQMeZJkyAMAAPIz5EmSIY+yGPJIwpAnSYY8AAAgP0OeJBnyKIshjyQMeZJkyAMAAPIz5EmSIY+yGPJIwpAnSYY8AAAgP0OeJBnyKIshjyQMeZJkyAMAAPIz5EmSIY+yGPJIwpAnSYY8AAAgP0OeJBnyKIshjyQMeZJkyAMAAPIz5EmSIY+yGPJIwpAnSYY8AAAgP0OeJBnyKIshjyQMeZJkyAMAAPIz5EmSIY+yGPJIwpAnSYY8AAAgP0OeJBnyKIshjyQMeZJkyAMAAPIz5EmSIY+yGPJIwpAnSYY8AAAgP0OeJBnyKIshjyQMeZJkyAMAAPIz5EmSIY+yTHvIezirDvZvVXtNh9W9h935tUezw+78tjsn3QW106Px89keQ54kGfIAAID8DHmSZMijLJMe8h7NZtVp9/t21DtenA5j3dhI1wx8Rw/aE4OPYXsMeZJkyAMAAPIz5EmSIY+yTPuIvJ4H1Z3ekNc/Qq91Vt273T9/3eBHWoY8STLkAQAA+RnyJMmQR1luzpAXjq67PavaRxgGu+W3z1wcgTcY+4JwhN7B7Kw7xbYY8iTJkAcAAORnyJMkQx5luSFDXjvcjR9Z117WjnWXH/KePHmiKzR75a3RN7UlaZd65eRHo39HSpIkSdJ19fj+/dE3tSVpl3p89+7o35G6eEzH9Ie85ufcjX0bzcjJcXdUniPycnFEniQ5Ig8AAMjPEXmS5Ig8yjLtIa/37TQ3WAx5fkZeLoY8STLkAQAA+RnyJMmQR1kmPeSdHp1zJF6j/203wxF4i5+Z1xzN1z9Cj+0w5EmSIQ8AAMjPkCdJhjzKMuEhrx3o9vb7tYNd+Baay/P63zoz/riLDIGkYMiTJEMeAACQnyFPkgx5lGXSR+RxcxjyJMmQBwAA5GfIkyRDHmUx5JGEIU+SDHkAAEB+hjxJMuRRFkMeSRjyJMmQBwAA5GfIkyRDHmUx5JGEIU+SDHkAAEB+hjxJMuRRFkMeSRjyJMmQBwAA5GfIkyRDHmUx5JGEIU+SDHkAAEB+hjxJMuRRFkMeSRjyJMmQBwAA5GfIkyRDHmUx5JGEIU+SDHkAAEB+hjxJMuRRFkMeSRjyJMmQBwAA5GfIkyRDHmUx5JGEIU+SDHkAAEB+hjxJMuRRFkMeSRjyJMmQBwAA5GfIkyRDHmUx5JGEIU+SDHkAAEB+hjxJMuRRFkMeSRjyJMmQBwAA5GfIkyRDHmUx5JGEIU+SDHkAAEB+hjxJMuRRFkMeSRjyJMmQBwAA5GfIkyRDHmUx5JGEIU+SDHkAAEB+hjxJMuRRFkMeSRjyJMmQBwAA5GfIkyRDHmUx5JGEIU+SDHkAAEB+hjxJMuRRFkMeSRjyJMmQBwAA5GfIkyRDHmUx5JGEIU+SDHkAAEB+hjxJMuRRFkMeSRjyJMmQBwAA5GfIkyRDHmUx5JGEIU+SDHkAAEB+hjxJMuRRFkMeSRjyJMmQBwAA5GfIkyRDHmUx5JGEIU+SDHkAAEB+hjxJMuRRFkMeSRjyJMmQBwAA5GfIkyRDHmUx5JGEIU+SDHkAAEB+hjxJMuRRFkMeSRjyJMmQBwAA5GfIkyRDHmUx5JGEIU+SDHkAAEB+hjxJMuRRFkMeSRjyJMmQBwAA5GfIkyRDHmUx5JGEIU+SDHkAAEB+hjxJMuRRFkMeSRjyJMmQBwAA5GfIkyRDHmUx5JGEIU+SDHkAAEB+hjxJMuRRFkMeSRjyJMmQBwAA5GfIkyRDHmWZ9pD3cFYd7N+q9poOq3sPu/OD+LLbsyp+5KdH84+5Vd056c5kqwx5kmTIAwAA8jPkSZIhj7JMesh7NJtVp93v2+HuuDv9oLoTDXthuDuYnTW/fzQ7rPaOHjS/738M22TIkyRDHgAAkJ8hT5IMeZRl2kfk9YTxrhvlTo6XY10QBrvmqLyz6t7t/pF7YeRzVN72GfIkyZAHAADkZ8iTJEMeZbk5Q95irGuPupsfgdeaj3zR2NdZvS7bYMiTJEMeAACQnyFPkgx5lOWGDHnhSLvlkXXbGPKePHmiKzR75a3RN7UlaZd65eRHo39HSpIkSdJ19fj+/dE3tSVpl3p89+7o35G6eEzH9Ie85ufc9b9dpiPypscReZLkiDwAACA/R+RJkiPyKMu0h7zo22n2+Bl5k2PIkyRDHgAAkJ8hT5IMeZRlC0Ne+20w9/Y31T9qbp3To/4otxSOvFteFsa6+VF34Qi8xcjXHM13sfviagx5kmTIAwAA8jPkSZIhj7Js54i8MKDFR8xdyvgguDi6LhyVNz+/d1/xx60bAknNkCdJhjwAACA/Q54kGfIoy3aGvG5M8y0td4chT5IMeQAAQH6GPEky5FGWLQ157BpDniQZ8gAAgPwMeZJkyKMshjySMORJkiEPAADIz5AnSYY8ymLIIwlDniRV1V+/799Uj37+5yVpZ3v8K7/S/esQAMjFkCdJhjzKYsgjCUOeJLVD3tg/HiVpVzLkAUB+hjxJMuRRFkMeSRjyJMmQJ0mGPADIz5AnSYY8ymLIIwlDniQZ8iTJkAcA+RnyJMmQR1kMeSRhyJMkQ54kGfIAID9DniQZ8ijLtQ95j2aH1d7tWWUyLIshT5IMeZJkyAOA/Ax5kmTIoyx5jsh7OKsO9m9Ve0cPujO46Qx5kmTIkyRDHgDkZ8iTJEMeZdnakNcceRfGukF3TrorUBRDniQZ8iTJkAcA+RnyJMmQR1m2MuSdHt1a8+0zz6p7t29VB7Oz7jSlMORJkiFPkgx5AJCfIU+SDHmUZQtD3oPqzv5xddqdWnXe5dxEhjxJMuRJkiEPAPIz5EmSIY+yGPJIwpAnSYY8STLkAUB+hjxJMuRRli0Med3Px9vwrTX3jh50pymFIU+SDHmSZMgDgPwMeZJkyKMsWxnyGifH1d7+rZXunHSXUxRDniQZ8iTJkAcA+RnyJMmQR1m2N+SxUwx5kmTIkyRDHgDkZ8iTJEMeZTHkkYQhT5IMeZJkyAOA/Ax5kmTIoyyGPJIw5EmSIU+SDHkAkJ8hT5IMeZTFkEcShjxJMuRJkiEPAPIz5EmSIY+yGPJIwpAnSYY8STLkAUB+hjxJMuRRFkMeSRjyJMmQJ0mGPADIz5AnSYY8ymLIIwlDniQZ8iTJkAcA+RnyJMmQR1kMeSRhyJMkQ54kGfIAID9DniQZ8iiLIY8kDHmSZMiTJEMeAORnyJMkQx5lMeSRhCFPkgx5kmTIA4D8DHmSZMijLIY8kjDkSZIhT5IMeQCQnyFPkgx5lMWQRxKGPEky5EmSIQ8A8jPkSZIhj7IY8kjCkCdJhjxJMuQBQH6GPEky5FEWQx5JGPIkyZAnSYY8AMjPkCdJhjzKYsgjCUOeJBnyJMmQBwD5GfIkyZBHWQx5JGHIkyRDniQZ8gAgP0OeJBnyKMuNGPIezQ6rvduzKn50zXn7txbdOekuqJ0ejZ/P9hjyJMmQJ0mGPADIz5AnSYY8yjLtIe/hrDrYv1UdHB1XB4MhL4x1YyNdM/AdPWhPNB9/XJ22p9giQ54kGfIkyZAHAPkZ8iTJkEdZbsQRec0gtzLkHVb3HnYnFs6qe7f7568b/EjLkCdJhjxJMuQBQH6GPEky5FGWGzrkhcFu+e0zF0fgVQ+qO4Mj8MIRegezs+4U22LIkyRDniQZ8gAgP0OeJBnyKMuNPSJvqR312rHOkJeLIU+SDHmSZMgDgPwMeZJkyKMsBQx5tZPj7qi8yw95T5480RWavfLW6JvakrRLffe97x/9x6Mk7Uzvec/ovxUlSdL19fj+/fH/TkvSDvX47t3RvyN18ZiOwoY8PyMvF0fkSZIj8iTJEXkAkJ8j8iTJEXmUpYAhr/3WmvOxLhyBt/iZeeHjBkfosR2GPEky5EmSIQ8A8jPkSZIhj7Lc0CEvfAvNW9VeV/9bZ7bDXntZ/+g8tseQJ0mGPEky5AFAfoY8STLkUZabMeQxeYY8STLkSZIhDwDyM+RJkiGPshjySMKQJ0mGPEky5AFAfoY8STLkURZDHkkY8iTJkCdJhjwAyM+QJ0mGPMpiyCMJQ54kGfIkyZAHAPkZ8iTJkEdZDHkkYciTJEOeJBnyACA/Q54kGfIoiyGPJAx5kmTIkyRDHgDkZ8iTJEMeZTHkkYQhT5IMeZJkyAOA/Ax5kmTIoyyGPJIw5EmSIU+SDHkAkJ8hT5IMeZTFkEcShjxJMuRJkiEPAPIz5EmSIY+yGPJIwpAnSYY8STLkAUB+hjxJMuRRFkMeSRjyJMmQJ0mGPADIz5AnSYY8ymLIIwlDniQZ8iTJkAcA+RnyJMmQR1kMeSRhyJMkQ54kGfIAID9DniQZ8iiLIY8kDHmSZMiTJEMeAORnyJMkQx5lMeSRhCFPkgx5kmTIA4D8DHmSZMijLIY8kjDkSZIhT5IMeQCQnyFPkgx5lMWQRxKGPEky5EmSIQ8A8jPkSZIhj7IY8kjCkCdJhjxJMuQBQH6GPEky5FEWQx5JGPIkyZAnSYY8AMjPkCdJhjzKYsgjCUOeJBnyJMmQBwD5GfIkyZBHWQx5JGHIkyRDniQZ8gAgP0OeJBnyKIshjyQMeZJkyJMkQx4A5GfIkyRDHmUx5JGEIU+SDHmSZMgDgPwMeZJkyKMshjySMORJkiFPkgx5AJCfIU+SDHmUxZBHEoY8STLkSZIhDwDyM+RJkiGPshjySMKQJ0mGPEky5AFAfoY8STLkURZDHkkY8iTJkCdJhjwAyM+QJ0mGPMpiyCMJQ54kGfIkyZAHAPkZ8iTJkEdZDHkkYciTJEOeJBnyACA/Q54kGfIoiyGPJAx5kmTIkyRDHgDkZ8iTJEMeZTHkkYQhT5IMeZJkyAOA/Ax5kmTIoyyGPJIw5EmSIU+SDHkAkJ8hT5IMeZTFkEcShjxJMuRJkiEPAPIz5EmSIY+y3Igh79HssNq7Pat6j+7hrDrYv1XthQaXnR5159fdOenOZKsMeZJkyJMkQx4A5GfIkyRDHmWZ9pDXjXUHR8fVQW+se1Dd2T+s7j1sT4Xh7mB21vy+Gf2OHjS/bz/+uDptT7FFhjxJMuRJkiEPAPIz5EmSIY+y3Igj8ppBLh7yTo6XY12wuPysund7OfAFYeRzVN72GfIkyZAnSYY8AMjPkCdJhjzKciOHvHDU3fwIvFY4Qi8ceTf/dWn1umyDIU+SDHmSZMgDgPwMeZJkyKMshrzOkydPdIVmr7w1+qa2JO1S333v+0f/8ShJO9N73jP6b0VJknR9Pb5/f/y/05K0Qz2+e3f070hdPKbDkEcSjsiTJEfkSZIj8gAgP0fkSZIj8ijLjRzy/Iy86THkSZIhT5IMeQCQnyFPkgx5lOVmDnnNkXfLwS6MdfOj7sIReIuRL3zc4Ag9tsOQJ0mGPEky5AFAfoY8STLkUZYbOuTVwlF5+7fa4qPzmqPyuvOjsY/tMuRJkiFPkgx5AJCfIU+SDHmU5WYMeUyeIU+SDHmSZMgDgPwMeZJkyKMshjySMORJkiFPkgx5AJCfIU+SDHmUxZBHEoY8STLkSZIhDwDyM+RJkiGPshjySMKQJ0mGPEky5AFAfoY8STLkURZDHkkY8iTJkCdJhjwAyM+QJ0mGPMpiyCMJQ54kGfIkyZAHAPkZ8iTJkEdZDHkkYciTJEOeJBnyACA/Q54kGfIoiyGPJAx5kmTIkyRDHgDkZ8iTJEMeZTHkkYQhT5IMeZJkyAOA/Ax5kmTIoyyGPJIw5EmSIU+SDHkAkJ8hT5IMeZTFkEcShjxJMuRJkiEPAPIz5EmSIY+yGPJIwpAnSYY8STLkAUB+hjxJMuRRFkMeSRjyJMmQJ0mGPADIz5AnSYY8ymLIIwlDniQZ8iTJkAcA+RnyJMmQR1kMeSRhyJMkQ54kGfIAID9DniQZ8iiLIY8kDHmSZMiTJEMeAORnyJMkQx5lMeSRhCFPkgx5kmTIA4D8DHmSZMijLIY8kjDkSZIhT5IMeQCQnyFPkgx5lMWQRxKGPEky5EmSIQ8A8jPkSZIhj7IY8kjCkCdJhjxJMuQBQH6GPEky5FEWQx5JGPIkyZAnSYY8AMjPkCdJhjzKYsgjCUOeJBnyJMmQBwD5GfIkyZBHWQx5JGHIkyRDniQZ8gAgP0OeJBnyKIshjyQMeZJkyJMkQx4A5GfIkyRDHmUx5JGEIU+SDHmSZMgDgPwMeZJkyKMshjySMORJkiFPkgx5AJCfIU+SDHmUxZBHEoY8STLkSZIhDwDyM+RJkiGPshjySMKQJ0mGPEky5AFAfoY8STLkURZDHkkY8iTJkCdJhjwAyM+QJ0mGPMpiyCMJQ54kGfIkyZAHAPkZ8iTJkEdZDHkkYciTJEOeJBnyACA/Q54kGfIoiyGPJAx5kmTIkyRDHgDkZ8iTJEMeZTHkkYQhT5IMeZJkyAOA/Ax5kmTIoyw3dsh7NDus9vZvLbpz0l1QOz0aP5/tMeRJkiFPkgx5TMGv/QdJ2u0++RFDniQZ8ijJjR3ywlg3NtI1A9/Rg/bEw1l1sH9cnban2CJDniQZ8iTJkMcU/KuPjv93WpJ2JUOeJBnyKMsNHvIOq3sPuxMLZ9W92/3z1w1+pGXIkyRDniQZ8pgCQ56kXc+QJ0mGPMpyQ4e8MNgtv33m4gi86kF1Z3AEXjhC72B21p1iWwx5kmTIkyRDHlNgyJO06xnyJMmQR1lu7BF5S+2o1451lx/ynjx5ois0e+Wt0X88StIu9d33vn/0H4+StDO95z2j/1aUrrN/8W//3+h/pyVpV/r4h78x/t9pSdqhHt+9O/pvRV08pqOAIa92ctwdleeIvFwckSdJjsiTJEfkMQWOyJO06zkiT5IckUdZChvy/Iy8XAx5kmTIkyRDHlNgyJO06xnyJMmQR1kKGPLab605H+vCEXiLn5n3cFYdDI7QYzsMeZJkyJMkQx5TYMiTtOsZ8iTJkEdZbuiQF76F5q1qr6v/rTPbYa+9rH90HttjyJMkQ54kGfKYAkOepF3PkCdJhjzKUsAReUyBIU+SDHmSZMhjCgx5knY9Q54kGfIoiyGPJAx5kmTIkyRDHlNgyJO06xnyJMmQR1kMeSRhyJMkQ54kGfKYAkOepF3PkCdJhjzKYsgjCUOeJBnyJMmQxxQY8iTteoY8STLkURZDHkkY8iTJkCdJhjymwJAnadcz5EmSIY+yGPJIwpAnSYY8STLkMQWGPEm7niFPkgx5lMWQRxKGPEky5EmSIY8pMORJ2vUMeZJkyKMshjySMORJkiFPkgx5TIEhT9KuZ8iTJEMeZTHkkYQhT5IMeZJkyGMKDHmSdj1DniQZ8iiLIY8kDHmSZMiTJEMeU2DIk7TrGfIkyZBHWQx5JGHIkyRDniQZ8pgCQ56kXc+QJ0mGPMpiyCMJQ54kGfIkyZDHFBjyJO16hjxJMuRRFkMeSRjyJMmQJ0mGPKbAkCdp1zPkSZIhj7IY8kjCkCdJhjxJMuQxBYY8SbueIU+SDHmUxZBHEoY8STLkSZIhjykw5Ena9Qx5kmTIoyyGPJIw5EmSIU+SDHlMgSFP0q5nyJMkQx5lMeSRhCFPkgx5kmTIYwoMeZJ2PUOeJBnyKIshjyQMeZJkyJMkQx5TYMiTtOsZ8iTJkEdZDHkkYciTJEOeJBnymAJDnqRdz5AnSYY8ymLIIwlDniQZ8iTJkMcUGPIk7XqGPEky5FEWQx5JGPIkyZAnSYY8psCQJ2nXM+RJkiGPshjySMKQJ0mGPEky5DEFhjxJu54hT5IMeZTFkEcShjxJMuRJkiGPKTDkSdr1DHmSZMijLIY8kjDkSZIhT5IMeUyBIU/SrmfIkyRDHmUx5JGEIU+SDHmSZMhjCgx5knY9Q54kGfIoiyGPJAx5kmTIkyRDHlNgyJO06xnyJMmQR1kMeSRhyJMkQ54kGfKYAkOepF3PkCdJhjzKYsgjCUOeJBnyJMmQxxQY8iTteoY8STLkURZDHkkY8iTJkCdJhjymwJAnadcz5EmSIY+yGPJIwpAnSYY8STLkMQWGPEm7niFPkgx5lMWQRxKGPEky5EmSIY8pMORJ2vUMeZJkyKMshjySMORJkiFPkgx5TIEhT9KuZ8iTJEMeZSlyyDs9ulXt7bfdOenOZKsMeZJkyJMkQx5TYMiTtOsZ8iTJkEdZihvyHs0Oq72jB+2Jh7PqYP+4Om1PsUWGPEky5EmSIY8pMORJ2vUMeZJkyKMshQ15Z9W924fVvYfdyVo4Os9RedtnyJMkQ54kGfKYAkOepF3PkCdJhjzKUtiQ96C6MzgCLxyhdzA7606xLYY8STLkSZIhjykw5Ena9Qx5kmTIoyyGvM6zzz6rK/TP3/vvR//xKEm71Cvv/mej/3iUpF3pwc/+7Oi/FaXr7J/+2t+M/ndaknal2//yP4/+d1qSdql/90u/NPpvRV08psOQBwAAAAAAABNU2JDnZ+QBAAAAAABQhsKGvPYIvL2jB+2Jh7PqYHCEHgAAAAAAANwExQ157VF5t6q9/VD/6DwAAAAAAAC4KQoc8gAAAAAAAODmM+QBAAAAAADABBnyAAAAAAAAYIIMeQAAAAAAADBBhjwAAAAAAACYIEMeAAAAAAAATJAhDwAAAAAAACbIkAcAl/agurN/qzqYnXWnOw9n1cHRg+4EAADAloX/DbJ/XJ12JxvhvNuzyrt9AHCzGfIA4NIeVHduH9b/g/mwuvewOysw5AEAANfs9OhWdeekO1F7NDvsnQYAbiZDHgBcWjgi77g6PTmu9uLhzpAHAABct94ReN3/Vml+DwDcZIY8ALi0+f84Pqvu3Y7+36+GPAAA4Not/3dJOBpv5UcAAAA3kiEPAC4t+n+5hvEu/r0hDwAAuG7Ndws5djQeABTEkAcAl9b/djWL/9erIQ8AAMiiPSrP0XgAUA5DHgBc2vDnToTTh9W9E0MeAACQx+lR9G3/AYAbz5AHAJc2HPJq4VvZ3D405AEAAFkY8gCgLIY8ALi0kSGv+1Y2e4Y8AAAgA0MeAJTFkAcAAAAAAAATZMgDAAAAAACACTLkAQAAAAAAwAQZ8gAAAAAAAGCCDHkAAAAAAAAwQYY8AAAAAAAAmCBDHgAAAAAAAEyQIQ8AAAAAAAAmyJAHAAAAAAAAE2TIAwAAAAAAgAky5AEAAAAAAMAEGfIAAAAAAABgggx5AADAzfRwVh3sH1b3Hnanp2TKj+0anB7dqvaOHnSnAAAAuCxDHgAAcGWPZofV3v6tqBs0YjWj263qzkl3euLCc30wO+tOLYXxLP3ncFbdu92/3dWvdZ3RDgAAYCsMeQAAwJWtG5dugmYAOzq+MWPUFIa84f03R+DtH1en3WkAAADSMOQBAABXtmlcWg5k7Si0uF53JFx7VNdyBGqO+DqaNdddnv+guhMdAdYMS83HDz5ufp1olFt3fivcbriN+a+R+e2fHC8+vv85xo+pu9789nuPLVzvsLp3En2+8ePoPQ/nj3Gbnuu1R85d6P66xzlrP9+D2X+PPr+627Mq/C/GTfc/Pz/+ff95io/UXHf+fBjs6u639fS3BQAAcJMZ8gAAgCtbN+4sxqEwrIShazHKROcH0WXtALU60iwGp4ez6t5wyOvddmRwfn9gqkXj28pl88GrN87NH9fwSLVuSFo75NWX9T735cc+mh33n4fFx4270JC34fNef3+Dz6FxsSPyGtF9Lu9v9eNbg/OHz9fiMcTj72VuCwAA4GYz5AEAAFfWjm/haKiueFRrxrJwhN1ynGuu3xuMwojUji8rlzUfH1+3Ew82o+PNyPDTu63B5dEQ1Vi5zej6w+sG8W0Ph6nBUWIro+HC8nlYZ+W5jmo/l/M+71h8f6uPc+y21g554XNeGfLWfK4rz1+4n+F9t+L7u+ptAQAA3DSGPAAA4MrWjjuNdgyKLx8fo9rxpbksGp02Dkfx6BUGneZ25ue197tyP/PRZ3SoiwaglcvbIWkx5A2Hsfi8c4a8/ucULo8fY/8+h9Y9H4vHdt7nvfb+rjjkRZ9/f3BbPp7FeYuvVb/5/TSvgej8q9wWAADATWbIAwAArmztuBM0A89xbyTadP1mxBkMeSujWTAytDXC/TWj1WCYGxiORYtGx7hWb8jrHQU2eJwXHvKGl4XTKYa8dZ/3pvtbfZwXH/L61+sPeXPRdZrXxMjXtNZ7Hmvn3t+G2wIAALjpDHkAAMCVrRuX4nGoN9A0Q9f42DQcctrrRmNSfXrlZ+TFovOb2xoMbq2x0aoW3+bI7S/HsvDx0WPqTvc/v/UD2eL5Gt5HGKUG9zm07rlePrYNn/fG+xt7Ti4y5LXXib9m40NefP7w+Vvqf2x725e9LQAAgJvOkAcAAFxZMxyFISvqzslwhBmcbkak6GO6Iai5rXjIC5oBan7dbmyKR6nebfXHqDD4LC/rBp9w/dGBL3qMw9GrFm5rMRj1HlN9vXCbTzvkdb9fPL7myMX+fQ6tDmmt3mOrjX7etfX3Nzbk1ebPbfd89T6+aziiLUe2buSbXzf+uvaev7rF16Md5trzD6s7R/PP9zK3BQAAMH2//uu/3jTGkAcAAJDAuoENAAAANjHkAQAAbFNzRNjI0WyXNTzCrCnh7QMAADAZhjwAAICk4m//2Db89pIAAABwEYY8AAAAAAAAmCBDHgAAAAAAAEyQIQ8AAAAAAAAmyJAHAAAAAAAAE2TIAwAAAAAAgAky5AEAAAAAAMA1m490F2mMIQ8AAAAAAAC2YGywW9cYQx4AAAAAAABMkCEPAAAAAAAAJsiQBwAAAAAAABNkyAMAAAAAAIAJMuQBAAAAAADABK0MeT/68T9KkiRJkiRJkiRJypwhT5IkSZIkSZIkSZpghjxJkiRJkiRJkiRpghnyJEmSJEmSJEmSpAlW5JB39sZb1V/+zVn1p3/1f6rTb/+ddKHC6yW8bsLrZ+x1JUmSJEmSJEmSdJ0VN+SFESYMMn/96I3qzbd+PHodaazwegmvm/D6MeZJkiRJkiRJkqTcFTfkhSOqwhgzdpl0kcLrJ7yOxi6TJEmSJEmSJEm6roob8sLRVI7E01UKr5/wOhq7TJIkSZIkSZIk6boqbsgLP+ts7HzpafI6kiRJkiRJkiRJuTPkSSN5HUmSJEmSJEmSpNwZ8qSRvI4kSZIkSZIkSVLuDHnSSF5HkiRJkiRJkiQpd4Y8aSSvI0mSJEmSJEmSlDtD3lP0v//276vPfOm/Vb/5sU9VL/3+H4xeR2VkyJMkSZIkSZIkSbm71iHvY5/6QtPYZana1gATRrzw2P/1hz/WjHnhV2NeuRnyJEmSJEmSJElS7gx5Fyge8U7+/Nu9I/PGrn+1/ra6+4HfqO5+pz396sdvVXsff21wncv1nZd+o9r7wN3qOyOXXa3XquP97TzmUOrbu0gpXkfhcX/wpb8dvSxJ37lbfTB63rff6td5q5+fJEmSJEmSJGl9zXvEt6q9RO8TNxtCwj3iet8/7m8rJWXIO6d4xAvDXTg9P+/in0t4AYU/TFFrB7UNL7bmD+Unq1eH54e+/sk1t9kfX7ZTyvton6vjr49ddn09zeuoGRoXX9vl81De0HXxIa/3nGxlPJYkSZIkSZKkAgrv7S/eX2676Pvjqd+Dvt4hL7zfXH++o/e36bJ1GfKSdNOGvHjE+9rXX1+MefPzwtF5Yx+32tO8gC455K0b08JfAls/mm13h7xmsIqf3/prdLd77Ds75NXPwXF0/spzJEmSJEmSJElqG76Hv3EH6Bfee035Xvp1DXnN/dSf492R+9t02eYMeZcuDGDz3w+HvPiyVKUa8uIRbz7YhV/D6acb8UKbX0DtC7Nd2j/40mu96y7GksEqP/YHYHVY6Y9i/T+E3aLdNL+/cF7/L4j+XwTxx8T3tWbgaf7CWV6/aX501uCy9j76tz+/7vDzip+v/iHD3eP4enTbl/xL52mGvHV/UbaPO3w9xx5r3eA5WHyOg7+4m883OqotnF4+v93Xa/776HUSP2eh8Hjmlx1/ffVrvWj0axNa83WOP3as8JjWHJXXvibvds9R/Lks739xH+H8+HaazzX6HKLnLf5cL/QYJUmSJEmSJClHg/eDV/eE+H3z+fnte//z90Cb91+794ibAaw+b/6+7rr3Snvvs3f3375f+9rgveT546jrvXc7eH85vqx+PK/O38eOrzNofn9Pe9m8+HMYbiu9z2/xWPubSVP3vIXLex+z6XGt3G7XOc9B/LyufOyGtjrkzYevl37/D5rT8ZAXfsbc0w9i55diyBsb8cbOu3gbhrzByNG+CNaMJdELavHxccPBZHD95rabF9/Ii7VpddwJ97+4Xn37i983tz1/nBcZePrX+c5L9V8o8+cjPO7F/a4+tt7t9a5b1/scu7/QFs9Be3r18zy/C7+Omscz/rVt/1D2n5flH/7hY4s/73DZ8nN89eP1H/YPxM9Pd5vx5978Prr93tcn/tq3p9vHFj2PUeu/Nv2v4fjXebVw3+uuN3y9b35eos+9+dhP1s9L//GE6w0/V0mSJEmSJEmabOE92Pj9zHB68R734P3y3vvhy/dEl5f137Ptv1ca3VbvPpa179cub7M53Xu/PXovt3cbg8tGHstYm97LPfd93sHn0D72+WOoP9ePLy+L35sf3m443TzONc9Jv/W3e95z0NxvfPsXur+2rR+RF0a8+Zg3H/LmI174dexjrtJVh7z0I16o/QOyXFrnX7zBH8LFdfvjxOLFPvhDulr/Y8dekPPTvdtdFF5o/dvv/UXQK76v/gt07LbH729efL+rz8nyY8eer/gxDv6g9D52ed5FeqrXUfcHcjjordx39Adz+LVZXN6cF3+e9edUf8zd+HOc/+GOXw8rr43BbQweW/8531R8vf7tXOi5DZ/ThvvZ9BpdtHhehq+F9v9dEp9u7ucp/gKUJEmSJEmSpKw176FG+0H8/ujKe53hfdD+e7SL98tX3iNefV84vP/avJ+6ZmtYeX82ut7qe7fL947H3tdd3Fd03rCxj7vIZf33v+Pzhu+Dd0XvMTef0+I5jT5mzXOyseh2Nz8Hq1+LjY930NaHvNB8zIvbxogXusqQt50RL7TuCzJ2fv+83lhygRfS8sWyetv9F1K4PB4Vw3nxaNPW+4sg+pi2+e2fM/DEf0gWhY+Jb2t+v+19xH8A++PN8Pna/IdheVn/Y87rUq+j5uuzfOwrz0P0F8To4xq7vH7uhr8unsv49TDy2lh+7Va/ruPnxZeNfW36z+/K5zcoXL76de/Xf02e/7wsPv9w3vDX6D9oze2Gxx6dJ0mSJEmSJEmTa+U93+g97nBZ773atvg96MV76c3Hxu/5Dt/n7Zrf1+K2lx8zfL82fh958Z5rr/axjr2vO/pe76DV+7vYZeNbweC84XO3uK3oeoP3lceek5XW3O7m52D8/fje129D1zLkheIxb1sjXuiyQ972RrzQ+ADVnj/8Qm0YS1b+II40v87wBVg3/sKPH8Pqi2n5Qho+1vhz2vCYR1+g/ev3r7P6nCxvb+z5ih/j8HbH//BcpEsPwuEPcfcc95+HuuhrMvq1iD52ft1X59/mcnH6N5af//xrPfx916bnZez6bZu+Nv3LVj6/qOV9b274PJz7vMwfT33e8nNrT489lvHXvCRJkiRJkiRNpN77n4P3NAeXDeu9D7vynm/83u6Gwn2sfd96eRvhsnXvB4+9D7vp/eN5m96/3XTZ+FYQvX8dfU7NZcPnsT4dHtvaz2n48evOj25383MQPbbF5fHGsrlrG/JCYczb5ogXuuwAs70RL7T+C9J8caMvfHN63ViydnyJa1/A4WeHDV+A6174y/sYvPjDi3B/zRjUPJb56f5l8WMOv+//Yaobfh7N/cxPr/4BjG+vfX6ij+3d1uofhnD94fNwkS72Oqofa/T9cEPhsc6f4/hxN4XHOv9aN487/jyHn3f7uQx/Nt7ydF38uQ+f07r4uY8f1+L04PpNw9vpfW3Wf517RX95ndfKa/Lc52X+PMSPo3+6V3gszXM+vB1JkiRJkiRJmkAr76fG72WG92TXv68Zvwe87j3ic9+rjT5udUMI99/dZnO9Ne/DDi/r3uc97735dZvFeZeFmsvXbCvDj119HurP6wOfbIqfr0Ujz2Vo4+2e8xw01x2OgPHpDV3rkHcdXXbIC4NdGBrD79OOeKH2D17vcMvoRdB8AbvzP/jSa81QMf9ih8viF/v8upv+AMQv2JXzmxfV4PHEL+BmuFmeH+5v8RdBfFnzIp/fx5qBJ77+4uPaF2b7GLvzPl7fVvyHYv5x3XWHz0HvY3t/mPqPY37dTc/Vui78Ohp+joM/xL37Dn9w4z+Y3R/k+ccO/zJuvtbR7TWf98rHd59//Puu3tdu8DU//nr0F/Cg9V+bNV/n6GNXPn7R6utxcd349Rc653lZeR6ar8Hyc+nf//x8Q54kSZIkSZKkCRbe3xy+R9q859m9pzp4vzR+b7T3HvDIe8Sr20R3m733tZfv3a6+Xzt4H3nD++G9y+rHGL673HnvzY++P3yBy+Y176F399nfVgbvh3989Tkevv++7jnpd87tnvMcxI+39x73ORnyusJoF44W/NrXX0884ukmdtnX0Y0p/KX+FH9RSJIkSZIkSZJUSr0RdEuluo+tDHnhyLbLNHZbT9tlB5jf/NinmvEuFH5vxNvtyh7y2v/XwGWOVJQkSZIkSZIk6UZ3HQe6NEfnDY+QvFxbGfLmg9jTNnZbT9tlB5jw7TTnjV2u3aq0Ia93yG7onEOSJUmSJEmSJEkqq/m3xlz3rTOv0PBboCa8j60MeTkr/lsi6lryOpIkSZIkSZIkSbkz5EkjeR1JkiRJkiRJkqTcGfKkkbyOJEmSJEmSJElS7gx50kheR5IkSZIkSZIkKXfFDXl/+lf/p3rzrR+PXiZdpPD6Ca+jscskSZIkSZIkSZKuq+KGvL/8m7Pqrx+9MXqZdJHC6ye8jsYukyRJkiRJkiRJuq6KG/LO3nirOZoqjDGOzNPTFF4v4XUTXj/hdTR2HUmSJEmSJEmSpOuquCEvFEaYcERVGGTCzzqTLlJ4vYTXjRFPkiRJkiRJkiRNoSKHPEmSJEmSJEmSJOmmZ8iTJEmSJEmSJEmSJpghT5IkSZIkSZIkSZpghjxJkiRJkiRJkiRpgq0MeZIkSZIkSZIkSZKmUauq/j8iLn0ZAL3IhQAAAABJRU5ErkJggg==)"
      ],
      "metadata": {
        "id": "qAwRsYc0shHB"
      }
    },
    {
      "cell_type": "markdown",
      "source": [
        "For Down and Flat categories of St Slope there is over 4 times more ill that healthy people and in Up category it's the opposite there is 4 times less ill people."
      ],
      "metadata": {
        "application/vnd.databricks.v1+cell": {
          "showTitle": false,
          "cellMetadata": {},
          "nuid": "a289d072-efd2-4632-8fee-e7a09fd9989e",
          "inputWidgets": {},
          "title": ""
        },
        "id": "HC9OFsFbreVC"
      }
    },
    {
      "cell_type": "code",
      "source": [
        "display(spdf.crosstab('ST_Slope', 'HeartDisease'))"
      ],
      "metadata": {
        "application/vnd.databricks.v1+cell": {
          "showTitle": false,
          "cellMetadata": {},
          "nuid": "a6eac0df-59ae-4fa4-a941-8d781f96de1f",
          "inputWidgets": {},
          "title": ""
        },
        "id": "pwtfRD35reVC",
        "outputId": "a8f2b758-eef1-4aa2-82f7-dff19377b21a"
      },
      "outputs": [
        {
          "output_type": "display_data",
          "metadata": {
            "application/vnd.databricks.v1+output": {
              "overflow": false,
              "datasetInfos": [],
              "data": [
                [
                  "Flat",
                  79,
                  380
                ],
                [
                  "Up",
                  317,
                  78
                ],
                [
                  "Down",
                  14,
                  49
                ]
              ],
              "plotOptions": {
                "displayType": "table",
                "customPlotOptions": {},
                "pivotColumns": null,
                "pivotAggregation": null,
                "xColumns": null,
                "yColumns": null
              },
              "columnCustomDisplayInfos": {},
              "aggType": "",
              "isJsonSchema": true,
              "removedWidgets": [],
              "aggSchema": [],
              "schema": [
                {
                  "name": "ST_Slope_HeartDisease",
                  "type": "\"string\"",
                  "metadata": "{}"
                },
                {
                  "name": "0",
                  "type": "\"long\"",
                  "metadata": "{}"
                },
                {
                  "name": "1",
                  "type": "\"long\"",
                  "metadata": "{}"
                }
              ],
              "aggError": "",
              "aggData": [],
              "addedWidgets": {},
              "metadata": {},
              "dbfsResultPath": null,
              "type": "table",
              "aggOverflow": false,
              "aggSeriesLimitReached": false,
              "arguments": {}
            }
          },
          "data": {
            "text/html": [
              "<style scoped>\n  .table-result-container {\n    max-height: 300px;\n    overflow: auto;\n  }\n  table, th, td {\n    border: 1px solid black;\n    border-collapse: collapse;\n  }\n  th, td {\n    padding: 5px;\n  }\n  th {\n    text-align: left;\n  }\n</style><div class='table-result-container'><table class='table-result'><thead style='background-color: white'><tr><th>ST_Slope_HeartDisease</th><th>0</th><th>1</th></tr></thead><tbody><tr><td>Flat</td><td>79</td><td>380</td></tr><tr><td>Up</td><td>317</td><td>78</td></tr><tr><td>Down</td><td>14</td><td>49</td></tr></tbody></table></div>"
            ]
          }
        },
        {
          "output_type": "display_data",
          "metadata": {
            "application/vnd.databricks.v1.subcommand+json": {
              "resultDbfsErrorMessage": null,
              "diffInserts": [],
              "isLockedInExamMode": false,
              "tableResultIndex": 0,
              "startTime": 0,
              "resultDbfsStatus": "INLINED_IN_TREE",
              "state": "input",
              "subtype": "tableResultSubCmd.visualization",
              "commentThread": [],
              "guid": "e740682e-22e1-46e5-b678-26056638a856",
              "bindings": {},
              "useConsistentColors": false,
              "displayType": "redashChart",
              "customPlotOptions": {
                "redashChart": [
                  {
                    "key": "type",
                    "value": "CHART"
                  },
                  {
                    "key": "options",
                    "value": {
                      "isAggregationOn": false,
                      "series": {
                        "stacking": null,
                        "error_y": {
                          "type": "data",
                          "visible": true
                        }
                      },
                      "coefficient": 1,
                      "yAxis": [
                        {
                          "type": "-"
                        },
                        {
                          "type": "-",
                          "opposite": true
                        }
                      ],
                      "columnConfigurationMap": {
                        "x": {
                          "column": "ST_Slope_HeartDisease",
                          "id": "column_6516720160"
                        },
                        "y": [
                          {
                            "column": "0",
                            "id": "column_6516720161"
                          },
                          {
                            "id": "column_6516720163",
                            "column": "1"
                          }
                        ]
                      },
                      "alignYAxesAtZero": true,
                      "direction": {
                        "type": "counterclockwise"
                      },
                      "swappedAxes": false,
                      "percentFormat": "0[.]00%",
                      "textFormat": "",
                      "legend": {
                        "traceorder": "normal"
                      },
                      "globalSeriesType": "column",
                      "version": 2,
                      "sizemode": "diameter",
                      "seriesOptions": {
                        "0": {
                          "yAxis": 0,
                          "type": "column",
                          "name": "Healthy"
                        },
                        "1": {
                          "yAxis": 0,
                          "type": "column",
                          "name": "Ill"
                        }
                      },
                      "error_y": {
                        "type": "data",
                        "visible": true
                      },
                      "sortX": true,
                      "showDataLabels": false,
                      "missingValuesAsZero": true,
                      "useAggregationsUi": true,
                      "numberFormat": "0,0[.]00000",
                      "dateTimeFormat": "DD/MM/YYYY HH:mm",
                      "sortY": true,
                      "valuesOptions": {},
                      "xAxis": {
                        "type": "-",
                        "labels": {
                          "enabled": true
                        }
                      }
                    }
                  }
                ]
              },
              "collapsed": false,
              "errorSummary": null,
              "iPythonMetadata": null,
              "commandType": "auto",
              "height": "auto",
              "command": "%python\n__backend_agg_display_orig = display\n__backend_agg_dfs = []\ndef __backend_agg_display_new(df):\n    __backend_agg_df_modules = [\"pandas.core.frame\", \"databricks.koalas.frame\", \"pyspark.sql.dataframe\", \"pyspark.pandas.frame\"]\n    if (type(df).__module__ in __backend_agg_df_modules and type(df).__name__ == 'DataFrame') or isinstance(df, list):\n        __backend_agg_dfs.append(df)\n\ndisplay = __backend_agg_display_new\n\ndef __backend_agg_user_code_fn():\n    import base64\n    exec(base64.standard_b64decode(\"ZGlzcGxheShzcGRmLmNyb3NzdGFiKCdTVF9TbG9wZScsICdIZWFydERpc2Vhc2UnKSk=\").decode())\n\ntry:\n    # run user code\n    __backend_agg_user_code_fn()\n\n    #reset display function\n    display = __backend_agg_display_orig\n\n    if len(__backend_agg_dfs) > 0:\n        # create a temp view\n        if hasattr(__backend_agg_dfs[0], \"to_spark\"):\n            # koalas dataframe\n            __backend_agg_dfs[0].to_spark().createOrReplaceTempView(\"DatabricksViewe88dc3b\")\n        elif type(__backend_agg_dfs[0]).__module__ == \"pandas.core.frame\" or isinstance(__backend_agg_dfs[0], list):\n            # pandas dataframe\n            spark.createDataFrame(__backend_agg_dfs[0]).createOrReplaceTempView(\"DatabricksViewe88dc3b\")\n        else:\n            __backend_agg_dfs[0].createOrReplaceTempView(\"DatabricksViewe88dc3b\")\n        #run backend agg\n        display(spark.sql(\"\"\"WITH q AS (select * from DatabricksViewe88dc3b) SELECT `ST_Slope_HeartDisease`,`0`,`1` FROM q\"\"\"))\n    else:\n        displayHTML(\"dataframe no longer exists. If you're using dataframe.display(), use display(dataframe) instead.\")\n\n\nfinally:\n    spark.sql(\"drop view if exists DatabricksViewe88dc3b\")\n    display = __backend_agg_display_orig\n    del __backend_agg_display_new\n    del __backend_agg_display_orig\n    del __backend_agg_dfs\n    del __backend_agg_user_code_fn\n\n",
              "pivotColumns": null,
              "showCommandTitle": false,
              "datasetPreviewNameToCmdIdMap": {},
              "pivotAggregation": null,
              "version": "CommandV1",
              "nuid": "5b26f00c-2e2f-4409-876b-4d7b7c583b0f",
              "subcommandOptions": {
                "queryPlan": {
                  "selects": [
                    {
                      "column": "ST_Slope_HeartDisease",
                      "type": "column"
                    },
                    {
                      "column": "0",
                      "type": "column"
                    },
                    {
                      "column": "1",
                      "type": "column"
                    }
                  ]
                }
              },
              "xColumns": null,
              "results": null,
              "streamStates": {},
              "commandVersion": 0,
              "contentSha256Hex": null,
              "hideCommandResult": false,
              "error": null,
              "workflows": [],
              "inputWidgets": {},
              "finishTime": 0,
              "commandTitle": "Visualization 1",
              "origId": 2297582246512953,
              "metadata": {},
              "submitTime": 0,
              "position": 17,
              "errorTraceType": null,
              "listResultMetadata": null,
              "latestUserId": null,
              "yColumns": null,
              "hideCommandCode": false,
              "latestUser": "a user",
              "commentsVisible": false,
              "parentHierarchy": [
                "f02818a5-4441-402e-8ac9-55221c7f0081"
              ],
              "width": "auto",
              "globalVars": {},
              "diffDeletes": []
            }
          },
          "data": {
            "text/plain": [
              "Output can only be rendered in Databricks"
            ]
          }
        }
      ],
      "execution_count": null
    },
    {
      "cell_type": "markdown",
      "source": [
        "![s6.PNG](data:image/png;base64,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)"
      ],
      "metadata": {
        "id": "It4kn0G1sjVz"
      }
    },
    {
      "cell_type": "markdown",
      "source": [
        "There is a large discrepancy in favour of ill people for category 1 of FastingBS and it's almost balanced for category 0."
      ],
      "metadata": {
        "application/vnd.databricks.v1+cell": {
          "showTitle": false,
          "cellMetadata": {},
          "nuid": "57f194ae-08cf-4afa-84ed-ffecf5209c1a",
          "inputWidgets": {},
          "title": ""
        },
        "id": "nYztN986reVC"
      }
    },
    {
      "cell_type": "code",
      "source": [
        "display(spdf.crosstab('FastingBS', 'HeartDisease'))"
      ],
      "metadata": {
        "application/vnd.databricks.v1+cell": {
          "showTitle": false,
          "cellMetadata": {},
          "nuid": "efcca9e5-3c8b-4899-bd2f-94ebdf20adc8",
          "inputWidgets": {},
          "title": ""
        },
        "id": "Jw4MDubVreVD",
        "outputId": "8be42750-5ffd-4ea4-cb7c-37f69bd6c771"
      },
      "outputs": [
        {
          "output_type": "display_data",
          "metadata": {
            "application/vnd.databricks.v1+output": {
              "overflow": false,
              "datasetInfos": [],
              "data": [
                [
                  "0",
                  366,
                  337
                ],
                [
                  "1",
                  44,
                  170
                ]
              ],
              "plotOptions": {
                "displayType": "table",
                "customPlotOptions": {},
                "pivotColumns": null,
                "pivotAggregation": null,
                "xColumns": null,
                "yColumns": null
              },
              "columnCustomDisplayInfos": {},
              "aggType": "",
              "isJsonSchema": true,
              "removedWidgets": [],
              "aggSchema": [],
              "schema": [
                {
                  "name": "FastingBS_HeartDisease",
                  "type": "\"string\"",
                  "metadata": "{}"
                },
                {
                  "name": "0",
                  "type": "\"long\"",
                  "metadata": "{}"
                },
                {
                  "name": "1",
                  "type": "\"long\"",
                  "metadata": "{}"
                }
              ],
              "aggError": "",
              "aggData": [],
              "addedWidgets": {},
              "metadata": {},
              "dbfsResultPath": null,
              "type": "table",
              "aggOverflow": false,
              "aggSeriesLimitReached": false,
              "arguments": {}
            }
          },
          "data": {
            "text/html": [
              "<style scoped>\n  .table-result-container {\n    max-height: 300px;\n    overflow: auto;\n  }\n  table, th, td {\n    border: 1px solid black;\n    border-collapse: collapse;\n  }\n  th, td {\n    padding: 5px;\n  }\n  th {\n    text-align: left;\n  }\n</style><div class='table-result-container'><table class='table-result'><thead style='background-color: white'><tr><th>FastingBS_HeartDisease</th><th>0</th><th>1</th></tr></thead><tbody><tr><td>0</td><td>366</td><td>337</td></tr><tr><td>1</td><td>44</td><td>170</td></tr></tbody></table></div>"
            ]
          }
        },
        {
          "output_type": "display_data",
          "metadata": {
            "application/vnd.databricks.v1.subcommand+json": {
              "resultDbfsErrorMessage": null,
              "diffInserts": [],
              "isLockedInExamMode": false,
              "tableResultIndex": 0,
              "startTime": 0,
              "resultDbfsStatus": "INLINED_IN_TREE",
              "state": "input",
              "subtype": "tableResultSubCmd.visualization",
              "commentThread": [],
              "guid": "9c6db5ea-896d-4166-b981-7d28f0a399be",
              "bindings": {},
              "useConsistentColors": false,
              "displayType": "redashChart",
              "customPlotOptions": {
                "redashChart": [
                  {
                    "key": "type",
                    "value": "CHART"
                  },
                  {
                    "key": "options",
                    "value": {
                      "isAggregationOn": false,
                      "series": {
                        "stacking": null,
                        "error_y": {
                          "type": "data",
                          "visible": true
                        }
                      },
                      "coefficient": 1,
                      "yAxis": [
                        {
                          "type": "-"
                        },
                        {
                          "type": "-",
                          "opposite": true
                        }
                      ],
                      "columnConfigurationMap": {
                        "x": {
                          "column": "FastingBS_HeartDisease",
                          "id": "column_6516720167"
                        },
                        "y": [
                          {
                            "column": "0",
                            "id": "column_6516720165"
                          },
                          {
                            "id": "column_6516720169",
                            "column": "1"
                          }
                        ]
                      },
                      "alignYAxesAtZero": true,
                      "direction": {
                        "type": "counterclockwise"
                      },
                      "swappedAxes": false,
                      "percentFormat": "0[.]00%",
                      "textFormat": "",
                      "legend": {
                        "traceorder": "normal"
                      },
                      "globalSeriesType": "column",
                      "version": 2,
                      "sizemode": "diameter",
                      "seriesOptions": {
                        "0": {
                          "name": "Healthy",
                          "yAxis": 0,
                          "type": "column"
                        },
                        "1": {
                          "name": "Ill",
                          "yAxis": 0,
                          "type": "column"
                        },
                        "column_6516720165": {
                          "name": "1",
                          "yAxis": 0,
                          "type": "column"
                        }
                      },
                      "error_y": {
                        "type": "data",
                        "visible": true
                      },
                      "sortX": true,
                      "showDataLabels": false,
                      "missingValuesAsZero": true,
                      "useAggregationsUi": true,
                      "numberFormat": "0,0[.]00000",
                      "dateTimeFormat": "DD/MM/YYYY HH:mm",
                      "sortY": true,
                      "valuesOptions": {},
                      "xAxis": {
                        "type": "-",
                        "labels": {
                          "enabled": true
                        }
                      }
                    }
                  }
                ]
              },
              "collapsed": false,
              "errorSummary": null,
              "iPythonMetadata": null,
              "commandType": "auto",
              "height": "auto",
              "command": "%python\n__backend_agg_display_orig = display\n__backend_agg_dfs = []\ndef __backend_agg_display_new(df):\n    __backend_agg_df_modules = [\"pandas.core.frame\", \"databricks.koalas.frame\", \"pyspark.sql.dataframe\", \"pyspark.pandas.frame\"]\n    if (type(df).__module__ in __backend_agg_df_modules and type(df).__name__ == 'DataFrame') or isinstance(df, list):\n        __backend_agg_dfs.append(df)\n\ndisplay = __backend_agg_display_new\n\ndef __backend_agg_user_code_fn():\n    import base64\n    exec(base64.standard_b64decode(\"ZGlzcGxheShzcGRmLmNyb3NzdGFiKCdGYXN0aW5nQlMnLCAnSGVhcnREaXNlYXNlJykp\").decode())\n\ntry:\n    # run user code\n    __backend_agg_user_code_fn()\n\n    #reset display function\n    display = __backend_agg_display_orig\n\n    if len(__backend_agg_dfs) > 0:\n        # create a temp view\n        if hasattr(__backend_agg_dfs[0], \"to_spark\"):\n            # koalas dataframe\n            __backend_agg_dfs[0].to_spark().createOrReplaceTempView(\"DatabricksView6a802ad\")\n        elif type(__backend_agg_dfs[0]).__module__ == \"pandas.core.frame\" or isinstance(__backend_agg_dfs[0], list):\n            # pandas dataframe\n            spark.createDataFrame(__backend_agg_dfs[0]).createOrReplaceTempView(\"DatabricksView6a802ad\")\n        else:\n            __backend_agg_dfs[0].createOrReplaceTempView(\"DatabricksView6a802ad\")\n        #run backend agg\n        display(spark.sql(\"\"\"WITH q AS (select * from DatabricksView6a802ad) SELECT `FastingBS_HeartDisease`,`0`,`1` FROM q\"\"\"))\n    else:\n        displayHTML(\"dataframe no longer exists. If you're using dataframe.display(), use display(dataframe) instead.\")\n\n\nfinally:\n    spark.sql(\"drop view if exists DatabricksView6a802ad\")\n    display = __backend_agg_display_orig\n    del __backend_agg_display_new\n    del __backend_agg_display_orig\n    del __backend_agg_dfs\n    del __backend_agg_user_code_fn\n\n",
              "pivotColumns": null,
              "showCommandTitle": false,
              "datasetPreviewNameToCmdIdMap": {},
              "pivotAggregation": null,
              "version": "CommandV1",
              "nuid": "7b293a96-7041-46dd-81b9-b075b0ccc6d8",
              "subcommandOptions": {
                "queryPlan": {
                  "selects": [
                    {
                      "column": "FastingBS_HeartDisease",
                      "type": "column"
                    },
                    {
                      "column": "0",
                      "type": "column"
                    },
                    {
                      "column": "1",
                      "type": "column"
                    }
                  ]
                }
              },
              "xColumns": null,
              "results": null,
              "streamStates": {},
              "commandVersion": 0,
              "contentSha256Hex": null,
              "hideCommandResult": false,
              "error": null,
              "workflows": [],
              "inputWidgets": {},
              "finishTime": 0,
              "commandTitle": "Visualization 1",
              "origId": 2297582246512956,
              "metadata": {},
              "submitTime": 0,
              "position": 18,
              "errorTraceType": null,
              "listResultMetadata": null,
              "latestUserId": null,
              "yColumns": null,
              "hideCommandCode": false,
              "latestUser": "a user",
              "commentsVisible": false,
              "parentHierarchy": [
                "72327bab-44c6-4096-95c2-5e0fb8493a5a"
              ],
              "width": "auto",
              "globalVars": {},
              "diffDeletes": []
            }
          },
          "data": {
            "text/plain": [
              "Output can only be rendered in Databricks"
            ]
          }
        }
      ],
      "execution_count": null
    },
    {
      "cell_type": "markdown",
      "source": [
        "![s7.PNG](data:image/png;base64,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)"
      ],
      "metadata": {
        "id": "4HiE2NvGslXf"
      }
    },
    {
      "cell_type": "code",
      "source": [
        "#display(spdf.select('Age', 'HeartDisease'))"
      ],
      "metadata": {
        "application/vnd.databricks.v1+cell": {
          "showTitle": false,
          "cellMetadata": {},
          "nuid": "6d9ef703-2939-4d93-a8b6-ee7d881b6c28",
          "inputWidgets": {},
          "title": ""
        },
        "id": "X4rcLC2treVD"
      },
      "outputs": [],
      "execution_count": null
    },
    {
      "cell_type": "markdown",
      "source": [
        "![s8.PNG](data:image/png;base64,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)"
      ],
      "metadata": {
        "id": "NLC2MCdIsnNC"
      }
    },
    {
      "cell_type": "code",
      "source": [
        "#display(spdf.select('RestingBP', 'HeartDisease'))"
      ],
      "metadata": {
        "application/vnd.databricks.v1+cell": {
          "showTitle": false,
          "cellMetadata": {},
          "nuid": "e96558be-7caa-4ef4-9619-185a9833633f",
          "inputWidgets": {},
          "title": ""
        },
        "id": "7wYn9X9ureVD"
      },
      "outputs": [],
      "execution_count": null
    },
    {
      "cell_type": "markdown",
      "source": [
        "![s9.PNG](data:image/png;base64,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)"
      ],
      "metadata": {
        "id": "dPTcwIw0spsT"
      }
    },
    {
      "cell_type": "code",
      "source": [
        "#display(spdf.select('Cholesterol', 'HeartDisease'))"
      ],
      "metadata": {
        "application/vnd.databricks.v1+cell": {
          "showTitle": false,
          "cellMetadata": {},
          "nuid": "1396e586-0287-4daa-8a43-3813f8bd38fe",
          "inputWidgets": {},
          "title": ""
        },
        "id": "lBG2A2kbreVD"
      },
      "outputs": [],
      "execution_count": null
    },
    {
      "cell_type": "markdown",
      "source": [
        "![s10.PNG](data:image/png;base64,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)"
      ],
      "metadata": {
        "id": "z3lq3tP2srb2"
      }
    },
    {
      "cell_type": "code",
      "source": [
        "#display(spdf.select('MaxHR', 'HeartDisease'))"
      ],
      "metadata": {
        "application/vnd.databricks.v1+cell": {
          "showTitle": false,
          "cellMetadata": {},
          "nuid": "4ab034e2-4ebd-46ee-b5ba-575953e01389",
          "inputWidgets": {},
          "title": ""
        },
        "id": "R1q85gymreVE"
      },
      "outputs": [],
      "execution_count": null
    },
    {
      "cell_type": "markdown",
      "source": [
        "![s11.PNG](data:image/png;base64,iVBORw0KGgoAAAANSUhEUgAABwAAAAHqCAYAAAADGFrBAAAAAXNSR0IArs4c6QAAAARnQU1BAACxjwv8YQUAAAAJcEhZcwAADsMAAA7DAcdvqGQAADb6SURBVHhe7d3fi2Tnfefxvc5f4Lu5nKsJBJHc5c6wsITdG9+F3NiZtGkMgYAxCRswGGPTaYiiwYhIkRxjtBLBlR2z1sp4lWR3pYSs1JNMLLKJHda7yjqZaNoeybv+Md4gP3ueU+dUnXPqVHdXT/XUU9/zesEbdVd1V/+qnuTUx6f6XyQAAAAAAABg5/7hn+43L23m85//fHrnnXfSj3/84/STn/wkGQABAAAAAACgAAZAAAAAAAAACMQACAAAAAAAAIEYAAEAAAAAACAQAyAAAAAAAAAEYgAEAAAAAACAQAyAAAAAAAAAEIgBEAAAAAAAAAIxAAIAAAAAAEAgBkAAAAAAAAAIxAAIAAAAAAAAgRgAAQAAAAAAIBADIAAAAAAAAARiAAQAAAAAAIBADIAAAAAAAAAQiAEQAAAAAAAAAjEAAlfiu9/9bu+/AAAAAADA42EABK7ED37wg/Sxj32s/i8AAAAAAPD4BBkA/yo998TH0yvvNK8OvfNK+vgTz1VvxTa9+WpKs79tXtmyN/8wpQ88X/3o8isPU3r1lZReu1dftR1XcZv05OHviSeeMAACAAAAAMBjVuAA+J30yieeqIeDYR//6neatxkyAG7bC8+k9IEvpvRe83rrrf9QXf656r/vp/T80yl96KvNFVvWGwC/l9KvP5XSJ0/qqy7l7T9N6Rerr2dxF9nCbZ7nveq2P/T7nY85MQZAAAAAAADYjbLPALzwcGcA3LZ3/iSlDzyZ0qvfay7I3k/p6c+l9MGXm9evUG8A3IJt395ZHt5L6fkvpvTT1ffvcX3MEhkAAQAAAABgN/ZsAMxD39gZgc0A+PX89s31n3glLc4XHN5O/Xp7O4bBUQ9S+rUnU/r1P2tez/42pQ9Wl73w9vzVJ6uXP/wn85fTver1329Gr6dS+kw+s+6fquur1598a/4m2ez56vo/bF6prn/yCyn9XH6fql/8g5Tefn9+VW+w695O83J++24vVz/sh9+sPt9nlp/D4Sv1M33Ob6vztvXnPPzcvld9XS80n0v1vvlz+Wa7WzVv+5k/TumT+czI6uUPvbj8XIfeea362F+uvtbqNrY5AL701ykd/3nzSsevfm388sftzTffrMe+ttPT0/QzP/Mz9X+7l+e3AwAAAAAArs5+DYBffy499/Xm5fq69qy/ZhjsjH5/9Wz1+rPNe/ZuZ3C2YHWbvbGQhZe/kHpPA1o//eczKTX7X28AzMPeT79QXfeDlB7+z5Sef6O6cDiyVXoD4P9I6YW/rm6/ep/3/mI+LraD49oB8P3qbb/XVH2cw/w5/HF+o+pt76b0anXZw+r2vvlq9f7VdU9/s7qiev3VPMb9XnV5fr+8Cg5u8+mnq8//96uvsfp9eO8fUvpMfr392pu3ba9/+7/NP9fznj5022cd5pEvf03dsS+Pf/my/N9de/bZZxfjfC6Pfz/1Uz9V/7d7eX47AAAAAADg6uzxU4DmvxXYHQAHTwHafd/Oy9/56seXw2Atv++6jzFt7/3ZfFx6LQ9m76f05FNpecZfpTsA5r8ZWA9k785fr503AA50b2/tANjx6hfnbzN6Jt7gfVbGuO71/7363KuX2zMbs/Zrr58CtXnbz3TuJPXn2gyP62x7AMy6I2BJ41/mDEAAAAAAACjDng2AefRbnkn0RO8MwMEA2B32hgNg52yk/u3Q8zClTz7ZnOn21nwke/nB/Kps+BSg7dNj/nweAvPTZ543AH6vur0vV2/zuyn9wlPz973oAJifZjN/PrPq4y5U9+UXXkrpQ9Xt/XxzexcZANu/d/hmd0isLs+Xzaq3G/v4+WtfN2S2rmIAzNoRMFfK+Dcmj3359yv/FwAAAAAAeHz2aACcj3+LpwC9yBmA7VN7DgbA5d8O5Dyv5afOfKn6bx6zvtA8JWajNwA2HuYh8HMp/fSXq1ea4ax75tzT1XXtcJbPGvxgddtv57PsKhc+A7D6GIf5b/x1P/bD6uPkMxRfqd7n/1avD97nrAHwrDMA67MfCxsAs/YMwJIZAAEAAAAAYDf2aAAcjHz1dd0B8InOU3vOx8LF0Ne9nd77cZ6HfzEfxz74udW/edcd7J7/UvP3/x6k9PTvNgNg87Sh+alB89/ee+trKf1cPjOvGc7ydR+s3u+d6rq330jpFzq3t3YArG5zVt1e/luEb1Ufq/17gA+r+3H99wBfnb+eP1b+vNvR7q2Xq/epPt6r1ds9zGf6DW5z7G8A/kL1NeT9r8QBcB8YAAEAAAAAYDf26ylAv/5c85SdVZ94Lj03PAPwq53ru3/n76zbGb4tfc2Il8ez+my4ju4AOPtCSj+XR7GqX3whzZ8CtPLeX1SvN+//a3+c0gvPL4ezt/9sed0nq5c/07m9dQPge2/Mh732KTDb8lN1vvVK89SfVc//6WC0u1d9/Fvztz18rXp9OOp9J6Wn26+hev/DL1cfKw+FmQHwUvLw97GPfcwACAAAAAAAj1nZAyCwt7773e/2/gsAAAAAADweBkAAAAAAAAAIxAAIAAAAAAAAgRgAAQAAAAAAIBADIAAAAAAAAARiAAQAAAAAAIBADIAAAAAAAAAQiAEQAAAAAAAAAjEAAgAAAAAAQCAGQAAAAAAAAAjEAAgAAAAAAACBGAABAAAAAAAgEAMgAAAAAAAABGIABAAAAAAAgEAMgAAAAAAAABCIARAAAAAAAAACMQACAAAAAABAIAZAAAAAAAAACMQAWKAPPCldfQAAAAAAQExbGwBPTk6SttPYWCNtu7H7niRJkiRJkiRJ2v+cAQgAAAAAAAB77P33308PHz5M7777bj3eGQABAAAAAAAgiB/+8IcGQAAAAAAAAIginw1oAAQAAAAAAIBADIAAAAAAAAAQiAEQAAAAAAAAAjEAAgAAAAAAQCAGQAAAAAAAAAjEAAgAAAAAAACBGAABAAAAAAAgEAMgAAAAAAAABGIABAAAAAAAgEAMgAAAAAAAABCIARAAAAAAAAACMQACAAAAAABAIAZAAAAAAAAACMQACAAAAAAAAIEYAAEAAAAAACAQAyAAAAAAAAAEYgAEAAAAAACAQAyAAAAAAAAAEIgBEAAAAAAAAAIxAAIAAAAAAEAgBkAAAAAAAAAIxAAIAAAAAAAAgRgAAQAAAAAAIBADIAAAAAAAAARiAAQAAAAAAIBADIAAAAAAAAAQiAEQAAAAAAAAAjEAAgAAAAAAQCAGQAAAAAAAAAjEAAgAAAAAAACBGAABAAAAAAAgEAMgAAAAAAAABGIABAAAAAAAgEAMgAAAAAAAABCIARAAAAAAAAACMQACAAAAAABAIAZAAAAAAAAACMQACAAAAAAAAIEYAAEAAAAAACAQAyAAAAAAAAAEYgAEAAAAAACAQAyAAAAAAAAAEIgBEAAAAAAAAAIxAAKwV06+kdIzL0vbDQAAAAAiiTkA3pulg+s30rW6w3T7XnN51r3u5ix1v/w7R+373Ei3TpoLAShKHgB/9lDaXgZAAAAAAKIJOQDen83Snebl+eB33Lx+N93qDIJ58DuYndYv358dpmtHd+uX++8DQEmcAXixuuOWzg8AAAAAIpnAU4Dm0a8Z806OlyNfloe++izA03T7Zv9MwTwOOgsQgH3VDoAAAAAAwPTEHwAXI9/8LL/2jL+5dhzsjISN1bcFgP1hAAQAAACA6Qo+AOYz+5Zn8l3FAPjgwQNJkoqrHQDHrpMkSZIkSZK0X20q7gBY/x2//tN6OgMQgKlwBiAAAAAATFfMAbDztJ89/gYgABNhAAQAAACA6Qo5AN456o95S/lMv+V1eeRrz/LLZ/wtxsH67MH+GYEAsE8MgAAAAAAwXQEHwPnf/bt2vd/ibL58FmB7efdswN77rRsQAWA/GAABAAAAYLri/g1AAJgwAyAAAAAATJcBEAACMgACAAAAwHQZAAEgIAMgAAAAAEyXARAAAjIAAgAAbOYfvzMPACIwAAJAQAZAAACAi/vayfI4Kr8MAPvOAAgAARkAAQAALu6Zl5fHUfllANh3BkAACMgACAAAcHF/8/cp/dJn5+WXAWDfGQABICADIAAAAABMlwEQAAIyAAIAAADAdBkAASAgAyAAAAAATJcBEAACMgACAAAAwHQZAAEgIAMgAAAAAEyXARAAAjIAAgAAAMB0GQABICADIAAAAABMlwEQAAIyAAIAAADAdBkAASAgAyAAAAAATJcBEAACMgACAAAAwHQZAAEgIAMgAAAAAEyXARAAAjIAAgAAAMB0GQABICADIAAAAABMlwEQAAIyAAIAAADAdBkAASAgAyAAAAAATJcBEAACMgACAAAAwHQZAAEgIAMgAAAAAEyXARAAAjIAAgAAAMB0GQABICADIAAAAABMlwEQAAIyAAIAAADAdBkAASAgAyAAAAAATJcBEAACMgACAAAAwHQZAAEgIAMgAAAAAExX6AHw/uwwXbs5S70v8d4sHVy/ka7lBtfdOWour7p10lwIAHvIAAgAALROvrE8RpC20TMvN3cuAIoVcwBsRr6Do+N00Bv5TtPtm8txLw9+B7PT+uV6LDy6W788f//jdGf+GgDsnfagDAAAwACobWcABChf7KcAzUNebwC8m251h72T42b0y8PgYbp9b35xlsdBZwECsK/agzIAAAAuxnEUAJFMbABcPQNw/vJgGKzkMwLbswMBYN84cAUAANiM4ygAIpnYAJjlsW/+d/6WA9/lB8AHDx5IklRc7YHr2HWSJEmSpNUcR0mSSm5T0xoAB3/bb/l3/5wBCEAs7YErAAAAF+M4CoBIJjUAro567fDnbwACEIsDVwAAgM04jgIgkmmdAXhynK51z/TLrzfXL88GrAzOFASAfePAFQAAYDOOowCIZHJ/A7Ae+pq/AdgbA+uzANvL+2cDAsC+ceAKAACwGcdRAEQSewAEgIly4AoAALAZx1EARGIABICAHLgCAABsxnEUAJEYAAEgIAeuAAAAm3EcBUAkBkAACMiBKwAAwGYcRwEQiQEQAAJy4AoAALAZx1EARGIABICAHLgCAABsxnEUAJEYAAEgIAeuAAAAm3EcBUAkBkAACMiBKwAAwGYcRwEQiQEQAAJy4AoAALAZx1EARGIABICAHLgCAABsxnEUAJEYAAEgIAeuAAAAm3EcBUAkBkAACMiBKwAAwGYcRwEQiQEQAAJy4AoAALAZx1EARGIABICAHLgCAABsxnEUAJEYAAEgIAeuAAAAm3EcBUAkBkAACMiBKwAAwGYcRwEQiQEQAAJy4AoAALAZx1EARGIABICAHLgCAABsxnEUAJEYAAEgIAeuAAAAm3EcBUAkBkAACMiBKwAAwGYcRwEQiQEQAAJy4AoAALAZx1EARGIABICAHLgCAABsxnEUAJEYAAEgIAeuAAAAm3EcBUAkBkAACMiBKwAAwGYcRwEQiQEQoADPvCxtt/bAdew66VECAICoDIAARGIABCjAR397eaAhSaWW/60CAICo2v+/FwAiMAACFKAdAA+q/0pSiRkAAQCIzgAIQCQGQIACtAPgJ7+Q0jNfkaSyyv82GQABAIjOAAhAJAZAgAIYACWVnAEQAIApMAACEIkBEKAABkBJJWcABABgCgyAAERiAAQogAFQUskZAAEAmAIDIACRhB4A788O07WbszT8EuvLr9+oO5idNpemdOdoflnu1klzIcBjYACUVHIGQAAApsAACEAkMQfAe7N0kMe9o+N0MBgA6/Hv6G7z2lLv8vr9j9Od+WsAV84AKKnkDIAAAEyBARCASGI/BWge8noD4N10a3TYO023bx6m2/eaVyv5bEBnAQKPiwFQUskZAAEAmAIDIACRTGsAzK8fzdLtm+1Tfbaj3+owmM8I7D49KMBVMgBKKjkDIAAAU2AABCCSaQ2AJ8f9v++XX6+vv/wA+ODBA0l65H75t/65Psj4jWd/nJ760o8kqajyv03536j8b9XYv2GSJElShNoBcOw6SZJ23aamNwCOPiWoMwCB3XIGoKSScwYgAABT0A6AABDB9J4CdHQA9DcAgd0yAEoqOQMgAABTYAAEIJJpDYD10Lcc9vJZfteO7q68XL/f4IxAgKtkAJRUcgZAAACmwAAIQCQTGwCzfNbfjfpvAfafDnQ+DtaXX++fDQhw1QyAkkrOAAgAwBQYAAGIJPYACLAnDICSSs4ACADAFBgAAYjEAAhQAAOgpJIzAAIAMAUGQAAiMQACFMAAKKnkDIAAAEyBARCASAyAAAUwAEoqOQMgAABTYAAEIBIDIEABDICSSs4ACADAFBgAAYjEAAhQAAOgpJIzAAIAMAUGQAAiMQACFMAAKKnkDIAAAEyBARCASAyAAAUwAEoqOQMgAABTYAAEIBIDIEABDICSSs4ACADAFBgAAYjEAAhQAAOgpJIzAAIAMAUGQAAiMQACFMAAKKnkDIAAAEyBARCASAyAAAUwAEoqOQMgAABTYAAEIBIDIEABDICSSs4ACADAFBgAAYjEAAhQAAOgpJIzAAIAMAUGQAAiMQACFKAdACWp5AyAAABE1v7/vQAQgQEQoAAGQEn7kAEQAIDI2v+/FwAiMAACFKAdAD0FqKQS8xSgAABMgQEQgEgMgAAFMABKKjkDIAAAU2AABCASAyBAAQyAkkrOAAgAwBQYAAGIxAAIUAADoKSSMwACADAFBkAAIjEAAhTAACip5AyAAABMgQEQgEgMgAAFMABKKjkDIAAAU2AABCASAyBAAQyAkkrOAAgAwBQYAAGIxAAIUAADoKSSMwACADAFBkAAIjEAAhTAACip5AyAAABMgQEQgEgMgAAFMABKKjkDIAAAU2AABCASAyBAAQyAkkrOAAgAlKg9jpKkknMcBeyKARCgAAZASSVnAAQASmQAlLQPOY4CdsUACFAAA6CkkjMAAgAlchwlqeQcRwG7ZgAEKIADV0kl58AVACiR4yhJJec4Cti10APg/dlhunZzlka/xJPjdO36cbrTvJrdObpRXTbv1klzIcBj4MBVUsk5cAUASuQ4SlLJOY4Cdi3mAHhvlg6u30gHR8fpYHQAPE23b+ahbzkA1mPh0d35K/X798dBgKvkwFVSyTlwBQBK5DhKUsk5jgJ2bY8GwDzabTjK5SFvbAA8OU4Hs1m6tRj58m0fptv36ldq+WxAZwECj4sDV0kl58AVACiR4yhJJec4Cti1wgbAu+lW8xScvafurJ+us7qsPUPvokYHwPwx8vDX/rd72VI+I/Bgdtq8BnC1HLhKKjkHrgBAiRxHSSo5x1HArhU0AM6flnNx1l19lt5p83f5NjzzrzUyAC7P7NvOAPjgwQNJeuR++bf+uf5/Cn/j2R+np770I0kqqvxvU/43Kv9bNfZvmCRJ0i5yHCWp5BxHSdp2mypoAByOcM3f6dv0rL+uwQDYH/WcAQiUw/9yVVLJ+V+uAgAlchwlqeQcRwG7VtYA2Dtbb/Xv8m2sNwDmka95etFe+WP4G4DAbjlwlVRyDlwBgBI5jpJUco6jgF2b0AA41D/rL5/xtzjbML/f4IxAgKvkwFVSyTlwBQBK5DhKUsk5jgJ2rbCnAB07Q6/bhqPcBgPg4ilH64/ziMMjwIYcuEoqOQeuAECJHEdJKjnHUcCuFTQAAkyXA1dJJefAFQAokeMoSSXnOArYNQMgQAEcuEoqOQeuAECJHEdJKjnHUcCuxX4KUIA94cBVUsk5cAUASuQ4SlLJOY4Cdq3gMwDvpltr/34fQCwOXCWVnANXAKBEjqMklZzjKGDXDIAABXDgKqnkHLgCACVyHCWp5BxHAbtmAAQogANXSSXnwBUAKJHjKEkl5zgK2DUDIEAB2gPXg+q/klRiDlwBgNIYACWVnAEQ2DUDIEAB2gNXSSo5B64AQEkMgJJKzgAI7FpBA+DddOv6jXTtzI7TneatASJ55mVpu7WDzdh10qMEAFAKA6CkkjMAArtW8BmAAMBltQMgAABEZQCUVHIGQGDXChwA1z3152m6fdMZgABwEQZAAACiMwBKKjkDILBrRZ4BeH92WD/l58HstPf6taO79esAwNkMgAAARGcAlFRyBkBg1wp+CtB8xp+//QcAl2EABAAgOgOgpJIzAAK7VvAAeDfdqsc/AyAAbMoACABAdAZASSVnAAR2rcABcHnm362T5qKT4/kQ6ClAAeBCDIAAAERnAJRUcgZAYNcKHADvplujQ18eBp0JCAAXYQAEACA6A6CkkjMAArtW8FOAAgCXZQAEACA6A6CkkjMAArtW5gDYPuXnSs4ABICLMAACABCdAVBSyRkAgV0r8ylA26Hv5DgdzE7rS3svAwBnMgACABCdAVBSyRkAgV0rcwC8OUv1p3Vvlg4Wfw/Q3wAEgIsyAAIAEJ0BUFLJGQCBXSvyKUDvHN1It07yS52zAfMY6ClAAeBCDIAAAERnAJRUcgZAYNfK/BuAlfv3lk/92f4NQE8BCgAXYwAEACA6A6CkkjMAArtW7AAIAFyeARAAgOjaAfDf/FtJKjMDILBLBQ2A+ek+52f6rc9TgALARRgAAQCIrh0AJankDIDArhR1BuD92eF86Du621wCAFxGe6ABAABRtQNgfpo9SSoxAyCwS0U+BaghEAAejQEQAIDougPg2N/fkqRdZgAEdq3ovwF456h56k9DIABsxAAIAEB0BkBJJWcABHat6AGwZQgEgM0YAAEAiM4AKKnkDIDAru3BAHiabt+cD4AHR3fT5T5dAJgWAyAAANEZACWVnAEQ2LWCB8DO8Dc7bS4DAC7CAAgAQHQGQEklZwAEdq3AAXB7w9/92WG6dnPWO2tw8XSiI08p2r3u1klzIQDsIQMgAADRGQAllZwBENi1ggbALZ7xd2+WDvLtHB2ng94AeDfd7tx2Hvzaj1WPhe0gWL//cbozfw0A9o4BEACA6AyAkkrOAAjsWkED4N10qzn7bn0bjnJ5yBucAdiVR7/5AJjHx8N0+9788iyPg84CBGBfGQABAIjOACip5AyAwK4V/DcAt+CcAXA58uXxsT8uLsdBANg/BkAAAKIzAEoqOQMgsGvTHQBPjjt/H9AACEAsBkAAAKIzAEoqOQMgsGuTHADzmX+Lv/dXu/wA+ODBA0mSiqsdAMeukyRJkiL0y7/1z/X/z/sbz/44PfWlH0lSUeV/m/K/UfnfqrF/wyRp0zY1uQFw/G/7+RuAAMTSDoAAABCVMwAllZwzAIFdm9YAmF/vnfm3lM/4W5wVmN9ucEYgAOwTAyAAANEZACWVnAEQ2LVpDYD57/5dv9FvcX0+C7C9vH82IADsGwMgAADRGQAllZwBENi12AMgAEyUARAAgOgMgJJKzgAI7JoBEAACMgACABCdAVBSyRkAgV0zAAJAQAZAAACiMwBKKjkDILBrBkAACMgACABAdAZASSVnAAR2zQAIAAEZAAEAiM4AKKnkDIDArhkAASAgAyAAANEZACWVnAEQ2DUDIAAEZAAEACA6A6CkkjMAArtmAASAgAyAAABEZwCUVHIGQGDXDIAAEJABEACA6AyAkkrOAAjsmgEQAAIyAAIAEJ0BUFLJGQCBXTMAAkBABkAAAKIzAEoqOQMgsGsGQAAIyAAIAEB07QAoSSVnAAR2xQAIAAG1BxoAABCVAVDSPmQABHbFAAgAAbUHGgAAAFyM4ygAIjEAAkBADlwBAAA24zgKgEgMgAAQkANXAACAzTiOAiASAyAABOTAFQAAYDOOowCIxAAIAAE5cAUAANiM4ygAIjEAAkBADlwBAAA24zgKgEgMgAAQkANXAACAzTiOAiASAyAABOTAFQAAYDOOowCIxAAIAAE5cAUAANiM4ygAIjEAAkBADlwBAAA24zgKgEgMgAAQkANXAACAzTiOAiASAyAABOTAFQAAYDOOowCIxAAIAAE5cAUAANiM4ygAIjEAAkBADlwBAAA24zgKgEgMgAAQkANXAACAzTiOAiASAyAABOTAFQAAYDOOowCIxAAIAAE5cAUAANiM4ygAIjEAAkBADlwBAAA24zgKgEhCD4D3Z4fp2s1Z6n2J92bp4PqNdC03uO7OUXN51a2T5kIA2EMOXAEAADbjOAqASGIOgM3Id3B0nA56I9/ddOv6Ybp9b/5aHvwOZqf1y/VYeHS3fnn+/sfpzvw1ANg7DlwBAAA24zgKgEhiPwVoHvK6A+DJ8XLkyxbXn6bbN5fDYJbHQWcBArCvHLgCAABsxnEUAJFMagDMZ/m1Z/zN5TMC85l+7X+XVt8WAPaHA1cAAIDNOI4CIBID4CMOgA8ePJAkqbjaA9ex6yRJkiRJqzmOkiSV3KYMgM4ABCCg9sAVAACAi3EcBUAk/gagvwEIQEAOXAEAADbjOAqASKY1ANZn+i2HvjzytWf55TP+FuNgfr/BGYEAsE8cuAIAAGzGcRQAkUxsAKzkswCv35jXPRuwPguwubwzEgLAPnLgCgAAsBnHUQBEEnsABICJcuAKAACwGcdRAERiAASAgBy4AgAAbMZxFACRGAABICAHrgAAAJtxHAVAJAZAAAjIgSsAAMBmHEcBEIkBEAACcuAKAACwGcdRAERiAASAgBy4AgAAbMZxFACRGAABICAHrgAAAJtxHAVAJAZAAAjIgSsAAMBmHEcBEIkBEAACcuAKAACwGcdRAERiAASAgBy4AgAAbMZxFACRGAABICAHrgAAAJtxHAVAJAZAAAjIgSsAAMBmHEcBEIkBEAACcuAKAACwGcdRAERiAASAgBy4AgAAbMZxFACRGAAB2Csn30jpo7+t82oPXMeuU79nXm7uXAAAwKQZAAGIxAAIwF7JA2B7UCZtIwMgAACQtccIABCBARCAvZIHQGnbAQAAGAABiMQACAAAAABMngEQgEgMgAAAAADA5BkAAYjEAAgAAAAATJ4BEIBIDIAAAAAAwOQZAAGIxAAIAAF98T/NAwAA4GIMgABEYgAEgGB+8/PLA9f8MgAAAOczAAIQiQEQAIL52FPLA9f8MgAAAOczAAIQiQEQAIL5m7dT+te/OS+/DAAAwPkMgABEYgAEAAAAACbPAAhAJAZAAAAAAGDyDIAARGIABAAAAAAmzwAIQCQGQAAAAABg8gyAAERiAAQAAAAAJs8ACEAk0xsA783SwfUb6Vru5ix1v/w7R83lVbdOmgsBAAAAgPAMgABEMrEB8DTdvrkc9/LgdzA7rV++PztM147u1i/PR8LjdGf+GgAAAAAQnAEQgEgmNgDeTbe6w97JcTP65WHwMN2+N784y+OgswABAAAAYBoMgABEMvkzAOcvD4bBSj4jsD07EAD2zR/8l3kAAABcjAEQgEim9zcA67Fv/nf+lgOfARCAOP7dHy0PXPPLAAAAnM8ACEAk0xoAB3/bb/l3/y4/AD548ECSpKL63S//cHHgml8eextJkiRJUr/2OGrsOkmSdt2mJjUAro567fDnbwACEMtzr8wDAADgYtoBEAAimNYZgCfH6Vr3TL/8+s1Zyt+C5dmAlcGZggAAAABAbAZAACKZ3N8ArIe+5m8A9sbA+izA9vL+2YAAAAAAQGwGQAAimdwACAAAAAAwZAAEIBIDIAAAAAAweQZAACIxAAIAAAAAk2cABCASAyAAAAAAMHkGQAAiMQACAAAAAJNnAAQgEgMgAAAAADB5BkAAIjEAAgAAAACTZwAEIBIDIAAAAAAweQZAACIxAAIAAAAAk2cABCASAyAAAAAAMHkGQAAiMQACAAAAAJNnAAQgEgMgAAAAADB5BkAAIjEAAgAAAACTZwAEIBIDIAAAAAAweQZAACIxAAIAAAAAk2cABCASAyAAAAAAMHkGQAAiMQACQDDfupfS4e/Myy8DAABwPgMgAJEYAAEgmN/7j8sD1/wyAAAA5zMAAhCJARAAgvnKny8PXPPLAAAAnM8ACEAkBkAACOjvvj0PAACAizEAAhCJARAAAAAAAjv5hi5SOwCOXafVACibARAAAAAAAstjTTtuSdvomZebOxcAxTIAAgAAAEBgeQD86G9L28sACFA+AyAAAAAAAAAEYgAEAAAAAACAQAyAAAAAAAAAEIgBEAAAAAAAAAIxAAIAAAAAAEAgBkAAAAAAYNJOvpHSv/zEvPwyAOw7AyAAAAAAMGnPvJzSzx7Oyy8DwL4zAAIAAAAAk/b6W8sBML8MAPtukgPg/dlhunb9Rt3B7LS5NKU7R/PLcrdOmgsBAAAAgPB+/P/mAUAEkxsA6/Hv6G7z2lLv8nuzdHD9ON2ZvwYAAAAAAAB7Y2ID4N10a3TYO023bx6m2/eaVyv5bEBnAQIAAADANPzw4TwAiGBaA2A+s+9olm7fbJ/qsx39VofBfEZg9+lBAQAAAICY/uvXl38DML8MAPtuWgPgyXH/7/vl12/O0v1HGAAfPHggSZIkSZIkaY/7nS/9cDEA5pfH3kaSpF22qekNgPXg12qHP2cAAgAAAMBUnXwzpX/16/PyywCw76b3FKCjA6C/AQgAAAAAAEAM0xoA66FvOezls/yuHd1debkeCgdnBAIAAAAAAMA+mNgAmOWz/m7Ufwuw/3Sg83Gwvvx6/2xAAAAAAAAA2BcTHAABAAAAAAAgLgMgAAAAAAAABGIABAAAAAAAgEAMgAAAAAAAABCIARAAAAAAAAACMQACAAAAAABAIAZAAAAAAAAACMQACAAAAAAAAIEYAAEAAAAAACAQAyAAAAAAAAAEYgAEAAAAAACAQAyAAAAAAAAAEIgBEAAAAAAAAAIxAAIAAAAAAEAgBkAAAAAAAAAIxAAIAAAAAAAAgRgAAQAAAAAAIBADIAAAAAAAAARiAAQAAAAAAIBADIAAAAAAAAAQiAEQAAAAAAAAAjEAAgAAAAAAQCAGQACI5uQ4Xbt+Y97R3eZCAAAAznRvlg6uH6bb95rXAWCPGQABIJL6gPU43alfOU23b95It07qVwAAABg1P3a6dvM43bppAAQgBgMgAARyf3aYDmanzWuVfDagswABAAAuIA+BBkAAYjAAAkAgd44GZ/zlMwJvztLl/s89AADAlBgAAYjDAAgAgRgAAQAALssACEAcBkAACMQACAAAcFkGQADiMAACQCD+BiAAAMBlGQABiMMACACR5DP+rh+nO/Ur+eB1cEYgAAAAaxgAAYjDAAgAweSzAK9dv1HXOxsQAACAMxgAAYjDAAgAAAAAAACBGAABAAAAAAAgEAMgAAAAAAAABGIABAAAAAAAgEAMgAAAAAAAABCIARAAAAAAAAACMQACAAAAAABAIAZAAAAAAAAACMQACAAAAAAAAIEYAAEAAAAAACAQAyAAAAAAAAAEYgAEAAAAAACAQAyAAAAA7NSdoxvp2tHd5jUAAAAelQEQAAAgsPuzw3QwO21eW8qj262T5pWtOU23b/ZvN3/8a9dv9DP2AQAAXCkDIAAAQGAlDIDDj1+f8Xf9ON1pXgcAAGC7DIAAAACBXXQA7J2p1z1D794sHXTO3lu+z9106/phuj07ri8/mP3n6vXl2127OUv5cPOsj99e3n15frvt7VS3f6+5eO3l7aDY1Hzcuc1vCwAAIAIDIAAAQGAXGgBPjnvDWXeQuz87Xg5k+e0WZ+41I1rv6TwvdgZgrfMxlx9v9f3nBpfXo2Tn81h8DvO3u/xtAQAAxGAABAAACKx3Zt+g+Qg2MpTlcW707/Tl0a87AA7Pnlu9rbUDYB7eVgbA/ssLg4Fy/nHGz9zrfrxHvS0AAIB9ZQAEAAAI7PwzAOej3cpAuBjJuk+XmdvSANgZGftD3fLzWVyW37b3OcxrP85w5HyU2wIAAIjAAAgAABDYxQbAdWfADUe+bZ0B2H+70TP1um/TGQuH6vGvc925H++M2wIAAIjCAAgAABDY+QNgM6L1nhazMfz7ePXZc486AM7fpjvCjQ+A3cvzx+rfbqv/vvPbvuxtAQAARGEABAAACOwiA2CWXx97Ssx6HGwvPzo+5wzASvsUm82g2Hv/puH4thznmnGwfdvumXr1GNm5bvQpSg/TraP2673MbQEAAOyPX/mVX6kbYwAEAAAAAACAPWMABAAAAAAAgEAMgAAAAAAAABCIARAAAAAAAAACMQACAAAAAABAIAZAAAAAAAAACMQACAAAAAAAAIEYAAEAAAAAACAQAyAAAAAAAADsiXbcu0hjDIAAAAAAAABQkLGhb11jDIAAAAAAAAAQiAEQAAAAAAAAAjEAAgAAAAAAQCAGQAAAAAAAAAjEAAgAAAAAAACBbG0A/D8/+FGSJEmSJEmSJEmStNsMgJIkSZIkSZIkSVKgDICSJEmSJEmSJElSoAyAkiRJkiRJkiRJUqAMgJ1O3/1++sb/Pk1/+Xf/mO588x+kC5XvL/l+k+8/Y/crSZIkSZIkSZKkx5kBsCmPN3nI+fv776b3vv+D0beRxsr3l3y/yfcfI6AkSZIkSZIkSdp1BsCmfAZXHnHGrpMuUr7/5PvR2HWSJEmSJEmSJEmPKwNgUz57y5l/epTy/Sffj8aukyRJkiRJkiRJelwZAJvy33Ibu1zaJPcjSZIkSZIkSZK06wyATYYbbSP3I0mSJEmSJEmStOsMgE2GG20j9yNJkiRJkiRJkrTrDIBNhhttI/cjSZIkSZIkSZK06wyATYYbbSP3I0mSJEmSJEmStOsMgE1XOdz8r2//U/rcF/99+tVPPZVe/Mofjb6NYmQAlCRJkiRJkiRJu24vBsBPPfX7dWPXbaurGm7y+Jc/91/6tU/VI2D+rxEwbgZASZIkSZIkSZK06wyATVcx3HTHv5O//mbvTMCxt3+0vp1e+vBH00vfmr/+2qdvpGuffmPwNpfrWy9+NF378EvpWyPXPVpvpOPrV/M557Z9exdpG/ej/Hl/5MVvj163lb71UvpI5/t+9a3+nK/065MkSZIkSZIkra9+jPhGuralx4nrDWGLe8Tjffy4v61EygDYtO0BsDv+5cEvv95edvGvJd/x8i9hp7VD3Bl30vqX+bPpteHludc/u+Y2+6PN1bTNjzH/Xh2/Pnbd42uT+1E9UC5+tsvvQ7yBbIMBMN8fF9+Tkfts83+Yuu9f/x+Xxfss2/V9QZIkSZIkSZKurN5jqZs9Jrrtx6Af7wCYH2+uvt7Rj3fWdesyAA4ZAM+oO/597fU3FyNge1k+G3Ds/Vbb5I53yQFw3QiX//G48rPnpjsA1uNf9/tb/Yxeaj73yQ6A9f10+XbD/6NRf88+XH2fzvv+rB21JUmSJEmSJClIw8fwz9wB+uXHWrf5WPrjGgDrj1N9jS+NfLyzrjs7A+DQlQ+AeThrXx4OgN3rttW2BsDu+NcOffm/+fXNxr/c2Xe8+R16vux/5MU3em+7GFkG/yuAsV+c1UGmP6b1f3mbBb2u/Xj5sv4/LP1/QLrv0/1Ya4ah5iyv9u3r2kFncN38Y/Rvv33b4dfV/X71T21uPo/XO7d9yX+sNhkA1/0DO/+8889z7HOtGnwPFl/j4B/8+uvtDGH59eX3t/l5tS937ifd71kufz7tdcevr/6sF43+bHJrfs7d961afH6Ly8Y/1rr3n3eB35lPv9R8b7vfg+XnvbjtfHl3SKy/R53Pp/P97n6P1n9ukiRJkiRJkrSlBo8Hrz422n3cvL18/th/+1hm/fhx8xhxPZxVl7WP6657zLP3OHvz8eePu74xeCy5/Tyqeo/BDh7z7V5XfT6vrTxOvFr78Ta9rq37NQy3ld7Xt/hc+5tJXfN9y9f33uesz2vldpvO+R50v68r73tGRQ6A7WD24lf+qH69OwDmv6G3+ZB2ftsYAMfGv7HLLt4ZY0b+5R6MO2ufRrJzR1y8f7fBbQ3fvr7t+k47cievWx1q8sdfvF11+4uX69tuP8+LDEP9t/nWi9U/RO33I3/ei4+7+rn1bq/3tlW9r7H5h3DxPZi/vvp1nt+F70f15zP+s53/Mve/L8t/NIafW/frztctv8bXPl39I/Hh7venuc3u116/3Ln93s+n+7Ofvz7/3Drfx07rfzb9n+H4z3n+sfqXj9//171/Xf64a/6BzQ1/T87+fvY/fv76PtJ5PX8e+e2G3yNJkiRJkiRJuvKGj4Xm1xePcXcf56zqPR6+fGxzeV3/Mdf+Y56d2+p9jGXzx12Xt1m/3nu8vfOYbO82BteNfC5jnfWY7LmP1w6+hvnn3n4O1df66eV19ePhzW0Nbze/Xn+ea74n/dbf7nnfg/rjdm//Qh9vXrFnAObxrx0B2wGwHf/yf8fe51F61AFw++Nfbv6LtVx22x/64Jd38bb9cWLxSzL45V6t/75jd+T29d7tLsp30P7t9/4B6dX9WP079thtj3+8tu7HXf2eLN937PvV/RwHv2C9911edpE2uh81v8jDIXDlY3d+oYc/m8X19WXdr7P6mqr3yU+X2X29/kehe39YuW8MbmPwufW/52fVfbv+7az93uavo3vb9evDj3/Wz2b859ztrPv2osX3s/ux8m3P/1cw3dfrz7Xz8+ndjiRJkiRJkiRdVfXjp539oPs458pjlvnxzP5jtIvHUVceI159XDg/jlo/Lrpma1h5nLXzdquPwS4fOx57fHbxsTqXDRt7v4tcN/4Ycv9706vzWHH9NS2+p533WfM9ObPO7Z79PVj9WZz5+Q4q+m8AtiNgt6sY/3KPMgBezfiXW/eDHLu8f1lvJLnAHXB5J1u97f4dMF/fHSPzZd2xZ17vH5DO+8xrb/+cYaj7y7Uov0/3ttqPO/8Y3V/c/ngz/H6d/Uu0vK7/Pud1qftR/fNZfu4r34fOPyyjn9fY9dX3bvjfxfeye38YuW8sf3arP9fxy7rXjf1s+t/fla+vU31fa9+/fqrO1Z/b2vfvfB9Wrmuqb79znzrv+7n4vuXLhv/tfKzF533Ox5ckSZIkSZKkrbTymG/nsdR83eJx2mXdx6AXj6XX79t9zHf4OG9T+7EWt718n+Hjrt3HkXuP+S6af65jj8+OPmY7aPXjXey68a1gcNnwe7e4rc7bDR4fHvuerLTmds/+How/Ht/7+Z1R0QNgrjsCXtX4l7vsAHh1419ufLiaXz78AZ8xsqz8Ao/Uvs3wjls1/gvT/RxW74TLO+Dwc+1+TWd8zqN37P7b999m9XuyvL2x71f3cxze7vgv3UW69JCcf/mb73H/+1DV+ZmM/iw679u+7Wvt03EuXv/o8utvf9bDl5vO+r6Mvf28s342/etWvr51NZ/7cFBb9/4X+ZkNv3/nfj/br6O6bPk9mb++7nNYuT1JkiRJkiRJ2na9xzEHj00Orhu2fAy4auUx3+5ju2eUP8bax62Xt5GvW/e47djjqRd5/Pisx2HPum58K+g8ft35murrht/H6vX8ua39mobvv+7yzu2e/T3ofG6L67sby9kVPwDm8gh4leNf7rLDzdWNf7n1P8j6TtG5w9SvrxtZ1o423eZ3/Pw3zoZ33HW/MMuPMfilyXfe62tGpPpzaV/vX9f9nPPL/V/CquHXUX+c9vXVX9zu7c2/P5337d3W6i9Rfvvh9+EiXex+VH2unef7zeXPtf0edz/vuvy5tj/r+vPufp3Dr3v+tQz/9t/y9aru1z78nlZ1v/fdz2vx+uDt64a30/vZrP85r2/159k2/v7zr7P7Mxxr5b587vez/f51P//+670W/5Cv//wlSZIkSZIk6ZHrjEjzuo9J5sdk1z8+2X0MeN1jxGObQK/O+61uCPnjN7dZv92ax1OH1zWP1573+PG6zeK863L19Wu2leH7rn4fqq/rw5+t636/Fo18L3Nn3u4534P6bYfjYff1M9qLAfBxdNkBMA99eaDML293/MvNf2F7p4V27jz1D765/CMvvlEPFe2dJF/X/SVp3/asX5zuHX3l8vrOOPh8unf8evBZXp4/3uIfkO519S9H+zHWDEPdt1+83/wOPf8cm8s+Xd1W95epfb/mbYffg9779n4J+59H+7Znfa/WdeH70fBrHPzy9z52/oXv/kI3/wC07zv8R7z+WXdur/66V96/+fq7Lzf1fnaDn/nx651/uAet/9ms+Tl33ndefrvuxxpeP2/0/Ue+jrHqz7F7v82d8/1c+f7VP7vlx+p93YvLDYCSJEmSJEmSrrD8OOXwsc76scvmsdjB457dxzh7jwGPPrY63Caa2+w9rr18zHf1cdfB48hnPB7eu676HPOz2Z332Pzo47wXuK6tfgy9+Zj9bWXwePinV7/H9fuu+/wHO8Oyc273nO9B9/PtPVZ9TgbApkcZAPPZiV97/c0tj3/axy57P9qb8v8x2OAfGEmSJEmSJEmSotQbT6+obX2MogbAfCbdZRq7rU277HDzq596qh79cvll49+0iz0Azv9XCuf9ry8kSZIkSZIkSQrX4zhBpj4b8Pxnu7tIRQ2A7ZC2aWO3tWmXHW7y0362jV2vaRVtAOydWpw759RpSZIkSZIkSZJi1T6F57qn+HyEhk/VusWP4SlAm8I/daMeS+5HkiRJkiRJkiRp1xkAmww32kbuR5IkSZIkSZIkadcZAJsMN9pG7keSJEmSJEmSJGnXGQCbDDfaRu5HkiRJkiRJkiRp1xkAm/7y7/4xvff9H4xeJ12kfP/J96Ox6yRJkiRJkiRJkh5XBsCmb/zv0/T3998dvU66SPn+k+9HY9dJkiRJkiRJkiQ9rgyATafvfr8+eyuPOM4E1Cbl+0u+3+T7T74fjb2NJEmSJEmSJEnS48oA2CmPN/kMrjzk5L/lJl2kfH/J9xvjnyRJkiRJkiRJKiEDoCRJkiRJkiRJkhQoA6AkSZIkSZIkSZIUKAOgJEmSJEmSJEmSFCgDoCRJkiRJkiRJkhSorQ2A+YYkSZIkSZIkSZIk7b7L6A+AP0n/H0fI3wBwVCKpAAAAAElFTkSuQmCC)"
      ],
      "metadata": {
        "id": "Ll4iPJqwstyx"
      }
    },
    {
      "cell_type": "code",
      "source": [
        "#display(spdf.select('Oldpeak', 'HeartDisease'))"
      ],
      "metadata": {
        "application/vnd.databricks.v1+cell": {
          "showTitle": false,
          "cellMetadata": {},
          "nuid": "f9b81aaa-c407-4d89-8342-8f211ac56826",
          "inputWidgets": {},
          "title": ""
        },
        "id": "E4GVqSpKreVE"
      },
      "outputs": [],
      "execution_count": null
    },
    {
      "cell_type": "markdown",
      "source": [
        "![s12.PNG](data:image/png;base64,iVBORw0KGgoAAAANSUhEUgAABvEAAAHuCAYAAACmiSCwAAAAAXNSR0IArs4c6QAAAARnQU1BAACxjwv8YQUAAAAJcEhZcwAADsMAAA7DAcdvqGQAADVFSURBVHhe7d3/l+ZnXd/x/uxf4Kk93dOeU7dfzp7KoWL90tP6takV0i9pK0dSKQjhmBU8gdguNRGDySnRAItEA0SRgAGUGAkJVSCCgKBsdvlWNAluQgMEJGQnRsIu0HB13/d9X7vXfvK5Z+6Zve+5r+uax+OcpzPzub/MzD131pn7xT3ztz7/xS8lAAAAAAAAYP3ydmfEAwAAAAAAgEoY8QAAAAAAAKAyRjwAAAAAAACojBEPAAAAAAAAKmPEAwAAAAAAgMoY8QAAAAAAAKAyRjwAAAAAAACojBEPAAAAAAAAKmPEAwAAAAAAgMoY8QAAAAAAAKAyRjwAAAAAAACojBEPAAAAAAAAKmPEAwAAAAAAgMoY8QAAAAAAAKAyRjwAAAAAAACojBEPmOvhhx8+5yUAAAAAALA7jHjAXI899lg6ePDg5CUAAAAAALB7qhnxHnnkkXTo0KH0mc98ZnbkXHE8To/zsRxf/UZKv/KnKf3R+E1+3i55Z0pP/Z2UHv1aSl96LKVf+mBKn/ir2YlLsIrr5Fwx3j35yU824gEAAAAAwC5byYh36tSpdPXVV08e/B/2zne+c3aucxnxluuRUyn96zen9J9/L6WT35gdPO2bp3vhu1P6njekdPeXU/r+N6V0xfumpy1bOeLF+/qOG1N6wydmJ+7Aq46k9F/fPr2+sIzr3EzcVm/85PQ2zO9zrzHiAQAAAADAeqz8mXiLjm9GvOW77k9T+ievSenPH5odOO2LX5kOeC96z+zACpUj3jIs+/o28/G/Suk/vC2lv314995njYx4AAAAAACwHrs+4sXL+Btbw2fm5RHvfe97X3r6058+OS2ezRfP6gvD64m38/ni+ox7T/TJ01/Sf3RDSq/76OzAaX94PKVv/7WUPvjZlB78m5Se/BvTsS/Er6X84Zunw9Xfe3VKb/pkSke/MD3/7Z+enifGrBi1YlALMRBe8OaUvu30ZaKfumP6LMBQjm7l9eTXv/WVZ9v/69Ph7L2fSem7f2v6MfzdX03pyj9O6ev/b3pd5fnjYx5+bPefvgv8+K3TjyMu+8x3pPSFr0xPy+d96QemI2Zc/387fXr+WId+9ch06IzrW+aI95ZPTX+F6dAL3jV+fLcdOXJkMtjlHnroofSkJz1p8rI8HucDAAAAAABWZ9dHvI997GOTQpx26aWXTl7mca8c7l73utdNCuX1RPF6HAtxfeXlmIq/eXfRLWd/pWb+VZrxazZjvCpHvDzOxXnj+Ic+l9LN/2frES9Ov/WelE6cnI5+f+dVZ0fDeSNejHLxjMB4P/H3+L7911P65Q9PP747Tp/+gQdS2jh9fVd/cHp9d94//Xh/8rbpYPiXJ554nX/1WEr/4qaUfuyt02HxI59P6Sm/OR3h4nbI582nv+bY9Lrjc9xM+TksQwx1MUKWg10MeHEsXq5b/PeWB/YoBrxv+ZZvmbwsj+f/LgEAAAAAgNXY9RGvFKPb4cOHz4x45TAXysuWr8ez98oRIY7FiDf2Pva6GNT+6emb6vjG6S/2oyn9s+KZd+WIl/+GXoxc950+b7bViFcaPrNv3oiXxbgWI1u8z7FnxA0vMxzUytP/9/GU/v7102cYZvG5518nms8bg2PIH+vLPjR9e55lj3ihHPJqGvCCZ+IBAAAAAEAddn3Ei+EuBrf8jJ74lZjzRrxynBuOeOWzgsrr4Vwx3sWIF884e8e901Erfs1mGI5uH/vi2V81GcPa5x7desT77F+ndNm7p896i1/BmX/VZdhqxHvlR6a/RjOeNZd96qHpr7l80o3TX4kZ17fIiBfvMy4TH3MWx+P0ON/w/efPPX8e86xixAt5yKtpwBsTg1389xUvAQAAAACA3bOrI14e8PKv01zkmXhxepyvvJ4Y8fLf0mNzX388pWfdntLFb5/+vbr49ZrxDLgwHPFC/ErLY1+YHr/0D86OX/kZbA89ltL3vWE6buVn7z3ztumYFwNaeX2bjXgfeTClf/yalF7+Z9P3GeIZgDHExd/Bi1+PedfgMpuNePOeiZefhVjbiBfyM/FqZsQDAAAAAID12NURbzjUxcvh38TLvyYzD355rCuvp7wcW3vrn0+f1RbPlCv/Blw54sXfqHvJ+1P6wumXf/Hl6d+XixEv/wrOC383pXsfTumlH5j+LbkYt+Iy8Qy8594xHfBiNIv3s9WIF+Pfvzt9fT/429P3FR9HXFecJ56ZF38LL67vF09/PPGswDy8veg9KX3H6btHnC/+rl55nfP+Jt7Pvms6ZNY44rXAiAcAAAAAAOuxqyNeiGfh5V+BGcdjqMsjXrx9yy23nDm9/Lt3m13P8LycKw9x8Sy38u/dlSNeDGv/6ZaUvu3wtPhbdflXU775Uyn9g1+bDnS/8P6U/s2bp+NWPIPutcemp8VAGM+gi/ex1Yj3+o9Px7n86ySjOO3PPj+9jng///CGlH7pg+cOb/HMvO84ff1x/sMfeeIwd8/D0xEvPv64jp+7M6W/GXnWXjDiLSbGuxjXjXgAAAAAALC7Vj7iAe16+OGHz3kJAAAAAADsDiMeAAAAAAAAVMaIBwAAAAAAAJUx4gEAAAAAAEBljHgAAAAAAABQGSMeAAAAAAAAVMaIBwAAAAAAAJUx4gEAAAAAAEBljHgAAAAAAABQGSMeAAAAAAAAVMaIBwAAAAAAAJUx4gEAAAAAAEBljHgAAAAAAABQGSMeAAAAAAAAVMaIBwAAAAAAAJUx4gEAAAAAAEBljHgAAAAAAABQGSMeAAAAAAAAVMaItyLf+kpp9QEAAAAAAH06Z8S76667tKTGBhdp2Y3d9yRJkiRJkiRJUvt5Jh4AAAAAAACs2eOPP55OnTqVNjY20te+9jUjHgAAAAAAANTkq1/9qhEPAAAAAAAAahLPyjPiAQAAAAAAQGWMeAAAAAAAAFAZIx4AAAAAAABUxogHAAAAAAAAlTHiAQAAAAAAQGWMeAAAAAAAAFAZIx4AAAAAAABUxogHAAAAAAAAlTHiAQAAAAAAQGWMeAAAAAAAAFAZIx4AAAAAAABUxogHAAAAAAAAlTHiAQAAAAAAQGWMeAAAAAAAAFAZIx4AAAAAAABUxogHAAAAAAAAlTHiAQAAAAAAQGWMeAAAAAAAAFAZIx4AAAAAAABUxogHAAAAAAAAlTHiAQAAAAAAQGWMeAAAAAAAAFAZIx4AAAAAAABUxogHAAAAAAAAlTHiAQAAAAAAQGWMeAAAAAAAAFAZIx4AAAAAAABUxogHAAAAAAAAlTHiAQAAAAAAQGWMeAAAAAAAAFAZIx4AAAAAAABUxogHAAAAAAAAlTHiAQAAAAAAQGWMeAAAAAAAAFAZIx4AAAAAAABUxogHAAAAAAAAlTHiAQAAAAAAQGWMeAAAAAAAAFAZIx4AAAAAAABUxogHAAAAAAAAlTHiAQAAAAAAQGWMeAAAAAAAAFAZIx4AAAAAAABUxogHAAAAADTtje9O6V9eltJPviylr56aHQSAxhnxAAAAAICmPe8VKX3nT087cs/sIAA0zogHAAAAADTt12+bDnhP/fmUTjw6OwgAjWt6xDuxsZEufvYlad/+A5OX8TYAAAAAsPc88pXZKwDQiWZHvBjsDl52eTp+3/2zIwAAAAAAANCHZke8W2+7fRIAAAAAAAD0ptkR78bX35R++62/O/lVmtHh62+YnQIAAAAAAABta3LEO3nyVDp05VWT4vX89pGjx2bnmO/EiROSJEmSJEmSJEnSrrZdTY945Wjn12sCAAAAAADQiyZHvBC/PtOIBwAAAAAAQI+aHfFiwMu/TvPExkY6eNnl6fh9989OBQAAAAAAgHY1O+KFeObdvv0HJi3y9/AAAAAAAACgBU2PeAAAAAAAANAjIx4AAAAAAABUxogHAAAAAAAAlTHiAQAAAAAAQGWMeAAAAAAAAFAZIx4AAAAAAABUxogHAAAAAAAAlTHiAQAAAABNu+UDKV14RUo/86spffObs4MA0DgjHgAAAADQtOe9IqXv/OlpR+6eHQSAxhnxAAAAAICmvfxt0wHv+1+Y0hcenh0EgMYZ8QAAAACA5j3wpZQeOzV7AwA6YMQDAAAAAACAyhjxAAAAAAAAoDJGPAAAAAAAAKiMEQ8AAAAAAAAqY8QDAAAAAACAyhjxAAAAAAAAoDJGPAAAAAAAAKiMEQ8AAAAAAAAqY8QDAAAAAACAyhjxAAAAAAAAoDJGPAAAAAAAAKiMEQ8AAAAAAAAqY8QDAAAAAACAyhjxAAAAAAAAoDJGPAAAAAAAAKiMEQ8AAAAAKnbXPdLyA6B+RjwAAAAAqNjzXpHSd/60tLyMeABtMOIBAAAAQMVixNPWxTg1dlxPzIgH0AYjHgAAAADQtBil8ogHAL0w4gEAAAAATTPiAdAjIx4AAAAA0DQjHgA9MuIBAAAAAE0z4gHQIyMeAAAAANA0Ix4APTLiAQAAAABNM+IB0CMjHgAAAADQNCMeAD0y4gEAAAAATTPiAdAjIx4AAAAA0DQjHgA9MuIBAAAAAE0z4gHQIyMeAAAAANA0Ix4APTLiAQAAAABNM+IB0CMjHgAAAADQNCMeAD0y4gEAAAAATTPiAdAjIx4AAAAA0DQjHgA9MuIBAAAAAE0z4gHQIyMeAAAAANA0Ix4APTLiAQAAAABNM+IB0CMjHgAAAADQNCMeAD0y4gEAAAAATTPiAdAjIx4AAAAA0DQjHgA9MuIBAAAAAE0z4gHQIyMeAFTiY3+Z0nuOpvT447MDAAAALMSIB0CPjHgAUIFPf276A2f086+fHQQAAGAhRjwAemTEA4AKfPQvz454l75qdhAAAICFGPEA6JERDwAq8erfT+l//mZKR+6eHQAAAGAhRjwAetT8iHfy5Kl06Mqr0q233T47AgAAAADsJUY8AHrU/Ih35OixtG//ASMeAAAAAOxRRjwAetT0iBfPwjt8/Q3pxtffZMQDAAAAgD3KiAdAj5oe8WK4KwMAAAAA9h4jHgA9anbEO37f/emaa6+bPBtvOyPeiRMnJEmSJEmSJHXUe+96dDLi/dQvf2P0dEmSami7mhzxTmxspENXXjV5GTwTDwAAAAD2Ls/EA6BHTY54Mdjt23/gCcXfxwMAAAAA9hYjHgA9anLEG/JMPAAAAADYu4x4APTIiAcAAAAANM2IB0CPuhjxAAAAAIC9y4gHQI+MeAAAAABA04x4APTIiAcAAAAANM2IB0CPjHgAAAAAQNOMeAD0yIgHAAAAADTNiAdAj4x4AAAAAEDTjHgA9MiIBwAAAAA0zYgHQI+MeAAAAABA04x4APTIiAcAAAAANM2IB0CPjHgAUIlvfjOlhx+dvQEAAMDCjHgA9MiIBwAV+PJfp/SjL57+0Hn922cHAQAAWIgRD4AeGfEAoAJH7p7+wOmHTgAAgO0z4gHQIyMeAFTg1NdTevavpPSDL0rpt++cHQQAAGAhRjwAemTEAwAAAACaZsQDoEdGPAAAAACgaUY8AHpkxAMAAAAAmmbEA6BHRjwAAAAAoGlGPAB6ZMQDAAAAAJpmxAOgR0Y8AAAAAKBpRjwAemTEAwAAAACaZsQDoEdGPAAAAACgaUY8AHpkxAMAAAAAmmbEA6BHRjwAAAAAoGlGPAB6ZMQDAAAAAJpmxAOgR0Y8AAAAAKBpRjwAemTEA4BKHLs7pTe+Z/YGAAAACzPiAdAjIx4AVOAPj0x/4Ix++PLZQQAAABZixAOgR0Y8AKjAtW85O+J998HZQQAAABZixAOgR0Y8AKjE9z4/padcmtJzXz47AAAAwEKMeAD0yIgHAAAAADTNiAdAj4x4AAAAAEDTjHgA9MiIBwAAAAA0zYgHQI+MeAAAAABA04x4APTIiAcAAAAANM2IB0CPjHgAAAAAQNOMeAD0yIgHAAAAADTNiAdAj4x4AAAAAEDTjHgA9MiIBwAAAAA0zYgHQI+MeABQifccTenmO1N66JHZAQAAABZixAOgR0Y8AKjApz4z/YEzuvw1s4MAAAAsxIgHQI+MeABQgY8fPzvi/ez1s4MAAAAsxIgHQI+MeABQibe+N6VX/V5Kn/787AAAAAALMeIB0KOVjHgnNjbSzW992+ytc8XxOB0AAAAAYBmMeAD0aCUj3smTp9KhK6+aFK+Xxy5+9iVGPAAAAABgaYx4APRoJSNedvj6Gyaj3ZGjx9IFF140eRsAGPf4N1N66JHZGwAAACzMiAdAj1Y64oU84B2/7/7ZEQBgKMa7Hz00/aHz1b8/OwgAAMBCjHgA9GhpI178isx41t2+/Qc2za/TBIAnOnL39AdOP3QCAABsnxEPgB6t/Jl4AMDWvvb1lJ5zXUo//HMp3Xzn7CAAAAALMeIB0CMjHgBU4OTXUvrBF6X0zy9N6b/fODsIAADAQox4APRoZSNe/C08v04TABbzpnef/XWaP/DC2UEAAAAWYsQDoEcrGfFipDt05VWTlzHm3Xrb7ZPj5esAwFl/8X9T+q5Lpz90PvNls4MAAAAsxIgHQI9WNuIdvv6GdPLkqXT8vvvTja+/aXI83o7jnokHAE/02MmUPnF89gYAAAALM+IB0KOVjHghxrp45l35rLwY9A5edrkRDwAAAABYGiMeAD1a2YgXPv/gFyYvy7+P59dpAgAAAADLZMQDoEcrHfFWKZ7Vd8GFF02GwXgZbwMAAAAAe48RD4AerWzEi1+ZefGzL5mMbPHrNOPv4cWz8OLXbC7D+//kQ2d+Ladf0wkAAAAAe5cRD4AerWTEi8Hummuvm4xrUbwex6IY8ZY9tsX15b+7BwAAAADsLUY8AHq0khEvxrQY62K0K0e8VY1t5fsAgFY95WBK33X6h84/+NjsAAAAAAsx4gHQo5WMeCFGvPj1meXAFseW9es0s7jeGAaPHD02OwIA7flXl01/4IyecjoAAOjZa++Yji3SMssjnrTsANZlZSNeiMEu/iZebtkDXgyEz3jWJZOXizpx4oQkSdX1PZc+fs6IN3YeSZIkqZcOv+2rZ77/laTaG/t3TJJ20natdMRbJb9CE4De5B8Ovuf5swMAANCpeCZefO97yStSeskbJKnO8s/pAOvS7Ih34+tv2tYz8ACgZkfvPfvDwdOvnh0EAIBOlSPea2+XpDoz4gHrtrIRL/+tulX8Os2x6478XTwAWnXznWd/OPiBF84OAgBAp4x4klrIiAes20pGvDyy3Xrb6X/pCjHiLfvv4gFAL/7ti1P63uendPWbZgcAAKBTRjxJLWTEA9ZtJSPeiY2NyVg3/Ht1cTzGvXgJAJx192dTesrsh4N/f8XsIAAAdMqIJ6mFjHjAuq3smXgx4g3HOiMeAIz7X285+8PBdx+cHQQAgE4Z8SS1kBEPWLeVjHgh/j7d8Fdnxq/XHP6KTQDAM/EAANhbjHiSWsiIB6zbSka8eKbdxc++JO3bf2DT4jyelQcAZz38yOwVAADomBFPUgsZ8YB1W9kz8QAAAABgjBFPUgsZ8YB1M+IBAAAAsKuMeJJayIgHrNvSRjy/QhMAzk/+4eDHXjw7AAAAnTLiSWohIx6wbit7Jt6tt90+qXT4+hvSkaPHZm8BANlTX3z2h4On+AEBAIDOGfEktZARD1i3lYx48Uy7GOxOnjw1OzI17zgA7HU/cY0RDwCAvcOIJ6mFjHjAuq1sxDt05VVP+LWZ844DACn9yP9I6ft+JqVPPjA7AAAAnTLiSWohIx6wbisZ8UI84y4Gu/JZd3EsAmBveceHz37jKy2jp10xu3MBANAkI56kFso/gwKsy8pGvBB/E2/f/gNnMuAB7E1GPC07Ix4AQNuMeJJaKP8MCrAuKx3xAIDFPe8V0x8O7rp3dgAAADplxJPUQkY8YN2MeABQCSMeAAB7hRFPUgsZ8YB1W9qId2JjI1387EvO+fWZY8V54rwAwLmMeAAA7BVGPEktZMQD1s0z8QCgEkY8AAD2CiOepBYy4gHrZsQDgEoY8QAA2CuMeJJayIgHrNtKRryxX63p12gCwOaMeAAA7BVGPEktZMQD1m3pI97x++5Pz3jWJZOXpXnHAYApIx4AAHuFEU9SCxnxgHVb6oh38uSpdM21180d6uJ4nB7nAwDOZcQDAGCvKEc8Sao1Ix6wbksd8eLXZR6+/oa5I10cj9P9Wk0AeCIjHgAAe0Ue8SSphQDWZekj3qErr5o70hnxAGA+Ix4AAHuFZ+JJaiEjHrBuSx3xQox0R44em711rjgeI59fpwkAT2TEAwBgr/A38SS1kBEPWLelj3jxd+8uuPCidOttp/+VK8SAF8fn/b08ANjrjHgAAOwVRjxJLWTEA9Zt6SNeiGfaxTPu9u0/cCbPwAOAzRnxAADYK4x4klrIiAes20pGPABg+4x4AADsFUY8SS1kxAPWzYgHAJUw4gEAsFcY8SS1kBEPWDcjHgBUwogHAMBeYcST1EJGPGDdjHgAUAkjHgAAe4URT1ILGfGAdTPiAUAljHgAAOwVRjxJLWTEA9bNiAcAlTDiAQCwVxjxJLWQEQ9YNyMeAFTCiAcAwF5hxJPUQkY8YN2MeABQCSMeAAB7hRFPUgsZ8YB1M+IBQCWMeAAA7BVGPEktZMQD1s2IBwCVMOIBALBXGPEktZARD1g3Ix4AVMKIBwDAXmHEk9RCRjxg3Yx4AFAJIx4AAHuFEU9SCxnxgHUz4gFAJYx4AADsFUY8SS1kxAPWzYgHsEPv+LC03J52xfSHg3hAY+x0aacZhgGA2hjxJLWQEQ9YNyMewA7lb+QkqfbiQTIAgJoY8SS1UP6ZCmBdjHgAO5S/kfuJaySpzi78+em/U0Y8AKA2RjxJLZQf+wFYFyMewA7lb+TGvsmTpBqKB8Um/04Z8QCAyhjxJLVQfuwHYF2MeAA7lL+RG/smT5JqyIgHANTKiCephfJjPwDrYsQD2KH8jdzYN3mSVENGPACgVkY8SS2UH/sBWBcjHsAO5W/kxr7Jk6QaMuIBALUy4klqofzYD8C6GPEAdih/Izf2TZ4k1ZARDwColRFPUgvlx34A1sWIB7BD+Ru5sW/yJKmGjHgAQK2MeJJaKD/2A7AuRjyAHcrfyI19kydJNWTEAwBqZcST1EL5sR+AdTHiAexQ/kZu7Js8SaohIx4AUCsjnqQWyo/9AKyLEQ9gh/I3cmPf5ElSDRnxAIBaGfEktVB+7AdgXYx4ADuUv5Eb+yZPkmrIiAcA1MqIJ6mF8mM/AOtixAPYofyN3Ng3eZJUQ0Y8AKBWRjxJLZQf+wFYFyMewA7lb+TGvsmTpBoy4gEAtTLiSWqh/NgPwLoY8QB2KH8jN/ZNniTVkBEPAKiVEU9SC+XHfgDWpekR7/D1N6R9+w9MOnL02OwowO7I38iNfZMnSTVkxAMAamXEk9RC+bEfgHVpdsS79bbbJyNeOH7f/engZZenExsbk7cBdkP+Rm7smzxJqiEjHgBQKyOepBbKj/0ArEuTI97Jk6fSNddeNxnvshj0PBsP2E35G7mX3CRJdfYT10z/nTLiAQC1MeJJaqH82A/AujQ54sUz7g5dedU5z7yLZ+ZFALslfyMnSbVnxAMAalOOeC95gyTVWf6ZCmBd9tyI90M/9EOStJTyN3KSVHvf91/eMPrvmCRJ0rqK70/Gvm+RpBob+3dMknbSdnkmHsAOPe8V0nJ72hXTHw7i5djp0k57x4dn/3ABAFQinok39n2LdD7Fz1Njx6XzDWBdmhzx/E08AHoUPxjED5133Ts7AAAAwELuuufsiAcAvWhyxAvxrLsY7kKMeQcvu/ycZ+YBQGuMeAAAADtjxAOgR82OePFsvPiVmvv2H0gXXHjROc/KA4AWGfEAAAB2xogHQI+aHfEAoDdGPAAAgJ0x4gHQIyMeAFTCiAcAALAzRjwAemTEA4BKGPEAAAB2xogHQI+MeABQCSMeAADAzhjxAOiREQ8AKmHEAwAA2BkjHgA9MuIBQCWMeAAAADtjxAOgR0Y8AKiEEQ8AAGBnjHgA9MiIBwCVMOIBAADsjBEPgB4Z8QCgEkY8AACAnTHiAdAjIx4AVMKIBwAAsDNGPAB6ZMQDYOUe/HJK7/iwtuppV0x/6HztHeOn69wAAAAyIx4APTLiAbByMbjED1PSsorBEwAAIDPiAdAjIx4AKxe/HvIXb5KWVzxbEQAAIDPiAdAjIx4AAAAA0DQjHgA9MuIBAAAAAE0z4gHQIyMeAAAAANA0Ix4APTLiAQAAAABNM+IB0CMjHgAAAADQNCMeAD0y4gEAAAAATTPiAdAjIx4AAAAA0DQjHgA9MuIBAAAAAE0z4gHQIyMeAAAAANA0Ix4APTLiAQAAAABNM+IB0CMjHgAAAADQNCMeAD0y4gEAAAAATTPiAdAjIx4AAAAA0DQjHgA9MuIBAAAAAE0z4gHQIyMeAAAAANA0Ix4APTLiAQAAAABNM+IB0CMjHgBU4hdvSuk5L0/pzmOzAwAAACzEiAdAj4x4AFCBu+6d/sDph04AAIDtM+IB0CMjHgBU4DNfPDvi/dKbZgcBAABYiBEPgB4Z8QCgEg+c/n/FH/307A0AAAAWZsQDoEdGPAAAAACgaUY8AHpkxAMAAAAAmmbEA6BHRjwAAAAAoGlGPAB6ZMQDAAAAAJpmxAOgR0Y8AAAAAKBpRjwAemTEAwAAAACaZsQDoEdGPAAAAACgaUY8AHpkxAMAAAAAmmbEA6BHRjwAAAAAoGlGPAB6ZMQDAAAAAJpmxAOgR0Y8AAAAAKBpRjwAemTEAwAAAACaZsQDoEdGPAAAAACgaUY8AHpkxAMAAAAAmmbEA6BHRjwAAAAAoGlGPAB6ZMQDAAAAAJpmxAOgR0Y8AAAAAKBpRjwAemTEAwAAAACaZsQDoEdGPAAAAACgaUY8AHpkxAMAAAAAmmbEA6BHRjwAAAAAoGlGPAB6ZMQDAAAAAJpmxAOgR82OeMfvuz9dcOFFad/+A5OX8TYAAAAAsPcY8QDoUbMj3vv/5EPpxMbG5PUY8A5edvmZtwEAAACAvcOIB0CPmh3xSjHeHbryKiMeAAAAAOxBRjwAetTFiBfPxLvm2uvSyZOnZkcAAAAAgL3CiAdAj5of8WK4i2fhHTl6bHZkcydOnJAkSZIkSZLUUe+969HJiPdTv/yN0dMlSaqh7ap2xItRbt/+A+d0wYUXTZ51l8Xrz3jWJeccAwAAAAD2Fs/EA6BHzT4Tz6/QBAAAAACCEQ+AHjU74t34+ps8Aw8AAAAAMOIB0KUmR7z8d/CGv25z0b+LBwAAAAD0w4gHQI+afSYeAAAAAEAw4gHQIyMeAAAAANA0Ix4APTLiAQAAAABNM+IB0CMjHgAAAADQNCMeAD0y4gEAAAAATTPiAdAjIx4AAAAA0DQjHgA9MuIBAAAAAE0z4gHQIyMeAAAAANA0Ix4APTLiAQAAAABNM+IB0CMjHgAAAADQNCMeAD0y4gEAAAAATTPiAdAjIx4AAAAA0DQjHgA9MuIBAAAAAE0z4gHQIyMeAAAAAFTstXdokfKIN3aazi1GTwDqZ8QDAAAAgIrFMBUDlbSsjHgAbTDiAQAAAEDFxp5JJZ1PRjyANhjxAAAAAAAAoDJGPAAAAAAAAKiMEQ8AAAAAAAAqY8QDAAAAAACAyhjxAAAAAAAAoDJGPAAAAAAAAKiMEQ8AAAAAAAAqY8QDAAAAAACAyhjxAAAAAAAAoDJGPAAAAAAAAKiMEQ8AAAAAAAAqY8QDAAAAAACAyhjxAAAAAAAAoDJGPAAAAAAAAKiMEQ8AAAAAAAAqY8QDAAAAAACAyhjxAAAAAAAAoDJGPAAAAAAAAKiMEQ8AAAAAAAAqY8QDAAAAAACAyhjxAAAAAAAAoDJGPAAAAAAAAKiMEQ8AAAAAAAAqY8QDAAAAAACAyhjxAAAAAAAAoDJGPACowPH77k8XXHhR2rf/QDp05VXp5MlTs1MAAABYxK233e7nKQC6YsQDgDU7sbGRDl52+WTIC4evv2HywycAAABby/+jyGuuvW6SEQ+AXhjxAGDNjhw9NhnusvgB1A+eAAAA2+NnKQB6Y8QDgDWLZ92Vz7yLZ+bFr4CJlwAAACzGiAdAb4x4ALBmRjwAAIDzZ8QDoDdGPABYMyMeAADA+TPiAdAbIx4ArJm/iQcAAHD+/CwFQG+MeACwZvGMu4OXXT75gTPEoFc+Mw8AAICtGfEA6I0RDwAqEM/G27f/wKTyWXkAAAAsxogHQG+MeAAAAAAAAFAZIx4AAAAAAABUxogHAAAAAAAAlTHiAQAAAAAAQGWMeAAAAAAAAFAZIx4AAAAAAABUxogHAAAAAAAAlTHiAQAAAAAAQGWMeAAAAAAAAFAZIx4AAAAAAABUxogHAAAAAAAAlTHiAQAAAAAAQGWMeAAAAOzI8fvuT8941iWTlwAAACyXEQ8AAKBCJzY20qErr5q8LMVgds2116WTJ0/NjizHkaPHJu8vX2+834uffUnat//AmS648CKDHQAAwC4x4gEAAFSohhFv+P7jfceQd+ttt8+OAAAAsCpGPAAAgAotOuLF6fkZc8Nnyh2+/oYzz6IrB7oY4eI64lhc9k1v+Z0z54ti0Nvs/R+87PLJ8fL1ENebryPedzbveB4F82nxfrPtXhcAAEBvjHgAAAAV2mxEyyNeFOfJ41c5qkU3v/Vtk+P5fDGAhXg5HPwWeSZeKN9n+f6Gl8+Gx2N4yx/Hu97zR2c+hjhfDIo7vS4AAIDeGPEAAAAqFGPW8G/S5fKQNRy14mUMfOU4l8XYVY54w2exDa9r3ogX4rJx/nLEK1/P4rriOuK8Wbw+9gy68v2d73UBAAD0wIgHAABQoXLUKsXAlZ+JFyPW2MiXh64Y68rjyxjx4vQ8FA7Htvzx5GfU5eGt/Bii/H7iPOVQmS+3k+sCAADojREPAACgQjFcjY1owxFv3jPRhkNdvL2MEa8839gz5kI+z8bGX899ZmBcJi6bT9vq/W12XQAAAD0y4gEAAFRo3qhVjnhxWjxTLYauoRjp8mgX543rOt8RL85T/i29eDk24pXH432V15sNLxvXXT4TL1vkugAAAHpkxAMAAKhQjFbDES3EqJVHvPx2DGvDXy8Zl8u/qjJOj8tsNuLFZeKycf4Y1MrLD687Kwe2uEw+Xzn0hXhf5fXEeUN8HPlYXHf+fHdyXQAAAC167nOfO2mMEQ8AAAAAAADWwIgHAAAAAAAAlTHiAQAAAAAAQGWMeAAAAAAAAFAZIx4AAAAAAABUxogHAAAAAAAAlTHiAQAAAAAAQGWMeAAAAAAAAFAZIx4AAAAAAADsojzQLdIYIx4AAAAAAAAs2dhYN68xRjwAAAAAAACojBEPAAAAAAAAKmPEAwAAAAAAgMoY8QAAAAAAAKAyRjwAAAAAAACozDkj3qOPnZQkSZIkSZIkSZK05ox4kiRJkiRJkiRJUmUZ8SRJkiRJkiRJkqTKMuJJkiRJkiRJkiRJldXdiPfQxlfSPZ99KH300w+mo/d+XlqouL/E/SbuP2P3K0mSJEmSJEmSpN2sqxEvBpgYYx740kZ65CuPjZ5HGivuL3G/ifuPIU+SJEmSJEmSJK27rka8eCZVDDFjp0mLFPefuB+NnSZJkiRJkiRJkrRbdTXixbOoPANP51Pcf+J+NHaaJEmSJEmSJEnSbtXViBd/22zsuLSd3I8kSZIkSZIkSdK6M+JJg9yPJEmSJEmSJEnSujPiSYPcjyRJkiRJkiRJ0roz4kmD3I8kSZIkSZIkSdK6M+JJg9yPJEmSJEmSJEnSujPiLdhnPvfFdP0bb00veOmr0ptvv3P0POojI54kSZIkSZIkSVp3uzbivfRVvzVp7LRltarxJQa8+NgvvuylkyEvXhry+s2IJ0mSJEmSJEmS1p0Rb4vKAe+uT917zjPyxs5/Pn3p4UfSS65+WfrEn989efvaV7560vB8O+nNb7s1vejFvzB5H2On77QHHvxiet4LLlvJxxwt+/oWaRn3o/iY4zYfO20Zxe394z/5nDO3+6ob+zqv8vOTJEmSJEmSJM0vHqv9kaf+x0nLeJw4Hu9d1mPxcV27+fjxcFvpKSPeJpUDXox28XY+tujnEneeGM/27T9wpnlj2mZ3tDgWI0qMKcPT/vhP/nT0OofDyypa5vvIt1V8PmOn71bbuR/FP2r561r+Y9nbyLWdES++fvk2efozn/OE+2xcR9xW5eXj9XyZsnXfFyRJkiRJkiRpVZWPpW73MdFlPwYd17VbI148ZhyPHY+9v81Om9dm20rrGfHmVA547/rgkTNDXj4Wz8obu9yw7dx5djriDQeWXPzHvqz/6OY1733vpNZGvLhty9s3boOPHPv4mdOW+Q/ouht+ned9fnF6+QzB4T/88Xp8jeN+vtntE/eBeWO3JEmSJEmSJPXQ8DH8eFx13g4wLC63zMfSh4/lnk9xXfMe/43jMdJd/5rffML72+y0zTLi7bAYv/LrwxGvPG1ZLWvEKwe8PNbFy3h7OwNetNWdJ+6UeWH/jTfefM55404ap8d/iOUSP3bnz+fNbw8HsTgt3+njH4D4DyGuKz97LI7F+ct/HOL8+fLlZcqPIY6PjTvxdlx3Pn+UR5nhafE+htefzzv8vOL1fJ7ymW/543j7HX9w5rrz57vdtjPizftHMk6Lr2d8HsOPNRreBvlzjOsrP+44nm+L/HYUl8//mOfX43MfXl8urjOfFucbfq1zw4+r/PqPfZ3Ly0b548tvx+XG3te8y0eL/DcTp8f1xn0m3wZjt2ccj/Pm2y8+n3yZ/Ha+vcvbaN7HJkmSJEmSJEnLavh48PCx0Xgcc/hYfpwnP+4cxetHPvqJyeO3MX7Fsfy47rzHPOP1fDy//zgWr5eXydcTlY/Blo+xDk+LjyceG9/qMdb8/rZ7Wq78HIbbSnla/ljz7Tb8nPLj7OVlNvu4htebT9vqNihv1+FlN2tlI14evd58+52Tt8sRL/6m3HbHsEVaxog3NuCNHVu0zQaJuLPEFzMPDPEFzf8hxtvxRc1f5PLOlC9fNryu4fnjeuL6xu6oUZwvjpfXH+fP54uX+fW47vxsqzj/VuPO8DwxIuXX4zo3+4+ovL7yvPF2XEf+HKM4Ld8G+e3yuhZt0ftRXHf59SqLj3v4tYzi9eHHVn7ecVr5dYh/dPPbcb58Xyo/93g93le+/nh7q2fDlbdj2byvTbTV1zmKY+Xx8mMuzzfv8lG83/LjHRaXK2/b+Njm3Z7D9x+f3yXPP/fziPPFdW72PiVJkiRJkiRp2Q0fC42382Pc5eOccVo8ppkfE46382Ob+bR4zLR8zLV8zLO8rvJ95PPm88fAlK8z3s7nGz4+XF7H8LSxj2Ws8uPbzmnR8HOI8+fHjONYDGj5tLiefF3D6423o3m3Sdlm17vVbRAvy+tf5P3lVvpMvBjw8pCXR7w84MXLscucT+c74i17wIviixBfjLywRvEFy8fzfxD5vOXgEHeA/EWOY+V/oMOGl43LDe+M+e3yenNxvfHxlNcf5ys/vlz5voZ3zrHrHjuWK9/v2G2SLzt2Wj49jg0/jvKy5fkXaTv3o3h/8R9j/gciHx++7/gY4+OPzyOOx+n5tHx6HCs/z/ic4ljc1uXbcZ54X/n+UL4e1zW8juHtEsfi9Hz+eZXnG17P8PPLxfssB8J4e3jbRPMuP+/rXDa8/Ta7PeP1/L7iuuP1GEbLt+NjjfPH+41j5fVIkiRJkiRJ0qqKxyXL7aB8nHP4mGW8HO4H+XHU4WPEw8dzo3hMNBqetzy9fP/l+YanxbH82PHwtCi/r/LYsLHLLXJa3A7Dx5CHt01ZnC9fV5we54vzl5eZd5tsVnm9m90GcZ3Dr8VmH++wlY54UR7yylYx4EXnM+KtYsCL5n0xxo4Pj8UXPb7I8Xoc2+pOlO8oY9dd3oni9LiT50ExjpX/0eXLxPnzfwjlZaI8zAzvgOXHHJV35FxcJoaefF159Mnvo/yPL1/f2OcUxWnR8OMoTyvPv0g7uR/F+43bJH/sw9shTo+PPz6PsY9r7PS4ruHLfFvG+fP9oXw9X1+cL84fx4Zf17Fj5WljX5tos69zWRzPl4/PaezrNu/y5e0wPC0Xl8u3Q357eF3l9eTbLY7FgFe+LN9X/rjjttns/UuSJEmSJEnSMho+5lv+hrU4LT/OWhbH4/S4XH49LlM+Rjx8nDeX31e+7vz4bxwbPu4ax/PjyPmx07K8EYw9Pjt2bFicXr6/RU+Lx26HjzkPjw1vu3xd5fmi8vHhsdtk2LzrHft887HydixPj8vmr99mrXzEi8ohb1UDXrTTEW9VA140dofKx+MLV36R4os4byiJY8OhZlg+T1xneeeL4nqGd/ryYxi7I+U70fBjLT+nzT7msescnr88z9htkq9v7LR8ev74y+uN4nL5Y9lOO70fxceRb+Pydoji48pfkziez5crL5vP+5Zbfn/yen47nqqbP/84lu8P5ev5+ja7XcbOHw3PG2/nr83wtOHnN684//C+GM27fBzb6nqHt9/w7ai8PfPnEb9KM98m+e15H8Pw+iRJkiRJkiRp2ZWPY0blY5PD04bFaXGeeH34mG9+DDS/Pa+4fJxv7HHr8jritLHHUqOxx1Pj7Xnnz41dbpHTxraC+Bjz49fl5xSnDW/HeDuuP5ePl6eXl593vLzesY833o7j5ceWT4vryBtLeZmxdmXEi2LIW+WAF+10fFnVgBdt9sWIL2D5RY+3y189mL/I8XocK/8jHCuuJ64v/uZXvlwu3h7eiaL8PvJl444Xx+NlLMnxcngni5eL/E28eD1fX274ecTpedkefgxReX3xslzBy+safhz5/Pmy22mR+1F8rOXvv43iY43y6+X7jo8rj1nxevmsveHnnT+XOJZvl7hsfjtfX/7cy9fz+ytv+/Ljym+P/a8JhtdTfm2i8vYdfn5jDT+vsrHL588zv495xeXKzyfOv9ntma+3/Ft48Uy88u2yuFxc/rMPfmnuxy9JkiRJkiRJ51s89lg+1lk+thmPycbjs/Men4zL5dPicc6xx4jL6x6rvNzwcdc4Fh9LvIzzlc8SLBueFi/j8dqtHj8evr9FT4vi9PjY4vbKb5fPDCwvG68PP694vDgqb69cXMfwtow2u96tboM4X/nxxtetfHuzdm3E2412OuLFWBcjY7y+zAEvyv/RlU+xLAeU+OLl4zEKlSNGnJa/yOV5y2PD4rR8Zx0ej8sPP544ls8Td5zyeJT/EShPiztwXEe8j/g8xsad8vy5fKeM08tjUb498uXyefP15Y+xvGx5Ow4/jnze8rKLtuj9aPg5lrfl8OOOjyu+tvk/yng7vk75svl2zsXly+uL68q3Sbwdl8//kJSvl5fP1zn8mscz0MrbvKy8feM8+XzD23f4+eXifPF1ydcx/LxyY5cf+zzGisuVt0201e05vP3i9PL+U37e+Xi+3eZ9DpIkSZIkSZJ0PsVjj8PHOuNYfox/+Lhn+Rhn+Rjw2GOrw8eF83XGZYbH4vzDx13juvLjw/F2ebmoPG95Wlwmto7h47/Dxh7nXeS0XJye32e5rQw/7zjf8LqGx+bdJmVbXe9Wt0Gctzw9fx23yoh3uhjs4lmC7/rgkaUOeGqznd6PWin+ASoHRUmSJEmSJEmS9koxqMXoNnbaslrW+1j6iBfPaNtJY9e13XY6vrzgpa+aDHdRvG7A29v1POLl/7XAVv8rCEmSJEmSJEmSems3nuQS4135m+DOp6WPeHkM225j17Xddjq+xK/QzI2drr1VbyNe+TTdqHyKryRJkiRJkiRJvZef4DLv12WeT3F95a89Xeb7WPqIt856/zWI2p3cjyRJkiRJkiRJ0roz4kmD3I8kSZIkSZIkSdK6M+JJg9yPJEmSJEmSJEnSujPiSYPcjyRJkiRJkiRJ0rrrasT76KcfTI985bHR06RFivtP3I/GTpMkSZIkSZIkSdqtuhrx7vnsQ+mBL22MniYtUtx/4n40dpokSZIkSZIkSdJu1dWI99DGVybPooohxjPytJ3i/hL3m7j/xP1o7DySJEmSJEmSJEm7VVcjXhQDTDyTKsaY+Ntm0iLF/SXuNwY8SZIkSZIkSZJUQ92NeJIkSZIkSZIkSVLrGfEkSZIkSZIkSZKkyjLiSZIkSZIkSZIkSZVlxJMkSZIkSZIkSZIq65wRT5IkSZIkSZIkSVIdTUa8yf8FAAAAAAAAqmHEAwAAAAAAgMoY8QAAAAAAAKAyRjwAAAAAAACojBEPAAAAAAAAqpLS/web0BxcRVOHxgAAAABJRU5ErkJggg==)"
      ],
      "metadata": {
        "id": "eaKa-gK6sv-U"
      }
    },
    {
      "cell_type": "markdown",
      "source": [
        "After looking through these boxplots I've noticed significant differences in distribiutions of columns MaxHR, Age and Oldpeak when divided basing on target column.\n",
        "\n",
        "According to IQR method there are some outliers but since I have no domain knowledge I'm going to leave them as they are. \n",
        "\n",
        "#Training\n",
        "\n",
        "I'll create a final holdout set from 10% of data and for model and hyperparameter selection I'll use 4-fold crossvalidation. I'm also going to impute mean for missing values in cholesterol column. Technically speaking\n",
        "imputing should happen inside a pipeline passed to crossvalidator so there is no data leakage but including imputer inside of a pipeline causes error when saved pipeline is loaded. Also differences between mean of whole training set and means of each fold's train data will probably be negligible."
      ],
      "metadata": {
        "application/vnd.databricks.v1+cell": {
          "showTitle": false,
          "cellMetadata": {},
          "nuid": "c580d11e-b1ff-4d8a-9677-62323ccaf38e",
          "inputWidgets": {},
          "title": ""
        },
        "id": "m625VwzIreVE"
      }
    },
    {
      "cell_type": "code",
      "source": [
        "train_spdf, test_spdf = spdf.randomSplit([.9, .1], seed=42)"
      ],
      "metadata": {
        "application/vnd.databricks.v1+cell": {
          "showTitle": false,
          "cellMetadata": {},
          "nuid": "4b6b7351-ae64-4333-b2f4-98277f168caf",
          "inputWidgets": {},
          "title": ""
        },
        "id": "LKnX6w5IreVE"
      },
      "outputs": [],
      "execution_count": null
    },
    {
      "cell_type": "code",
      "source": [
        "imputer = Imputer(inputCol='Cholesterol', outputCol='Cholesterol_imp', missingValue=np.nan)\n",
        "imputer_fitted = imputer.fit(train_spdf)\n",
        "train_spdf = imputer_fitted.transform(train_spdf)\n",
        "test_spdf = imputer_fitted.transform(test_spdf)"
      ],
      "metadata": {
        "application/vnd.databricks.v1+cell": {
          "showTitle": false,
          "cellMetadata": {},
          "nuid": "620ad744-130e-4450-bb80-e85bdb140fb1",
          "inputWidgets": {},
          "title": ""
        },
        "id": "IHdoSv2creVF"
      },
      "outputs": [],
      "execution_count": null
    },
    {
      "cell_type": "code",
      "source": [
        "train_spdf = train_spdf.withColumn('cholesterol_imputed', when(col('Cholesterol') == col('Cholesterol_imp'), 0).otherwise(1)).withColumn('Cholesterol', col('Cholesterol_imp')).drop('Cholesterol_imp')\n",
        "test_spdf = test_spdf.withColumn('cholesterol_imputed', when(col('Cholesterol') == col('Cholesterol_imp'), 0).otherwise(1)).withColumn('Cholesterol', col('Cholesterol_imp')).drop('Cholesterol_imp')"
      ],
      "metadata": {
        "application/vnd.databricks.v1+cell": {
          "showTitle": false,
          "cellMetadata": {},
          "nuid": "9643659f-913e-4e94-b205-0fc6a51a89c4",
          "inputWidgets": {},
          "title": ""
        },
        "id": "q_IwEeqBreVF"
      },
      "outputs": [],
      "execution_count": null
    },
    {
      "cell_type": "code",
      "source": [
        "train_spdf.write.mode('overwrite').format('delta').save('dbfs:/FileStore/tables/heart_train.delta')\n",
        "test_spdf.write.mode('overwrite').format('delta').save('dbfs:/FileStore/tables/heart_test.delta')"
      ],
      "metadata": {
        "application/vnd.databricks.v1+cell": {
          "showTitle": false,
          "cellMetadata": {},
          "nuid": "15c0a272-3bb4-4dd6-bd7e-b3572ea35451",
          "inputWidgets": {},
          "title": ""
        },
        "id": "qQ3fS3ywreVF"
      },
      "outputs": [],
      "execution_count": null
    },
    {
      "cell_type": "code",
      "source": [
        "train_spdf = spark.read.format('delta').load('dbfs:/FileStore/tables/heart_train.delta')\n",
        "test_spdf = spark.read.format('delta').load('dbfs:/FileStore/tables/heart_test.delta')"
      ],
      "metadata": {
        "application/vnd.databricks.v1+cell": {
          "showTitle": false,
          "cellMetadata": {},
          "nuid": "35c3807b-c82f-468e-b71f-646f8092c6d8",
          "inputWidgets": {},
          "title": ""
        },
        "id": "WJCoCbkPreVF"
      },
      "outputs": [],
      "execution_count": null
    },
    {
      "cell_type": "code",
      "source": [
        "train_spdf.cache()"
      ],
      "metadata": {
        "application/vnd.databricks.v1+cell": {
          "showTitle": false,
          "cellMetadata": {},
          "nuid": "060b77f0-0b62-4c4e-ae65-d539997097b5",
          "inputWidgets": {},
          "title": ""
        },
        "id": "SqJA9-AHreVG",
        "outputId": "217c6f33-9e63-40e1-eb2c-add602a1a244"
      },
      "outputs": [
        {
          "output_type": "display_data",
          "metadata": {
            "application/vnd.databricks.v1+output": {
              "datasetInfos": [],
              "data": "Out[4]: DataFrame[Age: int, Sex: string, ChestPainType: string, RestingBP: int, Cholesterol: double, FastingBS: int, RestingECG: string, MaxHR: int, ExerciseAngina: string, Oldpeak: double, ST_Slope: string, HeartDisease: int, cholesterol_imputed: int]",
              "removedWidgets": [],
              "addedWidgets": {},
              "metadata": {},
              "type": "ansi",
              "arguments": {}
            }
          },
          "data": {
            "text/plain": [
              "Out[4]: DataFrame[Age: int, Sex: string, ChestPainType: string, RestingBP: int, Cholesterol: double, FastingBS: int, RestingECG: string, MaxHR: int, ExerciseAngina: string, Oldpeak: double, ST_Slope: string, HeartDisease: int, cholesterol_imputed: int]"
            ]
          }
        }
      ],
      "execution_count": null
    },
    {
      "cell_type": "code",
      "source": [
        "print(train_spdf.rdd.getNumPartitions())\n",
        "print(test_spdf.rdd.getNumPartitions())"
      ],
      "metadata": {
        "application/vnd.databricks.v1+cell": {
          "showTitle": false,
          "cellMetadata": {},
          "nuid": "36764fe2-7f65-4168-9776-c1d61e1fb140",
          "inputWidgets": {},
          "title": ""
        },
        "id": "moarJe3ureVG",
        "outputId": "db9f2020-1aca-4748-b300-ea8954205019"
      },
      "outputs": [
        {
          "output_type": "display_data",
          "metadata": {
            "application/vnd.databricks.v1+output": {
              "datasetInfos": [],
              "data": "1\n1\n",
              "removedWidgets": [],
              "addedWidgets": {},
              "metadata": {},
              "type": "ansi",
              "arguments": {}
            }
          },
          "data": {
            "text/plain": [
              "1\n1\n"
            ]
          }
        }
      ],
      "execution_count": null
    },
    {
      "cell_type": "code",
      "source": [
        "numerical = numerical + ['cholesterol_imputed']"
      ],
      "metadata": {
        "application/vnd.databricks.v1+cell": {
          "showTitle": false,
          "cellMetadata": {},
          "nuid": "8031bbe8-e798-45a5-ae67-937470dcc167",
          "inputWidgets": {},
          "title": ""
        },
        "id": "MtMcNK7ireVG"
      },
      "outputs": [],
      "execution_count": null
    },
    {
      "cell_type": "markdown",
      "source": [
        "#Logistic regression\n",
        "\n",
        "I'll put all the necessary preprocessing steps and classifier inside a pipeline."
      ],
      "metadata": {
        "application/vnd.databricks.v1+cell": {
          "showTitle": false,
          "cellMetadata": {},
          "nuid": "ec850c10-4a3b-4150-8ee8-679c1592b7b3",
          "inputWidgets": {},
          "title": ""
        },
        "id": "H-LhQpvPreVG"
      }
    },
    {
      "cell_type": "code",
      "source": [
        "index_output_cols = [x + 'Index' for x in categorical]\n",
        "string_indexer = StringIndexer(inputCols=categorical, outputCols=index_output_cols, handleInvalid='skip')\n",
        "\n",
        "ohe_output_cols = [x + 'OHE' for x in categorical]\n",
        "ohe_encoder = OneHotEncoder(inputCols=index_output_cols, outputCols=ohe_output_cols)\n",
        "\n",
        "assembler_input = ohe_output_cols + numerical + categorical_numeric\n",
        "vec_assembler = VectorAssembler(inputCols=assembler_input, outputCol='features')\n",
        "\n",
        "log_reg = LogisticRegression(labelCol='HeartDisease')\n",
        "log_reg_pipeline = Pipeline(stages=[string_indexer, ohe_encoder, vec_assembler, log_reg])\n",
        "\n",
        "evaluator = MulticlassClassificationEvaluator(labelCol='HeartDisease', metricName='accuracy')"
      ],
      "metadata": {
        "application/vnd.databricks.v1+cell": {
          "showTitle": false,
          "cellMetadata": {},
          "nuid": "a99accea-3893-4897-9409-f51ca343546c",
          "inputWidgets": {},
          "title": ""
        },
        "id": "EN2cVizireVH"
      },
      "outputs": [],
      "execution_count": null
    },
    {
      "cell_type": "markdown",
      "source": [
        "To find optimal hyperparameters I'm going to use Hyperopt. Hyperopt is a bayesian method that finds optimal hyperparameters much faster than grid or random search. Hyperopt will be maximizing accuracy to find these optimal hyperparameters. \n",
        "\n",
        "I'll log values of hyperparameters and accuracy achieved for each fitted model using MLFlow. It will allow me to compare these models with eachother and see which values give the best results."
      ],
      "metadata": {
        "application/vnd.databricks.v1+cell": {
          "showTitle": false,
          "cellMetadata": {},
          "nuid": "e94c06a8-3c35-43a1-8987-e4037d2abaec",
          "inputWidgets": {},
          "title": ""
        },
        "id": "mLocCD55reVH"
      }
    },
    {
      "cell_type": "code",
      "source": [
        "search_space = {\n",
        "     'elasticNetParam': hp.uniform('elasticNetParam', 0, 1),\n",
        "     'regParam': hp.uniform('regParam', 0, 3),\n",
        "     'threshold': hp.uniform('threshold', 0.3, 0.8)\n",
        "}"
      ],
      "metadata": {
        "application/vnd.databricks.v1+cell": {
          "showTitle": false,
          "cellMetadata": {},
          "nuid": "eae60535-3ccd-4b6e-be0a-89a90a32fe87",
          "inputWidgets": {},
          "title": ""
        },
        "id": "E7as2eTnreVH"
      },
      "outputs": [],
      "execution_count": null
    },
    {
      "cell_type": "code",
      "source": [
        "def objective_log_reg(params):\n",
        "    \n",
        "    param_grid = (ParamGridBuilder()\n",
        "                  .addGrid(log_reg.elasticNetParam, [params['elasticNetParam']])\n",
        "                  .addGrid(log_reg.regParam, [params['regParam']])\n",
        "                  .addGrid(log_reg.threshold, [params['threshold']])\n",
        "                  .build())\n",
        "    \n",
        "    cv_pipeline = CrossValidator(estimator=log_reg_pipeline, evaluator=evaluator, numFolds=4, seed=42, estimatorParamMaps=param_grid)\n",
        "    \n",
        "    with mlflow.start_run(nested=True):\n",
        "        cv_model = cv_pipeline.fit(train_spdf)\n",
        "        mlflow.log_param('elasticNetParam', params['elasticNetParam'])\n",
        "        mlflow.log_param('regParam', params['regParam'])\n",
        "        mlflow.log_param('threshold', params['threshold'])\n",
        "        mlflow.log_param('model_type', 'logistic_regression')\n",
        "        mlflow.log_metric('accuracy', cv_model.avgMetrics[0])\n",
        "        mlflow.log_metric('accuracy_std', cv_model.stdMetrics[0])\n",
        "    \n",
        "    return {'loss': -cv_model.avgMetrics[0], 'status': STATUS_OK, 'loss_variance': cv_model.stdMetrics[0]**2}"
      ],
      "metadata": {
        "application/vnd.databricks.v1+cell": {
          "showTitle": false,
          "cellMetadata": {},
          "nuid": "ecda7f54-96e0-46aa-8182-a692fdde0f66",
          "inputWidgets": {},
          "title": ""
        },
        "id": "TpPIgD8freVH"
      },
      "outputs": [],
      "execution_count": null
    },
    {
      "cell_type": "code",
      "source": [
        "trials = Trials()\n",
        "num_evals = 40\n",
        "\n",
        "with mlflow.start_run(run_name='logistic_regression_hyperparameter_search') as run:\n",
        "    best_hyperparam = fmin(fn=objective_log_reg, \n",
        "                           space=search_space,\n",
        "                           algo=tpe.suggest, \n",
        "                           max_evals=num_evals,\n",
        "                           trials=trials,\n",
        "                           rstate=np.random.default_rng(42),\n",
        "                           early_stop_fn=no_progress_loss(5))"
      ],
      "metadata": {
        "application/vnd.databricks.v1+cell": {
          "showTitle": false,
          "cellMetadata": {},
          "nuid": "66bcf8a6-9e6b-474d-bdcf-5d1932435e6e",
          "inputWidgets": {},
          "title": ""
        },
        "id": "SK_8noRYreVI",
        "outputId": "e28bda71-bfda-4669-e3ca-97b5e35b48a8"
      },
      "outputs": [
        {
          "output_type": "display_data",
          "metadata": {
            "application/vnd.databricks.v1+output": {
              "datasetInfos": [],
              "data": "\r  0%|          | 0/40 [00:00<?, ?trial/s, best loss=?]\r  2%|▎         | 1/40 [00:19<12:22, 19.03s/trial, best loss: -0.44088262246811705]\r  5%|▌         | 2/40 [00:31<09:34, 15.12s/trial, best loss: -0.559117377531883]  \r  8%|▊         | 3/40 [00:49<10:06, 16.38s/trial, best loss: -0.8022190359138652]\r 10%|█         | 4/40 [00:57<08:00, 13.34s/trial, best loss: -0.8022190359138652]\r 12%|█▎        | 5/40 [01:12<08:03, 13.81s/trial, best loss: -0.8546518983771928]\r 15%|█▌        | 6/40 [01:25<07:33, 13.34s/trial, best loss: -0.8546518983771928]\r 18%|█▊        | 7/40 [01:36<06:58, 12.67s/trial, best loss: -0.8546518983771928]\r 20%|██        | 8/40 [01:44<05:57, 11.18s/trial, best loss: -0.8546518983771928]\r 22%|██▎       | 9/40 [01:55<05:46, 11.17s/trial, best loss: -0.8546518983771928]\r 25%|██▌       | 10/40 [02:03<05:02, 10.09s/trial, best loss: -0.8546518983771928]\r 25%|██▌       | 10/40 [02:03<06:09, 12.32s/trial, best loss: -0.8546518983771928]\n",
              "removedWidgets": [],
              "addedWidgets": {},
              "metadata": {},
              "type": "ansi",
              "arguments": {}
            }
          },
          "data": {
            "text/plain": [
              "\r  0%|          | 0/40 [00:00<?, ?trial/s, best loss=?]\r  2%|▎         | 1/40 [00:19<12:22, 19.03s/trial, best loss: -0.44088262246811705]\r  5%|▌         | 2/40 [00:31<09:34, 15.12s/trial, best loss: -0.559117377531883]  \r  8%|▊         | 3/40 [00:49<10:06, 16.38s/trial, best loss: -0.8022190359138652]\r 10%|█         | 4/40 [00:57<08:00, 13.34s/trial, best loss: -0.8022190359138652]\r 12%|█▎        | 5/40 [01:12<08:03, 13.81s/trial, best loss: -0.8546518983771928]\r 15%|█▌        | 6/40 [01:25<07:33, 13.34s/trial, best loss: -0.8546518983771928]\r 18%|█▊        | 7/40 [01:36<06:58, 12.67s/trial, best loss: -0.8546518983771928]\r 20%|██        | 8/40 [01:44<05:57, 11.18s/trial, best loss: -0.8546518983771928]\r 22%|██▎       | 9/40 [01:55<05:46, 11.17s/trial, best loss: -0.8546518983771928]\r 25%|██▌       | 10/40 [02:03<05:02, 10.09s/trial, best loss: -0.8546518983771928]\r 25%|██▌       | 10/40 [02:03<06:09, 12.32s/trial, best loss: -0.8546518983771928]\n"
            ]
          }
        }
      ],
      "execution_count": null
    },
    {
      "cell_type": "code",
      "source": [
        "best_hyperparam"
      ],
      "metadata": {
        "application/vnd.databricks.v1+cell": {
          "showTitle": false,
          "cellMetadata": {},
          "nuid": "cb235388-6a4b-4d73-96e9-c434957834b7",
          "inputWidgets": {},
          "title": ""
        },
        "id": "eY7dX_BBreVI",
        "outputId": "fb91c787-c695-47e5-ad47-c855be5c9380"
      },
      "outputs": [
        {
          "output_type": "display_data",
          "metadata": {
            "application/vnd.databricks.v1+output": {
              "datasetInfos": [],
              "data": "Out[27]: {'elasticNetParam': 0.28735631985323384,\n 'regParam': 0.28993393703102743,\n 'threshold': 0.5514518773307409}",
              "removedWidgets": [],
              "addedWidgets": {},
              "metadata": {},
              "type": "ansi",
              "arguments": {}
            }
          },
          "data": {
            "text/plain": [
              "Out[27]: {'elasticNetParam': 0.28735631985323384,\n 'regParam': 0.28993393703102743,\n 'threshold': 0.5514518773307409}"
            ]
          }
        }
      ],
      "execution_count": null
    },
    {
      "cell_type": "markdown",
      "source": [
        "I'm going to retrain the model with hyperparameters found by Hyperopt. \n",
        "\n",
        "I'm also going to log the model, it's hyperparameters and metrics. This time I'm going to measure recall of class 1 which includes false negatives. In case of predicting heart disease false negatives might be the most expensive case of missclassification so I'll pick the best model basing on this metric. \n",
        "\n",
        "To avoid unncecessary computation I'm going to take accuracy and std of accuracy from previous run."
      ],
      "metadata": {
        "application/vnd.databricks.v1+cell": {
          "showTitle": false,
          "cellMetadata": {},
          "nuid": "e34127bc-407a-4579-a395-51fbe91ad6d9",
          "inputWidgets": {},
          "title": ""
        },
        "id": "bL1oxAf1reVI"
      }
    },
    {
      "cell_type": "code",
      "source": [
        "def get_child_runs(run):\n",
        "    experiment_id = run.info.experiment_id\n",
        "    filter_string = f'tags.mlflow.rootRunId = \"{run.info.run_id}\"'\n",
        "    results = mlflow.search_runs(experiment_ids=[experiment_id], filter_string=filter_string, order_by=['metrics.accuracy DESC'])\n",
        "    return results"
      ],
      "metadata": {
        "application/vnd.databricks.v1+cell": {
          "showTitle": false,
          "cellMetadata": {},
          "nuid": "69cb0426-b064-406c-b417-549c417dcdb3",
          "inputWidgets": {},
          "title": ""
        },
        "id": "VWfF253CreVJ"
      },
      "outputs": [],
      "execution_count": null
    },
    {
      "cell_type": "code",
      "source": [
        "results = get_child_runs(run)\n",
        "display(results[:1])"
      ],
      "metadata": {
        "application/vnd.databricks.v1+cell": {
          "showTitle": false,
          "cellMetadata": {},
          "nuid": "08d833c0-63b3-4c53-b62e-b0ded74dcfa2",
          "inputWidgets": {},
          "title": ""
        },
        "id": "Ua1N8DaDreVJ",
        "outputId": "20587c47-50b4-4e87-adb2-1c15ac7cc7d3"
      },
      "outputs": [
        {
          "output_type": "display_data",
          "metadata": {
            "application/vnd.databricks.v1+output": {
              "overflow": false,
              "datasetInfos": [],
              "data": [
                [
                  "60ee1f87dbe042a59547119e66207748",
                  "1078147073770475",
                  "FINISHED",
                  "dbfs:/databricks/mlflow-tracking/1078147073770475/60ee1f87dbe042a59547119e66207748/artifacts",
                  "2022-12-23T18:27:48.278+0000",
                  "2022-12-23T18:28:02.836+0000",
                  0.8546518983771928,
                  0.018458627644410155,
                  "0.28993393703102743",
                  "0.28735631985323384",
                  "0.5514518773307409",
                  "logistic_regression",
                  "1671820082968",
                  "7656130984396534",
                  "/Users/grudzinski133@gmail.com/Heart disease prediction",
                  "/Users/grudzinski133@gmail.com/Heart disease prediction",
                  "1078147073770475",
                  "45efa013fb704a909a4e1a28449aade2",
                  "7457973926010896108_9173097125284166615_efecf4f5c0e24b26a842c1cacca67eb9",
                  "45efa013fb704a909a4e1a28449aade2",
                  "NOTEBOOK",
                  "https://frankfurt.cloud.databricks.com",
                  "{\"installable\":[],\"redacted\":[]}",
                  "grudzinski133@gmail.com",
                  "dbc-f0d59ea6-589a.cloud.databricks.com",
                  "shivering-fowl-113",
                  "{\"cluster_name\":\"Trial cluster\",\"spark_version\":\"12.0.x-cpu-ml-scala2.12\",\"node_type_id\":\"m5d.large\",\"driver_node_type_id\":\"m5d.large\",\"autotermination_minutes\":120,\"disk_spec\":{\"disk_count\":0},\"autoscale\":{\"min_workers\":2,\"max_workers\":3,\"target_workers\":2}}",
                  "1219-180507-lptvxzcy"
                ]
              ],
              "plotOptions": {
                "displayType": "table",
                "customPlotOptions": {},
                "pivotColumns": null,
                "pivotAggregation": null,
                "xColumns": null,
                "yColumns": null
              },
              "columnCustomDisplayInfos": {},
              "aggType": "",
              "isJsonSchema": true,
              "removedWidgets": [],
              "aggSchema": [],
              "schema": [
                {
                  "name": "run_id",
                  "type": "\"string\"",
                  "metadata": "{}"
                },
                {
                  "name": "experiment_id",
                  "type": "\"string\"",
                  "metadata": "{}"
                },
                {
                  "name": "status",
                  "type": "\"string\"",
                  "metadata": "{}"
                },
                {
                  "name": "artifact_uri",
                  "type": "\"string\"",
                  "metadata": "{}"
                },
                {
                  "name": "start_time",
                  "type": "\"timestamp\"",
                  "metadata": "{}"
                },
                {
                  "name": "end_time",
                  "type": "\"timestamp\"",
                  "metadata": "{}"
                },
                {
                  "name": "metrics.accuracy",
                  "type": "\"double\"",
                  "metadata": "{}"
                },
                {
                  "name": "metrics.accuracy_std",
                  "type": "\"double\"",
                  "metadata": "{}"
                },
                {
                  "name": "params.regParam",
                  "type": "\"string\"",
                  "metadata": "{}"
                },
                {
                  "name": "params.elasticNetParam",
                  "type": "\"string\"",
                  "metadata": "{}"
                },
                {
                  "name": "params.threshold",
                  "type": "\"string\"",
                  "metadata": "{}"
                },
                {
                  "name": "params.model_type",
                  "type": "\"string\"",
                  "metadata": "{}"
                },
                {
                  "name": "tags.mlflow.databricks.notebookRevisionID",
                  "type": "\"string\"",
                  "metadata": "{}"
                },
                {
                  "name": "tags.mlflow.databricks.workspaceID",
                  "type": "\"string\"",
                  "metadata": "{}"
                },
                {
                  "name": "tags.mlflow.source.name",
                  "type": "\"string\"",
                  "metadata": "{}"
                },
                {
                  "name": "tags.mlflow.databricks.notebookPath",
                  "type": "\"string\"",
                  "metadata": "{}"
                },
                {
                  "name": "tags.mlflow.databricks.notebookID",
                  "type": "\"string\"",
                  "metadata": "{}"
                },
                {
                  "name": "tags.mlflow.parentRunId",
                  "type": "\"string\"",
                  "metadata": "{}"
                },
                {
                  "name": "tags.mlflow.databricks.notebook.commandID",
                  "type": "\"string\"",
                  "metadata": "{}"
                },
                {
                  "name": "tags.mlflow.rootRunId",
                  "type": "\"string\"",
                  "metadata": "{}"
                },
                {
                  "name": "tags.mlflow.source.type",
                  "type": "\"string\"",
                  "metadata": "{}"
                },
                {
                  "name": "tags.mlflow.databricks.webappURL",
                  "type": "\"string\"",
                  "metadata": "{}"
                },
                {
                  "name": "tags.mlflow.databricks.cluster.libraries",
                  "type": "\"string\"",
                  "metadata": "{}"
                },
                {
                  "name": "tags.mlflow.user",
                  "type": "\"string\"",
                  "metadata": "{}"
                },
                {
                  "name": "tags.mlflow.databricks.workspaceURL",
                  "type": "\"string\"",
                  "metadata": "{}"
                },
                {
                  "name": "tags.mlflow.runName",
                  "type": "\"string\"",
                  "metadata": "{}"
                },
                {
                  "name": "tags.mlflow.databricks.cluster.info",
                  "type": "\"string\"",
                  "metadata": "{}"
                },
                {
                  "name": "tags.mlflow.databricks.cluster.id",
                  "type": "\"string\"",
                  "metadata": "{}"
                }
              ],
              "aggError": "",
              "aggData": [],
              "addedWidgets": {},
              "metadata": {},
              "dbfsResultPath": null,
              "type": "table",
              "aggOverflow": false,
              "aggSeriesLimitReached": false,
              "arguments": {}
            }
          },
          "data": {
            "text/html": [
              "<style scoped>\n  .table-result-container {\n    max-height: 300px;\n    overflow: auto;\n  }\n  table, th, td {\n    border: 1px solid black;\n    border-collapse: collapse;\n  }\n  th, td {\n    padding: 5px;\n  }\n  th {\n    text-align: left;\n  }\n</style><div class='table-result-container'><table class='table-result'><thead style='background-color: white'><tr><th>run_id</th><th>experiment_id</th><th>status</th><th>artifact_uri</th><th>start_time</th><th>end_time</th><th>metrics.accuracy</th><th>metrics.accuracy_std</th><th>params.regParam</th><th>params.elasticNetParam</th><th>params.threshold</th><th>params.model_type</th><th>tags.mlflow.databricks.notebookRevisionID</th><th>tags.mlflow.databricks.workspaceID</th><th>tags.mlflow.source.name</th><th>tags.mlflow.databricks.notebookPath</th><th>tags.mlflow.databricks.notebookID</th><th>tags.mlflow.parentRunId</th><th>tags.mlflow.databricks.notebook.commandID</th><th>tags.mlflow.rootRunId</th><th>tags.mlflow.source.type</th><th>tags.mlflow.databricks.webappURL</th><th>tags.mlflow.databricks.cluster.libraries</th><th>tags.mlflow.user</th><th>tags.mlflow.databricks.workspaceURL</th><th>tags.mlflow.runName</th><th>tags.mlflow.databricks.cluster.info</th><th>tags.mlflow.databricks.cluster.id</th></tr></thead><tbody><tr><td>60ee1f87dbe042a59547119e66207748</td><td>1078147073770475</td><td>FINISHED</td><td>dbfs:/databricks/mlflow-tracking/1078147073770475/60ee1f87dbe042a59547119e66207748/artifacts</td><td>2022-12-23T18:27:48.278+0000</td><td>2022-12-23T18:28:02.836+0000</td><td>0.8546518983771928</td><td>0.018458627644410155</td><td>0.28993393703102743</td><td>0.28735631985323384</td><td>0.5514518773307409</td><td>logistic_regression</td><td>1671820082968</td><td>7656130984396534</td><td>/Users/grudzinski133@gmail.com/Heart disease prediction</td><td>/Users/grudzinski133@gmail.com/Heart disease prediction</td><td>1078147073770475</td><td>45efa013fb704a909a4e1a28449aade2</td><td>7457973926010896108_9173097125284166615_efecf4f5c0e24b26a842c1cacca67eb9</td><td>45efa013fb704a909a4e1a28449aade2</td><td>NOTEBOOK</td><td>https://frankfurt.cloud.databricks.com</td><td>{\"installable\":[],\"redacted\":[]}</td><td>grudzinski133@gmail.com</td><td>dbc-f0d59ea6-589a.cloud.databricks.com</td><td>shivering-fowl-113</td><td>{\"cluster_name\":\"Trial cluster\",\"spark_version\":\"12.0.x-cpu-ml-scala2.12\",\"node_type_id\":\"m5d.large\",\"driver_node_type_id\":\"m5d.large\",\"autotermination_minutes\":120,\"disk_spec\":{\"disk_count\":0},\"autoscale\":{\"min_workers\":2,\"max_workers\":3,\"target_workers\":2}}</td><td>1219-180507-lptvxzcy</td></tr></tbody></table></div>"
            ]
          }
        }
      ],
      "execution_count": null
    },
    {
      "cell_type": "code",
      "source": [
        "def score_and_log_best_model(params):\n",
        "    \n",
        "    param_grid = (ParamGridBuilder()\n",
        "                  .addGrid(log_reg.elasticNetParam, [params['elasticNetParam']])\n",
        "                  .addGrid(log_reg.regParam, [params['regParam']])\n",
        "                  .addGrid(log_reg.threshold, [params['threshold']])\n",
        "                  .build())\n",
        "    \n",
        "    #this time I'm setting metric to recall of class 1 \n",
        "    evaluator = MulticlassClassificationEvaluator(labelCol='HeartDisease', metricName='recallByLabel', metricLabel=1)\n",
        "    cv_pipeline = CrossValidator(estimator=log_reg_pipeline, evaluator=evaluator, numFolds=4, seed=42, estimatorParamMaps=param_grid)\n",
        "       \n",
        "    \n",
        "    with mlflow.start_run(run_name='Logistic_regression_best_model') as run:\n",
        "       \n",
        "        cv_model = cv_pipeline.fit(train_spdf)\n",
        "        predictions = cv_model.transform(train_spdf)\n",
        "        signature = infer_signature(train_spdf.drop('HeartDisease'), predictions.select('prediction'))\n",
        "    \n",
        "        mlflow.log_param('elasticNetParam', params['elasticNetParam'])\n",
        "        mlflow.log_param('regParam', params['regParam'])\n",
        "        mlflow.log_param('threshold', params['threshold'])\n",
        "        mlflow.log_param('model_type', 'logistic_regression')\n",
        "        \n",
        "        mlflow.log_metric('recallClass1', cv_model.avgMetrics[0])\n",
        "        mlflow.log_metric('recallClass1Std', cv_model.stdMetrics[0])\n",
        "        mlflow.log_metric('accuracy', results.iloc[0]['metrics.accuracy'])\n",
        "        mlflow.log_metric('accuracyStd', results.iloc[0]['metrics.accuracy_std'])\n",
        "                \n",
        "        mlflow.spark.log_model(cv_model, 'LogisticRegressionPipeline', signature=signature, input_example=train_spdf.drop('HeartDisease').limit(5).toPandas(), conda_env=mlflow.spark.get_default_conda_env())\n",
        "        \n",
        "        mlflow_spark_model_path = f\"runs:/{run.info.run_id}/LogisticRegressionPipeline\"\n",
        "        \n",
        "    return mlflow_spark_model_path"
      ],
      "metadata": {
        "application/vnd.databricks.v1+cell": {
          "showTitle": false,
          "cellMetadata": {},
          "nuid": "960c88f0-6b93-4462-a152-3fe9ccc65ff4",
          "inputWidgets": {},
          "title": ""
        },
        "id": "lOv1nsWxreVJ"
      },
      "outputs": [],
      "execution_count": null
    },
    {
      "cell_type": "code",
      "source": [
        "model_path = score_and_log_best_model(best_hyperparam)"
      ],
      "metadata": {
        "application/vnd.databricks.v1+cell": {
          "showTitle": false,
          "cellMetadata": {},
          "nuid": "f5baa077-da55-435a-ae0e-f9864cb9d8ef",
          "inputWidgets": {},
          "title": ""
        },
        "id": "0JQ0AE-KreVK",
        "outputId": "b042def7-c37d-44f9-8840-57a6d38ff679"
      },
      "outputs": [
        {
          "output_type": "display_data",
          "metadata": {
            "application/vnd.databricks.v1+output": {
              "datasetInfos": [],
              "data": "/databricks/python/lib/python3.9/site-packages/mlflow/models/signature.py:129: UserWarning: Hint: Inferred schema contains integer column(s). Integer columns in Python cannot represent missing values. If your input data contains missing values at inference time, it will be encoded as floats and will cause a schema enforcement error. The best way to avoid this problem is to infer the model schema based on a realistic data sample (training dataset) that includes missing values. Alternatively, you can declare integer columns as doubles (float64) whenever these columns may have missing values. See `Handling Integers With Missing Values <https://www.mlflow.org/docs/latest/models.html#handling-integers-with-missing-values>`_ for more details.\n  inputs = _infer_schema(model_input)\n",
              "removedWidgets": [],
              "addedWidgets": {},
              "metadata": {},
              "type": "ansi",
              "arguments": {}
            }
          },
          "data": {
            "text/plain": [
              "/databricks/python/lib/python3.9/site-packages/mlflow/models/signature.py:129: UserWarning: Hint: Inferred schema contains integer column(s). Integer columns in Python cannot represent missing values. If your input data contains missing values at inference time, it will be encoded as floats and will cause a schema enforcement error. The best way to avoid this problem is to infer the model schema based on a realistic data sample (training dataset) that includes missing values. Alternatively, you can declare integer columns as doubles (float64) whenever these columns may have missing values. See `Handling Integers With Missing Values <https://www.mlflow.org/docs/latest/models.html#handling-integers-with-missing-values>`_ for more details.\n  inputs = _infer_schema(model_input)\n"
            ]
          }
        }
      ],
      "execution_count": null
    },
    {
      "cell_type": "code",
      "source": [
        "train_spdf = spark.read.format('delta').load('dbfs:/FileStore/tables/heart_train.delta')\n",
        "test_spdf = spark.read.format('delta').load('dbfs:/FileStore/tables/heart_test.delta')"
      ],
      "metadata": {
        "application/vnd.databricks.v1+cell": {
          "showTitle": false,
          "cellMetadata": {},
          "nuid": "1a12a92f-1d96-4854-ab93-92c0df8fab07",
          "inputWidgets": {},
          "title": ""
        },
        "id": "aVVimDvTreVK"
      },
      "outputs": [],
      "execution_count": null
    },
    {
      "cell_type": "markdown",
      "source": [
        "#Random Forest"
      ],
      "metadata": {
        "application/vnd.databricks.v1+cell": {
          "showTitle": false,
          "cellMetadata": {},
          "nuid": "04d8289c-7f28-423f-bf0a-9649c4b02d77",
          "inputWidgets": {},
          "title": ""
        },
        "id": "akv3ejuZreVK"
      }
    },
    {
      "cell_type": "code",
      "source": [
        "index_output_cols = [x + 'Index' for x in categorical]\n",
        "string_indexer = StringIndexer(inputCols=categorical, outputCols=index_output_cols, handleInvalid='skip')\n",
        "\n",
        "assembler_input = index_output_cols + numerical + categorical_numeric\n",
        "vec_assembler = VectorAssembler(inputCols=assembler_input, outputCol='features')\n",
        "\n",
        "rf = RandomForestClassifier(labelCol='HeartDisease')\n",
        "rf_pipeline = Pipeline(stages=[string_indexer, vec_assembler, rf])\n",
        "\n",
        "evaluator = MulticlassClassificationEvaluator(labelCol='HeartDisease', metricName='accuracy')"
      ],
      "metadata": {
        "application/vnd.databricks.v1+cell": {
          "showTitle": false,
          "cellMetadata": {},
          "nuid": "e6adb11c-32a0-447e-b56c-c205a944ecb7",
          "inputWidgets": {},
          "title": ""
        },
        "id": "u7J3WhlQreVK"
      },
      "outputs": [],
      "execution_count": null
    },
    {
      "cell_type": "code",
      "source": [
        "impurity_types = ['gini', 'entropy']\n",
        "\n",
        "search_space = {\n",
        "     'impurity': hp.choice('impurity', ['gini', 'entropy']),\n",
        "     'maxDepth': hp.quniform('maxDepth', 3, 25, 1),\n",
        "     'numTrees': hp.quniform('numTrees', 20, 200, 1),\n",
        "     'minInstancesPerNode': hp.quniform('minInstancesPerNode', 1, 40, 1),\n",
        "     'maxBins': hp.quniform('maxBins', 32, 64, 1)\n",
        "}"
      ],
      "metadata": {
        "application/vnd.databricks.v1+cell": {
          "showTitle": false,
          "cellMetadata": {},
          "nuid": "697ccb8e-07e7-4b96-93d8-e9e03cd234ca",
          "inputWidgets": {},
          "title": ""
        },
        "id": "yHzK3cLJreVL"
      },
      "outputs": [],
      "execution_count": null
    },
    {
      "cell_type": "code",
      "source": [
        "def objective_rf(params):\n",
        "    \n",
        "    impurity_types = ['gini', 'entropy']\n",
        "    \n",
        "    param_grid = (ParamGridBuilder()\n",
        "                  .addGrid(rf.impurity, [params['impurity']])\n",
        "                  .addGrid(rf.maxDepth, [int(params['maxDepth'])])\n",
        "                  .addGrid(rf.numTrees, [int(params['numTrees'])])\n",
        "                  .addGrid(rf.minInstancesPerNode, [int(params['minInstancesPerNode'])])\n",
        "                  .addGrid(rf.maxBins, [int(params['maxBins'])])\n",
        "                  .build())\n",
        "    \n",
        "    cv_pipeline = CrossValidator(estimator=rf_pipeline, evaluator=evaluator, numFolds=4, seed=42, estimatorParamMaps=param_grid)\n",
        "    \n",
        "    with mlflow.start_run(nested=True):\n",
        "        cv_model = cv_pipeline.fit(train_spdf)\n",
        "        mlflow.log_param('impurity', params['impurity'])\n",
        "        mlflow.log_param('maxDepth', int(params['maxDepth']))\n",
        "        mlflow.log_param('numTrees', int(params['numTrees']))\n",
        "        mlflow.log_param('minInstancesPerNode', int(params['minInstancesPerNode']))\n",
        "        mlflow.log_param('maxBins', int(params['maxBins']))\n",
        "        mlflow.log_param('model_type', 'random_forest')\n",
        "        mlflow.log_metric('accuracy', cv_model.avgMetrics[0])\n",
        "        mlflow.log_metric('accuracy_std', cv_model.stdMetrics[0])\n",
        "    \n",
        "    return {'loss': -cv_model.avgMetrics[0], 'status': STATUS_OK, 'loss_variance': cv_model.stdMetrics[0]**2}"
      ],
      "metadata": {
        "application/vnd.databricks.v1+cell": {
          "showTitle": false,
          "cellMetadata": {},
          "nuid": "c9e8373f-9772-4614-a3b4-30d0ece2392a",
          "inputWidgets": {},
          "title": ""
        },
        "id": "UTKgb13LreVL"
      },
      "outputs": [],
      "execution_count": null
    },
    {
      "cell_type": "code",
      "source": [
        "trials = Trials()\n",
        "num_evals = 80\n",
        "\n",
        "with mlflow.start_run(run_name='random_forest_hyperparameter_search') as run:\n",
        "    best_hyperparam = fmin(fn=objective_rf, \n",
        "                           space=search_space,\n",
        "                           algo=tpe.suggest, \n",
        "                           max_evals=num_evals,\n",
        "                           trials=trials,\n",
        "                           rstate=np.random.default_rng(42),\n",
        "                           early_stop_fn=no_progress_loss(5))"
      ],
      "metadata": {
        "application/vnd.databricks.v1+cell": {
          "showTitle": false,
          "cellMetadata": {},
          "nuid": "e98557f7-d123-495f-9b4d-da8dfcf02a86",
          "inputWidgets": {},
          "title": ""
        },
        "id": "3YKnaY1ureVL",
        "outputId": "2785f00b-04e6-40e9-c153-77124f6cb40f"
      },
      "outputs": [
        {
          "output_type": "display_data",
          "metadata": {
            "application/vnd.databricks.v1+output": {
              "datasetInfos": [],
              "data": "\r  0%|          | 0/80 [00:00<?, ?trial/s, best loss=?]\r  1%|▏         | 1/80 [00:21<27:40, 21.02s/trial, best loss: -0.8661503079448843]\r  2%|▎         | 2/80 [00:34<21:36, 16.63s/trial, best loss: -0.8661503079448843]\r  4%|▍         | 3/80 [00:52<22:02, 17.18s/trial, best loss: -0.8666726166869387]\r  5%|▌         | 4/80 [01:13<23:33, 18.60s/trial, best loss: -0.86765436081557]  \r  6%|▋         | 5/80 [01:32<23:38, 18.92s/trial, best loss: -0.8702018883535838]\r  8%|▊         | 6/80 [01:58<26:03, 21.12s/trial, best loss: -0.8726515391640731]\r  9%|▉         | 7/80 [02:11<22:40, 18.63s/trial, best loss: -0.8726515391640731]\r 10%|█         | 8/80 [02:23<19:58, 16.64s/trial, best loss: -0.8726515391640731]\r 11%|█▏        | 9/80 [02:36<18:02, 15.25s/trial, best loss: -0.8726515391640731]\r 12%|█▎        | 10/80 [02:51<17:54, 15.35s/trial, best loss: -0.8726515391640731]\r 14%|█▍        | 11/80 [03:05<17:11, 14.95s/trial, best loss: -0.8726515391640731]\r 14%|█▍        | 11/80 [03:05<19:25, 16.89s/trial, best loss: -0.8726515391640731]\n",
              "removedWidgets": [],
              "addedWidgets": {},
              "metadata": {},
              "type": "ansi",
              "arguments": {}
            }
          },
          "data": {
            "text/plain": [
              "\r  0%|          | 0/80 [00:00<?, ?trial/s, best loss=?]\r  1%|▏         | 1/80 [00:21<27:40, 21.02s/trial, best loss: -0.8661503079448843]\r  2%|▎         | 2/80 [00:34<21:36, 16.63s/trial, best loss: -0.8661503079448843]\r  4%|▍         | 3/80 [00:52<22:02, 17.18s/trial, best loss: -0.8666726166869387]\r  5%|▌         | 4/80 [01:13<23:33, 18.60s/trial, best loss: -0.86765436081557]  \r  6%|▋         | 5/80 [01:32<23:38, 18.92s/trial, best loss: -0.8702018883535838]\r  8%|▊         | 6/80 [01:58<26:03, 21.12s/trial, best loss: -0.8726515391640731]\r  9%|▉         | 7/80 [02:11<22:40, 18.63s/trial, best loss: -0.8726515391640731]\r 10%|█         | 8/80 [02:23<19:58, 16.64s/trial, best loss: -0.8726515391640731]\r 11%|█▏        | 9/80 [02:36<18:02, 15.25s/trial, best loss: -0.8726515391640731]\r 12%|█▎        | 10/80 [02:51<17:54, 15.35s/trial, best loss: -0.8726515391640731]\r 14%|█▍        | 11/80 [03:05<17:11, 14.95s/trial, best loss: -0.8726515391640731]\r 14%|█▍        | 11/80 [03:05<19:25, 16.89s/trial, best loss: -0.8726515391640731]\n"
            ]
          }
        }
      ],
      "execution_count": null
    },
    {
      "cell_type": "code",
      "source": [
        "results = get_child_runs(run)\n",
        "display(results[:1])"
      ],
      "metadata": {
        "application/vnd.databricks.v1+cell": {
          "showTitle": false,
          "cellMetadata": {},
          "nuid": "2ce2dab4-0c4e-4d07-b2b7-6a8010502dad",
          "inputWidgets": {},
          "title": ""
        },
        "id": "wvePLt0ZreVL",
        "outputId": "9369fcce-dd9d-4789-deb1-33cf634b6d0e"
      },
      "outputs": [
        {
          "output_type": "display_data",
          "metadata": {
            "application/vnd.databricks.v1+output": {
              "overflow": false,
              "datasetInfos": [],
              "data": [
                [
                  "d2a4f6ff2dc049b9b436de1e45b0ebe8",
                  "1078147073770475",
                  "FINISHED",
                  "dbfs:/databricks/mlflow-tracking/1078147073770475/d2a4f6ff2dc049b9b436de1e45b0ebe8/artifacts",
                  "2022-12-21T21:15:24.978+0000",
                  "2022-12-21T21:15:50.291+0000",
                  0.8726515391640731,
                  0.020970714646940027,
                  null,
                  null,
                  null,
                  "gini",
                  "55",
                  "156",
                  "7",
                  "random_forest",
                  "13",
                  null,
                  null,
                  null,
                  null,
                  "1671657350423",
                  "7656130984396534",
                  "/Users/grudzinski133@gmail.com/Heart disease prediction",
                  "/Users/grudzinski133@gmail.com/Heart disease prediction",
                  "1078147073770475",
                  "fc8d98a268ab425cacbf05566bef7928",
                  "path=mlflowdbfs:/artifacts?run_id=8cd0fcc5de3843f8992f2d09c127d95d&path=/LogisticRegressionPipeline/sparkml/stages/0_CrossValidatorModel_f0bcff19a4c9/bestModel/stages/0_StringIndexer_452480c360a3/data,format=parquet\npath=mlflowdbfs:/artifacts?run_id=8cd0fcc5de3843f8992f2d09c127d95d&path=/LogisticRegressionPipeline/sparkml/stages/0_CrossValidatorModel_f0bcff19a4c9/bestModel/stages/1_OneHotEncoder_18dab44b0202/data,format=parquet\npath=mlflowdbfs:/artifacts?run_id=8cd0fcc5de3843f8992f2d09c127d95d&path=/LogisticRegressionPipeline/sparkml/stages/0_CrossValidatorModel_f0bcff19a4c9/bestModel/stages/3_LogisticRegression_75c8523363a4/data,format=parquet\npath=dbfs:/FileStore/tables/heart_train.delta,version=0,format=delta",
                  "3954412676947608652_8011902932625129956_ea0eab3afa5d4878bb9fcf891cce0fab",
                  "fc8d98a268ab425cacbf05566bef7928",
                  "NOTEBOOK",
                  "https://frankfurt.cloud.databricks.com",
                  "{\"installable\":[],\"redacted\":[]}",
                  "grudzinski133@gmail.com",
                  "dbc-f0d59ea6-589a.cloud.databricks.com",
                  "likeable-mink-348",
                  "{\"cluster_name\":\"Trial cluster\",\"spark_version\":\"12.0.x-cpu-ml-scala2.12\",\"node_type_id\":\"m5d.large\",\"driver_node_type_id\":\"m5d.large\",\"autotermination_minutes\":120,\"disk_spec\":{\"disk_count\":0},\"autoscale\":{\"min_workers\":2,\"max_workers\":3,\"target_workers\":2}}",
                  "1219-180507-lptvxzcy",
                  null
                ]
              ],
              "plotOptions": {
                "displayType": "table",
                "customPlotOptions": {},
                "pivotColumns": null,
                "pivotAggregation": null,
                "xColumns": null,
                "yColumns": null
              },
              "columnCustomDisplayInfos": {},
              "aggType": "",
              "isJsonSchema": true,
              "removedWidgets": [],
              "aggSchema": [],
              "schema": [
                {
                  "name": "run_id",
                  "type": "\"string\"",
                  "metadata": "{}"
                },
                {
                  "name": "experiment_id",
                  "type": "\"string\"",
                  "metadata": "{}"
                },
                {
                  "name": "status",
                  "type": "\"string\"",
                  "metadata": "{}"
                },
                {
                  "name": "artifact_uri",
                  "type": "\"string\"",
                  "metadata": "{}"
                },
                {
                  "name": "start_time",
                  "type": "\"timestamp\"",
                  "metadata": "{}"
                },
                {
                  "name": "end_time",
                  "type": "\"timestamp\"",
                  "metadata": "{}"
                },
                {
                  "name": "metrics.accuracy",
                  "type": "\"double\"",
                  "metadata": "{}"
                },
                {
                  "name": "metrics.accuracy_std",
                  "type": "\"double\"",
                  "metadata": "{}"
                },
                {
                  "name": "metrics.accuracyStd",
                  "type": "\"double\"",
                  "metadata": "{}"
                },
                {
                  "name": "metrics.recallClass1Std",
                  "type": "\"double\"",
                  "metadata": "{}"
                },
                {
                  "name": "metrics.recallClass1",
                  "type": "\"double\"",
                  "metadata": "{}"
                },
                {
                  "name": "params.impurity",
                  "type": "\"string\"",
                  "metadata": "{}"
                },
                {
                  "name": "params.maxBins",
                  "type": "\"string\"",
                  "metadata": "{}"
                },
                {
                  "name": "params.numTrees",
                  "type": "\"string\"",
                  "metadata": "{}"
                },
                {
                  "name": "params.minInstancesPerNode",
                  "type": "\"string\"",
                  "metadata": "{}"
                },
                {
                  "name": "params.model_type",
                  "type": "\"string\"",
                  "metadata": "{}"
                },
                {
                  "name": "params.maxDepth",
                  "type": "\"string\"",
                  "metadata": "{}"
                },
                {
                  "name": "params.regParam",
                  "type": "\"void\"",
                  "metadata": "{}"
                },
                {
                  "name": "params.modelType",
                  "type": "\"void\"",
                  "metadata": "{}"
                },
                {
                  "name": "params.elasticNetParam",
                  "type": "\"void\"",
                  "metadata": "{}"
                },
                {
                  "name": "params.threshold",
                  "type": "\"void\"",
                  "metadata": "{}"
                },
                {
                  "name": "tags.mlflow.databricks.notebookRevisionID",
                  "type": "\"string\"",
                  "metadata": "{}"
                },
                {
                  "name": "tags.mlflow.databricks.workspaceID",
                  "type": "\"string\"",
                  "metadata": "{}"
                },
                {
                  "name": "tags.mlflow.source.name",
                  "type": "\"string\"",
                  "metadata": "{}"
                },
                {
                  "name": "tags.mlflow.databricks.notebookPath",
                  "type": "\"string\"",
                  "metadata": "{}"
                },
                {
                  "name": "tags.mlflow.databricks.notebookID",
                  "type": "\"string\"",
                  "metadata": "{}"
                },
                {
                  "name": "tags.mlflow.parentRunId",
                  "type": "\"string\"",
                  "metadata": "{}"
                },
                {
                  "name": "tags.sparkDatasourceInfo",
                  "type": "\"string\"",
                  "metadata": "{}"
                },
                {
                  "name": "tags.mlflow.databricks.notebook.commandID",
                  "type": "\"string\"",
                  "metadata": "{}"
                },
                {
                  "name": "tags.mlflow.rootRunId",
                  "type": "\"string\"",
                  "metadata": "{}"
                },
                {
                  "name": "tags.mlflow.source.type",
                  "type": "\"string\"",
                  "metadata": "{}"
                },
                {
                  "name": "tags.mlflow.databricks.webappURL",
                  "type": "\"string\"",
                  "metadata": "{}"
                },
                {
                  "name": "tags.mlflow.databricks.cluster.libraries",
                  "type": "\"string\"",
                  "metadata": "{}"
                },
                {
                  "name": "tags.mlflow.user",
                  "type": "\"string\"",
                  "metadata": "{}"
                },
                {
                  "name": "tags.mlflow.databricks.workspaceURL",
                  "type": "\"string\"",
                  "metadata": "{}"
                },
                {
                  "name": "tags.mlflow.runName",
                  "type": "\"string\"",
                  "metadata": "{}"
                },
                {
                  "name": "tags.mlflow.databricks.cluster.info",
                  "type": "\"string\"",
                  "metadata": "{}"
                },
                {
                  "name": "tags.mlflow.databricks.cluster.id",
                  "type": "\"string\"",
                  "metadata": "{}"
                },
                {
                  "name": "tags.mlflow.log-model.history",
                  "type": "\"void\"",
                  "metadata": "{}"
                }
              ],
              "aggError": "",
              "aggData": [],
              "addedWidgets": {},
              "metadata": {},
              "dbfsResultPath": null,
              "type": "table",
              "aggOverflow": false,
              "aggSeriesLimitReached": false,
              "arguments": {}
            }
          },
          "data": {
            "text/html": [
              "<style scoped>\n  .table-result-container {\n    max-height: 300px;\n    overflow: auto;\n  }\n  table, th, td {\n    border: 1px solid black;\n    border-collapse: collapse;\n  }\n  th, td {\n    padding: 5px;\n  }\n  th {\n    text-align: left;\n  }\n</style><div class='table-result-container'><table class='table-result'><thead style='background-color: white'><tr><th>run_id</th><th>experiment_id</th><th>status</th><th>artifact_uri</th><th>start_time</th><th>end_time</th><th>metrics.accuracy</th><th>metrics.accuracy_std</th><th>metrics.accuracyStd</th><th>metrics.recallClass1Std</th><th>metrics.recallClass1</th><th>params.impurity</th><th>params.maxBins</th><th>params.numTrees</th><th>params.minInstancesPerNode</th><th>params.model_type</th><th>params.maxDepth</th><th>params.regParam</th><th>params.modelType</th><th>params.elasticNetParam</th><th>params.threshold</th><th>tags.mlflow.databricks.notebookRevisionID</th><th>tags.mlflow.databricks.workspaceID</th><th>tags.mlflow.source.name</th><th>tags.mlflow.databricks.notebookPath</th><th>tags.mlflow.databricks.notebookID</th><th>tags.mlflow.parentRunId</th><th>tags.sparkDatasourceInfo</th><th>tags.mlflow.databricks.notebook.commandID</th><th>tags.mlflow.rootRunId</th><th>tags.mlflow.source.type</th><th>tags.mlflow.databricks.webappURL</th><th>tags.mlflow.databricks.cluster.libraries</th><th>tags.mlflow.user</th><th>tags.mlflow.databricks.workspaceURL</th><th>tags.mlflow.runName</th><th>tags.mlflow.databricks.cluster.info</th><th>tags.mlflow.databricks.cluster.id</th><th>tags.mlflow.log-model.history</th></tr></thead><tbody><tr><td>d2a4f6ff2dc049b9b436de1e45b0ebe8</td><td>1078147073770475</td><td>FINISHED</td><td>dbfs:/databricks/mlflow-tracking/1078147073770475/d2a4f6ff2dc049b9b436de1e45b0ebe8/artifacts</td><td>2022-12-21T21:15:24.978+0000</td><td>2022-12-21T21:15:50.291+0000</td><td>0.8726515391640731</td><td>0.020970714646940027</td><td>null</td><td>null</td><td>null</td><td>gini</td><td>55</td><td>156</td><td>7</td><td>random_forest</td><td>13</td><td>null</td><td>null</td><td>null</td><td>null</td><td>1671657350423</td><td>7656130984396534</td><td>/Users/grudzinski133@gmail.com/Heart disease prediction</td><td>/Users/grudzinski133@gmail.com/Heart disease prediction</td><td>1078147073770475</td><td>fc8d98a268ab425cacbf05566bef7928</td><td>path=mlflowdbfs:/artifacts?run_id=8cd0fcc5de3843f8992f2d09c127d95d&path=/LogisticRegressionPipeline/sparkml/stages/0_CrossValidatorModel_f0bcff19a4c9/bestModel/stages/0_StringIndexer_452480c360a3/data,format=parquet\npath=mlflowdbfs:/artifacts?run_id=8cd0fcc5de3843f8992f2d09c127d95d&path=/LogisticRegressionPipeline/sparkml/stages/0_CrossValidatorModel_f0bcff19a4c9/bestModel/stages/1_OneHotEncoder_18dab44b0202/data,format=parquet\npath=mlflowdbfs:/artifacts?run_id=8cd0fcc5de3843f8992f2d09c127d95d&path=/LogisticRegressionPipeline/sparkml/stages/0_CrossValidatorModel_f0bcff19a4c9/bestModel/stages/3_LogisticRegression_75c8523363a4/data,format=parquet\npath=dbfs:/FileStore/tables/heart_train.delta,version=0,format=delta</td><td>3954412676947608652_8011902932625129956_ea0eab3afa5d4878bb9fcf891cce0fab</td><td>fc8d98a268ab425cacbf05566bef7928</td><td>NOTEBOOK</td><td>https://frankfurt.cloud.databricks.com</td><td>{\"installable\":[],\"redacted\":[]}</td><td>grudzinski133@gmail.com</td><td>dbc-f0d59ea6-589a.cloud.databricks.com</td><td>likeable-mink-348</td><td>{\"cluster_name\":\"Trial cluster\",\"spark_version\":\"12.0.x-cpu-ml-scala2.12\",\"node_type_id\":\"m5d.large\",\"driver_node_type_id\":\"m5d.large\",\"autotermination_minutes\":120,\"disk_spec\":{\"disk_count\":0},\"autoscale\":{\"min_workers\":2,\"max_workers\":3,\"target_workers\":2}}</td><td>1219-180507-lptvxzcy</td><td>null</td></tr></tbody></table></div>"
            ]
          }
        }
      ],
      "execution_count": null
    },
    {
      "cell_type": "code",
      "source": [
        "def score_and_log_best_model_rf(params):\n",
        "    \n",
        "    param_grid = (ParamGridBuilder()\n",
        "                  .addGrid(rf.impurity, [impurity_types[params['impurity']]])\n",
        "                  .addGrid(rf.maxDepth, [int(params['maxDepth'])])\n",
        "                  .addGrid(rf.numTrees, [int(params['numTrees'])])\n",
        "                  .addGrid(rf.minInstancesPerNode, [int(params['minInstancesPerNode'])])\n",
        "                  .addGrid(rf.maxBins, [int(params['maxBins'])])\n",
        "                  .build())\n",
        "    \n",
        "    #this time I'm setting metric to recall of class 1 \n",
        "    evaluator = MulticlassClassificationEvaluator(labelCol='HeartDisease', metricName='recallByLabel', metricLabel=1)\n",
        "    cv_pipeline = CrossValidator(estimator=rf_pipeline, evaluator=evaluator, numFolds=4, seed=42, estimatorParamMaps=param_grid)\n",
        "       \n",
        "    \n",
        "    with mlflow.start_run(run_name='Random_forest_best_model') as run:\n",
        "       \n",
        "        cv_pipeline_model = cv_pipeline.fit(train_spdf)\n",
        "        predictions = cv_pipeline_model.transform(train_spdf)\n",
        "        signature = infer_signature(train_spdf.drop('HeartDisease'), predictions.select('prediction'))\n",
        "    \n",
        "        mlflow.log_param('impurity', impurity_types[params['impurity']])\n",
        "        mlflow.log_param('maxDepth', int(params['maxDepth']))\n",
        "        mlflow.log_param('numTrees', int(params['numTrees']))\n",
        "        mlflow.log_param('minInstancesPerNode', int(params['minInstancesPerNode']))\n",
        "        mlflow.log_param('maxBins', int(params['maxBins']))\n",
        "        mlflow.log_param('model_type', 'random_forest')\n",
        "        \n",
        "        mlflow.log_metric('recallClass1', cv_pipeline_model.avgMetrics[0])\n",
        "        mlflow.log_metric('recallClass1Std', cv_pipeline_model.stdMetrics[0])\n",
        "        mlflow.log_metric('accuracy', results.iloc[0]['metrics.accuracy'])\n",
        "        mlflow.log_metric('accuracyStd', results.iloc[0]['metrics.accuracy_std'])\n",
        "                \n",
        "        mlflow.spark.log_model(cv_pipeline_model, 'RandomForestPipeline', signature=signature, input_example=train_spdf.drop('HeartDisease').limit(5).toPandas(), conda_env=mlflow.spark.get_default_conda_env())\n",
        "        \n",
        "        mlflow_spark_model_path = f\"runs:/{run.info.run_id}/RandomForest\"\n",
        "        \n",
        "    return mlflow_spark_model_path"
      ],
      "metadata": {
        "application/vnd.databricks.v1+cell": {
          "showTitle": false,
          "cellMetadata": {},
          "nuid": "2518fbbd-f3a9-408d-9f88-ae747cf02b06",
          "inputWidgets": {},
          "title": ""
        },
        "id": "WX6S5ljIreVM"
      },
      "outputs": [],
      "execution_count": null
    },
    {
      "cell_type": "code",
      "source": [
        "best_hyperparam"
      ],
      "metadata": {
        "application/vnd.databricks.v1+cell": {
          "showTitle": false,
          "cellMetadata": {},
          "nuid": "f8ac27e9-c1e1-468b-846a-4c33e8361bcf",
          "inputWidgets": {},
          "title": ""
        },
        "id": "zXgMOaypreVM",
        "outputId": "7839774f-a169-4f86-f473-23838b5d1a86"
      },
      "outputs": [
        {
          "output_type": "display_data",
          "metadata": {
            "application/vnd.databricks.v1+output": {
              "datasetInfos": [],
              "data": "Out[67]: {'impurity': 0,\n 'maxBins': 55.0,\n 'maxDepth': 13.0,\n 'minInstancesPerNode': 7.0,\n 'numTrees': 156.0}",
              "removedWidgets": [],
              "addedWidgets": {},
              "metadata": {},
              "type": "ansi",
              "arguments": {}
            }
          },
          "data": {
            "text/plain": [
              "Out[67]: {'impurity': 0,\n 'maxBins': 55.0,\n 'maxDepth': 13.0,\n 'minInstancesPerNode': 7.0,\n 'numTrees': 156.0}"
            ]
          }
        }
      ],
      "execution_count": null
    },
    {
      "cell_type": "code",
      "source": [
        "model_path = score_and_log_best_model_rf(best_hyperparam)"
      ],
      "metadata": {
        "application/vnd.databricks.v1+cell": {
          "showTitle": false,
          "cellMetadata": {},
          "nuid": "cb487e66-69bd-46cb-80dc-4c714922be75",
          "inputWidgets": {},
          "title": ""
        },
        "id": "JscQ4agereVN"
      },
      "outputs": [],
      "execution_count": null
    },
    {
      "cell_type": "markdown",
      "source": [
        "#Random Forest with vector indexer\n",
        "\n",
        "For tree based methods categorical features should be treated differently than numerical ones. I'm using string indexer which maps strings to integers but I don't know if they are then treated by Spark MLLib's algorithms like a categorical feature or numerical one. In a stackoverflow answer one user was claiming that Spark MLLib's algorithms use columns metadata provided by transformers like StringIndexer to determine which columns are categorical but I can't find that information explicitly stated in Spark's documentation. \n",
        "\n",
        "VectorIndexer helps index categorical features in datasets of Vectors. It can both automatically decide which features are categorical and convert original values to category indices.\n",
        "\n",
        "I'm going to see if adding it to the pipeline will improve performance."
      ],
      "metadata": {
        "application/vnd.databricks.v1+cell": {
          "showTitle": false,
          "cellMetadata": {},
          "nuid": "53fb9e4f-aeae-422f-adcb-36c1803af612",
          "inputWidgets": {},
          "title": ""
        },
        "id": "lPEu--BXreVN"
      }
    },
    {
      "cell_type": "code",
      "source": [
        "impurity_types = ['gini', 'entropy']\n",
        "\n",
        "search_space = {\n",
        "     'impurity': hp.choice('impurity', ['gini', 'entropy']),\n",
        "     'maxDepth': hp.quniform('maxDepth', 3, 25, 1),\n",
        "     'numTrees': hp.quniform('numTrees', 20, 200, 1),\n",
        "     'minInstancesPerNode': hp.quniform('minInstancesPerNode', 1, 40, 1),\n",
        "     'maxBins': hp.quniform('maxBins', 32, 64, 1)\n",
        "}"
      ],
      "metadata": {
        "application/vnd.databricks.v1+cell": {
          "showTitle": false,
          "cellMetadata": {},
          "nuid": "d4b8fbfc-2f02-4016-9795-be3cfaed0005",
          "inputWidgets": {},
          "title": ""
        },
        "id": "gOlP8AzhreVN"
      },
      "outputs": [],
      "execution_count": null
    },
    {
      "cell_type": "code",
      "source": [
        "index_output_cols = [x + 'Index' for x in categorical]\n",
        "string_indexer = StringIndexer(inputCols=categorical, outputCols=index_output_cols, handleInvalid='skip')\n",
        "\n",
        "assembler_input = index_output_cols + numerical + categorical_numeric\n",
        "vec_assembler = VectorAssembler(inputCols=assembler_input, outputCol='rawFeatures')\n",
        "\n",
        "vectorIndexer = VectorIndexer(inputCol=\"rawFeatures\", outputCol=\"features\", maxCategories=4)\n",
        "\n",
        "rf = RandomForestClassifier(labelCol='HeartDisease')\n",
        "rf_pipeline = Pipeline(stages=[string_indexer, vec_assembler, vectorIndexer, rf])\n",
        "\n",
        "evaluator = MulticlassClassificationEvaluator(labelCol='HeartDisease', metricName='accuracy')"
      ],
      "metadata": {
        "application/vnd.databricks.v1+cell": {
          "showTitle": false,
          "cellMetadata": {},
          "nuid": "4b637317-c8d4-4d53-b2a9-fb1560e4b847",
          "inputWidgets": {},
          "title": ""
        },
        "id": "eM5SqfapreVO"
      },
      "outputs": [],
      "execution_count": null
    },
    {
      "cell_type": "code",
      "source": [
        "def objective_rf(params):\n",
        "    \n",
        "    impurity_types = ['gini', 'entropy']\n",
        "    \n",
        "    param_grid = (ParamGridBuilder()\n",
        "                  .addGrid(rf.impurity, [params['impurity']])\n",
        "                  .addGrid(rf.maxDepth, [int(params['maxDepth'])])\n",
        "                  .addGrid(rf.numTrees, [int(params['numTrees'])])\n",
        "                  .addGrid(rf.minInstancesPerNode, [int(params['minInstancesPerNode'])])\n",
        "                  .addGrid(rf.maxBins, [int(params['maxBins'])])\n",
        "                  .build())\n",
        "    \n",
        "    cv_pipeline = CrossValidator(estimator=rf_pipeline, evaluator=evaluator, numFolds=4, seed=42, estimatorParamMaps=param_grid)\n",
        "    \n",
        "    with mlflow.start_run(nested=True):\n",
        "        cv_model = cv_pipeline.fit(train_spdf)\n",
        "        mlflow.log_param('impurity', params['impurity'])\n",
        "        mlflow.log_param('maxDepth', int(params['maxDepth']))\n",
        "        mlflow.log_param('numTrees', int(params['numTrees']))\n",
        "        mlflow.log_param('minInstancesPerNode', int(params['minInstancesPerNode']))\n",
        "        mlflow.log_param('maxBins', int(params['maxBins']))\n",
        "        mlflow.log_param('model_type', 'random_forest')\n",
        "        mlflow.log_metric('accuracy', cv_model.avgMetrics[0])\n",
        "        mlflow.log_metric('accuracy_std', cv_model.stdMetrics[0])\n",
        "    \n",
        "    return {'loss': -cv_model.avgMetrics[0], 'status': STATUS_OK, 'loss_variance': cv_model.stdMetrics[0]**2}"
      ],
      "metadata": {
        "application/vnd.databricks.v1+cell": {
          "showTitle": false,
          "cellMetadata": {},
          "nuid": "f7dba8e8-7c9f-4ccb-b937-e7a41fd4f6e7",
          "inputWidgets": {},
          "title": ""
        },
        "id": "-uG_-GY1reVO"
      },
      "outputs": [],
      "execution_count": null
    },
    {
      "cell_type": "code",
      "source": [
        "trials = Trials()\n",
        "num_evals = 80\n",
        "\n",
        "despription = 'Using vector indexer instead of string indexer to determine if it makes a difference'\n",
        "\n",
        "with mlflow.start_run(run_name='random_forest_hyperparameter_search_2', description=despription) as run:\n",
        "    best_hyperparam = fmin(fn=objective_rf, \n",
        "                           space=search_space,\n",
        "                           algo=tpe.suggest, \n",
        "                           max_evals=num_evals,\n",
        "                           trials=trials,\n",
        "                           rstate=np.random.default_rng(42),\n",
        "                           early_stop_fn=no_progress_loss(5))"
      ],
      "metadata": {
        "application/vnd.databricks.v1+cell": {
          "showTitle": false,
          "cellMetadata": {},
          "nuid": "41b8741d-5fa6-48f3-a05a-6ba550ad29c1",
          "inputWidgets": {},
          "title": ""
        },
        "id": "yXjqWnP-reVO",
        "outputId": "c8541bdc-1ddf-4d14-9df4-e6aa54f29139"
      },
      "outputs": [
        {
          "output_type": "display_data",
          "metadata": {
            "application/vnd.databricks.v1+output": {
              "datasetInfos": [],
              "data": "\r  0%|          | 0/80 [00:00<?, ?trial/s, best loss=?]\r  1%|▏         | 1/80 [00:38<50:57, 38.70s/trial, best loss: -0.8664159483325897]\r  2%|▎         | 2/80 [01:04<40:24, 31.08s/trial, best loss: -0.8664159483325897]\r  4%|▍         | 3/80 [01:30<37:06, 28.91s/trial, best loss: -0.8730384379419889]\r  5%|▌         | 4/80 [01:54<34:11, 26.99s/trial, best loss: -0.8730384379419889]\r  6%|▋         | 5/80 [02:19<32:33, 26.05s/trial, best loss: -0.8730384379419889]\r  8%|▊         | 6/80 [02:49<33:41, 27.32s/trial, best loss: -0.8730384379419889]\r  9%|▉         | 7/80 [03:04<28:37, 23.53s/trial, best loss: -0.8730384379419889]\r 10%|█         | 8/80 [03:19<25:02, 20.86s/trial, best loss: -0.8730384379419889]\r 10%|█         | 8/80 [03:19<29:58, 24.98s/trial, best loss: -0.8730384379419889]\n",
              "removedWidgets": [],
              "addedWidgets": {},
              "metadata": {},
              "type": "ansi",
              "arguments": {}
            }
          },
          "data": {
            "text/plain": [
              "\r  0%|          | 0/80 [00:00<?, ?trial/s, best loss=?]\r  1%|▏         | 1/80 [00:38<50:57, 38.70s/trial, best loss: -0.8664159483325897]\r  2%|▎         | 2/80 [01:04<40:24, 31.08s/trial, best loss: -0.8664159483325897]\r  4%|▍         | 3/80 [01:30<37:06, 28.91s/trial, best loss: -0.8730384379419889]\r  5%|▌         | 4/80 [01:54<34:11, 26.99s/trial, best loss: -0.8730384379419889]\r  6%|▋         | 5/80 [02:19<32:33, 26.05s/trial, best loss: -0.8730384379419889]\r  8%|▊         | 6/80 [02:49<33:41, 27.32s/trial, best loss: -0.8730384379419889]\r  9%|▉         | 7/80 [03:04<28:37, 23.53s/trial, best loss: -0.8730384379419889]\r 10%|█         | 8/80 [03:19<25:02, 20.86s/trial, best loss: -0.8730384379419889]\r 10%|█         | 8/80 [03:19<29:58, 24.98s/trial, best loss: -0.8730384379419889]\n"
            ]
          }
        }
      ],
      "execution_count": null
    },
    {
      "cell_type": "code",
      "source": [
        "best_hyperparam"
      ],
      "metadata": {
        "application/vnd.databricks.v1+cell": {
          "showTitle": false,
          "cellMetadata": {},
          "nuid": "d4cfc1dc-b8a0-4345-b601-dd928d9a5667",
          "inputWidgets": {},
          "title": ""
        },
        "id": "A8Ruh5t6reVP",
        "outputId": "960a991c-9178-469e-f2e1-979a0ff7dd28"
      },
      "outputs": [
        {
          "output_type": "display_data",
          "metadata": {
            "application/vnd.databricks.v1+output": {
              "datasetInfos": [],
              "data": "Out[29]: {'impurity': 1,\n 'maxBins': 37.0,\n 'maxDepth': 17.0,\n 'minInstancesPerNode': 4.0,\n 'numTrees': 46.0}",
              "removedWidgets": [],
              "addedWidgets": {},
              "metadata": {},
              "type": "ansi",
              "arguments": {}
            }
          },
          "data": {
            "text/plain": [
              "Out[29]: {'impurity': 1,\n 'maxBins': 37.0,\n 'maxDepth': 17.0,\n 'minInstancesPerNode': 4.0,\n 'numTrees': 46.0}"
            ]
          }
        }
      ],
      "execution_count": null
    },
    {
      "cell_type": "code",
      "source": [
        "results = get_child_runs(run)\n",
        "display(results[:1])"
      ],
      "metadata": {
        "application/vnd.databricks.v1+cell": {
          "showTitle": false,
          "cellMetadata": {},
          "nuid": "c61b1d82-f7f3-43b7-88b9-c00afc71417b",
          "inputWidgets": {},
          "title": ""
        },
        "id": "rTzA7YdqreVP",
        "outputId": "7bb385df-847a-411d-8e67-f41729d890de"
      },
      "outputs": [
        {
          "output_type": "display_data",
          "metadata": {
            "application/vnd.databricks.v1+output": {
              "overflow": false,
              "datasetInfos": [],
              "data": [
                [
                  "380ab096f00b45fea7b5305b9d10777d",
                  "1078147073770475",
                  "FINISHED",
                  "dbfs:/databricks/mlflow-tracking/1078147073770475/380ab096f00b45fea7b5305b9d10777d/artifacts",
                  "2022-12-22T00:00:12.848+0000",
                  "2022-12-22T00:00:39.077+0000",
                  0.8730384379419889,
                  0.022700016448510593,
                  "entropy",
                  "37",
                  "46",
                  "4",
                  "random_forest",
                  "17",
                  "1671667239209",
                  "7656130984396534",
                  "/Users/grudzinski133@gmail.com/Heart disease prediction",
                  "/Users/grudzinski133@gmail.com/Heart disease prediction",
                  "1078147073770475",
                  "64062061fbbf4124949eadff512af0a1",
                  "path=dbfs:/FileStore/tables/heart_train.delta,version=0,format=delta",
                  "2523564816875397988_6797349034670328562_0ceca3a835064d179c952697d4d0ef4a",
                  "64062061fbbf4124949eadff512af0a1",
                  "NOTEBOOK",
                  "https://frankfurt.cloud.databricks.com",
                  "{\"installable\":[],\"redacted\":[]}",
                  "grudzinski133@gmail.com",
                  "dbc-f0d59ea6-589a.cloud.databricks.com",
                  "suave-lynx-240",
                  "{\"cluster_name\":\"Trial cluster\",\"spark_version\":\"12.0.x-cpu-ml-scala2.12\",\"node_type_id\":\"m5d.large\",\"driver_node_type_id\":\"m5d.large\",\"autotermination_minutes\":120,\"disk_spec\":{\"disk_count\":0},\"autoscale\":{\"min_workers\":2,\"max_workers\":3,\"target_workers\":2}}",
                  "1219-180507-lptvxzcy",
                  null
                ]
              ],
              "plotOptions": {
                "displayType": "table",
                "customPlotOptions": {},
                "pivotColumns": null,
                "pivotAggregation": null,
                "xColumns": null,
                "yColumns": null
              },
              "columnCustomDisplayInfos": {},
              "aggType": "",
              "isJsonSchema": true,
              "removedWidgets": [],
              "aggSchema": [],
              "schema": [
                {
                  "name": "run_id",
                  "type": "\"string\"",
                  "metadata": "{}"
                },
                {
                  "name": "experiment_id",
                  "type": "\"string\"",
                  "metadata": "{}"
                },
                {
                  "name": "status",
                  "type": "\"string\"",
                  "metadata": "{}"
                },
                {
                  "name": "artifact_uri",
                  "type": "\"string\"",
                  "metadata": "{}"
                },
                {
                  "name": "start_time",
                  "type": "\"timestamp\"",
                  "metadata": "{}"
                },
                {
                  "name": "end_time",
                  "type": "\"timestamp\"",
                  "metadata": "{}"
                },
                {
                  "name": "metrics.accuracy",
                  "type": "\"double\"",
                  "metadata": "{}"
                },
                {
                  "name": "metrics.accuracy_std",
                  "type": "\"double\"",
                  "metadata": "{}"
                },
                {
                  "name": "params.impurity",
                  "type": "\"string\"",
                  "metadata": "{}"
                },
                {
                  "name": "params.maxBins",
                  "type": "\"string\"",
                  "metadata": "{}"
                },
                {
                  "name": "params.numTrees",
                  "type": "\"string\"",
                  "metadata": "{}"
                },
                {
                  "name": "params.minInstancesPerNode",
                  "type": "\"string\"",
                  "metadata": "{}"
                },
                {
                  "name": "params.model_type",
                  "type": "\"string\"",
                  "metadata": "{}"
                },
                {
                  "name": "params.maxDepth",
                  "type": "\"string\"",
                  "metadata": "{}"
                },
                {
                  "name": "tags.mlflow.databricks.notebookRevisionID",
                  "type": "\"string\"",
                  "metadata": "{}"
                },
                {
                  "name": "tags.mlflow.databricks.workspaceID",
                  "type": "\"string\"",
                  "metadata": "{}"
                },
                {
                  "name": "tags.mlflow.source.name",
                  "type": "\"string\"",
                  "metadata": "{}"
                },
                {
                  "name": "tags.mlflow.databricks.notebookPath",
                  "type": "\"string\"",
                  "metadata": "{}"
                },
                {
                  "name": "tags.mlflow.databricks.notebookID",
                  "type": "\"string\"",
                  "metadata": "{}"
                },
                {
                  "name": "tags.mlflow.parentRunId",
                  "type": "\"string\"",
                  "metadata": "{}"
                },
                {
                  "name": "tags.sparkDatasourceInfo",
                  "type": "\"string\"",
                  "metadata": "{}"
                },
                {
                  "name": "tags.mlflow.databricks.notebook.commandID",
                  "type": "\"string\"",
                  "metadata": "{}"
                },
                {
                  "name": "tags.mlflow.rootRunId",
                  "type": "\"string\"",
                  "metadata": "{}"
                },
                {
                  "name": "tags.mlflow.source.type",
                  "type": "\"string\"",
                  "metadata": "{}"
                },
                {
                  "name": "tags.mlflow.databricks.webappURL",
                  "type": "\"string\"",
                  "metadata": "{}"
                },
                {
                  "name": "tags.mlflow.databricks.cluster.libraries",
                  "type": "\"string\"",
                  "metadata": "{}"
                },
                {
                  "name": "tags.mlflow.user",
                  "type": "\"string\"",
                  "metadata": "{}"
                },
                {
                  "name": "tags.mlflow.databricks.workspaceURL",
                  "type": "\"string\"",
                  "metadata": "{}"
                },
                {
                  "name": "tags.mlflow.runName",
                  "type": "\"string\"",
                  "metadata": "{}"
                },
                {
                  "name": "tags.mlflow.databricks.cluster.info",
                  "type": "\"string\"",
                  "metadata": "{}"
                },
                {
                  "name": "tags.mlflow.databricks.cluster.id",
                  "type": "\"string\"",
                  "metadata": "{}"
                },
                {
                  "name": "tags.mlflow.note.content",
                  "type": "\"void\"",
                  "metadata": "{}"
                }
              ],
              "aggError": "",
              "aggData": [],
              "addedWidgets": {},
              "metadata": {},
              "dbfsResultPath": null,
              "type": "table",
              "aggOverflow": false,
              "aggSeriesLimitReached": false,
              "arguments": {}
            }
          },
          "data": {
            "text/html": [
              "<style scoped>\n  .table-result-container {\n    max-height: 300px;\n    overflow: auto;\n  }\n  table, th, td {\n    border: 1px solid black;\n    border-collapse: collapse;\n  }\n  th, td {\n    padding: 5px;\n  }\n  th {\n    text-align: left;\n  }\n</style><div class='table-result-container'><table class='table-result'><thead style='background-color: white'><tr><th>run_id</th><th>experiment_id</th><th>status</th><th>artifact_uri</th><th>start_time</th><th>end_time</th><th>metrics.accuracy</th><th>metrics.accuracy_std</th><th>params.impurity</th><th>params.maxBins</th><th>params.numTrees</th><th>params.minInstancesPerNode</th><th>params.model_type</th><th>params.maxDepth</th><th>tags.mlflow.databricks.notebookRevisionID</th><th>tags.mlflow.databricks.workspaceID</th><th>tags.mlflow.source.name</th><th>tags.mlflow.databricks.notebookPath</th><th>tags.mlflow.databricks.notebookID</th><th>tags.mlflow.parentRunId</th><th>tags.sparkDatasourceInfo</th><th>tags.mlflow.databricks.notebook.commandID</th><th>tags.mlflow.rootRunId</th><th>tags.mlflow.source.type</th><th>tags.mlflow.databricks.webappURL</th><th>tags.mlflow.databricks.cluster.libraries</th><th>tags.mlflow.user</th><th>tags.mlflow.databricks.workspaceURL</th><th>tags.mlflow.runName</th><th>tags.mlflow.databricks.cluster.info</th><th>tags.mlflow.databricks.cluster.id</th><th>tags.mlflow.note.content</th></tr></thead><tbody><tr><td>380ab096f00b45fea7b5305b9d10777d</td><td>1078147073770475</td><td>FINISHED</td><td>dbfs:/databricks/mlflow-tracking/1078147073770475/380ab096f00b45fea7b5305b9d10777d/artifacts</td><td>2022-12-22T00:00:12.848+0000</td><td>2022-12-22T00:00:39.077+0000</td><td>0.8730384379419889</td><td>0.022700016448510593</td><td>entropy</td><td>37</td><td>46</td><td>4</td><td>random_forest</td><td>17</td><td>1671667239209</td><td>7656130984396534</td><td>/Users/grudzinski133@gmail.com/Heart disease prediction</td><td>/Users/grudzinski133@gmail.com/Heart disease prediction</td><td>1078147073770475</td><td>64062061fbbf4124949eadff512af0a1</td><td>path=dbfs:/FileStore/tables/heart_train.delta,version=0,format=delta</td><td>2523564816875397988_6797349034670328562_0ceca3a835064d179c952697d4d0ef4a</td><td>64062061fbbf4124949eadff512af0a1</td><td>NOTEBOOK</td><td>https://frankfurt.cloud.databricks.com</td><td>{\"installable\":[],\"redacted\":[]}</td><td>grudzinski133@gmail.com</td><td>dbc-f0d59ea6-589a.cloud.databricks.com</td><td>suave-lynx-240</td><td>{\"cluster_name\":\"Trial cluster\",\"spark_version\":\"12.0.x-cpu-ml-scala2.12\",\"node_type_id\":\"m5d.large\",\"driver_node_type_id\":\"m5d.large\",\"autotermination_minutes\":120,\"disk_spec\":{\"disk_count\":0},\"autoscale\":{\"min_workers\":2,\"max_workers\":3,\"target_workers\":2}}</td><td>1219-180507-lptvxzcy</td><td>null</td></tr></tbody></table></div>"
            ]
          }
        }
      ],
      "execution_count": null
    },
    {
      "cell_type": "code",
      "source": [
        "def score_and_log_best_model_rf(params):\n",
        "    \n",
        "    param_grid = (ParamGridBuilder()\n",
        "                  .addGrid(rf.impurity, [impurity_types[params['impurity']]])\n",
        "                  .addGrid(rf.maxDepth, [int(params['maxDepth'])])\n",
        "                  .addGrid(rf.numTrees, [int(params['numTrees'])])\n",
        "                  .addGrid(rf.minInstancesPerNode, [int(params['minInstancesPerNode'])])\n",
        "                  .addGrid(rf.maxBins, [int(params['maxBins'])])\n",
        "                  .build())\n",
        "    \n",
        "    #this time I'm setting metric to recall of class 1 \n",
        "    evaluator = MulticlassClassificationEvaluator(labelCol='HeartDisease', metricName='recallByLabel', metricLabel=1)\n",
        "    cv_pipeline = CrossValidator(estimator=rf_pipeline, evaluator=evaluator, numFolds=4, seed=42, estimatorParamMaps=param_grid)\n",
        "       \n",
        "    \n",
        "    with mlflow.start_run(run_name='Random_forest_best_model_vec_idx') as run:\n",
        "       \n",
        "        cv_pipeline_model = cv_pipeline.fit(train_spdf)\n",
        "        predictions = cv_pipeline_model.transform(train_spdf)\n",
        "        signature = infer_signature(train_spdf.drop('HeartDisease'), predictions.select('prediction'))\n",
        "    \n",
        "        mlflow.log_param('impurity', impurity_types[params['impurity']])\n",
        "        mlflow.log_param('maxDepth', int(params['maxDepth']))\n",
        "        mlflow.log_param('numTrees', int(params['numTrees']))\n",
        "        mlflow.log_param('minInstancesPerNode', int(params['minInstancesPerNode']))\n",
        "        mlflow.log_param('maxBins', int(params['maxBins']))\n",
        "        mlflow.log_param('model_type', 'random_forest')\n",
        "        \n",
        "        mlflow.log_metric('recallClass1', cv_pipeline_model.avgMetrics[0])\n",
        "        mlflow.log_metric('recallClass1Std', cv_pipeline_model.stdMetrics[0])\n",
        "        mlflow.log_metric('accuracy', results.iloc[0]['metrics.accuracy'])\n",
        "        mlflow.log_metric('accuracyStd', results.iloc[0]['metrics.accuracy_std'])\n",
        "                \n",
        "        mlflow.spark.log_model(cv_pipeline_model, 'RandomForestPipeline', signature=signature, input_example=train_spdf.drop('HeartDisease').limit(5).toPandas(), conda_env=mlflow.spark.get_default_conda_env())\n",
        "        \n",
        "        mlflow_spark_model_path = f\"runs:/{run.info.run_id}/RandomForest\"\n",
        "        \n",
        "    return mlflow_spark_model_path"
      ],
      "metadata": {
        "application/vnd.databricks.v1+cell": {
          "showTitle": false,
          "cellMetadata": {},
          "nuid": "19d52edc-75b7-4caa-b4c5-9517a561ae26",
          "inputWidgets": {},
          "title": ""
        },
        "id": "jiYtmpAkreVP"
      },
      "outputs": [],
      "execution_count": null
    },
    {
      "cell_type": "code",
      "source": [
        "score_and_log_best_model_rf(best_hyperparam)"
      ],
      "metadata": {
        "application/vnd.databricks.v1+cell": {
          "showTitle": false,
          "cellMetadata": {},
          "nuid": "ad23c592-f905-41c5-aeea-33376ff352c5",
          "inputWidgets": {},
          "title": ""
        },
        "id": "UltUmzOoreVQ",
        "outputId": "164f222c-073e-48e3-afd0-01bbd3675b6c"
      },
      "outputs": [
        {
          "output_type": "display_data",
          "metadata": {
            "application/vnd.databricks.v1+output": {
              "datasetInfos": [],
              "data": "/databricks/python/lib/python3.9/site-packages/mlflow/models/signature.py:129: UserWarning: Hint: Inferred schema contains integer column(s). Integer columns in Python cannot represent missing values. If your input data contains missing values at inference time, it will be encoded as floats and will cause a schema enforcement error. The best way to avoid this problem is to infer the model schema based on a realistic data sample (training dataset) that includes missing values. Alternatively, you can declare integer columns as doubles (float64) whenever these columns may have missing values. See `Handling Integers With Missing Values <https://www.mlflow.org/docs/latest/models.html#handling-integers-with-missing-values>`_ for more details.\n  inputs = _infer_schema(model_input)\nOut[47]: 'runs:/07a8c755654545998064ac6811d58b69/RandomForest'",
              "removedWidgets": [],
              "addedWidgets": {},
              "metadata": {},
              "type": "ansi",
              "arguments": {}
            }
          },
          "data": {
            "text/plain": [
              "/databricks/python/lib/python3.9/site-packages/mlflow/models/signature.py:129: UserWarning: Hint: Inferred schema contains integer column(s). Integer columns in Python cannot represent missing values. If your input data contains missing values at inference time, it will be encoded as floats and will cause a schema enforcement error. The best way to avoid this problem is to infer the model schema based on a realistic data sample (training dataset) that includes missing values. Alternatively, you can declare integer columns as doubles (float64) whenever these columns may have missing values. See `Handling Integers With Missing Values <https://www.mlflow.org/docs/latest/models.html#handling-integers-with-missing-values>`_ for more details.\n  inputs = _infer_schema(model_input)\nOut[47]: 'runs:/07a8c755654545998064ac6811d58b69/RandomForest'"
            ]
          }
        }
      ],
      "execution_count": null
    },
    {
      "cell_type": "markdown",
      "source": [
        "Adding VectorIndexer to the pipeline improved accuracy a tiny bit. It also reduced value of numTrees hyperparameter from 156 to 46 and increased maxDepth to 17 from 13. This trade off results in reduction of model complexity. Although model's accuracy improvment is negligible reduction in model complexity is a gain. I'm not 100% sure this improvment comes from using Vectorindexer, it might also be due to randomness in Hyperopt and crossvalidation but that shouldn't be the case because I used the same seeds and training data."
      ],
      "metadata": {
        "application/vnd.databricks.v1+cell": {
          "showTitle": false,
          "cellMetadata": {},
          "nuid": "01b28a38-7f61-4db5-8427-3281ddb071be",
          "inputWidgets": {},
          "title": ""
        },
        "id": "EJUiaBiLreVQ"
      }
    },
    {
      "cell_type": "markdown",
      "source": [
        "![s13.PNG](data:image/png;base64,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)"
      ],
      "metadata": {
        "id": "YH1XQWJRs1rR"
      }
    },
    {
      "cell_type": "markdown",
      "source": [
        "I'm going to train pipeline with VectorIndexer included using hyperparameters from the best run in first Random Forest experiment and measure it's accuracy."
      ],
      "metadata": {
        "application/vnd.databricks.v1+cell": {
          "showTitle": false,
          "cellMetadata": {},
          "nuid": "eba2917a-38dd-4198-b2ec-47341813a573",
          "inputWidgets": {},
          "title": ""
        },
        "id": "-q2BtpmireVQ"
      }
    },
    {
      "cell_type": "code",
      "source": [
        "param_grid = (ParamGridBuilder()\n",
        "              .addGrid(rf.impurity, ['gini'])\n",
        "              .addGrid(rf.maxDepth, [13])\n",
        "              .addGrid(rf.numTrees, [156])\n",
        "              .addGrid(rf.minInstancesPerNode, [7])\n",
        "              .addGrid(rf.maxBins, [55])\n",
        "              .build())\n",
        "\n",
        "evaluator = MulticlassClassificationEvaluator(labelCol='HeartDisease', metricName='accuracy', metricLabel=1)\n",
        "cv_pipeline = CrossValidator(estimator=rf_pipeline, evaluator=evaluator, numFolds=4, seed=42, estimatorParamMaps=param_grid)\n",
        "\n",
        "pipeline_fitted = cv_pipeline.fit(train_spdf)"
      ],
      "metadata": {
        "application/vnd.databricks.v1+cell": {
          "showTitle": false,
          "cellMetadata": {},
          "nuid": "c009bcb5-91a9-41d1-b22d-b696259ae488",
          "inputWidgets": {},
          "title": ""
        },
        "id": "m8j6er3treVQ"
      },
      "outputs": [],
      "execution_count": null
    },
    {
      "cell_type": "markdown",
      "source": [
        "Result is different from that obtained during first experiment suggesting that VectorIndexer changed model's behaviour during training. Again this might be due to randomness in CrossValidator but I used the same seed so it shouldn't be the case.\n",
        "\n",
        "From now on I'm going to include VectorIndexer in my pipelines when training tree based models."
      ],
      "metadata": {
        "application/vnd.databricks.v1+cell": {
          "showTitle": false,
          "cellMetadata": {},
          "nuid": "9bb18e14-0f17-440d-ad92-5b4bfdbfef27",
          "inputWidgets": {},
          "title": ""
        },
        "id": "FeDYoDYQreVR"
      }
    },
    {
      "cell_type": "code",
      "source": [
        "pipeline_fitted.avgMetrics"
      ],
      "metadata": {
        "application/vnd.databricks.v1+cell": {
          "showTitle": false,
          "cellMetadata": {},
          "nuid": "4d681b55-772e-42af-8cca-41c9ad59d6fb",
          "inputWidgets": {},
          "title": ""
        },
        "id": "uu937H9vreVR",
        "outputId": "8fc998d7-064e-4400-865a-7616514ccf94"
      },
      "outputs": [
        {
          "output_type": "display_data",
          "metadata": {
            "application/vnd.databricks.v1+output": {
              "datasetInfos": [],
              "data": "Out[10]: [0.8701632814221714]",
              "removedWidgets": [],
              "addedWidgets": {},
              "metadata": {},
              "type": "ansi",
              "arguments": {}
            }
          },
          "data": {
            "text/plain": [
              "Out[10]: [0.8701632814221714]"
            ]
          }
        }
      ],
      "execution_count": null
    },
    {
      "cell_type": "markdown",
      "source": [
        "# XGBoost"
      ],
      "metadata": {
        "application/vnd.databricks.v1+cell": {
          "showTitle": false,
          "cellMetadata": {},
          "nuid": "3ae0671c-223a-4347-b007-8aa665a04011",
          "inputWidgets": {},
          "title": ""
        },
        "id": "xBab0zBXreVR"
      }
    },
    {
      "cell_type": "code",
      "source": [
        "search_space = {\n",
        "     'learning_rate': hp.uniform('learning_rate', 0.0001, 0.3),\n",
        "     'max_depth': hp.quniform('max_depth', 5, 25, 1),\n",
        "     'min_child_weight': hp.uniform('min_child_weight', 1, 40),\n",
        "     'subsample': hp.uniform('subsample', 0.4, 1),\n",
        "     'gamma': hp.uniform('gamma', 0, 20)\n",
        "}"
      ],
      "metadata": {
        "application/vnd.databricks.v1+cell": {
          "showTitle": false,
          "cellMetadata": {},
          "nuid": "1cc7b17e-8448-4b92-8d9b-631c6af4dc13",
          "inputWidgets": {},
          "title": ""
        },
        "id": "h9BHQfyjreVR"
      },
      "outputs": [],
      "execution_count": null
    },
    {
      "cell_type": "code",
      "source": [
        "index_output_cols = [x + 'Index' for x in categorical]\n",
        "string_indexer = StringIndexer(inputCols=categorical, outputCols=index_output_cols, handleInvalid='skip')\n",
        "\n",
        "assembler_input = index_output_cols + numerical + categorical_numeric\n",
        "vec_assembler = VectorAssembler(inputCols=assembler_input, outputCol='rawFeatures')\n",
        "\n",
        "vectorIndexer = VectorIndexer(inputCol=\"rawFeatures\", outputCol=\"features\", maxCategories=4)\n",
        "\n",
        "xgb_classifier = SparkXGBClassifier(num_workers=1, label_col=\"HeartDisease\", missing=0.0)\n",
        "xgb_pipeline = Pipeline(stages=[string_indexer, vec_assembler, vectorIndexer, xgb_classifier])\n",
        "\n",
        "evaluator = MulticlassClassificationEvaluator(labelCol='HeartDisease', metricName='accuracy')"
      ],
      "metadata": {
        "application/vnd.databricks.v1+cell": {
          "showTitle": false,
          "cellMetadata": {},
          "nuid": "15c27ae0-b961-4d63-8fa8-9ec63fc463fe",
          "inputWidgets": {},
          "title": ""
        },
        "id": "bx24-NxrreVS"
      },
      "outputs": [],
      "execution_count": null
    },
    {
      "cell_type": "code",
      "source": [
        "def objective_xgb(params):\n",
        "\n",
        "    param_grid = (ParamGridBuilder()\n",
        "                  .addGrid(xgb_classifier.learning_rate, [params['learning_rate']])\n",
        "                  .addGrid(xgb_classifier.max_depth, [int(params['max_depth'])])\n",
        "                  .addGrid(xgb_classifier.min_child_weight, [params['min_child_weight']])\n",
        "                  .addGrid(xgb_classifier.subsample, [params['subsample']])\n",
        "                  .addGrid(xgb_classifier.gamma, [params['gamma']])\n",
        "                  .build())\n",
        "    \n",
        "    cv_pipeline = CrossValidator(estimator=xgb_pipeline, evaluator=evaluator, numFolds=4, seed=42, estimatorParamMaps=param_grid)\n",
        "    \n",
        "    with mlflow.start_run(nested=True):\n",
        "        cv_model = cv_pipeline.fit(train_spdf)\n",
        "        mlflow.log_param('learning_rate', params['learning_rate'])\n",
        "        mlflow.log_param('max_depth', int(params['max_depth']))\n",
        "        mlflow.log_param('min_child_weight', params['min_child_weight'])\n",
        "        mlflow.log_param('subsample', params['subsample'])\n",
        "        mlflow.log_param('gamma', params['gamma'])\n",
        "        mlflow.log_param('model_type', 'XGBoost')\n",
        "        mlflow.log_metric('accuracy', cv_model.avgMetrics[0])\n",
        "        mlflow.log_metric('accuracy_std', cv_model.stdMetrics[0])\n",
        "    \n",
        "    return {'loss': -cv_model.avgMetrics[0], 'status': STATUS_OK, 'loss_variance': cv_model.stdMetrics[0]**2}"
      ],
      "metadata": {
        "application/vnd.databricks.v1+cell": {
          "showTitle": false,
          "cellMetadata": {},
          "nuid": "afa7ef07-b2f2-4298-889f-4ec807ffa4b5",
          "inputWidgets": {},
          "title": ""
        },
        "id": "0pK6NmrlreVS"
      },
      "outputs": [],
      "execution_count": null
    },
    {
      "cell_type": "markdown",
      "source": [
        "Sometimes I get warnings that XGBoost loaded a model with Scikit-Learn interface but these runs finish without errors so I it's probably just a bug"
      ],
      "metadata": {
        "application/vnd.databricks.v1+cell": {
          "showTitle": false,
          "cellMetadata": {},
          "nuid": "bf4aab63-7bdb-47e6-b787-233e11bbf82c",
          "inputWidgets": {},
          "title": ""
        },
        "id": "LCgHhwaGreVS"
      }
    },
    {
      "cell_type": "code",
      "source": [
        "trials = Trials()\n",
        "num_evals = 80\n",
        "\n",
        "with mlflow.start_run(run_name='xgboost_hyperparameter_search') as run:\n",
        "    best_hyperparam = fmin(fn=objective_xgb, \n",
        "                           space=search_space,\n",
        "                           algo=tpe.suggest, \n",
        "                           max_evals=num_evals,\n",
        "                           trials=trials,\n",
        "                           rstate=np.random.default_rng(42),\n",
        "                           early_stop_fn=no_progress_loss(5))"
      ],
      "metadata": {
        "application/vnd.databricks.v1+cell": {
          "showTitle": false,
          "cellMetadata": {},
          "nuid": "f2f31086-ee8d-4876-9d91-92ba06170047",
          "inputWidgets": {},
          "title": ""
        },
        "id": "99W2QKm7reVS",
        "outputId": "77a83cec-e42d-4dbd-cd07-1135322925c0"
      },
      "outputs": [
        {
          "output_type": "display_data",
          "metadata": {
            "application/vnd.databricks.v1+output": {
              "datasetInfos": [],
              "data": "\r  0%|          | 0/80 [00:00<?, ?trial/s, best loss=?]/databricks/.python_edge_libs/xgboost/sklearn.py:808: UserWarning: Loading a native XGBoost model with Scikit-Learn interface.\n  warnings.warn(\"Loading a native XGBoost model with Scikit-Learn interface.\")\n\n\r  1%|▏         | 1/80 [01:28<1:56:44, 88.66s/trial, best loss: -0.8420554216002252]\r  2%|▎         | 2/80 [02:01<1:12:37, 55.86s/trial, best loss: -0.8420554216002252]\r  4%|▍         | 3/80 [02:32<57:19, 44.67s/trial, best loss: -0.871298379581654]   \r  5%|▌         | 4/80 [03:03<49:25, 39.03s/trial, best loss: -0.871298379581654]\r  6%|▋         | 5/80 [03:32<44:25, 35.53s/trial, best loss: -0.8749037914163253]\r  8%|▊         | 6/80 [04:01<40:54, 33.17s/trial, best loss: -0.8749037914163253]\r  9%|▉         | 7/80 [04:28<38:11, 31.39s/trial, best loss: -0.8749037914163253]\r 10%|█         | 8/80 [04:56<36:12, 30.18s/trial, best loss: -0.8749037914163253]\r 11%|█▏        | 9/80 [05:23<34:25, 29.09s/trial, best loss: -0.8749037914163253]/databricks/.python_edge_libs/xgboost/sklearn.py:808: UserWarning: Loading a native XGBoost model with Scikit-Learn interface.\n  warnings.warn(\"Loading a native XGBoost model with Scikit-Learn interface.\")\n\n\r 12%|█▎        | 10/80 [05:51<33:31, 28.74s/trial, best loss: -0.8749037914163253]\r 12%|█▎        | 10/80 [05:51<40:58, 35.12s/trial, best loss: -0.8749037914163253]\n",
              "removedWidgets": [],
              "addedWidgets": {},
              "metadata": {},
              "type": "ansi",
              "arguments": {}
            }
          },
          "data": {
            "text/plain": [
              "\r  0%|          | 0/80 [00:00<?, ?trial/s, best loss=?]/databricks/.python_edge_libs/xgboost/sklearn.py:808: UserWarning: Loading a native XGBoost model with Scikit-Learn interface.\n  warnings.warn(\"Loading a native XGBoost model with Scikit-Learn interface.\")\n\n\r  1%|▏         | 1/80 [01:28<1:56:44, 88.66s/trial, best loss: -0.8420554216002252]\r  2%|▎         | 2/80 [02:01<1:12:37, 55.86s/trial, best loss: -0.8420554216002252]\r  4%|▍         | 3/80 [02:32<57:19, 44.67s/trial, best loss: -0.871298379581654]   \r  5%|▌         | 4/80 [03:03<49:25, 39.03s/trial, best loss: -0.871298379581654]\r  6%|▋         | 5/80 [03:32<44:25, 35.53s/trial, best loss: -0.8749037914163253]\r  8%|▊         | 6/80 [04:01<40:54, 33.17s/trial, best loss: -0.8749037914163253]\r  9%|▉         | 7/80 [04:28<38:11, 31.39s/trial, best loss: -0.8749037914163253]\r 10%|█         | 8/80 [04:56<36:12, 30.18s/trial, best loss: -0.8749037914163253]\r 11%|█▏        | 9/80 [05:23<34:25, 29.09s/trial, best loss: -0.8749037914163253]/databricks/.python_edge_libs/xgboost/sklearn.py:808: UserWarning: Loading a native XGBoost model with Scikit-Learn interface.\n  warnings.warn(\"Loading a native XGBoost model with Scikit-Learn interface.\")\n\n\r 12%|█▎        | 10/80 [05:51<33:31, 28.74s/trial, best loss: -0.8749037914163253]\r 12%|█▎        | 10/80 [05:51<40:58, 35.12s/trial, best loss: -0.8749037914163253]\n"
            ]
          }
        }
      ],
      "execution_count": null
    },
    {
      "cell_type": "code",
      "source": [
        "results = get_child_runs(run)\n",
        "display(results[:1])"
      ],
      "metadata": {
        "application/vnd.databricks.v1+cell": {
          "showTitle": false,
          "cellMetadata": {},
          "nuid": "e3e952bf-c795-4ba2-af19-b4aec8d044c6",
          "inputWidgets": {},
          "title": ""
        },
        "id": "FSWInMg5reVS",
        "outputId": "baaf73e9-79b3-469e-de19-4563c6f558fa"
      },
      "outputs": [
        {
          "output_type": "display_data",
          "metadata": {
            "application/vnd.databricks.v1+output": {
              "overflow": false,
              "datasetInfos": [],
              "data": [
                [
                  "556a02694ace400291f6a2a4e454faca",
                  "1078147073770475",
                  "FINISHED",
                  "dbfs:/databricks/mlflow-tracking/1078147073770475/556a02694ace400291f6a2a4e454faca/artifacts",
                  "2022-12-23T18:03:13.719+0000",
                  "2022-12-23T18:03:42.963+0000",
                  0.8749037914163253,
                  0.021926818430044126,
                  "6.763311629907447",
                  "0.10390096743058716",
                  "4.769141181403357",
                  "XGBoost",
                  "0.7017422527968891",
                  "11",
                  "1671818623102",
                  "7656130984396534",
                  "/Users/grudzinski133@gmail.com/Heart disease prediction",
                  "/Users/grudzinski133@gmail.com/Heart disease prediction",
                  "1078147073770475",
                  "b8a8e2a16a0448a28fd2d250fed68fc5",
                  "7457973926010896108_5677931569822596783_fc7171388fb84701be9f15b43941f1f4",
                  "b8a8e2a16a0448a28fd2d250fed68fc5",
                  "NOTEBOOK",
                  "https://frankfurt.cloud.databricks.com",
                  "{\"installable\":[],\"redacted\":[]}",
                  "grudzinski133@gmail.com",
                  "dbc-f0d59ea6-589a.cloud.databricks.com",
                  "zealous-stoat-626",
                  "{\"cluster_name\":\"Trial cluster\",\"spark_version\":\"12.0.x-cpu-ml-scala2.12\",\"node_type_id\":\"m5d.large\",\"driver_node_type_id\":\"m5d.large\",\"autotermination_minutes\":120,\"disk_spec\":{\"disk_count\":0},\"autoscale\":{\"min_workers\":2,\"max_workers\":3,\"target_workers\":2}}",
                  "1219-180507-lptvxzcy"
                ]
              ],
              "plotOptions": {
                "displayType": "table",
                "customPlotOptions": {},
                "pivotColumns": null,
                "pivotAggregation": null,
                "xColumns": null,
                "yColumns": null
              },
              "columnCustomDisplayInfos": {},
              "aggType": "",
              "isJsonSchema": true,
              "removedWidgets": [],
              "aggSchema": [],
              "schema": [
                {
                  "name": "run_id",
                  "type": "\"string\"",
                  "metadata": "{}"
                },
                {
                  "name": "experiment_id",
                  "type": "\"string\"",
                  "metadata": "{}"
                },
                {
                  "name": "status",
                  "type": "\"string\"",
                  "metadata": "{}"
                },
                {
                  "name": "artifact_uri",
                  "type": "\"string\"",
                  "metadata": "{}"
                },
                {
                  "name": "start_time",
                  "type": "\"timestamp\"",
                  "metadata": "{}"
                },
                {
                  "name": "end_time",
                  "type": "\"timestamp\"",
                  "metadata": "{}"
                },
                {
                  "name": "metrics.accuracy",
                  "type": "\"double\"",
                  "metadata": "{}"
                },
                {
                  "name": "metrics.accuracy_std",
                  "type": "\"double\"",
                  "metadata": "{}"
                },
                {
                  "name": "params.gamma",
                  "type": "\"string\"",
                  "metadata": "{}"
                },
                {
                  "name": "params.learning_rate",
                  "type": "\"string\"",
                  "metadata": "{}"
                },
                {
                  "name": "params.min_child_weight",
                  "type": "\"string\"",
                  "metadata": "{}"
                },
                {
                  "name": "params.model_type",
                  "type": "\"string\"",
                  "metadata": "{}"
                },
                {
                  "name": "params.subsample",
                  "type": "\"string\"",
                  "metadata": "{}"
                },
                {
                  "name": "params.max_depth",
                  "type": "\"string\"",
                  "metadata": "{}"
                },
                {
                  "name": "tags.mlflow.databricks.notebookRevisionID",
                  "type": "\"string\"",
                  "metadata": "{}"
                },
                {
                  "name": "tags.mlflow.databricks.workspaceID",
                  "type": "\"string\"",
                  "metadata": "{}"
                },
                {
                  "name": "tags.mlflow.source.name",
                  "type": "\"string\"",
                  "metadata": "{}"
                },
                {
                  "name": "tags.mlflow.databricks.notebookPath",
                  "type": "\"string\"",
                  "metadata": "{}"
                },
                {
                  "name": "tags.mlflow.databricks.notebookID",
                  "type": "\"string\"",
                  "metadata": "{}"
                },
                {
                  "name": "tags.mlflow.parentRunId",
                  "type": "\"string\"",
                  "metadata": "{}"
                },
                {
                  "name": "tags.mlflow.databricks.notebook.commandID",
                  "type": "\"string\"",
                  "metadata": "{}"
                },
                {
                  "name": "tags.mlflow.rootRunId",
                  "type": "\"string\"",
                  "metadata": "{}"
                },
                {
                  "name": "tags.mlflow.source.type",
                  "type": "\"string\"",
                  "metadata": "{}"
                },
                {
                  "name": "tags.mlflow.databricks.webappURL",
                  "type": "\"string\"",
                  "metadata": "{}"
                },
                {
                  "name": "tags.mlflow.databricks.cluster.libraries",
                  "type": "\"string\"",
                  "metadata": "{}"
                },
                {
                  "name": "tags.mlflow.user",
                  "type": "\"string\"",
                  "metadata": "{}"
                },
                {
                  "name": "tags.mlflow.databricks.workspaceURL",
                  "type": "\"string\"",
                  "metadata": "{}"
                },
                {
                  "name": "tags.mlflow.runName",
                  "type": "\"string\"",
                  "metadata": "{}"
                },
                {
                  "name": "tags.mlflow.databricks.cluster.info",
                  "type": "\"string\"",
                  "metadata": "{}"
                },
                {
                  "name": "tags.mlflow.databricks.cluster.id",
                  "type": "\"string\"",
                  "metadata": "{}"
                }
              ],
              "aggError": "",
              "aggData": [],
              "addedWidgets": {},
              "metadata": {},
              "dbfsResultPath": null,
              "type": "table",
              "aggOverflow": false,
              "aggSeriesLimitReached": false,
              "arguments": {}
            }
          },
          "data": {
            "text/html": [
              "<style scoped>\n  .table-result-container {\n    max-height: 300px;\n    overflow: auto;\n  }\n  table, th, td {\n    border: 1px solid black;\n    border-collapse: collapse;\n  }\n  th, td {\n    padding: 5px;\n  }\n  th {\n    text-align: left;\n  }\n</style><div class='table-result-container'><table class='table-result'><thead style='background-color: white'><tr><th>run_id</th><th>experiment_id</th><th>status</th><th>artifact_uri</th><th>start_time</th><th>end_time</th><th>metrics.accuracy</th><th>metrics.accuracy_std</th><th>params.gamma</th><th>params.learning_rate</th><th>params.min_child_weight</th><th>params.model_type</th><th>params.subsample</th><th>params.max_depth</th><th>tags.mlflow.databricks.notebookRevisionID</th><th>tags.mlflow.databricks.workspaceID</th><th>tags.mlflow.source.name</th><th>tags.mlflow.databricks.notebookPath</th><th>tags.mlflow.databricks.notebookID</th><th>tags.mlflow.parentRunId</th><th>tags.mlflow.databricks.notebook.commandID</th><th>tags.mlflow.rootRunId</th><th>tags.mlflow.source.type</th><th>tags.mlflow.databricks.webappURL</th><th>tags.mlflow.databricks.cluster.libraries</th><th>tags.mlflow.user</th><th>tags.mlflow.databricks.workspaceURL</th><th>tags.mlflow.runName</th><th>tags.mlflow.databricks.cluster.info</th><th>tags.mlflow.databricks.cluster.id</th></tr></thead><tbody><tr><td>556a02694ace400291f6a2a4e454faca</td><td>1078147073770475</td><td>FINISHED</td><td>dbfs:/databricks/mlflow-tracking/1078147073770475/556a02694ace400291f6a2a4e454faca/artifacts</td><td>2022-12-23T18:03:13.719+0000</td><td>2022-12-23T18:03:42.963+0000</td><td>0.8749037914163253</td><td>0.021926818430044126</td><td>6.763311629907447</td><td>0.10390096743058716</td><td>4.769141181403357</td><td>XGBoost</td><td>0.7017422527968891</td><td>11</td><td>1671818623102</td><td>7656130984396534</td><td>/Users/grudzinski133@gmail.com/Heart disease prediction</td><td>/Users/grudzinski133@gmail.com/Heart disease prediction</td><td>1078147073770475</td><td>b8a8e2a16a0448a28fd2d250fed68fc5</td><td>7457973926010896108_5677931569822596783_fc7171388fb84701be9f15b43941f1f4</td><td>b8a8e2a16a0448a28fd2d250fed68fc5</td><td>NOTEBOOK</td><td>https://frankfurt.cloud.databricks.com</td><td>{\"installable\":[],\"redacted\":[]}</td><td>grudzinski133@gmail.com</td><td>dbc-f0d59ea6-589a.cloud.databricks.com</td><td>zealous-stoat-626</td><td>{\"cluster_name\":\"Trial cluster\",\"spark_version\":\"12.0.x-cpu-ml-scala2.12\",\"node_type_id\":\"m5d.large\",\"driver_node_type_id\":\"m5d.large\",\"autotermination_minutes\":120,\"disk_spec\":{\"disk_count\":0},\"autoscale\":{\"min_workers\":2,\"max_workers\":3,\"target_workers\":2}}</td><td>1219-180507-lptvxzcy</td></tr></tbody></table></div>"
            ]
          }
        }
      ],
      "execution_count": null
    },
    {
      "cell_type": "code",
      "source": [
        "def score_and_log_best_model_xgb(params):\n",
        "    \n",
        "    param_grid = (ParamGridBuilder()\n",
        "                  .addGrid(xgb_classifier.learning_rate, [params['learning_rate']])\n",
        "                  .addGrid(xgb_classifier.max_depth, [int(params['max_depth'])])\n",
        "                  .addGrid(xgb_classifier.min_child_weight, [params['min_child_weight']])\n",
        "                  .addGrid(xgb_classifier.subsample, [params['subsample']])\n",
        "                  .addGrid(xgb_classifier.gamma, [params['gamma']])\n",
        "                  .build())\n",
        "    \n",
        "    #this time I'm setting metric to recall of class 1 \n",
        "    evaluator = MulticlassClassificationEvaluator(labelCol='HeartDisease', metricName='recallByLabel', metricLabel=1)\n",
        "    cv_pipeline = CrossValidator(estimator=xgb_pipeline, evaluator=evaluator, numFolds=4, seed=42, estimatorParamMaps=param_grid)\n",
        "       \n",
        "    \n",
        "    with mlflow.start_run(run_name='XGB_best_model') as run:\n",
        "       \n",
        "        cv_pipeline_model = cv_pipeline.fit(train_spdf)\n",
        "        predictions = cv_pipeline_model.transform(train_spdf)\n",
        "        signature = infer_signature(train_spdf.drop('HeartDisease'), predictions.select('prediction'))\n",
        "    \n",
        "        mlflow.log_param('learning_rate', params['learning_rate'])\n",
        "        mlflow.log_param('max_depth', int(params['max_depth']))\n",
        "        mlflow.log_param('min_child_weight', params['min_child_weight'])\n",
        "        mlflow.log_param('subsample', params['subsample'])\n",
        "        mlflow.log_param('gamma', params['gamma'])\n",
        "        mlflow.log_param('model_type', 'XGBoost')\n",
        "        \n",
        "        mlflow.log_metric('recallClass1', cv_pipeline_model.avgMetrics[0])\n",
        "        mlflow.log_metric('recallClass1Std', cv_pipeline_model.stdMetrics[0])\n",
        "        mlflow.log_metric('accuracy', results.iloc[0]['metrics.accuracy'])\n",
        "        mlflow.log_metric('accuracyStd', results.iloc[0]['metrics.accuracy_std'])\n",
        "                \n",
        "        mlflow.spark.log_model(cv_pipeline_model, 'XGBPipeline', signature=signature, input_example=train_spdf.drop('HeartDisease').limit(5).toPandas(), conda_env=mlflow.spark.get_default_conda_env())\n",
        "        \n",
        "        mlflow_spark_model_path = f\"runs:/{run.info.run_id}/XGBipeline\"\n",
        "        \n",
        "    return mlflow_spark_model_path"
      ],
      "metadata": {
        "application/vnd.databricks.v1+cell": {
          "showTitle": false,
          "cellMetadata": {},
          "nuid": "438868d9-69da-42c8-ab53-2c4237e5f6bd",
          "inputWidgets": {},
          "title": ""
        },
        "id": "lsJVEMGHreVT"
      },
      "outputs": [],
      "execution_count": null
    },
    {
      "cell_type": "code",
      "source": [
        "best_hyperparam"
      ],
      "metadata": {
        "application/vnd.databricks.v1+cell": {
          "showTitle": false,
          "cellMetadata": {},
          "nuid": "f6a33ed5-aa6b-46b0-b92f-daeb0edd705d",
          "inputWidgets": {},
          "title": ""
        },
        "id": "zsYglAuKreVT",
        "outputId": "021a8b43-d024-4013-8301-f47d450dc274"
      },
      "outputs": [
        {
          "output_type": "display_data",
          "metadata": {
            "application/vnd.databricks.v1+output": {
              "datasetInfos": [],
              "data": "Out[13]: {'gamma': 6.763311629907447,\n 'learning_rate': 0.10390096743058716,\n 'max_depth': 11.0,\n 'min_child_weight': 4.769141181403357,\n 'subsample': 0.7017422527968891}",
              "removedWidgets": [],
              "addedWidgets": {},
              "metadata": {},
              "type": "ansi",
              "arguments": {}
            }
          },
          "data": {
            "text/plain": [
              "Out[13]: {'gamma': 6.763311629907447,\n 'learning_rate': 0.10390096743058716,\n 'max_depth': 11.0,\n 'min_child_weight': 4.769141181403357,\n 'subsample': 0.7017422527968891}"
            ]
          }
        }
      ],
      "execution_count": null
    },
    {
      "cell_type": "code",
      "source": [
        "model_path = score_and_log_best_model_xgb(best_hyperparam)"
      ],
      "metadata": {
        "application/vnd.databricks.v1+cell": {
          "showTitle": false,
          "cellMetadata": {},
          "nuid": "06833a36-15f2-4da6-afd7-38ca91264196",
          "inputWidgets": {},
          "title": ""
        },
        "id": "_IFxobE4reVT",
        "outputId": "868e7e96-9c7e-4f8f-b40c-5ec29ce7d3cf"
      },
      "outputs": [
        {
          "output_type": "display_data",
          "metadata": {
            "application/vnd.databricks.v1+output": {
              "datasetInfos": [],
              "data": "/databricks/python/lib/python3.9/site-packages/mlflow/models/signature.py:129: UserWarning: Hint: Inferred schema contains integer column(s). Integer columns in Python cannot represent missing values. If your input data contains missing values at inference time, it will be encoded as floats and will cause a schema enforcement error. The best way to avoid this problem is to infer the model schema based on a realistic data sample (training dataset) that includes missing values. Alternatively, you can declare integer columns as doubles (float64) whenever these columns may have missing values. See `Handling Integers With Missing Values <https://www.mlflow.org/docs/latest/models.html#handling-integers-with-missing-values>`_ for more details.\n  inputs = _infer_schema(model_input)\n/databricks/python/lib/python3.9/site-packages/_distutils_hack/__init__.py:30: UserWarning: Setuptools is replacing distutils.\n  warnings.warn(\"Setuptools is replacing distutils.\")\n",
              "removedWidgets": [],
              "addedWidgets": {},
              "metadata": {},
              "type": "ansi",
              "arguments": {}
            }
          },
          "data": {
            "text/plain": [
              "/databricks/python/lib/python3.9/site-packages/mlflow/models/signature.py:129: UserWarning: Hint: Inferred schema contains integer column(s). Integer columns in Python cannot represent missing values. If your input data contains missing values at inference time, it will be encoded as floats and will cause a schema enforcement error. The best way to avoid this problem is to infer the model schema based on a realistic data sample (training dataset) that includes missing values. Alternatively, you can declare integer columns as doubles (float64) whenever these columns may have missing values. See `Handling Integers With Missing Values <https://www.mlflow.org/docs/latest/models.html#handling-integers-with-missing-values>`_ for more details.\n  inputs = _infer_schema(model_input)\n/databricks/python/lib/python3.9/site-packages/_distutils_hack/__init__.py:30: UserWarning: Setuptools is replacing distutils.\n  warnings.warn(\"Setuptools is replacing distutils.\")\n"
            ]
          }
        }
      ],
      "execution_count": null
    },
    {
      "cell_type": "markdown",
      "source": [
        "XGBoost got the best results both on accuracy and recall of class 1.\n",
        "\n",
        "XGBoost will be my final model. I'm going to test it's performance on holdout test set and, register it to mlflow model's registery and set it's stage to production."
      ],
      "metadata": {
        "application/vnd.databricks.v1+cell": {
          "showTitle": false,
          "cellMetadata": {},
          "nuid": "a568a684-21b4-4aae-9f79-35d13dac904b",
          "inputWidgets": {},
          "title": ""
        },
        "id": "2RuSIOyvreVT"
      }
    },
    {
      "cell_type": "markdown",
      "source": [
        "![s14.PNG](data:image/png;base64,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)"
      ],
      "metadata": {
        "id": "lFa2I6cWs6DC"
      }
    },
    {
      "cell_type": "code",
      "source": [
        "best_model_path = 'runs:/18cffdfe0033468db546265fdabcdc47/XGBPipeline'\n",
        "\n",
        "loaded_model = mlflow.spark.load_model(best_model_path)\n",
        "\n",
        "predictions = loaded_model.transform(test_spdf)"
      ],
      "metadata": {
        "application/vnd.databricks.v1+cell": {
          "showTitle": false,
          "cellMetadata": {},
          "nuid": "7d872788-f615-4d91-9633-896e58c2d699",
          "inputWidgets": {},
          "title": ""
        },
        "id": "QIbuEWM6reVU",
        "outputId": "2de36c18-2aea-4d49-a09f-c050fc8a5406"
      },
      "outputs": [
        {
          "output_type": "display_data",
          "metadata": {
            "application/vnd.databricks.v1+output": {
              "datasetInfos": [],
              "data": "2022/12/29 15:32:45 INFO mlflow.spark: 'runs:/18cffdfe0033468db546265fdabcdc47/XGBPipeline' resolved as 'dbfs:/databricks/mlflow-tracking/1078147073770475/18cffdfe0033468db546265fdabcdc47/artifacts/XGBPipeline'\n/databricks/.python_edge_libs/xgboost/sklearn.py:808: UserWarning: Loading a native XGBoost model with Scikit-Learn interface.\n  warnings.warn(\"Loading a native XGBoost model with Scikit-Learn interface.\")\n",
              "removedWidgets": [],
              "addedWidgets": {},
              "metadata": {},
              "type": "ansi",
              "arguments": {}
            }
          },
          "data": {
            "text/plain": [
              "2022/12/29 15:32:45 INFO mlflow.spark: 'runs:/18cffdfe0033468db546265fdabcdc47/XGBPipeline' resolved as 'dbfs:/databricks/mlflow-tracking/1078147073770475/18cffdfe0033468db546265fdabcdc47/artifacts/XGBPipeline'\n/databricks/.python_edge_libs/xgboost/sklearn.py:808: UserWarning: Loading a native XGBoost model with Scikit-Learn interface.\n  warnings.warn(\"Loading a native XGBoost model with Scikit-Learn interface.\")\n"
            ]
          }
        }
      ],
      "execution_count": null
    },
    {
      "cell_type": "markdown",
      "source": [
        "On test set accuracy goes down by almost 6 percentage points but recall of class 1 gose up by over 5 percentage points."
      ],
      "metadata": {
        "application/vnd.databricks.v1+cell": {
          "showTitle": false,
          "cellMetadata": {},
          "nuid": "59ab2c1f-2e34-467d-861e-eaa99d26fbbd",
          "inputWidgets": {},
          "title": ""
        },
        "id": "OK5WsELlreVU"
      }
    },
    {
      "cell_type": "code",
      "source": [
        "evaluator = MulticlassClassificationEvaluator(labelCol='HeartDisease', metricLabel=1, metricName='accuracy')\n",
        "\n",
        "accuracy = evaluator.evaluate(predictions)\n",
        "\n",
        "evaluator.setMetricName('recallByLabel')\n",
        "\n",
        "recall_c1 = evaluator.evaluate(predictions)\n",
        "\n",
        "print(f'Accuracy on test set = {accuracy:.2f}')\n",
        "print(f'Recall of class 1 on test set = {recall_c1:.2f}')"
      ],
      "metadata": {
        "application/vnd.databricks.v1+cell": {
          "showTitle": false,
          "cellMetadata": {},
          "nuid": "ce2f91ed-f378-4355-946d-8059d3713cf8",
          "inputWidgets": {},
          "title": ""
        },
        "id": "-ku0QP-0reVV",
        "outputId": "116504b1-db36-42b9-d56e-813cbcea12c1"
      },
      "outputs": [
        {
          "output_type": "display_data",
          "metadata": {
            "application/vnd.databricks.v1+output": {
              "datasetInfos": [],
              "data": "Accuracy on test set = 0.82\nRecall of class 1 on test set = 0.97\n",
              "removedWidgets": [],
              "addedWidgets": {},
              "metadata": {},
              "type": "ansi",
              "arguments": {}
            }
          },
          "data": {
            "text/plain": [
              "Accuracy on test set = 0.82\nRecall of class 1 on test set = 0.97\n"
            ]
          }
        }
      ],
      "execution_count": null
    },
    {
      "cell_type": "code",
      "source": [
        "model_details = mlflow.register_model(model_uri=best_model_path, name='HeartDiseaseClassifier')"
      ],
      "metadata": {
        "application/vnd.databricks.v1+cell": {
          "showTitle": false,
          "cellMetadata": {},
          "nuid": "35cd4a19-6560-4c2f-befe-e3c9ca07c5cf",
          "inputWidgets": {},
          "title": ""
        },
        "id": "V_Vp5hxQreVV",
        "outputId": "77ed1fd3-3d5b-42e3-bf96-86d44e4a5558"
      },
      "outputs": [
        {
          "output_type": "display_data",
          "metadata": {
            "application/vnd.databricks.v1+output": {
              "datasetInfos": [],
              "data": "Successfully registered model 'HeartDiseaseClassifier'.\n2022/12/29 15:49:30 INFO mlflow.tracking._model_registry.client: Waiting up to 300 seconds for model version to finish creation.                     Model name: HeartDiseaseClassifier, version 1\nCreated version '1' of model 'HeartDiseaseClassifier'.\n",
              "removedWidgets": [],
              "addedWidgets": {},
              "metadata": {},
              "type": "ansi",
              "arguments": {}
            }
          },
          "data": {
            "text/plain": [
              "Successfully registered model 'HeartDiseaseClassifier'.\n2022/12/29 15:49:30 INFO mlflow.tracking._model_registry.client: Waiting up to 300 seconds for model version to finish creation.                     Model name: HeartDiseaseClassifier, version 1\nCreated version '1' of model 'HeartDiseaseClassifier'.\n"
            ]
          }
        }
      ],
      "execution_count": null
    },
    {
      "cell_type": "code",
      "source": [
        "client = MlflowClient()\n",
        "#general model description\n",
        "client.update_registered_model(\n",
        "    name=model_details.name,\n",
        "    description=\"This model predicts if patient have a heart disease based on patient's medical information.\"\n",
        ")\n",
        "#version specific description\n",
        "client.update_model_version(\n",
        "    name=model_details.name,\n",
        "    version=model_details.version,\n",
        "    description=\"This model version was built using XGB.spark.\"\n",
        ")"
      ],
      "metadata": {
        "application/vnd.databricks.v1+cell": {
          "showTitle": false,
          "cellMetadata": {},
          "nuid": "506c7adc-6944-44b9-8e85-560ea401d41f",
          "inputWidgets": {},
          "title": ""
        },
        "id": "3KA__BGFreVV",
        "outputId": "15fb9eac-6416-43b1-cec8-5ded8c398ea8"
      },
      "outputs": [
        {
          "output_type": "display_data",
          "metadata": {
            "application/vnd.databricks.v1+output": {
              "datasetInfos": [],
              "data": "Out[21]: <ModelVersion: creation_timestamp=1672328970265, current_stage='Production', description='This model version was built using XGB.spark.', last_updated_timestamp=1672329434083, name='HeartDiseaseClassifier', run_id='18cffdfe0033468db546265fdabcdc47', run_link='', source='dbfs:/databricks/mlflow-tracking/1078147073770475/18cffdfe0033468db546265fdabcdc47/artifacts/XGBPipeline', status='READY', status_message='', tags={}, user_id='5196605108336090', version='1'>",
              "removedWidgets": [],
              "addedWidgets": {},
              "metadata": {},
              "type": "ansi",
              "arguments": {}
            }
          },
          "data": {
            "text/plain": [
              "Out[21]: <ModelVersion: creation_timestamp=1672328970265, current_stage='Production', description='This model version was built using XGB.spark.', last_updated_timestamp=1672329434083, name='HeartDiseaseClassifier', run_id='18cffdfe0033468db546265fdabcdc47', run_link='', source='dbfs:/databricks/mlflow-tracking/1078147073770475/18cffdfe0033468db546265fdabcdc47/artifacts/XGBPipeline', status='READY', status_message='', tags={}, user_id='5196605108336090', version='1'>"
            ]
          }
        }
      ],
      "execution_count": null
    },
    {
      "cell_type": "code",
      "source": [
        "client.transition_model_version_stage(\n",
        "    name=model_details.name,\n",
        "    version=model_details.version,\n",
        "    stage=\"Production\"\n",
        ")"
      ],
      "metadata": {
        "application/vnd.databricks.v1+cell": {
          "showTitle": false,
          "cellMetadata": {},
          "nuid": "effea403-1d7f-4c84-8c4b-4416ecded92a",
          "inputWidgets": {},
          "title": ""
        },
        "id": "zCkPana0reVW",
        "outputId": "b03f1689-6c3f-4090-d618-fafa1e12123d"
      },
      "outputs": [
        {
          "output_type": "display_data",
          "metadata": {
            "application/vnd.databricks.v1+output": {
              "datasetInfos": [],
              "data": "Out[20]: <ModelVersion: creation_timestamp=1672328970265, current_stage='Production', description='This model version was built using XGB.spark.', last_updated_timestamp=1672329395508, name='HeartDiseaseClassifier', run_id='18cffdfe0033468db546265fdabcdc47', run_link='', source='dbfs:/databricks/mlflow-tracking/1078147073770475/18cffdfe0033468db546265fdabcdc47/artifacts/XGBPipeline', status='READY', status_message='', tags={}, user_id='5196605108336090', version='1'>",
              "removedWidgets": [],
              "addedWidgets": {},
              "metadata": {},
              "type": "ansi",
              "arguments": {}
            }
          },
          "data": {
            "text/plain": [
              "Out[20]: <ModelVersion: creation_timestamp=1672328970265, current_stage='Production', description='This model version was built using XGB.spark.', last_updated_timestamp=1672329395508, name='HeartDiseaseClassifier', run_id='18cffdfe0033468db546265fdabcdc47', run_link='', source='dbfs:/databricks/mlflow-tracking/1078147073770475/18cffdfe0033468db546265fdabcdc47/artifacts/XGBPipeline', status='READY', status_message='', tags={}, user_id='5196605108336090', version='1'>"
            ]
          }
        }
      ],
      "execution_count": null
    },
    {
      "cell_type": "code",
      "source": [],
      "metadata": {
        "application/vnd.databricks.v1+cell": {
          "showTitle": false,
          "cellMetadata": {},
          "nuid": "ed66676d-ccad-4538-98c3-8dc549bca9b6",
          "inputWidgets": {},
          "title": ""
        },
        "id": "AzBNIjZdreVW"
      },
      "outputs": [],
      "execution_count": null
    }
  ],
  "metadata": {
    "application/vnd.databricks.v1+notebook": {
      "notebookName": "Heart disease prediction",
      "dashboards": [],
      "notebookMetadata": {
        "pythonIndentUnit": 4
      },
      "language": "python",
      "widgets": {},
      "notebookOrigID": 1078147073770475
    },
    "colab": {
      "provenance": []
    }
  },
  "nbformat": 4,
  "nbformat_minor": 0
}